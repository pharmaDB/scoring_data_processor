{
  "nbformat": 4,
  "nbformat_minor": 0,
  "metadata": {
    "accelerator": "GPU",
    "colab": {
      "name": "Copy of Latest Copy of Noise_to_Related_Claims_Histogram_DrugLabelsandPatent.ipynb",
      "provenance": [],
      "collapsed_sections": [],
      "machine_shape": "hm"
    },
    "kernelspec": {
      "display_name": "Python 3",
      "name": "python3"
    },
    "language_info": {
      "name": "python"
    },
    "widgets": {
      "application/vnd.jupyter.widget-state+json": {
        "e585333eae314f02b55f32b1705f99e7": {
          "model_module": "@jupyter-widgets/controls",
          "model_name": "HBoxModel",
          "state": {
            "_view_name": "HBoxView",
            "_dom_classes": [],
            "_model_name": "HBoxModel",
            "_view_module": "@jupyter-widgets/controls",
            "_model_module_version": "1.5.0",
            "_view_count": null,
            "_view_module_version": "1.5.0",
            "box_style": "",
            "layout": "IPY_MODEL_6fcc4eb9550145f4bd9248f28c525620",
            "_model_module": "@jupyter-widgets/controls",
            "children": [
              "IPY_MODEL_d339e43ef20f40c6a0735cbb61a97e48",
              "IPY_MODEL_b51993b71159402d83af153818ec9b06",
              "IPY_MODEL_bbc6f1cf75874fa68420cd9790aa1385"
            ]
          }
        },
        "6fcc4eb9550145f4bd9248f28c525620": {
          "model_module": "@jupyter-widgets/base",
          "model_name": "LayoutModel",
          "state": {
            "_view_name": "LayoutView",
            "grid_template_rows": null,
            "right": null,
            "justify_content": null,
            "_view_module": "@jupyter-widgets/base",
            "overflow": null,
            "_model_module_version": "1.2.0",
            "_view_count": null,
            "flex_flow": null,
            "width": null,
            "min_width": null,
            "border": null,
            "align_items": null,
            "bottom": null,
            "_model_module": "@jupyter-widgets/base",
            "top": null,
            "grid_column": null,
            "overflow_y": null,
            "overflow_x": null,
            "grid_auto_flow": null,
            "grid_area": null,
            "grid_template_columns": null,
            "flex": null,
            "_model_name": "LayoutModel",
            "justify_items": null,
            "grid_row": null,
            "max_height": null,
            "align_content": null,
            "visibility": null,
            "align_self": null,
            "height": null,
            "min_height": null,
            "padding": null,
            "grid_auto_rows": null,
            "grid_gap": null,
            "max_width": null,
            "order": null,
            "_view_module_version": "1.2.0",
            "grid_template_areas": null,
            "object_position": null,
            "object_fit": null,
            "grid_auto_columns": null,
            "margin": null,
            "display": null,
            "left": null
          }
        },
        "d339e43ef20f40c6a0735cbb61a97e48": {
          "model_module": "@jupyter-widgets/controls",
          "model_name": "HTMLModel",
          "state": {
            "_view_name": "HTMLView",
            "style": "IPY_MODEL_8df8db67ae834f5c89d82089d3818096",
            "_dom_classes": [],
            "description": "",
            "_model_name": "HTMLModel",
            "placeholder": "​",
            "_view_module": "@jupyter-widgets/controls",
            "_model_module_version": "1.5.0",
            "value": "100%",
            "_view_count": null,
            "_view_module_version": "1.5.0",
            "description_tooltip": null,
            "_model_module": "@jupyter-widgets/controls",
            "layout": "IPY_MODEL_645b08bc8ec44a1292837abdc78e1d3d"
          }
        },
        "b51993b71159402d83af153818ec9b06": {
          "model_module": "@jupyter-widgets/controls",
          "model_name": "FloatProgressModel",
          "state": {
            "_view_name": "ProgressView",
            "style": "IPY_MODEL_af2390b32dad4d8490c68febb82eb375",
            "_dom_classes": [],
            "description": "",
            "_model_name": "FloatProgressModel",
            "bar_style": "success",
            "max": 305208253,
            "_view_module": "@jupyter-widgets/controls",
            "_model_module_version": "1.5.0",
            "value": 305208253,
            "_view_count": null,
            "_view_module_version": "1.5.0",
            "orientation": "horizontal",
            "min": 0,
            "description_tooltip": null,
            "_model_module": "@jupyter-widgets/controls",
            "layout": "IPY_MODEL_f9d7dafab310489bae2f9e2b3974269a"
          }
        },
        "bbc6f1cf75874fa68420cd9790aa1385": {
          "model_module": "@jupyter-widgets/controls",
          "model_name": "HTMLModel",
          "state": {
            "_view_name": "HTMLView",
            "style": "IPY_MODEL_d826d60b1dce493eb046762402626622",
            "_dom_classes": [],
            "description": "",
            "_model_name": "HTMLModel",
            "placeholder": "​",
            "_view_module": "@jupyter-widgets/controls",
            "_model_module_version": "1.5.0",
            "value": " 305M/305M [00:18&lt;00:00, 20.7MB/s]",
            "_view_count": null,
            "_view_module_version": "1.5.0",
            "description_tooltip": null,
            "_model_module": "@jupyter-widgets/controls",
            "layout": "IPY_MODEL_729618925ed04b5ea38fca6540b43fc2"
          }
        },
        "8df8db67ae834f5c89d82089d3818096": {
          "model_module": "@jupyter-widgets/controls",
          "model_name": "DescriptionStyleModel",
          "state": {
            "_view_name": "StyleView",
            "_model_name": "DescriptionStyleModel",
            "description_width": "",
            "_view_module": "@jupyter-widgets/base",
            "_model_module_version": "1.5.0",
            "_view_count": null,
            "_view_module_version": "1.2.0",
            "_model_module": "@jupyter-widgets/controls"
          }
        },
        "645b08bc8ec44a1292837abdc78e1d3d": {
          "model_module": "@jupyter-widgets/base",
          "model_name": "LayoutModel",
          "state": {
            "_view_name": "LayoutView",
            "grid_template_rows": null,
            "right": null,
            "justify_content": null,
            "_view_module": "@jupyter-widgets/base",
            "overflow": null,
            "_model_module_version": "1.2.0",
            "_view_count": null,
            "flex_flow": null,
            "width": null,
            "min_width": null,
            "border": null,
            "align_items": null,
            "bottom": null,
            "_model_module": "@jupyter-widgets/base",
            "top": null,
            "grid_column": null,
            "overflow_y": null,
            "overflow_x": null,
            "grid_auto_flow": null,
            "grid_area": null,
            "grid_template_columns": null,
            "flex": null,
            "_model_name": "LayoutModel",
            "justify_items": null,
            "grid_row": null,
            "max_height": null,
            "align_content": null,
            "visibility": null,
            "align_self": null,
            "height": null,
            "min_height": null,
            "padding": null,
            "grid_auto_rows": null,
            "grid_gap": null,
            "max_width": null,
            "order": null,
            "_view_module_version": "1.2.0",
            "grid_template_areas": null,
            "object_position": null,
            "object_fit": null,
            "grid_auto_columns": null,
            "margin": null,
            "display": null,
            "left": null
          }
        },
        "af2390b32dad4d8490c68febb82eb375": {
          "model_module": "@jupyter-widgets/controls",
          "model_name": "ProgressStyleModel",
          "state": {
            "_view_name": "StyleView",
            "_model_name": "ProgressStyleModel",
            "description_width": "",
            "_view_module": "@jupyter-widgets/base",
            "_model_module_version": "1.5.0",
            "_view_count": null,
            "_view_module_version": "1.2.0",
            "bar_color": null,
            "_model_module": "@jupyter-widgets/controls"
          }
        },
        "f9d7dafab310489bae2f9e2b3974269a": {
          "model_module": "@jupyter-widgets/base",
          "model_name": "LayoutModel",
          "state": {
            "_view_name": "LayoutView",
            "grid_template_rows": null,
            "right": null,
            "justify_content": null,
            "_view_module": "@jupyter-widgets/base",
            "overflow": null,
            "_model_module_version": "1.2.0",
            "_view_count": null,
            "flex_flow": null,
            "width": null,
            "min_width": null,
            "border": null,
            "align_items": null,
            "bottom": null,
            "_model_module": "@jupyter-widgets/base",
            "top": null,
            "grid_column": null,
            "overflow_y": null,
            "overflow_x": null,
            "grid_auto_flow": null,
            "grid_area": null,
            "grid_template_columns": null,
            "flex": null,
            "_model_name": "LayoutModel",
            "justify_items": null,
            "grid_row": null,
            "max_height": null,
            "align_content": null,
            "visibility": null,
            "align_self": null,
            "height": null,
            "min_height": null,
            "padding": null,
            "grid_auto_rows": null,
            "grid_gap": null,
            "max_width": null,
            "order": null,
            "_view_module_version": "1.2.0",
            "grid_template_areas": null,
            "object_position": null,
            "object_fit": null,
            "grid_auto_columns": null,
            "margin": null,
            "display": null,
            "left": null
          }
        },
        "d826d60b1dce493eb046762402626622": {
          "model_module": "@jupyter-widgets/controls",
          "model_name": "DescriptionStyleModel",
          "state": {
            "_view_name": "StyleView",
            "_model_name": "DescriptionStyleModel",
            "description_width": "",
            "_view_module": "@jupyter-widgets/base",
            "_model_module_version": "1.5.0",
            "_view_count": null,
            "_view_module_version": "1.2.0",
            "_model_module": "@jupyter-widgets/controls"
          }
        },
        "729618925ed04b5ea38fca6540b43fc2": {
          "model_module": "@jupyter-widgets/base",
          "model_name": "LayoutModel",
          "state": {
            "_view_name": "LayoutView",
            "grid_template_rows": null,
            "right": null,
            "justify_content": null,
            "_view_module": "@jupyter-widgets/base",
            "overflow": null,
            "_model_module_version": "1.2.0",
            "_view_count": null,
            "flex_flow": null,
            "width": null,
            "min_width": null,
            "border": null,
            "align_items": null,
            "bottom": null,
            "_model_module": "@jupyter-widgets/base",
            "top": null,
            "grid_column": null,
            "overflow_y": null,
            "overflow_x": null,
            "grid_auto_flow": null,
            "grid_area": null,
            "grid_template_columns": null,
            "flex": null,
            "_model_name": "LayoutModel",
            "justify_items": null,
            "grid_row": null,
            "max_height": null,
            "align_content": null,
            "visibility": null,
            "align_self": null,
            "height": null,
            "min_height": null,
            "padding": null,
            "grid_auto_rows": null,
            "grid_gap": null,
            "max_width": null,
            "order": null,
            "_view_module_version": "1.2.0",
            "grid_template_areas": null,
            "object_position": null,
            "object_fit": null,
            "grid_auto_columns": null,
            "margin": null,
            "display": null,
            "left": null
          }
        },
        "ff9fa700d00f4ba5bec64556c73c69b6": {
          "model_module": "@jupyter-widgets/controls",
          "model_name": "HBoxModel",
          "state": {
            "_view_name": "HBoxView",
            "_dom_classes": [],
            "_model_name": "HBoxModel",
            "_view_module": "@jupyter-widgets/controls",
            "_model_module_version": "1.5.0",
            "_view_count": null,
            "_view_module_version": "1.5.0",
            "box_style": "",
            "layout": "IPY_MODEL_9572c07431d147a29dbb4311db691b6a",
            "_model_module": "@jupyter-widgets/controls",
            "children": [
              "IPY_MODEL_edfaa5339b244d71bde7bda0c4001606",
              "IPY_MODEL_3750aad890664decba22f3310a1ef2c8",
              "IPY_MODEL_f7b77de6831549dfac057c00ecb3847c"
            ]
          }
        },
        "9572c07431d147a29dbb4311db691b6a": {
          "model_module": "@jupyter-widgets/base",
          "model_name": "LayoutModel",
          "state": {
            "_view_name": "LayoutView",
            "grid_template_rows": null,
            "right": null,
            "justify_content": null,
            "_view_module": "@jupyter-widgets/base",
            "overflow": null,
            "_model_module_version": "1.2.0",
            "_view_count": null,
            "flex_flow": null,
            "width": null,
            "min_width": null,
            "border": null,
            "align_items": null,
            "bottom": null,
            "_model_module": "@jupyter-widgets/base",
            "top": null,
            "grid_column": null,
            "overflow_y": null,
            "overflow_x": null,
            "grid_auto_flow": null,
            "grid_area": null,
            "grid_template_columns": null,
            "flex": null,
            "_model_name": "LayoutModel",
            "justify_items": null,
            "grid_row": null,
            "max_height": null,
            "align_content": null,
            "visibility": null,
            "align_self": null,
            "height": null,
            "min_height": null,
            "padding": null,
            "grid_auto_rows": null,
            "grid_gap": null,
            "max_width": null,
            "order": null,
            "_view_module_version": "1.2.0",
            "grid_template_areas": null,
            "object_position": null,
            "object_fit": null,
            "grid_auto_columns": null,
            "margin": null,
            "display": null,
            "left": null
          }
        },
        "edfaa5339b244d71bde7bda0c4001606": {
          "model_module": "@jupyter-widgets/controls",
          "model_name": "HTMLModel",
          "state": {
            "_view_name": "HTMLView",
            "style": "IPY_MODEL_2ef3f5a3fd7c4627a5ae441aedfa542c",
            "_dom_classes": [],
            "description": "",
            "_model_name": "HTMLModel",
            "placeholder": "​",
            "_view_module": "@jupyter-widgets/controls",
            "_model_module_version": "1.5.0",
            "value": "Downloading: 100%",
            "_view_count": null,
            "_view_module_version": "1.5.0",
            "description_tooltip": null,
            "_model_module": "@jupyter-widgets/controls",
            "layout": "IPY_MODEL_75ca9eb71ee340d2af4e060945848378"
          }
        },
        "3750aad890664decba22f3310a1ef2c8": {
          "model_module": "@jupyter-widgets/controls",
          "model_name": "FloatProgressModel",
          "state": {
            "_view_name": "ProgressView",
            "style": "IPY_MODEL_4e2d6d2240e44abd80236b302b758204",
            "_dom_classes": [],
            "description": "",
            "_model_name": "FloatProgressModel",
            "bar_style": "success",
            "max": 385,
            "_view_module": "@jupyter-widgets/controls",
            "_model_module_version": "1.5.0",
            "value": 385,
            "_view_count": null,
            "_view_module_version": "1.5.0",
            "orientation": "horizontal",
            "min": 0,
            "description_tooltip": null,
            "_model_module": "@jupyter-widgets/controls",
            "layout": "IPY_MODEL_4f034f14beeb491e8dfc985f70207730"
          }
        },
        "f7b77de6831549dfac057c00ecb3847c": {
          "model_module": "@jupyter-widgets/controls",
          "model_name": "HTMLModel",
          "state": {
            "_view_name": "HTMLView",
            "style": "IPY_MODEL_6343225bf22646558413bb6aecaa073c",
            "_dom_classes": [],
            "description": "",
            "_model_name": "HTMLModel",
            "placeholder": "​",
            "_view_module": "@jupyter-widgets/controls",
            "_model_module_version": "1.5.0",
            "value": " 385/385 [00:00&lt;00:00, 10.4kB/s]",
            "_view_count": null,
            "_view_module_version": "1.5.0",
            "description_tooltip": null,
            "_model_module": "@jupyter-widgets/controls",
            "layout": "IPY_MODEL_b09aca3973524e8ead47cb1d4037f0c4"
          }
        },
        "2ef3f5a3fd7c4627a5ae441aedfa542c": {
          "model_module": "@jupyter-widgets/controls",
          "model_name": "DescriptionStyleModel",
          "state": {
            "_view_name": "StyleView",
            "_model_name": "DescriptionStyleModel",
            "description_width": "",
            "_view_module": "@jupyter-widgets/base",
            "_model_module_version": "1.5.0",
            "_view_count": null,
            "_view_module_version": "1.2.0",
            "_model_module": "@jupyter-widgets/controls"
          }
        },
        "75ca9eb71ee340d2af4e060945848378": {
          "model_module": "@jupyter-widgets/base",
          "model_name": "LayoutModel",
          "state": {
            "_view_name": "LayoutView",
            "grid_template_rows": null,
            "right": null,
            "justify_content": null,
            "_view_module": "@jupyter-widgets/base",
            "overflow": null,
            "_model_module_version": "1.2.0",
            "_view_count": null,
            "flex_flow": null,
            "width": null,
            "min_width": null,
            "border": null,
            "align_items": null,
            "bottom": null,
            "_model_module": "@jupyter-widgets/base",
            "top": null,
            "grid_column": null,
            "overflow_y": null,
            "overflow_x": null,
            "grid_auto_flow": null,
            "grid_area": null,
            "grid_template_columns": null,
            "flex": null,
            "_model_name": "LayoutModel",
            "justify_items": null,
            "grid_row": null,
            "max_height": null,
            "align_content": null,
            "visibility": null,
            "align_self": null,
            "height": null,
            "min_height": null,
            "padding": null,
            "grid_auto_rows": null,
            "grid_gap": null,
            "max_width": null,
            "order": null,
            "_view_module_version": "1.2.0",
            "grid_template_areas": null,
            "object_position": null,
            "object_fit": null,
            "grid_auto_columns": null,
            "margin": null,
            "display": null,
            "left": null
          }
        },
        "4e2d6d2240e44abd80236b302b758204": {
          "model_module": "@jupyter-widgets/controls",
          "model_name": "ProgressStyleModel",
          "state": {
            "_view_name": "StyleView",
            "_model_name": "ProgressStyleModel",
            "description_width": "",
            "_view_module": "@jupyter-widgets/base",
            "_model_module_version": "1.5.0",
            "_view_count": null,
            "_view_module_version": "1.2.0",
            "bar_color": null,
            "_model_module": "@jupyter-widgets/controls"
          }
        },
        "4f034f14beeb491e8dfc985f70207730": {
          "model_module": "@jupyter-widgets/base",
          "model_name": "LayoutModel",
          "state": {
            "_view_name": "LayoutView",
            "grid_template_rows": null,
            "right": null,
            "justify_content": null,
            "_view_module": "@jupyter-widgets/base",
            "overflow": null,
            "_model_module_version": "1.2.0",
            "_view_count": null,
            "flex_flow": null,
            "width": null,
            "min_width": null,
            "border": null,
            "align_items": null,
            "bottom": null,
            "_model_module": "@jupyter-widgets/base",
            "top": null,
            "grid_column": null,
            "overflow_y": null,
            "overflow_x": null,
            "grid_auto_flow": null,
            "grid_area": null,
            "grid_template_columns": null,
            "flex": null,
            "_model_name": "LayoutModel",
            "justify_items": null,
            "grid_row": null,
            "max_height": null,
            "align_content": null,
            "visibility": null,
            "align_self": null,
            "height": null,
            "min_height": null,
            "padding": null,
            "grid_auto_rows": null,
            "grid_gap": null,
            "max_width": null,
            "order": null,
            "_view_module_version": "1.2.0",
            "grid_template_areas": null,
            "object_position": null,
            "object_fit": null,
            "grid_auto_columns": null,
            "margin": null,
            "display": null,
            "left": null
          }
        },
        "6343225bf22646558413bb6aecaa073c": {
          "model_module": "@jupyter-widgets/controls",
          "model_name": "DescriptionStyleModel",
          "state": {
            "_view_name": "StyleView",
            "_model_name": "DescriptionStyleModel",
            "description_width": "",
            "_view_module": "@jupyter-widgets/base",
            "_model_module_version": "1.5.0",
            "_view_count": null,
            "_view_module_version": "1.2.0",
            "_model_module": "@jupyter-widgets/controls"
          }
        },
        "b09aca3973524e8ead47cb1d4037f0c4": {
          "model_module": "@jupyter-widgets/base",
          "model_name": "LayoutModel",
          "state": {
            "_view_name": "LayoutView",
            "grid_template_rows": null,
            "right": null,
            "justify_content": null,
            "_view_module": "@jupyter-widgets/base",
            "overflow": null,
            "_model_module_version": "1.2.0",
            "_view_count": null,
            "flex_flow": null,
            "width": null,
            "min_width": null,
            "border": null,
            "align_items": null,
            "bottom": null,
            "_model_module": "@jupyter-widgets/base",
            "top": null,
            "grid_column": null,
            "overflow_y": null,
            "overflow_x": null,
            "grid_auto_flow": null,
            "grid_area": null,
            "grid_template_columns": null,
            "flex": null,
            "_model_name": "LayoutModel",
            "justify_items": null,
            "grid_row": null,
            "max_height": null,
            "align_content": null,
            "visibility": null,
            "align_self": null,
            "height": null,
            "min_height": null,
            "padding": null,
            "grid_auto_rows": null,
            "grid_gap": null,
            "max_width": null,
            "order": null,
            "_view_module_version": "1.2.0",
            "grid_template_areas": null,
            "object_position": null,
            "object_fit": null,
            "grid_auto_columns": null,
            "margin": null,
            "display": null,
            "left": null
          }
        },
        "9d03b8d00b564026bf526ae2333530af": {
          "model_module": "@jupyter-widgets/controls",
          "model_name": "HBoxModel",
          "state": {
            "_view_name": "HBoxView",
            "_dom_classes": [],
            "_model_name": "HBoxModel",
            "_view_module": "@jupyter-widgets/controls",
            "_model_module_version": "1.5.0",
            "_view_count": null,
            "_view_module_version": "1.5.0",
            "box_style": "",
            "layout": "IPY_MODEL_0b5fc5d4dde14c2a9eef247e14e53ba2",
            "_model_module": "@jupyter-widgets/controls",
            "children": [
              "IPY_MODEL_ddd0a2781466454fa9f69a7613e0e125",
              "IPY_MODEL_63fe8039ae7f4204a501f09898b9a95d",
              "IPY_MODEL_7a89601b8c454b418500d3c93e19e7ad"
            ]
          }
        },
        "0b5fc5d4dde14c2a9eef247e14e53ba2": {
          "model_module": "@jupyter-widgets/base",
          "model_name": "LayoutModel",
          "state": {
            "_view_name": "LayoutView",
            "grid_template_rows": null,
            "right": null,
            "justify_content": null,
            "_view_module": "@jupyter-widgets/base",
            "overflow": null,
            "_model_module_version": "1.2.0",
            "_view_count": null,
            "flex_flow": null,
            "width": null,
            "min_width": null,
            "border": null,
            "align_items": null,
            "bottom": null,
            "_model_module": "@jupyter-widgets/base",
            "top": null,
            "grid_column": null,
            "overflow_y": null,
            "overflow_x": null,
            "grid_auto_flow": null,
            "grid_area": null,
            "grid_template_columns": null,
            "flex": null,
            "_model_name": "LayoutModel",
            "justify_items": null,
            "grid_row": null,
            "max_height": null,
            "align_content": null,
            "visibility": null,
            "align_self": null,
            "height": null,
            "min_height": null,
            "padding": null,
            "grid_auto_rows": null,
            "grid_gap": null,
            "max_width": null,
            "order": null,
            "_view_module_version": "1.2.0",
            "grid_template_areas": null,
            "object_position": null,
            "object_fit": null,
            "grid_auto_columns": null,
            "margin": null,
            "display": null,
            "left": null
          }
        },
        "ddd0a2781466454fa9f69a7613e0e125": {
          "model_module": "@jupyter-widgets/controls",
          "model_name": "HTMLModel",
          "state": {
            "_view_name": "HTMLView",
            "style": "IPY_MODEL_ca09899d4baa4a00a368ca81bd97b5df",
            "_dom_classes": [],
            "description": "",
            "_model_name": "HTMLModel",
            "placeholder": "​",
            "_view_module": "@jupyter-widgets/controls",
            "_model_module_version": "1.5.0",
            "value": "Downloading: 100%",
            "_view_count": null,
            "_view_module_version": "1.5.0",
            "description_tooltip": null,
            "_model_module": "@jupyter-widgets/controls",
            "layout": "IPY_MODEL_653905edd7704d999f7b6d64c0afce7f"
          }
        },
        "63fe8039ae7f4204a501f09898b9a95d": {
          "model_module": "@jupyter-widgets/controls",
          "model_name": "FloatProgressModel",
          "state": {
            "_view_name": "ProgressView",
            "style": "IPY_MODEL_ef7a12ef16174426982e853ef0060390",
            "_dom_classes": [],
            "description": "",
            "_model_name": "FloatProgressModel",
            "bar_style": "success",
            "max": 442221694,
            "_view_module": "@jupyter-widgets/controls",
            "_model_module_version": "1.5.0",
            "value": 442221694,
            "_view_count": null,
            "_view_module_version": "1.5.0",
            "orientation": "horizontal",
            "min": 0,
            "description_tooltip": null,
            "_model_module": "@jupyter-widgets/controls",
            "layout": "IPY_MODEL_ef9fc26481a94eeb88d341300f429079"
          }
        },
        "7a89601b8c454b418500d3c93e19e7ad": {
          "model_module": "@jupyter-widgets/controls",
          "model_name": "HTMLModel",
          "state": {
            "_view_name": "HTMLView",
            "style": "IPY_MODEL_c38e598cfce4462581ca653b866cd7bb",
            "_dom_classes": [],
            "description": "",
            "_model_name": "HTMLModel",
            "placeholder": "​",
            "_view_module": "@jupyter-widgets/controls",
            "_model_module_version": "1.5.0",
            "value": " 442M/442M [00:11&lt;00:00, 39.9MB/s]",
            "_view_count": null,
            "_view_module_version": "1.5.0",
            "description_tooltip": null,
            "_model_module": "@jupyter-widgets/controls",
            "layout": "IPY_MODEL_7a44373e852245d2b6c2bbcf88993003"
          }
        },
        "ca09899d4baa4a00a368ca81bd97b5df": {
          "model_module": "@jupyter-widgets/controls",
          "model_name": "DescriptionStyleModel",
          "state": {
            "_view_name": "StyleView",
            "_model_name": "DescriptionStyleModel",
            "description_width": "",
            "_view_module": "@jupyter-widgets/base",
            "_model_module_version": "1.5.0",
            "_view_count": null,
            "_view_module_version": "1.2.0",
            "_model_module": "@jupyter-widgets/controls"
          }
        },
        "653905edd7704d999f7b6d64c0afce7f": {
          "model_module": "@jupyter-widgets/base",
          "model_name": "LayoutModel",
          "state": {
            "_view_name": "LayoutView",
            "grid_template_rows": null,
            "right": null,
            "justify_content": null,
            "_view_module": "@jupyter-widgets/base",
            "overflow": null,
            "_model_module_version": "1.2.0",
            "_view_count": null,
            "flex_flow": null,
            "width": null,
            "min_width": null,
            "border": null,
            "align_items": null,
            "bottom": null,
            "_model_module": "@jupyter-widgets/base",
            "top": null,
            "grid_column": null,
            "overflow_y": null,
            "overflow_x": null,
            "grid_auto_flow": null,
            "grid_area": null,
            "grid_template_columns": null,
            "flex": null,
            "_model_name": "LayoutModel",
            "justify_items": null,
            "grid_row": null,
            "max_height": null,
            "align_content": null,
            "visibility": null,
            "align_self": null,
            "height": null,
            "min_height": null,
            "padding": null,
            "grid_auto_rows": null,
            "grid_gap": null,
            "max_width": null,
            "order": null,
            "_view_module_version": "1.2.0",
            "grid_template_areas": null,
            "object_position": null,
            "object_fit": null,
            "grid_auto_columns": null,
            "margin": null,
            "display": null,
            "left": null
          }
        },
        "ef7a12ef16174426982e853ef0060390": {
          "model_module": "@jupyter-widgets/controls",
          "model_name": "ProgressStyleModel",
          "state": {
            "_view_name": "StyleView",
            "_model_name": "ProgressStyleModel",
            "description_width": "",
            "_view_module": "@jupyter-widgets/base",
            "_model_module_version": "1.5.0",
            "_view_count": null,
            "_view_module_version": "1.2.0",
            "bar_color": null,
            "_model_module": "@jupyter-widgets/controls"
          }
        },
        "ef9fc26481a94eeb88d341300f429079": {
          "model_module": "@jupyter-widgets/base",
          "model_name": "LayoutModel",
          "state": {
            "_view_name": "LayoutView",
            "grid_template_rows": null,
            "right": null,
            "justify_content": null,
            "_view_module": "@jupyter-widgets/base",
            "overflow": null,
            "_model_module_version": "1.2.0",
            "_view_count": null,
            "flex_flow": null,
            "width": null,
            "min_width": null,
            "border": null,
            "align_items": null,
            "bottom": null,
            "_model_module": "@jupyter-widgets/base",
            "top": null,
            "grid_column": null,
            "overflow_y": null,
            "overflow_x": null,
            "grid_auto_flow": null,
            "grid_area": null,
            "grid_template_columns": null,
            "flex": null,
            "_model_name": "LayoutModel",
            "justify_items": null,
            "grid_row": null,
            "max_height": null,
            "align_content": null,
            "visibility": null,
            "align_self": null,
            "height": null,
            "min_height": null,
            "padding": null,
            "grid_auto_rows": null,
            "grid_gap": null,
            "max_width": null,
            "order": null,
            "_view_module_version": "1.2.0",
            "grid_template_areas": null,
            "object_position": null,
            "object_fit": null,
            "grid_auto_columns": null,
            "margin": null,
            "display": null,
            "left": null
          }
        },
        "c38e598cfce4462581ca653b866cd7bb": {
          "model_module": "@jupyter-widgets/controls",
          "model_name": "DescriptionStyleModel",
          "state": {
            "_view_name": "StyleView",
            "_model_name": "DescriptionStyleModel",
            "description_width": "",
            "_view_module": "@jupyter-widgets/base",
            "_model_module_version": "1.5.0",
            "_view_count": null,
            "_view_module_version": "1.2.0",
            "_model_module": "@jupyter-widgets/controls"
          }
        },
        "7a44373e852245d2b6c2bbcf88993003": {
          "model_module": "@jupyter-widgets/base",
          "model_name": "LayoutModel",
          "state": {
            "_view_name": "LayoutView",
            "grid_template_rows": null,
            "right": null,
            "justify_content": null,
            "_view_module": "@jupyter-widgets/base",
            "overflow": null,
            "_model_module_version": "1.2.0",
            "_view_count": null,
            "flex_flow": null,
            "width": null,
            "min_width": null,
            "border": null,
            "align_items": null,
            "bottom": null,
            "_model_module": "@jupyter-widgets/base",
            "top": null,
            "grid_column": null,
            "overflow_y": null,
            "overflow_x": null,
            "grid_auto_flow": null,
            "grid_area": null,
            "grid_template_columns": null,
            "flex": null,
            "_model_name": "LayoutModel",
            "justify_items": null,
            "grid_row": null,
            "max_height": null,
            "align_content": null,
            "visibility": null,
            "align_self": null,
            "height": null,
            "min_height": null,
            "padding": null,
            "grid_auto_rows": null,
            "grid_gap": null,
            "max_width": null,
            "order": null,
            "_view_module_version": "1.2.0",
            "grid_template_areas": null,
            "object_position": null,
            "object_fit": null,
            "grid_auto_columns": null,
            "margin": null,
            "display": null,
            "left": null
          }
        },
        "eaf31f78002948949d493b7af32b4303": {
          "model_module": "@jupyter-widgets/controls",
          "model_name": "HBoxModel",
          "state": {
            "_view_name": "HBoxView",
            "_dom_classes": [],
            "_model_name": "HBoxModel",
            "_view_module": "@jupyter-widgets/controls",
            "_model_module_version": "1.5.0",
            "_view_count": null,
            "_view_module_version": "1.5.0",
            "box_style": "",
            "layout": "IPY_MODEL_fa3c86e6a1974a4aa5cf084373eea3f0",
            "_model_module": "@jupyter-widgets/controls",
            "children": [
              "IPY_MODEL_93768ca9d99e46ae919113fdf5c20062",
              "IPY_MODEL_41afaa0af5be4cafaa97d7d470120890",
              "IPY_MODEL_db262c7ba7d548a195f62846fc9dd1c5"
            ]
          }
        },
        "fa3c86e6a1974a4aa5cf084373eea3f0": {
          "model_module": "@jupyter-widgets/base",
          "model_name": "LayoutModel",
          "state": {
            "_view_name": "LayoutView",
            "grid_template_rows": null,
            "right": null,
            "justify_content": null,
            "_view_module": "@jupyter-widgets/base",
            "overflow": null,
            "_model_module_version": "1.2.0",
            "_view_count": null,
            "flex_flow": null,
            "width": null,
            "min_width": null,
            "border": null,
            "align_items": null,
            "bottom": null,
            "_model_module": "@jupyter-widgets/base",
            "top": null,
            "grid_column": null,
            "overflow_y": null,
            "overflow_x": null,
            "grid_auto_flow": null,
            "grid_area": null,
            "grid_template_columns": null,
            "flex": null,
            "_model_name": "LayoutModel",
            "justify_items": null,
            "grid_row": null,
            "max_height": null,
            "align_content": null,
            "visibility": null,
            "align_self": null,
            "height": null,
            "min_height": null,
            "padding": null,
            "grid_auto_rows": null,
            "grid_gap": null,
            "max_width": null,
            "order": null,
            "_view_module_version": "1.2.0",
            "grid_template_areas": null,
            "object_position": null,
            "object_fit": null,
            "grid_auto_columns": null,
            "margin": null,
            "display": null,
            "left": null
          }
        },
        "93768ca9d99e46ae919113fdf5c20062": {
          "model_module": "@jupyter-widgets/controls",
          "model_name": "HTMLModel",
          "state": {
            "_view_name": "HTMLView",
            "style": "IPY_MODEL_f482535d4e7f46dd848245f17d2aeef2",
            "_dom_classes": [],
            "description": "",
            "_model_name": "HTMLModel",
            "placeholder": "​",
            "_view_module": "@jupyter-widgets/controls",
            "_model_module_version": "1.5.0",
            "value": "Downloading: 100%",
            "_view_count": null,
            "_view_module_version": "1.5.0",
            "description_tooltip": null,
            "_model_module": "@jupyter-widgets/controls",
            "layout": "IPY_MODEL_4d19d04311284e2683edde6cab0d82f9"
          }
        },
        "41afaa0af5be4cafaa97d7d470120890": {
          "model_module": "@jupyter-widgets/controls",
          "model_name": "FloatProgressModel",
          "state": {
            "_view_name": "ProgressView",
            "style": "IPY_MODEL_fba4cea02d3f4fafb4a871f358ee1d1d",
            "_dom_classes": [],
            "description": "",
            "_model_name": "FloatProgressModel",
            "bar_style": "success",
            "max": 227845,
            "_view_module": "@jupyter-widgets/controls",
            "_model_module_version": "1.5.0",
            "value": 227845,
            "_view_count": null,
            "_view_module_version": "1.5.0",
            "orientation": "horizontal",
            "min": 0,
            "description_tooltip": null,
            "_model_module": "@jupyter-widgets/controls",
            "layout": "IPY_MODEL_7be88985ed4e4958896ea6d9c7b4d1fe"
          }
        },
        "db262c7ba7d548a195f62846fc9dd1c5": {
          "model_module": "@jupyter-widgets/controls",
          "model_name": "HTMLModel",
          "state": {
            "_view_name": "HTMLView",
            "style": "IPY_MODEL_a126c4b5124948d590943a858f79a7f4",
            "_dom_classes": [],
            "description": "",
            "_model_name": "HTMLModel",
            "placeholder": "​",
            "_view_module": "@jupyter-widgets/controls",
            "_model_module_version": "1.5.0",
            "value": " 228k/228k [00:00&lt;00:00, 946kB/s]",
            "_view_count": null,
            "_view_module_version": "1.5.0",
            "description_tooltip": null,
            "_model_module": "@jupyter-widgets/controls",
            "layout": "IPY_MODEL_4df729bb8582414ca37a27ac26536399"
          }
        },
        "f482535d4e7f46dd848245f17d2aeef2": {
          "model_module": "@jupyter-widgets/controls",
          "model_name": "DescriptionStyleModel",
          "state": {
            "_view_name": "StyleView",
            "_model_name": "DescriptionStyleModel",
            "description_width": "",
            "_view_module": "@jupyter-widgets/base",
            "_model_module_version": "1.5.0",
            "_view_count": null,
            "_view_module_version": "1.2.0",
            "_model_module": "@jupyter-widgets/controls"
          }
        },
        "4d19d04311284e2683edde6cab0d82f9": {
          "model_module": "@jupyter-widgets/base",
          "model_name": "LayoutModel",
          "state": {
            "_view_name": "LayoutView",
            "grid_template_rows": null,
            "right": null,
            "justify_content": null,
            "_view_module": "@jupyter-widgets/base",
            "overflow": null,
            "_model_module_version": "1.2.0",
            "_view_count": null,
            "flex_flow": null,
            "width": null,
            "min_width": null,
            "border": null,
            "align_items": null,
            "bottom": null,
            "_model_module": "@jupyter-widgets/base",
            "top": null,
            "grid_column": null,
            "overflow_y": null,
            "overflow_x": null,
            "grid_auto_flow": null,
            "grid_area": null,
            "grid_template_columns": null,
            "flex": null,
            "_model_name": "LayoutModel",
            "justify_items": null,
            "grid_row": null,
            "max_height": null,
            "align_content": null,
            "visibility": null,
            "align_self": null,
            "height": null,
            "min_height": null,
            "padding": null,
            "grid_auto_rows": null,
            "grid_gap": null,
            "max_width": null,
            "order": null,
            "_view_module_version": "1.2.0",
            "grid_template_areas": null,
            "object_position": null,
            "object_fit": null,
            "grid_auto_columns": null,
            "margin": null,
            "display": null,
            "left": null
          }
        },
        "fba4cea02d3f4fafb4a871f358ee1d1d": {
          "model_module": "@jupyter-widgets/controls",
          "model_name": "ProgressStyleModel",
          "state": {
            "_view_name": "StyleView",
            "_model_name": "ProgressStyleModel",
            "description_width": "",
            "_view_module": "@jupyter-widgets/base",
            "_model_module_version": "1.5.0",
            "_view_count": null,
            "_view_module_version": "1.2.0",
            "bar_color": null,
            "_model_module": "@jupyter-widgets/controls"
          }
        },
        "7be88985ed4e4958896ea6d9c7b4d1fe": {
          "model_module": "@jupyter-widgets/base",
          "model_name": "LayoutModel",
          "state": {
            "_view_name": "LayoutView",
            "grid_template_rows": null,
            "right": null,
            "justify_content": null,
            "_view_module": "@jupyter-widgets/base",
            "overflow": null,
            "_model_module_version": "1.2.0",
            "_view_count": null,
            "flex_flow": null,
            "width": null,
            "min_width": null,
            "border": null,
            "align_items": null,
            "bottom": null,
            "_model_module": "@jupyter-widgets/base",
            "top": null,
            "grid_column": null,
            "overflow_y": null,
            "overflow_x": null,
            "grid_auto_flow": null,
            "grid_area": null,
            "grid_template_columns": null,
            "flex": null,
            "_model_name": "LayoutModel",
            "justify_items": null,
            "grid_row": null,
            "max_height": null,
            "align_content": null,
            "visibility": null,
            "align_self": null,
            "height": null,
            "min_height": null,
            "padding": null,
            "grid_auto_rows": null,
            "grid_gap": null,
            "max_width": null,
            "order": null,
            "_view_module_version": "1.2.0",
            "grid_template_areas": null,
            "object_position": null,
            "object_fit": null,
            "grid_auto_columns": null,
            "margin": null,
            "display": null,
            "left": null
          }
        },
        "a126c4b5124948d590943a858f79a7f4": {
          "model_module": "@jupyter-widgets/controls",
          "model_name": "DescriptionStyleModel",
          "state": {
            "_view_name": "StyleView",
            "_model_name": "DescriptionStyleModel",
            "description_width": "",
            "_view_module": "@jupyter-widgets/base",
            "_model_module_version": "1.5.0",
            "_view_count": null,
            "_view_module_version": "1.2.0",
            "_model_module": "@jupyter-widgets/controls"
          }
        },
        "4df729bb8582414ca37a27ac26536399": {
          "model_module": "@jupyter-widgets/base",
          "model_name": "LayoutModel",
          "state": {
            "_view_name": "LayoutView",
            "grid_template_rows": null,
            "right": null,
            "justify_content": null,
            "_view_module": "@jupyter-widgets/base",
            "overflow": null,
            "_model_module_version": "1.2.0",
            "_view_count": null,
            "flex_flow": null,
            "width": null,
            "min_width": null,
            "border": null,
            "align_items": null,
            "bottom": null,
            "_model_module": "@jupyter-widgets/base",
            "top": null,
            "grid_column": null,
            "overflow_y": null,
            "overflow_x": null,
            "grid_auto_flow": null,
            "grid_area": null,
            "grid_template_columns": null,
            "flex": null,
            "_model_name": "LayoutModel",
            "justify_items": null,
            "grid_row": null,
            "max_height": null,
            "align_content": null,
            "visibility": null,
            "align_self": null,
            "height": null,
            "min_height": null,
            "padding": null,
            "grid_auto_rows": null,
            "grid_gap": null,
            "max_width": null,
            "order": null,
            "_view_module_version": "1.2.0",
            "grid_template_areas": null,
            "object_position": null,
            "object_fit": null,
            "grid_auto_columns": null,
            "margin": null,
            "display": null,
            "left": null
          }
        },
        "a6e2e430d86d406f997c2c4143cb7703": {
          "model_module": "@jupyter-widgets/controls",
          "model_name": "HBoxModel",
          "state": {
            "_view_name": "HBoxView",
            "_dom_classes": [],
            "_model_name": "HBoxModel",
            "_view_module": "@jupyter-widgets/controls",
            "_model_module_version": "1.5.0",
            "_view_count": null,
            "_view_module_version": "1.5.0",
            "box_style": "",
            "layout": "IPY_MODEL_bdca0eae22084cb9aaa0ff52487caaa5",
            "_model_module": "@jupyter-widgets/controls",
            "children": [
              "IPY_MODEL_adf055ab06d743eaabc2af5307c70924",
              "IPY_MODEL_291b8fd3117f49e5b697147c04c370ad",
              "IPY_MODEL_60f1e00996f342c3afdebd0e5b2874cc"
            ]
          }
        },
        "bdca0eae22084cb9aaa0ff52487caaa5": {
          "model_module": "@jupyter-widgets/base",
          "model_name": "LayoutModel",
          "state": {
            "_view_name": "LayoutView",
            "grid_template_rows": null,
            "right": null,
            "justify_content": null,
            "_view_module": "@jupyter-widgets/base",
            "overflow": null,
            "_model_module_version": "1.2.0",
            "_view_count": null,
            "flex_flow": null,
            "width": null,
            "min_width": null,
            "border": null,
            "align_items": null,
            "bottom": null,
            "_model_module": "@jupyter-widgets/base",
            "top": null,
            "grid_column": null,
            "overflow_y": null,
            "overflow_x": null,
            "grid_auto_flow": null,
            "grid_area": null,
            "grid_template_columns": null,
            "flex": null,
            "_model_name": "LayoutModel",
            "justify_items": null,
            "grid_row": null,
            "max_height": null,
            "align_content": null,
            "visibility": null,
            "align_self": null,
            "height": null,
            "min_height": null,
            "padding": null,
            "grid_auto_rows": null,
            "grid_gap": null,
            "max_width": null,
            "order": null,
            "_view_module_version": "1.2.0",
            "grid_template_areas": null,
            "object_position": null,
            "object_fit": null,
            "grid_auto_columns": null,
            "margin": null,
            "display": null,
            "left": null
          }
        },
        "adf055ab06d743eaabc2af5307c70924": {
          "model_module": "@jupyter-widgets/controls",
          "model_name": "HTMLModel",
          "state": {
            "_view_name": "HTMLView",
            "style": "IPY_MODEL_6d3cfb7cdbc04b3792994b2a8c02803e",
            "_dom_classes": [],
            "description": "",
            "_model_name": "HTMLModel",
            "placeholder": "​",
            "_view_module": "@jupyter-widgets/controls",
            "_model_module_version": "1.5.0",
            "value": "Downloading: 100%",
            "_view_count": null,
            "_view_module_version": "1.5.0",
            "description_tooltip": null,
            "_model_module": "@jupyter-widgets/controls",
            "layout": "IPY_MODEL_4b74ae18e8044ef9b5dfb07efdd467d5"
          }
        },
        "291b8fd3117f49e5b697147c04c370ad": {
          "model_module": "@jupyter-widgets/controls",
          "model_name": "FloatProgressModel",
          "state": {
            "_view_name": "ProgressView",
            "style": "IPY_MODEL_5ece7c7d04e9439d9767f6605fe0132d",
            "_dom_classes": [],
            "description": "",
            "_model_name": "FloatProgressModel",
            "bar_style": "success",
            "max": 694,
            "_view_module": "@jupyter-widgets/controls",
            "_model_module_version": "1.5.0",
            "value": 694,
            "_view_count": null,
            "_view_module_version": "1.5.0",
            "orientation": "horizontal",
            "min": 0,
            "description_tooltip": null,
            "_model_module": "@jupyter-widgets/controls",
            "layout": "IPY_MODEL_0fee808a263f4bfcba636a6674722a85"
          }
        },
        "60f1e00996f342c3afdebd0e5b2874cc": {
          "model_module": "@jupyter-widgets/controls",
          "model_name": "HTMLModel",
          "state": {
            "_view_name": "HTMLView",
            "style": "IPY_MODEL_55c567be53a3473d9858889e1cb9056b",
            "_dom_classes": [],
            "description": "",
            "_model_name": "HTMLModel",
            "placeholder": "​",
            "_view_module": "@jupyter-widgets/controls",
            "_model_module_version": "1.5.0",
            "value": " 694/694 [00:00&lt;00:00, 3.60kB/s]",
            "_view_count": null,
            "_view_module_version": "1.5.0",
            "description_tooltip": null,
            "_model_module": "@jupyter-widgets/controls",
            "layout": "IPY_MODEL_e1d54a2195fc46e7abb314548bbcf0aa"
          }
        },
        "6d3cfb7cdbc04b3792994b2a8c02803e": {
          "model_module": "@jupyter-widgets/controls",
          "model_name": "DescriptionStyleModel",
          "state": {
            "_view_name": "StyleView",
            "_model_name": "DescriptionStyleModel",
            "description_width": "",
            "_view_module": "@jupyter-widgets/base",
            "_model_module_version": "1.5.0",
            "_view_count": null,
            "_view_module_version": "1.2.0",
            "_model_module": "@jupyter-widgets/controls"
          }
        },
        "4b74ae18e8044ef9b5dfb07efdd467d5": {
          "model_module": "@jupyter-widgets/base",
          "model_name": "LayoutModel",
          "state": {
            "_view_name": "LayoutView",
            "grid_template_rows": null,
            "right": null,
            "justify_content": null,
            "_view_module": "@jupyter-widgets/base",
            "overflow": null,
            "_model_module_version": "1.2.0",
            "_view_count": null,
            "flex_flow": null,
            "width": null,
            "min_width": null,
            "border": null,
            "align_items": null,
            "bottom": null,
            "_model_module": "@jupyter-widgets/base",
            "top": null,
            "grid_column": null,
            "overflow_y": null,
            "overflow_x": null,
            "grid_auto_flow": null,
            "grid_area": null,
            "grid_template_columns": null,
            "flex": null,
            "_model_name": "LayoutModel",
            "justify_items": null,
            "grid_row": null,
            "max_height": null,
            "align_content": null,
            "visibility": null,
            "align_self": null,
            "height": null,
            "min_height": null,
            "padding": null,
            "grid_auto_rows": null,
            "grid_gap": null,
            "max_width": null,
            "order": null,
            "_view_module_version": "1.2.0",
            "grid_template_areas": null,
            "object_position": null,
            "object_fit": null,
            "grid_auto_columns": null,
            "margin": null,
            "display": null,
            "left": null
          }
        },
        "5ece7c7d04e9439d9767f6605fe0132d": {
          "model_module": "@jupyter-widgets/controls",
          "model_name": "ProgressStyleModel",
          "state": {
            "_view_name": "StyleView",
            "_model_name": "ProgressStyleModel",
            "description_width": "",
            "_view_module": "@jupyter-widgets/base",
            "_model_module_version": "1.5.0",
            "_view_count": null,
            "_view_module_version": "1.2.0",
            "bar_color": null,
            "_model_module": "@jupyter-widgets/controls"
          }
        },
        "0fee808a263f4bfcba636a6674722a85": {
          "model_module": "@jupyter-widgets/base",
          "model_name": "LayoutModel",
          "state": {
            "_view_name": "LayoutView",
            "grid_template_rows": null,
            "right": null,
            "justify_content": null,
            "_view_module": "@jupyter-widgets/base",
            "overflow": null,
            "_model_module_version": "1.2.0",
            "_view_count": null,
            "flex_flow": null,
            "width": null,
            "min_width": null,
            "border": null,
            "align_items": null,
            "bottom": null,
            "_model_module": "@jupyter-widgets/base",
            "top": null,
            "grid_column": null,
            "overflow_y": null,
            "overflow_x": null,
            "grid_auto_flow": null,
            "grid_area": null,
            "grid_template_columns": null,
            "flex": null,
            "_model_name": "LayoutModel",
            "justify_items": null,
            "grid_row": null,
            "max_height": null,
            "align_content": null,
            "visibility": null,
            "align_self": null,
            "height": null,
            "min_height": null,
            "padding": null,
            "grid_auto_rows": null,
            "grid_gap": null,
            "max_width": null,
            "order": null,
            "_view_module_version": "1.2.0",
            "grid_template_areas": null,
            "object_position": null,
            "object_fit": null,
            "grid_auto_columns": null,
            "margin": null,
            "display": null,
            "left": null
          }
        },
        "55c567be53a3473d9858889e1cb9056b": {
          "model_module": "@jupyter-widgets/controls",
          "model_name": "DescriptionStyleModel",
          "state": {
            "_view_name": "StyleView",
            "_model_name": "DescriptionStyleModel",
            "description_width": "",
            "_view_module": "@jupyter-widgets/base",
            "_model_module_version": "1.5.0",
            "_view_count": null,
            "_view_module_version": "1.2.0",
            "_model_module": "@jupyter-widgets/controls"
          }
        },
        "e1d54a2195fc46e7abb314548bbcf0aa": {
          "model_module": "@jupyter-widgets/base",
          "model_name": "LayoutModel",
          "state": {
            "_view_name": "LayoutView",
            "grid_template_rows": null,
            "right": null,
            "justify_content": null,
            "_view_module": "@jupyter-widgets/base",
            "overflow": null,
            "_model_module_version": "1.2.0",
            "_view_count": null,
            "flex_flow": null,
            "width": null,
            "min_width": null,
            "border": null,
            "align_items": null,
            "bottom": null,
            "_model_module": "@jupyter-widgets/base",
            "top": null,
            "grid_column": null,
            "overflow_y": null,
            "overflow_x": null,
            "grid_auto_flow": null,
            "grid_area": null,
            "grid_template_columns": null,
            "flex": null,
            "_model_name": "LayoutModel",
            "justify_items": null,
            "grid_row": null,
            "max_height": null,
            "align_content": null,
            "visibility": null,
            "align_self": null,
            "height": null,
            "min_height": null,
            "padding": null,
            "grid_auto_rows": null,
            "grid_gap": null,
            "max_width": null,
            "order": null,
            "_view_module_version": "1.2.0",
            "grid_template_areas": null,
            "object_position": null,
            "object_fit": null,
            "grid_auto_columns": null,
            "margin": null,
            "display": null,
            "left": null
          }
        },
        "37cc647a5bcd4f1989d0f389419f9f1b": {
          "model_module": "@jupyter-widgets/controls",
          "model_name": "HBoxModel",
          "state": {
            "_view_name": "HBoxView",
            "_dom_classes": [],
            "_model_name": "HBoxModel",
            "_view_module": "@jupyter-widgets/controls",
            "_model_module_version": "1.5.0",
            "_view_count": null,
            "_view_module_version": "1.5.0",
            "box_style": "",
            "layout": "IPY_MODEL_7ba433f9e34449049d18281ce21bf89a",
            "_model_module": "@jupyter-widgets/controls",
            "children": [
              "IPY_MODEL_9d161b4d358f4685a4eb7ddd659edbb2",
              "IPY_MODEL_52fca78768fd43f59fff05ad2d613cf9",
              "IPY_MODEL_a31323bb94bf46cf93e1fe9c38c0dfad"
            ]
          }
        },
        "7ba433f9e34449049d18281ce21bf89a": {
          "model_module": "@jupyter-widgets/base",
          "model_name": "LayoutModel",
          "state": {
            "_view_name": "LayoutView",
            "grid_template_rows": null,
            "right": null,
            "justify_content": null,
            "_view_module": "@jupyter-widgets/base",
            "overflow": null,
            "_model_module_version": "1.2.0",
            "_view_count": null,
            "flex_flow": null,
            "width": null,
            "min_width": null,
            "border": null,
            "align_items": null,
            "bottom": null,
            "_model_module": "@jupyter-widgets/base",
            "top": null,
            "grid_column": null,
            "overflow_y": null,
            "overflow_x": null,
            "grid_auto_flow": null,
            "grid_area": null,
            "grid_template_columns": null,
            "flex": null,
            "_model_name": "LayoutModel",
            "justify_items": null,
            "grid_row": null,
            "max_height": null,
            "align_content": null,
            "visibility": null,
            "align_self": null,
            "height": null,
            "min_height": null,
            "padding": null,
            "grid_auto_rows": null,
            "grid_gap": null,
            "max_width": null,
            "order": null,
            "_view_module_version": "1.2.0",
            "grid_template_areas": null,
            "object_position": null,
            "object_fit": null,
            "grid_auto_columns": null,
            "margin": null,
            "display": null,
            "left": null
          }
        },
        "9d161b4d358f4685a4eb7ddd659edbb2": {
          "model_module": "@jupyter-widgets/controls",
          "model_name": "HTMLModel",
          "state": {
            "_view_name": "HTMLView",
            "style": "IPY_MODEL_a0089a50879c4d50b099e01f90597d71",
            "_dom_classes": [],
            "description": "",
            "_model_name": "HTMLModel",
            "placeholder": "​",
            "_view_module": "@jupyter-widgets/controls",
            "_model_module_version": "1.5.0",
            "value": "Downloading: 100%",
            "_view_count": null,
            "_view_module_version": "1.5.0",
            "description_tooltip": null,
            "_model_module": "@jupyter-widgets/controls",
            "layout": "IPY_MODEL_2c5b4323d85049b5ad74cbce0d345208"
          }
        },
        "52fca78768fd43f59fff05ad2d613cf9": {
          "model_module": "@jupyter-widgets/controls",
          "model_name": "FloatProgressModel",
          "state": {
            "_view_name": "ProgressView",
            "style": "IPY_MODEL_92f6b41095424040a2e82dd966643375",
            "_dom_classes": [],
            "description": "",
            "_model_name": "FloatProgressModel",
            "bar_style": "success",
            "max": 597257159,
            "_view_module": "@jupyter-widgets/controls",
            "_model_module_version": "1.5.0",
            "value": 597257159,
            "_view_count": null,
            "_view_module_version": "1.5.0",
            "orientation": "horizontal",
            "min": 0,
            "description_tooltip": null,
            "_model_module": "@jupyter-widgets/controls",
            "layout": "IPY_MODEL_e884bc7549a5402b891508d5cf1639da"
          }
        },
        "a31323bb94bf46cf93e1fe9c38c0dfad": {
          "model_module": "@jupyter-widgets/controls",
          "model_name": "HTMLModel",
          "state": {
            "_view_name": "HTMLView",
            "style": "IPY_MODEL_f76ffe228f7041189cff58e8cd5bc53b",
            "_dom_classes": [],
            "description": "",
            "_model_name": "HTMLModel",
            "placeholder": "​",
            "_view_module": "@jupyter-widgets/controls",
            "_model_module_version": "1.5.0",
            "value": " 597M/597M [00:15&lt;00:00, 37.1MB/s]",
            "_view_count": null,
            "_view_module_version": "1.5.0",
            "description_tooltip": null,
            "_model_module": "@jupyter-widgets/controls",
            "layout": "IPY_MODEL_afd3c2c912be4c71b2f6af4410d36d89"
          }
        },
        "a0089a50879c4d50b099e01f90597d71": {
          "model_module": "@jupyter-widgets/controls",
          "model_name": "DescriptionStyleModel",
          "state": {
            "_view_name": "StyleView",
            "_model_name": "DescriptionStyleModel",
            "description_width": "",
            "_view_module": "@jupyter-widgets/base",
            "_model_module_version": "1.5.0",
            "_view_count": null,
            "_view_module_version": "1.2.0",
            "_model_module": "@jupyter-widgets/controls"
          }
        },
        "2c5b4323d85049b5ad74cbce0d345208": {
          "model_module": "@jupyter-widgets/base",
          "model_name": "LayoutModel",
          "state": {
            "_view_name": "LayoutView",
            "grid_template_rows": null,
            "right": null,
            "justify_content": null,
            "_view_module": "@jupyter-widgets/base",
            "overflow": null,
            "_model_module_version": "1.2.0",
            "_view_count": null,
            "flex_flow": null,
            "width": null,
            "min_width": null,
            "border": null,
            "align_items": null,
            "bottom": null,
            "_model_module": "@jupyter-widgets/base",
            "top": null,
            "grid_column": null,
            "overflow_y": null,
            "overflow_x": null,
            "grid_auto_flow": null,
            "grid_area": null,
            "grid_template_columns": null,
            "flex": null,
            "_model_name": "LayoutModel",
            "justify_items": null,
            "grid_row": null,
            "max_height": null,
            "align_content": null,
            "visibility": null,
            "align_self": null,
            "height": null,
            "min_height": null,
            "padding": null,
            "grid_auto_rows": null,
            "grid_gap": null,
            "max_width": null,
            "order": null,
            "_view_module_version": "1.2.0",
            "grid_template_areas": null,
            "object_position": null,
            "object_fit": null,
            "grid_auto_columns": null,
            "margin": null,
            "display": null,
            "left": null
          }
        },
        "92f6b41095424040a2e82dd966643375": {
          "model_module": "@jupyter-widgets/controls",
          "model_name": "ProgressStyleModel",
          "state": {
            "_view_name": "StyleView",
            "_model_name": "ProgressStyleModel",
            "description_width": "",
            "_view_module": "@jupyter-widgets/base",
            "_model_module_version": "1.5.0",
            "_view_count": null,
            "_view_module_version": "1.2.0",
            "bar_color": null,
            "_model_module": "@jupyter-widgets/controls"
          }
        },
        "e884bc7549a5402b891508d5cf1639da": {
          "model_module": "@jupyter-widgets/base",
          "model_name": "LayoutModel",
          "state": {
            "_view_name": "LayoutView",
            "grid_template_rows": null,
            "right": null,
            "justify_content": null,
            "_view_module": "@jupyter-widgets/base",
            "overflow": null,
            "_model_module_version": "1.2.0",
            "_view_count": null,
            "flex_flow": null,
            "width": null,
            "min_width": null,
            "border": null,
            "align_items": null,
            "bottom": null,
            "_model_module": "@jupyter-widgets/base",
            "top": null,
            "grid_column": null,
            "overflow_y": null,
            "overflow_x": null,
            "grid_auto_flow": null,
            "grid_area": null,
            "grid_template_columns": null,
            "flex": null,
            "_model_name": "LayoutModel",
            "justify_items": null,
            "grid_row": null,
            "max_height": null,
            "align_content": null,
            "visibility": null,
            "align_self": null,
            "height": null,
            "min_height": null,
            "padding": null,
            "grid_auto_rows": null,
            "grid_gap": null,
            "max_width": null,
            "order": null,
            "_view_module_version": "1.2.0",
            "grid_template_areas": null,
            "object_position": null,
            "object_fit": null,
            "grid_auto_columns": null,
            "margin": null,
            "display": null,
            "left": null
          }
        },
        "f76ffe228f7041189cff58e8cd5bc53b": {
          "model_module": "@jupyter-widgets/controls",
          "model_name": "DescriptionStyleModel",
          "state": {
            "_view_name": "StyleView",
            "_model_name": "DescriptionStyleModel",
            "description_width": "",
            "_view_module": "@jupyter-widgets/base",
            "_model_module_version": "1.5.0",
            "_view_count": null,
            "_view_module_version": "1.2.0",
            "_model_module": "@jupyter-widgets/controls"
          }
        },
        "afd3c2c912be4c71b2f6af4410d36d89": {
          "model_module": "@jupyter-widgets/base",
          "model_name": "LayoutModel",
          "state": {
            "_view_name": "LayoutView",
            "grid_template_rows": null,
            "right": null,
            "justify_content": null,
            "_view_module": "@jupyter-widgets/base",
            "overflow": null,
            "_model_module_version": "1.2.0",
            "_view_count": null,
            "flex_flow": null,
            "width": null,
            "min_width": null,
            "border": null,
            "align_items": null,
            "bottom": null,
            "_model_module": "@jupyter-widgets/base",
            "top": null,
            "grid_column": null,
            "overflow_y": null,
            "overflow_x": null,
            "grid_auto_flow": null,
            "grid_area": null,
            "grid_template_columns": null,
            "flex": null,
            "_model_name": "LayoutModel",
            "justify_items": null,
            "grid_row": null,
            "max_height": null,
            "align_content": null,
            "visibility": null,
            "align_self": null,
            "height": null,
            "min_height": null,
            "padding": null,
            "grid_auto_rows": null,
            "grid_gap": null,
            "max_width": null,
            "order": null,
            "_view_module_version": "1.2.0",
            "grid_template_areas": null,
            "object_position": null,
            "object_fit": null,
            "grid_auto_columns": null,
            "margin": null,
            "display": null,
            "left": null
          }
        },
        "47f8850598294670abeba416211eaad9": {
          "model_module": "@jupyter-widgets/controls",
          "model_name": "HBoxModel",
          "state": {
            "_view_name": "HBoxView",
            "_dom_classes": [],
            "_model_name": "HBoxModel",
            "_view_module": "@jupyter-widgets/controls",
            "_model_module_version": "1.5.0",
            "_view_count": null,
            "_view_module_version": "1.5.0",
            "box_style": "",
            "layout": "IPY_MODEL_778af18475a840469f3e525070bdd75c",
            "_model_module": "@jupyter-widgets/controls",
            "children": [
              "IPY_MODEL_43d8138ff7994c0a8db4b1deeb78a8aa",
              "IPY_MODEL_ea382e1151034ac5a83da985a63b97bd",
              "IPY_MODEL_d5153ba4fb364db58e8c2ad227598c52"
            ]
          }
        },
        "778af18475a840469f3e525070bdd75c": {
          "model_module": "@jupyter-widgets/base",
          "model_name": "LayoutModel",
          "state": {
            "_view_name": "LayoutView",
            "grid_template_rows": null,
            "right": null,
            "justify_content": null,
            "_view_module": "@jupyter-widgets/base",
            "overflow": null,
            "_model_module_version": "1.2.0",
            "_view_count": null,
            "flex_flow": null,
            "width": null,
            "min_width": null,
            "border": null,
            "align_items": null,
            "bottom": null,
            "_model_module": "@jupyter-widgets/base",
            "top": null,
            "grid_column": null,
            "overflow_y": null,
            "overflow_x": null,
            "grid_auto_flow": null,
            "grid_area": null,
            "grid_template_columns": null,
            "flex": null,
            "_model_name": "LayoutModel",
            "justify_items": null,
            "grid_row": null,
            "max_height": null,
            "align_content": null,
            "visibility": null,
            "align_self": null,
            "height": null,
            "min_height": null,
            "padding": null,
            "grid_auto_rows": null,
            "grid_gap": null,
            "max_width": null,
            "order": null,
            "_view_module_version": "1.2.0",
            "grid_template_areas": null,
            "object_position": null,
            "object_fit": null,
            "grid_auto_columns": null,
            "margin": null,
            "display": null,
            "left": null
          }
        },
        "43d8138ff7994c0a8db4b1deeb78a8aa": {
          "model_module": "@jupyter-widgets/controls",
          "model_name": "HTMLModel",
          "state": {
            "_view_name": "HTMLView",
            "style": "IPY_MODEL_773e30870aeb4a9eb9138c345737e899",
            "_dom_classes": [],
            "description": "",
            "_model_name": "HTMLModel",
            "placeholder": "​",
            "_view_module": "@jupyter-widgets/controls",
            "_model_module_version": "1.5.0",
            "value": "Downloading: 100%",
            "_view_count": null,
            "_view_module_version": "1.5.0",
            "description_tooltip": null,
            "_model_module": "@jupyter-widgets/controls",
            "layout": "IPY_MODEL_fc7178d92c47467281f6bb4f174da24f"
          }
        },
        "ea382e1151034ac5a83da985a63b97bd": {
          "model_module": "@jupyter-widgets/controls",
          "model_name": "FloatProgressModel",
          "state": {
            "_view_name": "ProgressView",
            "style": "IPY_MODEL_e79bc6b9f90d4125a0d57e8e5a2b6e7c",
            "_dom_classes": [],
            "description": "",
            "_model_name": "FloatProgressModel",
            "bar_style": "success",
            "max": 898823,
            "_view_module": "@jupyter-widgets/controls",
            "_model_module_version": "1.5.0",
            "value": 898823,
            "_view_count": null,
            "_view_module_version": "1.5.0",
            "orientation": "horizontal",
            "min": 0,
            "description_tooltip": null,
            "_model_module": "@jupyter-widgets/controls",
            "layout": "IPY_MODEL_2c41379a923a4cd6b696981a4cafa573"
          }
        },
        "d5153ba4fb364db58e8c2ad227598c52": {
          "model_module": "@jupyter-widgets/controls",
          "model_name": "HTMLModel",
          "state": {
            "_view_name": "HTMLView",
            "style": "IPY_MODEL_45aa7400190f470c972e36139ffe2886",
            "_dom_classes": [],
            "description": "",
            "_model_name": "HTMLModel",
            "placeholder": "​",
            "_view_module": "@jupyter-widgets/controls",
            "_model_module_version": "1.5.0",
            "value": " 899k/899k [00:00&lt;00:00, 2.66MB/s]",
            "_view_count": null,
            "_view_module_version": "1.5.0",
            "description_tooltip": null,
            "_model_module": "@jupyter-widgets/controls",
            "layout": "IPY_MODEL_870da0f4430e4ed69dfcd414048f97c0"
          }
        },
        "773e30870aeb4a9eb9138c345737e899": {
          "model_module": "@jupyter-widgets/controls",
          "model_name": "DescriptionStyleModel",
          "state": {
            "_view_name": "StyleView",
            "_model_name": "DescriptionStyleModel",
            "description_width": "",
            "_view_module": "@jupyter-widgets/base",
            "_model_module_version": "1.5.0",
            "_view_count": null,
            "_view_module_version": "1.2.0",
            "_model_module": "@jupyter-widgets/controls"
          }
        },
        "fc7178d92c47467281f6bb4f174da24f": {
          "model_module": "@jupyter-widgets/base",
          "model_name": "LayoutModel",
          "state": {
            "_view_name": "LayoutView",
            "grid_template_rows": null,
            "right": null,
            "justify_content": null,
            "_view_module": "@jupyter-widgets/base",
            "overflow": null,
            "_model_module_version": "1.2.0",
            "_view_count": null,
            "flex_flow": null,
            "width": null,
            "min_width": null,
            "border": null,
            "align_items": null,
            "bottom": null,
            "_model_module": "@jupyter-widgets/base",
            "top": null,
            "grid_column": null,
            "overflow_y": null,
            "overflow_x": null,
            "grid_auto_flow": null,
            "grid_area": null,
            "grid_template_columns": null,
            "flex": null,
            "_model_name": "LayoutModel",
            "justify_items": null,
            "grid_row": null,
            "max_height": null,
            "align_content": null,
            "visibility": null,
            "align_self": null,
            "height": null,
            "min_height": null,
            "padding": null,
            "grid_auto_rows": null,
            "grid_gap": null,
            "max_width": null,
            "order": null,
            "_view_module_version": "1.2.0",
            "grid_template_areas": null,
            "object_position": null,
            "object_fit": null,
            "grid_auto_columns": null,
            "margin": null,
            "display": null,
            "left": null
          }
        },
        "e79bc6b9f90d4125a0d57e8e5a2b6e7c": {
          "model_module": "@jupyter-widgets/controls",
          "model_name": "ProgressStyleModel",
          "state": {
            "_view_name": "StyleView",
            "_model_name": "ProgressStyleModel",
            "description_width": "",
            "_view_module": "@jupyter-widgets/base",
            "_model_module_version": "1.5.0",
            "_view_count": null,
            "_view_module_version": "1.2.0",
            "bar_color": null,
            "_model_module": "@jupyter-widgets/controls"
          }
        },
        "2c41379a923a4cd6b696981a4cafa573": {
          "model_module": "@jupyter-widgets/base",
          "model_name": "LayoutModel",
          "state": {
            "_view_name": "LayoutView",
            "grid_template_rows": null,
            "right": null,
            "justify_content": null,
            "_view_module": "@jupyter-widgets/base",
            "overflow": null,
            "_model_module_version": "1.2.0",
            "_view_count": null,
            "flex_flow": null,
            "width": null,
            "min_width": null,
            "border": null,
            "align_items": null,
            "bottom": null,
            "_model_module": "@jupyter-widgets/base",
            "top": null,
            "grid_column": null,
            "overflow_y": null,
            "overflow_x": null,
            "grid_auto_flow": null,
            "grid_area": null,
            "grid_template_columns": null,
            "flex": null,
            "_model_name": "LayoutModel",
            "justify_items": null,
            "grid_row": null,
            "max_height": null,
            "align_content": null,
            "visibility": null,
            "align_self": null,
            "height": null,
            "min_height": null,
            "padding": null,
            "grid_auto_rows": null,
            "grid_gap": null,
            "max_width": null,
            "order": null,
            "_view_module_version": "1.2.0",
            "grid_template_areas": null,
            "object_position": null,
            "object_fit": null,
            "grid_auto_columns": null,
            "margin": null,
            "display": null,
            "left": null
          }
        },
        "45aa7400190f470c972e36139ffe2886": {
          "model_module": "@jupyter-widgets/controls",
          "model_name": "DescriptionStyleModel",
          "state": {
            "_view_name": "StyleView",
            "_model_name": "DescriptionStyleModel",
            "description_width": "",
            "_view_module": "@jupyter-widgets/base",
            "_model_module_version": "1.5.0",
            "_view_count": null,
            "_view_module_version": "1.2.0",
            "_model_module": "@jupyter-widgets/controls"
          }
        },
        "870da0f4430e4ed69dfcd414048f97c0": {
          "model_module": "@jupyter-widgets/base",
          "model_name": "LayoutModel",
          "state": {
            "_view_name": "LayoutView",
            "grid_template_rows": null,
            "right": null,
            "justify_content": null,
            "_view_module": "@jupyter-widgets/base",
            "overflow": null,
            "_model_module_version": "1.2.0",
            "_view_count": null,
            "flex_flow": null,
            "width": null,
            "min_width": null,
            "border": null,
            "align_items": null,
            "bottom": null,
            "_model_module": "@jupyter-widgets/base",
            "top": null,
            "grid_column": null,
            "overflow_y": null,
            "overflow_x": null,
            "grid_auto_flow": null,
            "grid_area": null,
            "grid_template_columns": null,
            "flex": null,
            "_model_name": "LayoutModel",
            "justify_items": null,
            "grid_row": null,
            "max_height": null,
            "align_content": null,
            "visibility": null,
            "align_self": null,
            "height": null,
            "min_height": null,
            "padding": null,
            "grid_auto_rows": null,
            "grid_gap": null,
            "max_width": null,
            "order": null,
            "_view_module_version": "1.2.0",
            "grid_template_areas": null,
            "object_position": null,
            "object_fit": null,
            "grid_auto_columns": null,
            "margin": null,
            "display": null,
            "left": null
          }
        },
        "2935beadedf84891a2f045f379c5035d": {
          "model_module": "@jupyter-widgets/controls",
          "model_name": "HBoxModel",
          "state": {
            "_view_name": "HBoxView",
            "_dom_classes": [],
            "_model_name": "HBoxModel",
            "_view_module": "@jupyter-widgets/controls",
            "_model_module_version": "1.5.0",
            "_view_count": null,
            "_view_module_version": "1.5.0",
            "box_style": "",
            "layout": "IPY_MODEL_335063a69b714a13a2eee6f9100ff2e5",
            "_model_module": "@jupyter-widgets/controls",
            "children": [
              "IPY_MODEL_b5fa67238185482992ea95c1a421132d",
              "IPY_MODEL_e18174c8ff4b41e5821ae9a48a62aebf",
              "IPY_MODEL_550972a3aaab494aaa41c56b4fdbc51d"
            ]
          }
        },
        "335063a69b714a13a2eee6f9100ff2e5": {
          "model_module": "@jupyter-widgets/base",
          "model_name": "LayoutModel",
          "state": {
            "_view_name": "LayoutView",
            "grid_template_rows": null,
            "right": null,
            "justify_content": null,
            "_view_module": "@jupyter-widgets/base",
            "overflow": null,
            "_model_module_version": "1.2.0",
            "_view_count": null,
            "flex_flow": null,
            "width": null,
            "min_width": null,
            "border": null,
            "align_items": null,
            "bottom": null,
            "_model_module": "@jupyter-widgets/base",
            "top": null,
            "grid_column": null,
            "overflow_y": null,
            "overflow_x": null,
            "grid_auto_flow": null,
            "grid_area": null,
            "grid_template_columns": null,
            "flex": null,
            "_model_name": "LayoutModel",
            "justify_items": null,
            "grid_row": null,
            "max_height": null,
            "align_content": null,
            "visibility": null,
            "align_self": null,
            "height": null,
            "min_height": null,
            "padding": null,
            "grid_auto_rows": null,
            "grid_gap": null,
            "max_width": null,
            "order": null,
            "_view_module_version": "1.2.0",
            "grid_template_areas": null,
            "object_position": null,
            "object_fit": null,
            "grid_auto_columns": null,
            "margin": null,
            "display": null,
            "left": null
          }
        },
        "b5fa67238185482992ea95c1a421132d": {
          "model_module": "@jupyter-widgets/controls",
          "model_name": "HTMLModel",
          "state": {
            "_view_name": "HTMLView",
            "style": "IPY_MODEL_7a179cb58d064367a1e0fe272e463ad9",
            "_dom_classes": [],
            "description": "",
            "_model_name": "HTMLModel",
            "placeholder": "​",
            "_view_module": "@jupyter-widgets/controls",
            "_model_module_version": "1.5.0",
            "value": "Downloading: 100%",
            "_view_count": null,
            "_view_module_version": "1.5.0",
            "description_tooltip": null,
            "_model_module": "@jupyter-widgets/controls",
            "layout": "IPY_MODEL_f93ef2db7f1a4c558361279d23f3ada8"
          }
        },
        "e18174c8ff4b41e5821ae9a48a62aebf": {
          "model_module": "@jupyter-widgets/controls",
          "model_name": "FloatProgressModel",
          "state": {
            "_view_name": "ProgressView",
            "style": "IPY_MODEL_693a055a5cc24e3ba54cedc53d998754",
            "_dom_classes": [],
            "description": "",
            "_model_name": "FloatProgressModel",
            "bar_style": "success",
            "max": 456318,
            "_view_module": "@jupyter-widgets/controls",
            "_model_module_version": "1.5.0",
            "value": 456318,
            "_view_count": null,
            "_view_module_version": "1.5.0",
            "orientation": "horizontal",
            "min": 0,
            "description_tooltip": null,
            "_model_module": "@jupyter-widgets/controls",
            "layout": "IPY_MODEL_256f5582f4f04bc9a141209857d8473a"
          }
        },
        "550972a3aaab494aaa41c56b4fdbc51d": {
          "model_module": "@jupyter-widgets/controls",
          "model_name": "HTMLModel",
          "state": {
            "_view_name": "HTMLView",
            "style": "IPY_MODEL_1fe23e3eb3eb43cabd49b4a60e0e489e",
            "_dom_classes": [],
            "description": "",
            "_model_name": "HTMLModel",
            "placeholder": "​",
            "_view_module": "@jupyter-widgets/controls",
            "_model_module_version": "1.5.0",
            "value": " 456k/456k [00:00&lt;00:00, 951kB/s]",
            "_view_count": null,
            "_view_module_version": "1.5.0",
            "description_tooltip": null,
            "_model_module": "@jupyter-widgets/controls",
            "layout": "IPY_MODEL_772c77d1167f48f294a7cacfc82b9bed"
          }
        },
        "7a179cb58d064367a1e0fe272e463ad9": {
          "model_module": "@jupyter-widgets/controls",
          "model_name": "DescriptionStyleModel",
          "state": {
            "_view_name": "StyleView",
            "_model_name": "DescriptionStyleModel",
            "description_width": "",
            "_view_module": "@jupyter-widgets/base",
            "_model_module_version": "1.5.0",
            "_view_count": null,
            "_view_module_version": "1.2.0",
            "_model_module": "@jupyter-widgets/controls"
          }
        },
        "f93ef2db7f1a4c558361279d23f3ada8": {
          "model_module": "@jupyter-widgets/base",
          "model_name": "LayoutModel",
          "state": {
            "_view_name": "LayoutView",
            "grid_template_rows": null,
            "right": null,
            "justify_content": null,
            "_view_module": "@jupyter-widgets/base",
            "overflow": null,
            "_model_module_version": "1.2.0",
            "_view_count": null,
            "flex_flow": null,
            "width": null,
            "min_width": null,
            "border": null,
            "align_items": null,
            "bottom": null,
            "_model_module": "@jupyter-widgets/base",
            "top": null,
            "grid_column": null,
            "overflow_y": null,
            "overflow_x": null,
            "grid_auto_flow": null,
            "grid_area": null,
            "grid_template_columns": null,
            "flex": null,
            "_model_name": "LayoutModel",
            "justify_items": null,
            "grid_row": null,
            "max_height": null,
            "align_content": null,
            "visibility": null,
            "align_self": null,
            "height": null,
            "min_height": null,
            "padding": null,
            "grid_auto_rows": null,
            "grid_gap": null,
            "max_width": null,
            "order": null,
            "_view_module_version": "1.2.0",
            "grid_template_areas": null,
            "object_position": null,
            "object_fit": null,
            "grid_auto_columns": null,
            "margin": null,
            "display": null,
            "left": null
          }
        },
        "693a055a5cc24e3ba54cedc53d998754": {
          "model_module": "@jupyter-widgets/controls",
          "model_name": "ProgressStyleModel",
          "state": {
            "_view_name": "StyleView",
            "_model_name": "ProgressStyleModel",
            "description_width": "",
            "_view_module": "@jupyter-widgets/base",
            "_model_module_version": "1.5.0",
            "_view_count": null,
            "_view_module_version": "1.2.0",
            "bar_color": null,
            "_model_module": "@jupyter-widgets/controls"
          }
        },
        "256f5582f4f04bc9a141209857d8473a": {
          "model_module": "@jupyter-widgets/base",
          "model_name": "LayoutModel",
          "state": {
            "_view_name": "LayoutView",
            "grid_template_rows": null,
            "right": null,
            "justify_content": null,
            "_view_module": "@jupyter-widgets/base",
            "overflow": null,
            "_model_module_version": "1.2.0",
            "_view_count": null,
            "flex_flow": null,
            "width": null,
            "min_width": null,
            "border": null,
            "align_items": null,
            "bottom": null,
            "_model_module": "@jupyter-widgets/base",
            "top": null,
            "grid_column": null,
            "overflow_y": null,
            "overflow_x": null,
            "grid_auto_flow": null,
            "grid_area": null,
            "grid_template_columns": null,
            "flex": null,
            "_model_name": "LayoutModel",
            "justify_items": null,
            "grid_row": null,
            "max_height": null,
            "align_content": null,
            "visibility": null,
            "align_self": null,
            "height": null,
            "min_height": null,
            "padding": null,
            "grid_auto_rows": null,
            "grid_gap": null,
            "max_width": null,
            "order": null,
            "_view_module_version": "1.2.0",
            "grid_template_areas": null,
            "object_position": null,
            "object_fit": null,
            "grid_auto_columns": null,
            "margin": null,
            "display": null,
            "left": null
          }
        },
        "1fe23e3eb3eb43cabd49b4a60e0e489e": {
          "model_module": "@jupyter-widgets/controls",
          "model_name": "DescriptionStyleModel",
          "state": {
            "_view_name": "StyleView",
            "_model_name": "DescriptionStyleModel",
            "description_width": "",
            "_view_module": "@jupyter-widgets/base",
            "_model_module_version": "1.5.0",
            "_view_count": null,
            "_view_module_version": "1.2.0",
            "_model_module": "@jupyter-widgets/controls"
          }
        },
        "772c77d1167f48f294a7cacfc82b9bed": {
          "model_module": "@jupyter-widgets/base",
          "model_name": "LayoutModel",
          "state": {
            "_view_name": "LayoutView",
            "grid_template_rows": null,
            "right": null,
            "justify_content": null,
            "_view_module": "@jupyter-widgets/base",
            "overflow": null,
            "_model_module_version": "1.2.0",
            "_view_count": null,
            "flex_flow": null,
            "width": null,
            "min_width": null,
            "border": null,
            "align_items": null,
            "bottom": null,
            "_model_module": "@jupyter-widgets/base",
            "top": null,
            "grid_column": null,
            "overflow_y": null,
            "overflow_x": null,
            "grid_auto_flow": null,
            "grid_area": null,
            "grid_template_columns": null,
            "flex": null,
            "_model_name": "LayoutModel",
            "justify_items": null,
            "grid_row": null,
            "max_height": null,
            "align_content": null,
            "visibility": null,
            "align_self": null,
            "height": null,
            "min_height": null,
            "padding": null,
            "grid_auto_rows": null,
            "grid_gap": null,
            "max_width": null,
            "order": null,
            "_view_module_version": "1.2.0",
            "grid_template_areas": null,
            "object_position": null,
            "object_fit": null,
            "grid_auto_columns": null,
            "margin": null,
            "display": null,
            "left": null
          }
        },
        "1d73aff875e3420483e31d810d8c08af": {
          "model_module": "@jupyter-widgets/controls",
          "model_name": "HBoxModel",
          "state": {
            "_view_name": "HBoxView",
            "_dom_classes": [],
            "_model_name": "HBoxModel",
            "_view_module": "@jupyter-widgets/controls",
            "_model_module_version": "1.5.0",
            "_view_count": null,
            "_view_module_version": "1.5.0",
            "box_style": "",
            "layout": "IPY_MODEL_5a0dcc36348c4155ad330d01a789a1e4",
            "_model_module": "@jupyter-widgets/controls",
            "children": [
              "IPY_MODEL_42c1fc6e30384c798d4edb3699af84cc",
              "IPY_MODEL_28244ace3357442a8a2bced7f048aef4",
              "IPY_MODEL_d14ff7fe7ca24ae1870f2fa21925edbe"
            ]
          }
        },
        "5a0dcc36348c4155ad330d01a789a1e4": {
          "model_module": "@jupyter-widgets/base",
          "model_name": "LayoutModel",
          "state": {
            "_view_name": "LayoutView",
            "grid_template_rows": null,
            "right": null,
            "justify_content": null,
            "_view_module": "@jupyter-widgets/base",
            "overflow": null,
            "_model_module_version": "1.2.0",
            "_view_count": null,
            "flex_flow": null,
            "width": null,
            "min_width": null,
            "border": null,
            "align_items": null,
            "bottom": null,
            "_model_module": "@jupyter-widgets/base",
            "top": null,
            "grid_column": null,
            "overflow_y": null,
            "overflow_x": null,
            "grid_auto_flow": null,
            "grid_area": null,
            "grid_template_columns": null,
            "flex": null,
            "_model_name": "LayoutModel",
            "justify_items": null,
            "grid_row": null,
            "max_height": null,
            "align_content": null,
            "visibility": null,
            "align_self": null,
            "height": null,
            "min_height": null,
            "padding": null,
            "grid_auto_rows": null,
            "grid_gap": null,
            "max_width": null,
            "order": null,
            "_view_module_version": "1.2.0",
            "grid_template_areas": null,
            "object_position": null,
            "object_fit": null,
            "grid_auto_columns": null,
            "margin": null,
            "display": null,
            "left": null
          }
        },
        "42c1fc6e30384c798d4edb3699af84cc": {
          "model_module": "@jupyter-widgets/controls",
          "model_name": "HTMLModel",
          "state": {
            "_view_name": "HTMLView",
            "style": "IPY_MODEL_4277a9bdfdfc4cfe8fef8f1db5afa357",
            "_dom_classes": [],
            "description": "",
            "_model_name": "HTMLModel",
            "placeholder": "​",
            "_view_module": "@jupyter-widgets/controls",
            "_model_module_version": "1.5.0",
            "value": "Downloading: 100%",
            "_view_count": null,
            "_view_module_version": "1.5.0",
            "description_tooltip": null,
            "_model_module": "@jupyter-widgets/controls",
            "layout": "IPY_MODEL_8774dcbeb3074c9992bc2c56e8bebc9a"
          }
        },
        "28244ace3357442a8a2bced7f048aef4": {
          "model_module": "@jupyter-widgets/controls",
          "model_name": "FloatProgressModel",
          "state": {
            "_view_name": "ProgressView",
            "style": "IPY_MODEL_693f1a8fbdc341af8b56ffc6dff1571d",
            "_dom_classes": [],
            "description": "",
            "_model_name": "FloatProgressModel",
            "bar_style": "success",
            "max": 1355863,
            "_view_module": "@jupyter-widgets/controls",
            "_model_module_version": "1.5.0",
            "value": 1355863,
            "_view_count": null,
            "_view_module_version": "1.5.0",
            "orientation": "horizontal",
            "min": 0,
            "description_tooltip": null,
            "_model_module": "@jupyter-widgets/controls",
            "layout": "IPY_MODEL_1187e36323b14e64963a4cdcbc1ebb06"
          }
        },
        "d14ff7fe7ca24ae1870f2fa21925edbe": {
          "model_module": "@jupyter-widgets/controls",
          "model_name": "HTMLModel",
          "state": {
            "_view_name": "HTMLView",
            "style": "IPY_MODEL_dde539c5f23b471d87ffb7b1d5f3f2bb",
            "_dom_classes": [],
            "description": "",
            "_model_name": "HTMLModel",
            "placeholder": "​",
            "_view_module": "@jupyter-widgets/controls",
            "_model_module_version": "1.5.0",
            "value": " 1.36M/1.36M [00:00&lt;00:00, 2.60MB/s]",
            "_view_count": null,
            "_view_module_version": "1.5.0",
            "description_tooltip": null,
            "_model_module": "@jupyter-widgets/controls",
            "layout": "IPY_MODEL_1988b9d606274947a8f2418d59e7400e"
          }
        },
        "4277a9bdfdfc4cfe8fef8f1db5afa357": {
          "model_module": "@jupyter-widgets/controls",
          "model_name": "DescriptionStyleModel",
          "state": {
            "_view_name": "StyleView",
            "_model_name": "DescriptionStyleModel",
            "description_width": "",
            "_view_module": "@jupyter-widgets/base",
            "_model_module_version": "1.5.0",
            "_view_count": null,
            "_view_module_version": "1.2.0",
            "_model_module": "@jupyter-widgets/controls"
          }
        },
        "8774dcbeb3074c9992bc2c56e8bebc9a": {
          "model_module": "@jupyter-widgets/base",
          "model_name": "LayoutModel",
          "state": {
            "_view_name": "LayoutView",
            "grid_template_rows": null,
            "right": null,
            "justify_content": null,
            "_view_module": "@jupyter-widgets/base",
            "overflow": null,
            "_model_module_version": "1.2.0",
            "_view_count": null,
            "flex_flow": null,
            "width": null,
            "min_width": null,
            "border": null,
            "align_items": null,
            "bottom": null,
            "_model_module": "@jupyter-widgets/base",
            "top": null,
            "grid_column": null,
            "overflow_y": null,
            "overflow_x": null,
            "grid_auto_flow": null,
            "grid_area": null,
            "grid_template_columns": null,
            "flex": null,
            "_model_name": "LayoutModel",
            "justify_items": null,
            "grid_row": null,
            "max_height": null,
            "align_content": null,
            "visibility": null,
            "align_self": null,
            "height": null,
            "min_height": null,
            "padding": null,
            "grid_auto_rows": null,
            "grid_gap": null,
            "max_width": null,
            "order": null,
            "_view_module_version": "1.2.0",
            "grid_template_areas": null,
            "object_position": null,
            "object_fit": null,
            "grid_auto_columns": null,
            "margin": null,
            "display": null,
            "left": null
          }
        },
        "693f1a8fbdc341af8b56ffc6dff1571d": {
          "model_module": "@jupyter-widgets/controls",
          "model_name": "ProgressStyleModel",
          "state": {
            "_view_name": "StyleView",
            "_model_name": "ProgressStyleModel",
            "description_width": "",
            "_view_module": "@jupyter-widgets/base",
            "_model_module_version": "1.5.0",
            "_view_count": null,
            "_view_module_version": "1.2.0",
            "bar_color": null,
            "_model_module": "@jupyter-widgets/controls"
          }
        },
        "1187e36323b14e64963a4cdcbc1ebb06": {
          "model_module": "@jupyter-widgets/base",
          "model_name": "LayoutModel",
          "state": {
            "_view_name": "LayoutView",
            "grid_template_rows": null,
            "right": null,
            "justify_content": null,
            "_view_module": "@jupyter-widgets/base",
            "overflow": null,
            "_model_module_version": "1.2.0",
            "_view_count": null,
            "flex_flow": null,
            "width": null,
            "min_width": null,
            "border": null,
            "align_items": null,
            "bottom": null,
            "_model_module": "@jupyter-widgets/base",
            "top": null,
            "grid_column": null,
            "overflow_y": null,
            "overflow_x": null,
            "grid_auto_flow": null,
            "grid_area": null,
            "grid_template_columns": null,
            "flex": null,
            "_model_name": "LayoutModel",
            "justify_items": null,
            "grid_row": null,
            "max_height": null,
            "align_content": null,
            "visibility": null,
            "align_self": null,
            "height": null,
            "min_height": null,
            "padding": null,
            "grid_auto_rows": null,
            "grid_gap": null,
            "max_width": null,
            "order": null,
            "_view_module_version": "1.2.0",
            "grid_template_areas": null,
            "object_position": null,
            "object_fit": null,
            "grid_auto_columns": null,
            "margin": null,
            "display": null,
            "left": null
          }
        },
        "dde539c5f23b471d87ffb7b1d5f3f2bb": {
          "model_module": "@jupyter-widgets/controls",
          "model_name": "DescriptionStyleModel",
          "state": {
            "_view_name": "StyleView",
            "_model_name": "DescriptionStyleModel",
            "description_width": "",
            "_view_module": "@jupyter-widgets/base",
            "_model_module_version": "1.5.0",
            "_view_count": null,
            "_view_module_version": "1.2.0",
            "_model_module": "@jupyter-widgets/controls"
          }
        },
        "1988b9d606274947a8f2418d59e7400e": {
          "model_module": "@jupyter-widgets/base",
          "model_name": "LayoutModel",
          "state": {
            "_view_name": "LayoutView",
            "grid_template_rows": null,
            "right": null,
            "justify_content": null,
            "_view_module": "@jupyter-widgets/base",
            "overflow": null,
            "_model_module_version": "1.2.0",
            "_view_count": null,
            "flex_flow": null,
            "width": null,
            "min_width": null,
            "border": null,
            "align_items": null,
            "bottom": null,
            "_model_module": "@jupyter-widgets/base",
            "top": null,
            "grid_column": null,
            "overflow_y": null,
            "overflow_x": null,
            "grid_auto_flow": null,
            "grid_area": null,
            "grid_template_columns": null,
            "flex": null,
            "_model_name": "LayoutModel",
            "justify_items": null,
            "grid_row": null,
            "max_height": null,
            "align_content": null,
            "visibility": null,
            "align_self": null,
            "height": null,
            "min_height": null,
            "padding": null,
            "grid_auto_rows": null,
            "grid_gap": null,
            "max_width": null,
            "order": null,
            "_view_module_version": "1.2.0",
            "grid_template_areas": null,
            "object_position": null,
            "object_fit": null,
            "grid_auto_columns": null,
            "margin": null,
            "display": null,
            "left": null
          }
        },
        "0ca5e0d1e93d4657b970b916559cc2cd": {
          "model_module": "@jupyter-widgets/controls",
          "model_name": "HBoxModel",
          "state": {
            "_view_name": "HBoxView",
            "_dom_classes": [],
            "_model_name": "HBoxModel",
            "_view_module": "@jupyter-widgets/controls",
            "_model_module_version": "1.5.0",
            "_view_count": null,
            "_view_module_version": "1.5.0",
            "box_style": "",
            "layout": "IPY_MODEL_1920106b07c24938a632f538410311fa",
            "_model_module": "@jupyter-widgets/controls",
            "children": [
              "IPY_MODEL_52126e9db2474229afa1097643f547db",
              "IPY_MODEL_645dd5f9166540f2b0740c6025618382",
              "IPY_MODEL_4ae6f417c10948d9aec9b9687808246b"
            ]
          }
        },
        "1920106b07c24938a632f538410311fa": {
          "model_module": "@jupyter-widgets/base",
          "model_name": "LayoutModel",
          "state": {
            "_view_name": "LayoutView",
            "grid_template_rows": null,
            "right": null,
            "justify_content": null,
            "_view_module": "@jupyter-widgets/base",
            "overflow": null,
            "_model_module_version": "1.2.0",
            "_view_count": null,
            "flex_flow": null,
            "width": null,
            "min_width": null,
            "border": null,
            "align_items": null,
            "bottom": null,
            "_model_module": "@jupyter-widgets/base",
            "top": null,
            "grid_column": null,
            "overflow_y": null,
            "overflow_x": null,
            "grid_auto_flow": null,
            "grid_area": null,
            "grid_template_columns": null,
            "flex": null,
            "_model_name": "LayoutModel",
            "justify_items": null,
            "grid_row": null,
            "max_height": null,
            "align_content": null,
            "visibility": null,
            "align_self": null,
            "height": null,
            "min_height": null,
            "padding": null,
            "grid_auto_rows": null,
            "grid_gap": null,
            "max_width": null,
            "order": null,
            "_view_module_version": "1.2.0",
            "grid_template_areas": null,
            "object_position": null,
            "object_fit": null,
            "grid_auto_columns": null,
            "margin": null,
            "display": null,
            "left": null
          }
        },
        "52126e9db2474229afa1097643f547db": {
          "model_module": "@jupyter-widgets/controls",
          "model_name": "HTMLModel",
          "state": {
            "_view_name": "HTMLView",
            "style": "IPY_MODEL_e5af310dc9594185b09b4f563a5b674c",
            "_dom_classes": [],
            "description": "",
            "_model_name": "HTMLModel",
            "placeholder": "​",
            "_view_module": "@jupyter-widgets/controls",
            "_model_module_version": "1.5.0",
            "value": "Downloading: 100%",
            "_view_count": null,
            "_view_module_version": "1.5.0",
            "description_tooltip": null,
            "_model_module": "@jupyter-widgets/controls",
            "layout": "IPY_MODEL_95a665ba4238422ca4dd8ff4d8fe5498"
          }
        },
        "645dd5f9166540f2b0740c6025618382": {
          "model_module": "@jupyter-widgets/controls",
          "model_name": "FloatProgressModel",
          "state": {
            "_view_name": "ProgressView",
            "style": "IPY_MODEL_22de8b1d9b054e659d94745e3be7e9cd",
            "_dom_classes": [],
            "description": "",
            "_model_name": "FloatProgressModel",
            "bar_style": "success",
            "max": 462,
            "_view_module": "@jupyter-widgets/controls",
            "_model_module_version": "1.5.0",
            "value": 462,
            "_view_count": null,
            "_view_module_version": "1.5.0",
            "orientation": "horizontal",
            "min": 0,
            "description_tooltip": null,
            "_model_module": "@jupyter-widgets/controls",
            "layout": "IPY_MODEL_9a40c73fa3964fe8a31ca0be15209f10"
          }
        },
        "4ae6f417c10948d9aec9b9687808246b": {
          "model_module": "@jupyter-widgets/controls",
          "model_name": "HTMLModel",
          "state": {
            "_view_name": "HTMLView",
            "style": "IPY_MODEL_83dc54106c6c4c999f623d6059cb8b04",
            "_dom_classes": [],
            "description": "",
            "_model_name": "HTMLModel",
            "placeholder": "​",
            "_view_module": "@jupyter-widgets/controls",
            "_model_module_version": "1.5.0",
            "value": " 462/462 [00:00&lt;00:00, 13.6kB/s]",
            "_view_count": null,
            "_view_module_version": "1.5.0",
            "description_tooltip": null,
            "_model_module": "@jupyter-widgets/controls",
            "layout": "IPY_MODEL_847f0c19f50f4ccc87acd39761c9a378"
          }
        },
        "e5af310dc9594185b09b4f563a5b674c": {
          "model_module": "@jupyter-widgets/controls",
          "model_name": "DescriptionStyleModel",
          "state": {
            "_view_name": "StyleView",
            "_model_name": "DescriptionStyleModel",
            "description_width": "",
            "_view_module": "@jupyter-widgets/base",
            "_model_module_version": "1.5.0",
            "_view_count": null,
            "_view_module_version": "1.2.0",
            "_model_module": "@jupyter-widgets/controls"
          }
        },
        "95a665ba4238422ca4dd8ff4d8fe5498": {
          "model_module": "@jupyter-widgets/base",
          "model_name": "LayoutModel",
          "state": {
            "_view_name": "LayoutView",
            "grid_template_rows": null,
            "right": null,
            "justify_content": null,
            "_view_module": "@jupyter-widgets/base",
            "overflow": null,
            "_model_module_version": "1.2.0",
            "_view_count": null,
            "flex_flow": null,
            "width": null,
            "min_width": null,
            "border": null,
            "align_items": null,
            "bottom": null,
            "_model_module": "@jupyter-widgets/base",
            "top": null,
            "grid_column": null,
            "overflow_y": null,
            "overflow_x": null,
            "grid_auto_flow": null,
            "grid_area": null,
            "grid_template_columns": null,
            "flex": null,
            "_model_name": "LayoutModel",
            "justify_items": null,
            "grid_row": null,
            "max_height": null,
            "align_content": null,
            "visibility": null,
            "align_self": null,
            "height": null,
            "min_height": null,
            "padding": null,
            "grid_auto_rows": null,
            "grid_gap": null,
            "max_width": null,
            "order": null,
            "_view_module_version": "1.2.0",
            "grid_template_areas": null,
            "object_position": null,
            "object_fit": null,
            "grid_auto_columns": null,
            "margin": null,
            "display": null,
            "left": null
          }
        },
        "22de8b1d9b054e659d94745e3be7e9cd": {
          "model_module": "@jupyter-widgets/controls",
          "model_name": "ProgressStyleModel",
          "state": {
            "_view_name": "StyleView",
            "_model_name": "ProgressStyleModel",
            "description_width": "",
            "_view_module": "@jupyter-widgets/base",
            "_model_module_version": "1.5.0",
            "_view_count": null,
            "_view_module_version": "1.2.0",
            "bar_color": null,
            "_model_module": "@jupyter-widgets/controls"
          }
        },
        "9a40c73fa3964fe8a31ca0be15209f10": {
          "model_module": "@jupyter-widgets/base",
          "model_name": "LayoutModel",
          "state": {
            "_view_name": "LayoutView",
            "grid_template_rows": null,
            "right": null,
            "justify_content": null,
            "_view_module": "@jupyter-widgets/base",
            "overflow": null,
            "_model_module_version": "1.2.0",
            "_view_count": null,
            "flex_flow": null,
            "width": null,
            "min_width": null,
            "border": null,
            "align_items": null,
            "bottom": null,
            "_model_module": "@jupyter-widgets/base",
            "top": null,
            "grid_column": null,
            "overflow_y": null,
            "overflow_x": null,
            "grid_auto_flow": null,
            "grid_area": null,
            "grid_template_columns": null,
            "flex": null,
            "_model_name": "LayoutModel",
            "justify_items": null,
            "grid_row": null,
            "max_height": null,
            "align_content": null,
            "visibility": null,
            "align_self": null,
            "height": null,
            "min_height": null,
            "padding": null,
            "grid_auto_rows": null,
            "grid_gap": null,
            "max_width": null,
            "order": null,
            "_view_module_version": "1.2.0",
            "grid_template_areas": null,
            "object_position": null,
            "object_fit": null,
            "grid_auto_columns": null,
            "margin": null,
            "display": null,
            "left": null
          }
        },
        "83dc54106c6c4c999f623d6059cb8b04": {
          "model_module": "@jupyter-widgets/controls",
          "model_name": "DescriptionStyleModel",
          "state": {
            "_view_name": "StyleView",
            "_model_name": "DescriptionStyleModel",
            "description_width": "",
            "_view_module": "@jupyter-widgets/base",
            "_model_module_version": "1.5.0",
            "_view_count": null,
            "_view_module_version": "1.2.0",
            "_model_module": "@jupyter-widgets/controls"
          }
        },
        "847f0c19f50f4ccc87acd39761c9a378": {
          "model_module": "@jupyter-widgets/base",
          "model_name": "LayoutModel",
          "state": {
            "_view_name": "LayoutView",
            "grid_template_rows": null,
            "right": null,
            "justify_content": null,
            "_view_module": "@jupyter-widgets/base",
            "overflow": null,
            "_model_module_version": "1.2.0",
            "_view_count": null,
            "flex_flow": null,
            "width": null,
            "min_width": null,
            "border": null,
            "align_items": null,
            "bottom": null,
            "_model_module": "@jupyter-widgets/base",
            "top": null,
            "grid_column": null,
            "overflow_y": null,
            "overflow_x": null,
            "grid_auto_flow": null,
            "grid_area": null,
            "grid_template_columns": null,
            "flex": null,
            "_model_name": "LayoutModel",
            "justify_items": null,
            "grid_row": null,
            "max_height": null,
            "align_content": null,
            "visibility": null,
            "align_self": null,
            "height": null,
            "min_height": null,
            "padding": null,
            "grid_auto_rows": null,
            "grid_gap": null,
            "max_width": null,
            "order": null,
            "_view_module_version": "1.2.0",
            "grid_template_areas": null,
            "object_position": null,
            "object_fit": null,
            "grid_auto_columns": null,
            "margin": null,
            "display": null,
            "left": null
          }
        },
        "b2698f5622cb4a3ba32145e15f0a74b5": {
          "model_module": "@jupyter-widgets/controls",
          "model_name": "HBoxModel",
          "state": {
            "_view_name": "HBoxView",
            "_dom_classes": [],
            "_model_name": "HBoxModel",
            "_view_module": "@jupyter-widgets/controls",
            "_model_module_version": "1.5.0",
            "_view_count": null,
            "_view_module_version": "1.5.0",
            "box_style": "",
            "layout": "IPY_MODEL_86bb4f2911904ce2b705f9901e8273dd",
            "_model_module": "@jupyter-widgets/controls",
            "children": [
              "IPY_MODEL_d1b77ddba38c434f92ac7c8f5d6fa0c6",
              "IPY_MODEL_b1be91a5cf4f4c95a1e706459d762ff1",
              "IPY_MODEL_0bab4d790f3c4922b36f8e714da50005"
            ]
          }
        },
        "86bb4f2911904ce2b705f9901e8273dd": {
          "model_module": "@jupyter-widgets/base",
          "model_name": "LayoutModel",
          "state": {
            "_view_name": "LayoutView",
            "grid_template_rows": null,
            "right": null,
            "justify_content": null,
            "_view_module": "@jupyter-widgets/base",
            "overflow": null,
            "_model_module_version": "1.2.0",
            "_view_count": null,
            "flex_flow": null,
            "width": null,
            "min_width": null,
            "border": null,
            "align_items": null,
            "bottom": null,
            "_model_module": "@jupyter-widgets/base",
            "top": null,
            "grid_column": null,
            "overflow_y": null,
            "overflow_x": null,
            "grid_auto_flow": null,
            "grid_area": null,
            "grid_template_columns": null,
            "flex": null,
            "_model_name": "LayoutModel",
            "justify_items": null,
            "grid_row": null,
            "max_height": null,
            "align_content": null,
            "visibility": null,
            "align_self": null,
            "height": null,
            "min_height": null,
            "padding": null,
            "grid_auto_rows": null,
            "grid_gap": null,
            "max_width": null,
            "order": null,
            "_view_module_version": "1.2.0",
            "grid_template_areas": null,
            "object_position": null,
            "object_fit": null,
            "grid_auto_columns": null,
            "margin": null,
            "display": null,
            "left": null
          }
        },
        "d1b77ddba38c434f92ac7c8f5d6fa0c6": {
          "model_module": "@jupyter-widgets/controls",
          "model_name": "HTMLModel",
          "state": {
            "_view_name": "HTMLView",
            "style": "IPY_MODEL_e543b493598d498db8e5debf168478fd",
            "_dom_classes": [],
            "description": "",
            "_model_name": "HTMLModel",
            "placeholder": "​",
            "_view_module": "@jupyter-widgets/controls",
            "_model_module_version": "1.5.0",
            "value": "Downloading: 100%",
            "_view_count": null,
            "_view_module_version": "1.5.0",
            "description_tooltip": null,
            "_model_module": "@jupyter-widgets/controls",
            "layout": "IPY_MODEL_66879827fb964e539631ce5d4ba86f4a"
          }
        },
        "b1be91a5cf4f4c95a1e706459d762ff1": {
          "model_module": "@jupyter-widgets/controls",
          "model_name": "FloatProgressModel",
          "state": {
            "_view_name": "ProgressView",
            "style": "IPY_MODEL_946b6c04bfee4bc0b197b4fe44cac4b1",
            "_dom_classes": [],
            "description": "",
            "_model_name": "FloatProgressModel",
            "bar_style": "success",
            "max": 433286112,
            "_view_module": "@jupyter-widgets/controls",
            "_model_module_version": "1.5.0",
            "value": 433286112,
            "_view_count": null,
            "_view_module_version": "1.5.0",
            "orientation": "horizontal",
            "min": 0,
            "description_tooltip": null,
            "_model_module": "@jupyter-widgets/controls",
            "layout": "IPY_MODEL_ebc6588a3bab4258b51f3777449eca50"
          }
        },
        "0bab4d790f3c4922b36f8e714da50005": {
          "model_module": "@jupyter-widgets/controls",
          "model_name": "HTMLModel",
          "state": {
            "_view_name": "HTMLView",
            "style": "IPY_MODEL_2c68d5ee50b147d0a0164f29fc2baf2a",
            "_dom_classes": [],
            "description": "",
            "_model_name": "HTMLModel",
            "placeholder": "​",
            "_view_module": "@jupyter-widgets/controls",
            "_model_module_version": "1.5.0",
            "value": " 433M/433M [00:11&lt;00:00, 36.2MB/s]",
            "_view_count": null,
            "_view_module_version": "1.5.0",
            "description_tooltip": null,
            "_model_module": "@jupyter-widgets/controls",
            "layout": "IPY_MODEL_4e2878a386f74e538deff63674ac4c3c"
          }
        },
        "e543b493598d498db8e5debf168478fd": {
          "model_module": "@jupyter-widgets/controls",
          "model_name": "DescriptionStyleModel",
          "state": {
            "_view_name": "StyleView",
            "_model_name": "DescriptionStyleModel",
            "description_width": "",
            "_view_module": "@jupyter-widgets/base",
            "_model_module_version": "1.5.0",
            "_view_count": null,
            "_view_module_version": "1.2.0",
            "_model_module": "@jupyter-widgets/controls"
          }
        },
        "66879827fb964e539631ce5d4ba86f4a": {
          "model_module": "@jupyter-widgets/base",
          "model_name": "LayoutModel",
          "state": {
            "_view_name": "LayoutView",
            "grid_template_rows": null,
            "right": null,
            "justify_content": null,
            "_view_module": "@jupyter-widgets/base",
            "overflow": null,
            "_model_module_version": "1.2.0",
            "_view_count": null,
            "flex_flow": null,
            "width": null,
            "min_width": null,
            "border": null,
            "align_items": null,
            "bottom": null,
            "_model_module": "@jupyter-widgets/base",
            "top": null,
            "grid_column": null,
            "overflow_y": null,
            "overflow_x": null,
            "grid_auto_flow": null,
            "grid_area": null,
            "grid_template_columns": null,
            "flex": null,
            "_model_name": "LayoutModel",
            "justify_items": null,
            "grid_row": null,
            "max_height": null,
            "align_content": null,
            "visibility": null,
            "align_self": null,
            "height": null,
            "min_height": null,
            "padding": null,
            "grid_auto_rows": null,
            "grid_gap": null,
            "max_width": null,
            "order": null,
            "_view_module_version": "1.2.0",
            "grid_template_areas": null,
            "object_position": null,
            "object_fit": null,
            "grid_auto_columns": null,
            "margin": null,
            "display": null,
            "left": null
          }
        },
        "946b6c04bfee4bc0b197b4fe44cac4b1": {
          "model_module": "@jupyter-widgets/controls",
          "model_name": "ProgressStyleModel",
          "state": {
            "_view_name": "StyleView",
            "_model_name": "ProgressStyleModel",
            "description_width": "",
            "_view_module": "@jupyter-widgets/base",
            "_model_module_version": "1.5.0",
            "_view_count": null,
            "_view_module_version": "1.2.0",
            "bar_color": null,
            "_model_module": "@jupyter-widgets/controls"
          }
        },
        "ebc6588a3bab4258b51f3777449eca50": {
          "model_module": "@jupyter-widgets/base",
          "model_name": "LayoutModel",
          "state": {
            "_view_name": "LayoutView",
            "grid_template_rows": null,
            "right": null,
            "justify_content": null,
            "_view_module": "@jupyter-widgets/base",
            "overflow": null,
            "_model_module_version": "1.2.0",
            "_view_count": null,
            "flex_flow": null,
            "width": null,
            "min_width": null,
            "border": null,
            "align_items": null,
            "bottom": null,
            "_model_module": "@jupyter-widgets/base",
            "top": null,
            "grid_column": null,
            "overflow_y": null,
            "overflow_x": null,
            "grid_auto_flow": null,
            "grid_area": null,
            "grid_template_columns": null,
            "flex": null,
            "_model_name": "LayoutModel",
            "justify_items": null,
            "grid_row": null,
            "max_height": null,
            "align_content": null,
            "visibility": null,
            "align_self": null,
            "height": null,
            "min_height": null,
            "padding": null,
            "grid_auto_rows": null,
            "grid_gap": null,
            "max_width": null,
            "order": null,
            "_view_module_version": "1.2.0",
            "grid_template_areas": null,
            "object_position": null,
            "object_fit": null,
            "grid_auto_columns": null,
            "margin": null,
            "display": null,
            "left": null
          }
        },
        "2c68d5ee50b147d0a0164f29fc2baf2a": {
          "model_module": "@jupyter-widgets/controls",
          "model_name": "DescriptionStyleModel",
          "state": {
            "_view_name": "StyleView",
            "_model_name": "DescriptionStyleModel",
            "description_width": "",
            "_view_module": "@jupyter-widgets/base",
            "_model_module_version": "1.5.0",
            "_view_count": null,
            "_view_module_version": "1.2.0",
            "_model_module": "@jupyter-widgets/controls"
          }
        },
        "4e2878a386f74e538deff63674ac4c3c": {
          "model_module": "@jupyter-widgets/base",
          "model_name": "LayoutModel",
          "state": {
            "_view_name": "LayoutView",
            "grid_template_rows": null,
            "right": null,
            "justify_content": null,
            "_view_module": "@jupyter-widgets/base",
            "overflow": null,
            "_model_module_version": "1.2.0",
            "_view_count": null,
            "flex_flow": null,
            "width": null,
            "min_width": null,
            "border": null,
            "align_items": null,
            "bottom": null,
            "_model_module": "@jupyter-widgets/base",
            "top": null,
            "grid_column": null,
            "overflow_y": null,
            "overflow_x": null,
            "grid_auto_flow": null,
            "grid_area": null,
            "grid_template_columns": null,
            "flex": null,
            "_model_name": "LayoutModel",
            "justify_items": null,
            "grid_row": null,
            "max_height": null,
            "align_content": null,
            "visibility": null,
            "align_self": null,
            "height": null,
            "min_height": null,
            "padding": null,
            "grid_auto_rows": null,
            "grid_gap": null,
            "max_width": null,
            "order": null,
            "_view_module_version": "1.2.0",
            "grid_template_areas": null,
            "object_position": null,
            "object_fit": null,
            "grid_auto_columns": null,
            "margin": null,
            "display": null,
            "left": null
          }
        },
        "b35669ebd8e241cc95e134edf4487cfd": {
          "model_module": "@jupyter-widgets/controls",
          "model_name": "HBoxModel",
          "state": {
            "_view_name": "HBoxView",
            "_dom_classes": [],
            "_model_name": "HBoxModel",
            "_view_module": "@jupyter-widgets/controls",
            "_model_module_version": "1.5.0",
            "_view_count": null,
            "_view_module_version": "1.5.0",
            "box_style": "",
            "layout": "IPY_MODEL_51eef5e40f794c56afc41f0088580587",
            "_model_module": "@jupyter-widgets/controls",
            "children": [
              "IPY_MODEL_a68bab01449b43c39159584e3d0dcfcd",
              "IPY_MODEL_3b352c07bc5e4557b83515f56a13d9b6",
              "IPY_MODEL_9a3af530877b40a1ad20e62903285c29"
            ]
          }
        },
        "51eef5e40f794c56afc41f0088580587": {
          "model_module": "@jupyter-widgets/base",
          "model_name": "LayoutModel",
          "state": {
            "_view_name": "LayoutView",
            "grid_template_rows": null,
            "right": null,
            "justify_content": null,
            "_view_module": "@jupyter-widgets/base",
            "overflow": null,
            "_model_module_version": "1.2.0",
            "_view_count": null,
            "flex_flow": null,
            "width": null,
            "min_width": null,
            "border": null,
            "align_items": null,
            "bottom": null,
            "_model_module": "@jupyter-widgets/base",
            "top": null,
            "grid_column": null,
            "overflow_y": null,
            "overflow_x": null,
            "grid_auto_flow": null,
            "grid_area": null,
            "grid_template_columns": null,
            "flex": null,
            "_model_name": "LayoutModel",
            "justify_items": null,
            "grid_row": null,
            "max_height": null,
            "align_content": null,
            "visibility": null,
            "align_self": null,
            "height": null,
            "min_height": null,
            "padding": null,
            "grid_auto_rows": null,
            "grid_gap": null,
            "max_width": null,
            "order": null,
            "_view_module_version": "1.2.0",
            "grid_template_areas": null,
            "object_position": null,
            "object_fit": null,
            "grid_auto_columns": null,
            "margin": null,
            "display": null,
            "left": null
          }
        },
        "a68bab01449b43c39159584e3d0dcfcd": {
          "model_module": "@jupyter-widgets/controls",
          "model_name": "HTMLModel",
          "state": {
            "_view_name": "HTMLView",
            "style": "IPY_MODEL_75d2a819ac2049ac94e46a37a34b1f2a",
            "_dom_classes": [],
            "description": "",
            "_model_name": "HTMLModel",
            "placeholder": "​",
            "_view_module": "@jupyter-widgets/controls",
            "_model_module_version": "1.5.0",
            "value": "Downloading: 100%",
            "_view_count": null,
            "_view_module_version": "1.5.0",
            "description_tooltip": null,
            "_model_module": "@jupyter-widgets/controls",
            "layout": "IPY_MODEL_42dbffe871cd446894eee111a9e76245"
          }
        },
        "3b352c07bc5e4557b83515f56a13d9b6": {
          "model_module": "@jupyter-widgets/controls",
          "model_name": "FloatProgressModel",
          "state": {
            "_view_name": "ProgressView",
            "style": "IPY_MODEL_2ffd7997860449b5a0f95f7920e429e7",
            "_dom_classes": [],
            "description": "",
            "_model_name": "FloatProgressModel",
            "bar_style": "success",
            "max": 213450,
            "_view_module": "@jupyter-widgets/controls",
            "_model_module_version": "1.5.0",
            "value": 213450,
            "_view_count": null,
            "_view_module_version": "1.5.0",
            "orientation": "horizontal",
            "min": 0,
            "description_tooltip": null,
            "_model_module": "@jupyter-widgets/controls",
            "layout": "IPY_MODEL_4135e54f50d54a47975a55d2762ddb84"
          }
        },
        "9a3af530877b40a1ad20e62903285c29": {
          "model_module": "@jupyter-widgets/controls",
          "model_name": "HTMLModel",
          "state": {
            "_view_name": "HTMLView",
            "style": "IPY_MODEL_2f9b1d4f5eae4015a9ccd45fbc8b5c58",
            "_dom_classes": [],
            "description": "",
            "_model_name": "HTMLModel",
            "placeholder": "​",
            "_view_module": "@jupyter-widgets/controls",
            "_model_module_version": "1.5.0",
            "value": " 213k/213k [00:00&lt;00:00, 886kB/s]",
            "_view_count": null,
            "_view_module_version": "1.5.0",
            "description_tooltip": null,
            "_model_module": "@jupyter-widgets/controls",
            "layout": "IPY_MODEL_85a1ff04f6574dffa6ac9c0fa0500e1d"
          }
        },
        "75d2a819ac2049ac94e46a37a34b1f2a": {
          "model_module": "@jupyter-widgets/controls",
          "model_name": "DescriptionStyleModel",
          "state": {
            "_view_name": "StyleView",
            "_model_name": "DescriptionStyleModel",
            "description_width": "",
            "_view_module": "@jupyter-widgets/base",
            "_model_module_version": "1.5.0",
            "_view_count": null,
            "_view_module_version": "1.2.0",
            "_model_module": "@jupyter-widgets/controls"
          }
        },
        "42dbffe871cd446894eee111a9e76245": {
          "model_module": "@jupyter-widgets/base",
          "model_name": "LayoutModel",
          "state": {
            "_view_name": "LayoutView",
            "grid_template_rows": null,
            "right": null,
            "justify_content": null,
            "_view_module": "@jupyter-widgets/base",
            "overflow": null,
            "_model_module_version": "1.2.0",
            "_view_count": null,
            "flex_flow": null,
            "width": null,
            "min_width": null,
            "border": null,
            "align_items": null,
            "bottom": null,
            "_model_module": "@jupyter-widgets/base",
            "top": null,
            "grid_column": null,
            "overflow_y": null,
            "overflow_x": null,
            "grid_auto_flow": null,
            "grid_area": null,
            "grid_template_columns": null,
            "flex": null,
            "_model_name": "LayoutModel",
            "justify_items": null,
            "grid_row": null,
            "max_height": null,
            "align_content": null,
            "visibility": null,
            "align_self": null,
            "height": null,
            "min_height": null,
            "padding": null,
            "grid_auto_rows": null,
            "grid_gap": null,
            "max_width": null,
            "order": null,
            "_view_module_version": "1.2.0",
            "grid_template_areas": null,
            "object_position": null,
            "object_fit": null,
            "grid_auto_columns": null,
            "margin": null,
            "display": null,
            "left": null
          }
        },
        "2ffd7997860449b5a0f95f7920e429e7": {
          "model_module": "@jupyter-widgets/controls",
          "model_name": "ProgressStyleModel",
          "state": {
            "_view_name": "StyleView",
            "_model_name": "ProgressStyleModel",
            "description_width": "",
            "_view_module": "@jupyter-widgets/base",
            "_model_module_version": "1.5.0",
            "_view_count": null,
            "_view_module_version": "1.2.0",
            "bar_color": null,
            "_model_module": "@jupyter-widgets/controls"
          }
        },
        "4135e54f50d54a47975a55d2762ddb84": {
          "model_module": "@jupyter-widgets/base",
          "model_name": "LayoutModel",
          "state": {
            "_view_name": "LayoutView",
            "grid_template_rows": null,
            "right": null,
            "justify_content": null,
            "_view_module": "@jupyter-widgets/base",
            "overflow": null,
            "_model_module_version": "1.2.0",
            "_view_count": null,
            "flex_flow": null,
            "width": null,
            "min_width": null,
            "border": null,
            "align_items": null,
            "bottom": null,
            "_model_module": "@jupyter-widgets/base",
            "top": null,
            "grid_column": null,
            "overflow_y": null,
            "overflow_x": null,
            "grid_auto_flow": null,
            "grid_area": null,
            "grid_template_columns": null,
            "flex": null,
            "_model_name": "LayoutModel",
            "justify_items": null,
            "grid_row": null,
            "max_height": null,
            "align_content": null,
            "visibility": null,
            "align_self": null,
            "height": null,
            "min_height": null,
            "padding": null,
            "grid_auto_rows": null,
            "grid_gap": null,
            "max_width": null,
            "order": null,
            "_view_module_version": "1.2.0",
            "grid_template_areas": null,
            "object_position": null,
            "object_fit": null,
            "grid_auto_columns": null,
            "margin": null,
            "display": null,
            "left": null
          }
        },
        "2f9b1d4f5eae4015a9ccd45fbc8b5c58": {
          "model_module": "@jupyter-widgets/controls",
          "model_name": "DescriptionStyleModel",
          "state": {
            "_view_name": "StyleView",
            "_model_name": "DescriptionStyleModel",
            "description_width": "",
            "_view_module": "@jupyter-widgets/base",
            "_model_module_version": "1.5.0",
            "_view_count": null,
            "_view_module_version": "1.2.0",
            "_model_module": "@jupyter-widgets/controls"
          }
        },
        "85a1ff04f6574dffa6ac9c0fa0500e1d": {
          "model_module": "@jupyter-widgets/base",
          "model_name": "LayoutModel",
          "state": {
            "_view_name": "LayoutView",
            "grid_template_rows": null,
            "right": null,
            "justify_content": null,
            "_view_module": "@jupyter-widgets/base",
            "overflow": null,
            "_model_module_version": "1.2.0",
            "_view_count": null,
            "flex_flow": null,
            "width": null,
            "min_width": null,
            "border": null,
            "align_items": null,
            "bottom": null,
            "_model_module": "@jupyter-widgets/base",
            "top": null,
            "grid_column": null,
            "overflow_y": null,
            "overflow_x": null,
            "grid_auto_flow": null,
            "grid_area": null,
            "grid_template_columns": null,
            "flex": null,
            "_model_name": "LayoutModel",
            "justify_items": null,
            "grid_row": null,
            "max_height": null,
            "align_content": null,
            "visibility": null,
            "align_self": null,
            "height": null,
            "min_height": null,
            "padding": null,
            "grid_auto_rows": null,
            "grid_gap": null,
            "max_width": null,
            "order": null,
            "_view_module_version": "1.2.0",
            "grid_template_areas": null,
            "object_position": null,
            "object_fit": null,
            "grid_auto_columns": null,
            "margin": null,
            "display": null,
            "left": null
          }
        },
        "e8b568810f1f44d887fab816965927ca": {
          "model_module": "@jupyter-widgets/controls",
          "model_name": "HBoxModel",
          "state": {
            "_view_name": "HBoxView",
            "_dom_classes": [],
            "_model_name": "HBoxModel",
            "_view_module": "@jupyter-widgets/controls",
            "_model_module_version": "1.5.0",
            "_view_count": null,
            "_view_module_version": "1.5.0",
            "box_style": "",
            "layout": "IPY_MODEL_551ebf35892b4db99b81cb780451d789",
            "_model_module": "@jupyter-widgets/controls",
            "children": [
              "IPY_MODEL_1ed39f443f6b469cb64da7f03cdead0e",
              "IPY_MODEL_b82fbba4ecd241408d391bf85e34ce24",
              "IPY_MODEL_238eb4e25316451ba322a68955ddb6fe"
            ]
          }
        },
        "551ebf35892b4db99b81cb780451d789": {
          "model_module": "@jupyter-widgets/base",
          "model_name": "LayoutModel",
          "state": {
            "_view_name": "LayoutView",
            "grid_template_rows": null,
            "right": null,
            "justify_content": null,
            "_view_module": "@jupyter-widgets/base",
            "overflow": null,
            "_model_module_version": "1.2.0",
            "_view_count": null,
            "flex_flow": null,
            "width": null,
            "min_width": null,
            "border": null,
            "align_items": null,
            "bottom": null,
            "_model_module": "@jupyter-widgets/base",
            "top": null,
            "grid_column": null,
            "overflow_y": null,
            "overflow_x": null,
            "grid_auto_flow": null,
            "grid_area": null,
            "grid_template_columns": null,
            "flex": null,
            "_model_name": "LayoutModel",
            "justify_items": null,
            "grid_row": null,
            "max_height": null,
            "align_content": null,
            "visibility": null,
            "align_self": null,
            "height": null,
            "min_height": null,
            "padding": null,
            "grid_auto_rows": null,
            "grid_gap": null,
            "max_width": null,
            "order": null,
            "_view_module_version": "1.2.0",
            "grid_template_areas": null,
            "object_position": null,
            "object_fit": null,
            "grid_auto_columns": null,
            "margin": null,
            "display": null,
            "left": null
          }
        },
        "1ed39f443f6b469cb64da7f03cdead0e": {
          "model_module": "@jupyter-widgets/controls",
          "model_name": "HTMLModel",
          "state": {
            "_view_name": "HTMLView",
            "style": "IPY_MODEL_cb473e61b233411ea157ff47e684b3b9",
            "_dom_classes": [],
            "description": "",
            "_model_name": "HTMLModel",
            "placeholder": "​",
            "_view_module": "@jupyter-widgets/controls",
            "_model_module_version": "1.5.0",
            "value": "Downloading: 100%",
            "_view_count": null,
            "_view_module_version": "1.5.0",
            "description_tooltip": null,
            "_model_module": "@jupyter-widgets/controls",
            "layout": "IPY_MODEL_615f6cd469d149ee92f20d54e51fe9a3"
          }
        },
        "b82fbba4ecd241408d391bf85e34ce24": {
          "model_module": "@jupyter-widgets/controls",
          "model_name": "FloatProgressModel",
          "state": {
            "_view_name": "ProgressView",
            "style": "IPY_MODEL_ebb61fb491d94ff6a3bde106f96ff0b7",
            "_dom_classes": [],
            "description": "",
            "_model_name": "FloatProgressModel",
            "bar_style": "success",
            "max": 112,
            "_view_module": "@jupyter-widgets/controls",
            "_model_module_version": "1.5.0",
            "value": 112,
            "_view_count": null,
            "_view_module_version": "1.5.0",
            "orientation": "horizontal",
            "min": 0,
            "description_tooltip": null,
            "_model_module": "@jupyter-widgets/controls",
            "layout": "IPY_MODEL_6eb1e81f04274fc3a8c47e48cc11c33a"
          }
        },
        "238eb4e25316451ba322a68955ddb6fe": {
          "model_module": "@jupyter-widgets/controls",
          "model_name": "HTMLModel",
          "state": {
            "_view_name": "HTMLView",
            "style": "IPY_MODEL_55670c7fcf2b48adaff9776b4b04176c",
            "_dom_classes": [],
            "description": "",
            "_model_name": "HTMLModel",
            "placeholder": "​",
            "_view_module": "@jupyter-widgets/controls",
            "_model_module_version": "1.5.0",
            "value": " 112/112 [00:00&lt;00:00, 4.20kB/s]",
            "_view_count": null,
            "_view_module_version": "1.5.0",
            "description_tooltip": null,
            "_model_module": "@jupyter-widgets/controls",
            "layout": "IPY_MODEL_ff5af35b905349218695f07c4c9c284e"
          }
        },
        "cb473e61b233411ea157ff47e684b3b9": {
          "model_module": "@jupyter-widgets/controls",
          "model_name": "DescriptionStyleModel",
          "state": {
            "_view_name": "StyleView",
            "_model_name": "DescriptionStyleModel",
            "description_width": "",
            "_view_module": "@jupyter-widgets/base",
            "_model_module_version": "1.5.0",
            "_view_count": null,
            "_view_module_version": "1.2.0",
            "_model_module": "@jupyter-widgets/controls"
          }
        },
        "615f6cd469d149ee92f20d54e51fe9a3": {
          "model_module": "@jupyter-widgets/base",
          "model_name": "LayoutModel",
          "state": {
            "_view_name": "LayoutView",
            "grid_template_rows": null,
            "right": null,
            "justify_content": null,
            "_view_module": "@jupyter-widgets/base",
            "overflow": null,
            "_model_module_version": "1.2.0",
            "_view_count": null,
            "flex_flow": null,
            "width": null,
            "min_width": null,
            "border": null,
            "align_items": null,
            "bottom": null,
            "_model_module": "@jupyter-widgets/base",
            "top": null,
            "grid_column": null,
            "overflow_y": null,
            "overflow_x": null,
            "grid_auto_flow": null,
            "grid_area": null,
            "grid_template_columns": null,
            "flex": null,
            "_model_name": "LayoutModel",
            "justify_items": null,
            "grid_row": null,
            "max_height": null,
            "align_content": null,
            "visibility": null,
            "align_self": null,
            "height": null,
            "min_height": null,
            "padding": null,
            "grid_auto_rows": null,
            "grid_gap": null,
            "max_width": null,
            "order": null,
            "_view_module_version": "1.2.0",
            "grid_template_areas": null,
            "object_position": null,
            "object_fit": null,
            "grid_auto_columns": null,
            "margin": null,
            "display": null,
            "left": null
          }
        },
        "ebb61fb491d94ff6a3bde106f96ff0b7": {
          "model_module": "@jupyter-widgets/controls",
          "model_name": "ProgressStyleModel",
          "state": {
            "_view_name": "StyleView",
            "_model_name": "ProgressStyleModel",
            "description_width": "",
            "_view_module": "@jupyter-widgets/base",
            "_model_module_version": "1.5.0",
            "_view_count": null,
            "_view_module_version": "1.2.0",
            "bar_color": null,
            "_model_module": "@jupyter-widgets/controls"
          }
        },
        "6eb1e81f04274fc3a8c47e48cc11c33a": {
          "model_module": "@jupyter-widgets/base",
          "model_name": "LayoutModel",
          "state": {
            "_view_name": "LayoutView",
            "grid_template_rows": null,
            "right": null,
            "justify_content": null,
            "_view_module": "@jupyter-widgets/base",
            "overflow": null,
            "_model_module_version": "1.2.0",
            "_view_count": null,
            "flex_flow": null,
            "width": null,
            "min_width": null,
            "border": null,
            "align_items": null,
            "bottom": null,
            "_model_module": "@jupyter-widgets/base",
            "top": null,
            "grid_column": null,
            "overflow_y": null,
            "overflow_x": null,
            "grid_auto_flow": null,
            "grid_area": null,
            "grid_template_columns": null,
            "flex": null,
            "_model_name": "LayoutModel",
            "justify_items": null,
            "grid_row": null,
            "max_height": null,
            "align_content": null,
            "visibility": null,
            "align_self": null,
            "height": null,
            "min_height": null,
            "padding": null,
            "grid_auto_rows": null,
            "grid_gap": null,
            "max_width": null,
            "order": null,
            "_view_module_version": "1.2.0",
            "grid_template_areas": null,
            "object_position": null,
            "object_fit": null,
            "grid_auto_columns": null,
            "margin": null,
            "display": null,
            "left": null
          }
        },
        "55670c7fcf2b48adaff9776b4b04176c": {
          "model_module": "@jupyter-widgets/controls",
          "model_name": "DescriptionStyleModel",
          "state": {
            "_view_name": "StyleView",
            "_model_name": "DescriptionStyleModel",
            "description_width": "",
            "_view_module": "@jupyter-widgets/base",
            "_model_module_version": "1.5.0",
            "_view_count": null,
            "_view_module_version": "1.2.0",
            "_model_module": "@jupyter-widgets/controls"
          }
        },
        "ff5af35b905349218695f07c4c9c284e": {
          "model_module": "@jupyter-widgets/base",
          "model_name": "LayoutModel",
          "state": {
            "_view_name": "LayoutView",
            "grid_template_rows": null,
            "right": null,
            "justify_content": null,
            "_view_module": "@jupyter-widgets/base",
            "overflow": null,
            "_model_module_version": "1.2.0",
            "_view_count": null,
            "flex_flow": null,
            "width": null,
            "min_width": null,
            "border": null,
            "align_items": null,
            "bottom": null,
            "_model_module": "@jupyter-widgets/base",
            "top": null,
            "grid_column": null,
            "overflow_y": null,
            "overflow_x": null,
            "grid_auto_flow": null,
            "grid_area": null,
            "grid_template_columns": null,
            "flex": null,
            "_model_name": "LayoutModel",
            "justify_items": null,
            "grid_row": null,
            "max_height": null,
            "align_content": null,
            "visibility": null,
            "align_self": null,
            "height": null,
            "min_height": null,
            "padding": null,
            "grid_auto_rows": null,
            "grid_gap": null,
            "max_width": null,
            "order": null,
            "_view_module_version": "1.2.0",
            "grid_template_areas": null,
            "object_position": null,
            "object_fit": null,
            "grid_auto_columns": null,
            "margin": null,
            "display": null,
            "left": null
          }
        },
        "19ddee206bd846af9bae96b25d2a53e8": {
          "model_module": "@jupyter-widgets/controls",
          "model_name": "HBoxModel",
          "state": {
            "_view_name": "HBoxView",
            "_dom_classes": [],
            "_model_name": "HBoxModel",
            "_view_module": "@jupyter-widgets/controls",
            "_model_module_version": "1.5.0",
            "_view_count": null,
            "_view_module_version": "1.5.0",
            "box_style": "",
            "layout": "IPY_MODEL_4cf00e32580548609476efcf4697362c",
            "_model_module": "@jupyter-widgets/controls",
            "children": [
              "IPY_MODEL_9e31d5828e914e57adc9fa73ecdbfc08",
              "IPY_MODEL_8c5960b63fee4474995a24e14c1943b3",
              "IPY_MODEL_8c3976cb87474869b2e8b4bd8afee1c6"
            ]
          }
        },
        "4cf00e32580548609476efcf4697362c": {
          "model_module": "@jupyter-widgets/base",
          "model_name": "LayoutModel",
          "state": {
            "_view_name": "LayoutView",
            "grid_template_rows": null,
            "right": null,
            "justify_content": null,
            "_view_module": "@jupyter-widgets/base",
            "overflow": null,
            "_model_module_version": "1.2.0",
            "_view_count": null,
            "flex_flow": null,
            "width": null,
            "min_width": null,
            "border": null,
            "align_items": null,
            "bottom": null,
            "_model_module": "@jupyter-widgets/base",
            "top": null,
            "grid_column": null,
            "overflow_y": null,
            "overflow_x": null,
            "grid_auto_flow": null,
            "grid_area": null,
            "grid_template_columns": null,
            "flex": null,
            "_model_name": "LayoutModel",
            "justify_items": null,
            "grid_row": null,
            "max_height": null,
            "align_content": null,
            "visibility": null,
            "align_self": null,
            "height": null,
            "min_height": null,
            "padding": null,
            "grid_auto_rows": null,
            "grid_gap": null,
            "max_width": null,
            "order": null,
            "_view_module_version": "1.2.0",
            "grid_template_areas": null,
            "object_position": null,
            "object_fit": null,
            "grid_auto_columns": null,
            "margin": null,
            "display": null,
            "left": null
          }
        },
        "9e31d5828e914e57adc9fa73ecdbfc08": {
          "model_module": "@jupyter-widgets/controls",
          "model_name": "HTMLModel",
          "state": {
            "_view_name": "HTMLView",
            "style": "IPY_MODEL_df985c2963544f65b7db60948fa00169",
            "_dom_classes": [],
            "description": "",
            "_model_name": "HTMLModel",
            "placeholder": "​",
            "_view_module": "@jupyter-widgets/controls",
            "_model_module_version": "1.5.0",
            "value": "Downloading: 100%",
            "_view_count": null,
            "_view_module_version": "1.5.0",
            "description_tooltip": null,
            "_model_module": "@jupyter-widgets/controls",
            "layout": "IPY_MODEL_028eb0f8c1c145ddae26e3088dc45189"
          }
        },
        "8c5960b63fee4474995a24e14c1943b3": {
          "model_module": "@jupyter-widgets/controls",
          "model_name": "FloatProgressModel",
          "state": {
            "_view_name": "ProgressView",
            "style": "IPY_MODEL_5f690f99578f4f61bd29fab1549f4452",
            "_dom_classes": [],
            "description": "",
            "_model_name": "FloatProgressModel",
            "bar_style": "success",
            "max": 49,
            "_view_module": "@jupyter-widgets/controls",
            "_model_module_version": "1.5.0",
            "value": 49,
            "_view_count": null,
            "_view_module_version": "1.5.0",
            "orientation": "horizontal",
            "min": 0,
            "description_tooltip": null,
            "_model_module": "@jupyter-widgets/controls",
            "layout": "IPY_MODEL_25d5cc9598284d46b1059e47b2ba1f53"
          }
        },
        "8c3976cb87474869b2e8b4bd8afee1c6": {
          "model_module": "@jupyter-widgets/controls",
          "model_name": "HTMLModel",
          "state": {
            "_view_name": "HTMLView",
            "style": "IPY_MODEL_4a552c71336542e1b866d21f8d317be8",
            "_dom_classes": [],
            "description": "",
            "_model_name": "HTMLModel",
            "placeholder": "​",
            "_view_module": "@jupyter-widgets/controls",
            "_model_module_version": "1.5.0",
            "value": " 49.0/49.0 [00:00&lt;00:00, 1.44kB/s]",
            "_view_count": null,
            "_view_module_version": "1.5.0",
            "description_tooltip": null,
            "_model_module": "@jupyter-widgets/controls",
            "layout": "IPY_MODEL_f87f2ddc88b142979d1055364acba8cc"
          }
        },
        "df985c2963544f65b7db60948fa00169": {
          "model_module": "@jupyter-widgets/controls",
          "model_name": "DescriptionStyleModel",
          "state": {
            "_view_name": "StyleView",
            "_model_name": "DescriptionStyleModel",
            "description_width": "",
            "_view_module": "@jupyter-widgets/base",
            "_model_module_version": "1.5.0",
            "_view_count": null,
            "_view_module_version": "1.2.0",
            "_model_module": "@jupyter-widgets/controls"
          }
        },
        "028eb0f8c1c145ddae26e3088dc45189": {
          "model_module": "@jupyter-widgets/base",
          "model_name": "LayoutModel",
          "state": {
            "_view_name": "LayoutView",
            "grid_template_rows": null,
            "right": null,
            "justify_content": null,
            "_view_module": "@jupyter-widgets/base",
            "overflow": null,
            "_model_module_version": "1.2.0",
            "_view_count": null,
            "flex_flow": null,
            "width": null,
            "min_width": null,
            "border": null,
            "align_items": null,
            "bottom": null,
            "_model_module": "@jupyter-widgets/base",
            "top": null,
            "grid_column": null,
            "overflow_y": null,
            "overflow_x": null,
            "grid_auto_flow": null,
            "grid_area": null,
            "grid_template_columns": null,
            "flex": null,
            "_model_name": "LayoutModel",
            "justify_items": null,
            "grid_row": null,
            "max_height": null,
            "align_content": null,
            "visibility": null,
            "align_self": null,
            "height": null,
            "min_height": null,
            "padding": null,
            "grid_auto_rows": null,
            "grid_gap": null,
            "max_width": null,
            "order": null,
            "_view_module_version": "1.2.0",
            "grid_template_areas": null,
            "object_position": null,
            "object_fit": null,
            "grid_auto_columns": null,
            "margin": null,
            "display": null,
            "left": null
          }
        },
        "5f690f99578f4f61bd29fab1549f4452": {
          "model_module": "@jupyter-widgets/controls",
          "model_name": "ProgressStyleModel",
          "state": {
            "_view_name": "StyleView",
            "_model_name": "ProgressStyleModel",
            "description_width": "",
            "_view_module": "@jupyter-widgets/base",
            "_model_module_version": "1.5.0",
            "_view_count": null,
            "_view_module_version": "1.2.0",
            "bar_color": null,
            "_model_module": "@jupyter-widgets/controls"
          }
        },
        "25d5cc9598284d46b1059e47b2ba1f53": {
          "model_module": "@jupyter-widgets/base",
          "model_name": "LayoutModel",
          "state": {
            "_view_name": "LayoutView",
            "grid_template_rows": null,
            "right": null,
            "justify_content": null,
            "_view_module": "@jupyter-widgets/base",
            "overflow": null,
            "_model_module_version": "1.2.0",
            "_view_count": null,
            "flex_flow": null,
            "width": null,
            "min_width": null,
            "border": null,
            "align_items": null,
            "bottom": null,
            "_model_module": "@jupyter-widgets/base",
            "top": null,
            "grid_column": null,
            "overflow_y": null,
            "overflow_x": null,
            "grid_auto_flow": null,
            "grid_area": null,
            "grid_template_columns": null,
            "flex": null,
            "_model_name": "LayoutModel",
            "justify_items": null,
            "grid_row": null,
            "max_height": null,
            "align_content": null,
            "visibility": null,
            "align_self": null,
            "height": null,
            "min_height": null,
            "padding": null,
            "grid_auto_rows": null,
            "grid_gap": null,
            "max_width": null,
            "order": null,
            "_view_module_version": "1.2.0",
            "grid_template_areas": null,
            "object_position": null,
            "object_fit": null,
            "grid_auto_columns": null,
            "margin": null,
            "display": null,
            "left": null
          }
        },
        "4a552c71336542e1b866d21f8d317be8": {
          "model_module": "@jupyter-widgets/controls",
          "model_name": "DescriptionStyleModel",
          "state": {
            "_view_name": "StyleView",
            "_model_name": "DescriptionStyleModel",
            "description_width": "",
            "_view_module": "@jupyter-widgets/base",
            "_model_module_version": "1.5.0",
            "_view_count": null,
            "_view_module_version": "1.2.0",
            "_model_module": "@jupyter-widgets/controls"
          }
        },
        "f87f2ddc88b142979d1055364acba8cc": {
          "model_module": "@jupyter-widgets/base",
          "model_name": "LayoutModel",
          "state": {
            "_view_name": "LayoutView",
            "grid_template_rows": null,
            "right": null,
            "justify_content": null,
            "_view_module": "@jupyter-widgets/base",
            "overflow": null,
            "_model_module_version": "1.2.0",
            "_view_count": null,
            "flex_flow": null,
            "width": null,
            "min_width": null,
            "border": null,
            "align_items": null,
            "bottom": null,
            "_model_module": "@jupyter-widgets/base",
            "top": null,
            "grid_column": null,
            "overflow_y": null,
            "overflow_x": null,
            "grid_auto_flow": null,
            "grid_area": null,
            "grid_template_columns": null,
            "flex": null,
            "_model_name": "LayoutModel",
            "justify_items": null,
            "grid_row": null,
            "max_height": null,
            "align_content": null,
            "visibility": null,
            "align_self": null,
            "height": null,
            "min_height": null,
            "padding": null,
            "grid_auto_rows": null,
            "grid_gap": null,
            "max_width": null,
            "order": null,
            "_view_module_version": "1.2.0",
            "grid_template_areas": null,
            "object_position": null,
            "object_fit": null,
            "grid_auto_columns": null,
            "margin": null,
            "display": null,
            "left": null
          }
        },
        "6448fa4334944333ba1e7366632029c4": {
          "model_module": "@jupyter-widgets/controls",
          "model_name": "HBoxModel",
          "state": {
            "_view_name": "HBoxView",
            "_dom_classes": [],
            "_model_name": "HBoxModel",
            "_view_module": "@jupyter-widgets/controls",
            "_model_module_version": "1.5.0",
            "_view_count": null,
            "_view_module_version": "1.5.0",
            "box_style": "",
            "layout": "IPY_MODEL_089112b7ccf542dc85267c009bdded08",
            "_model_module": "@jupyter-widgets/controls",
            "children": [
              "IPY_MODEL_88d43c3c06694f259cbf422fbe86eb3b",
              "IPY_MODEL_a8b0fe70d53c4f8396dc3e29c91f0eda",
              "IPY_MODEL_68dd326c706d4f4b94799c75deb660ce"
            ]
          }
        },
        "089112b7ccf542dc85267c009bdded08": {
          "model_module": "@jupyter-widgets/base",
          "model_name": "LayoutModel",
          "state": {
            "_view_name": "LayoutView",
            "grid_template_rows": null,
            "right": null,
            "justify_content": null,
            "_view_module": "@jupyter-widgets/base",
            "overflow": null,
            "_model_module_version": "1.2.0",
            "_view_count": null,
            "flex_flow": null,
            "width": null,
            "min_width": null,
            "border": null,
            "align_items": null,
            "bottom": null,
            "_model_module": "@jupyter-widgets/base",
            "top": null,
            "grid_column": null,
            "overflow_y": null,
            "overflow_x": null,
            "grid_auto_flow": null,
            "grid_area": null,
            "grid_template_columns": null,
            "flex": null,
            "_model_name": "LayoutModel",
            "justify_items": null,
            "grid_row": null,
            "max_height": null,
            "align_content": null,
            "visibility": null,
            "align_self": null,
            "height": null,
            "min_height": null,
            "padding": null,
            "grid_auto_rows": null,
            "grid_gap": null,
            "max_width": null,
            "order": null,
            "_view_module_version": "1.2.0",
            "grid_template_areas": null,
            "object_position": null,
            "object_fit": null,
            "grid_auto_columns": null,
            "margin": null,
            "display": null,
            "left": null
          }
        },
        "88d43c3c06694f259cbf422fbe86eb3b": {
          "model_module": "@jupyter-widgets/controls",
          "model_name": "HTMLModel",
          "state": {
            "_view_name": "HTMLView",
            "style": "IPY_MODEL_ded9708098704acb82f5cfd7ba3c7b40",
            "_dom_classes": [],
            "description": "",
            "_model_name": "HTMLModel",
            "placeholder": "​",
            "_view_module": "@jupyter-widgets/controls",
            "_model_module_version": "1.5.0",
            "value": "100%",
            "_view_count": null,
            "_view_module_version": "1.5.0",
            "description_tooltip": null,
            "_model_module": "@jupyter-widgets/controls",
            "layout": "IPY_MODEL_466f1c5de0034412983f5792d2971e69"
          }
        },
        "a8b0fe70d53c4f8396dc3e29c91f0eda": {
          "model_module": "@jupyter-widgets/controls",
          "model_name": "FloatProgressModel",
          "state": {
            "_view_name": "ProgressView",
            "style": "IPY_MODEL_6f62e6491ffd4dac90c4930c3c0d5bb1",
            "_dom_classes": [],
            "description": "",
            "_model_name": "FloatProgressModel",
            "bar_style": "success",
            "max": 459724146,
            "_view_module": "@jupyter-widgets/controls",
            "_model_module_version": "1.5.0",
            "value": 459724146,
            "_view_count": null,
            "_view_module_version": "1.5.0",
            "orientation": "horizontal",
            "min": 0,
            "description_tooltip": null,
            "_model_module": "@jupyter-widgets/controls",
            "layout": "IPY_MODEL_58e44c66419e4bb88019a75c9382b484"
          }
        },
        "68dd326c706d4f4b94799c75deb660ce": {
          "model_module": "@jupyter-widgets/controls",
          "model_name": "HTMLModel",
          "state": {
            "_view_name": "HTMLView",
            "style": "IPY_MODEL_e83f552f41964c63aeb0a65b226d5c68",
            "_dom_classes": [],
            "description": "",
            "_model_name": "HTMLModel",
            "placeholder": "​",
            "_view_module": "@jupyter-widgets/controls",
            "_model_module_version": "1.5.0",
            "value": " 460M/460M [00:26&lt;00:00, 20.4MB/s]",
            "_view_count": null,
            "_view_module_version": "1.5.0",
            "description_tooltip": null,
            "_model_module": "@jupyter-widgets/controls",
            "layout": "IPY_MODEL_17361979ffae494dba625398b6d30058"
          }
        },
        "ded9708098704acb82f5cfd7ba3c7b40": {
          "model_module": "@jupyter-widgets/controls",
          "model_name": "DescriptionStyleModel",
          "state": {
            "_view_name": "StyleView",
            "_model_name": "DescriptionStyleModel",
            "description_width": "",
            "_view_module": "@jupyter-widgets/base",
            "_model_module_version": "1.5.0",
            "_view_count": null,
            "_view_module_version": "1.2.0",
            "_model_module": "@jupyter-widgets/controls"
          }
        },
        "466f1c5de0034412983f5792d2971e69": {
          "model_module": "@jupyter-widgets/base",
          "model_name": "LayoutModel",
          "state": {
            "_view_name": "LayoutView",
            "grid_template_rows": null,
            "right": null,
            "justify_content": null,
            "_view_module": "@jupyter-widgets/base",
            "overflow": null,
            "_model_module_version": "1.2.0",
            "_view_count": null,
            "flex_flow": null,
            "width": null,
            "min_width": null,
            "border": null,
            "align_items": null,
            "bottom": null,
            "_model_module": "@jupyter-widgets/base",
            "top": null,
            "grid_column": null,
            "overflow_y": null,
            "overflow_x": null,
            "grid_auto_flow": null,
            "grid_area": null,
            "grid_template_columns": null,
            "flex": null,
            "_model_name": "LayoutModel",
            "justify_items": null,
            "grid_row": null,
            "max_height": null,
            "align_content": null,
            "visibility": null,
            "align_self": null,
            "height": null,
            "min_height": null,
            "padding": null,
            "grid_auto_rows": null,
            "grid_gap": null,
            "max_width": null,
            "order": null,
            "_view_module_version": "1.2.0",
            "grid_template_areas": null,
            "object_position": null,
            "object_fit": null,
            "grid_auto_columns": null,
            "margin": null,
            "display": null,
            "left": null
          }
        },
        "6f62e6491ffd4dac90c4930c3c0d5bb1": {
          "model_module": "@jupyter-widgets/controls",
          "model_name": "ProgressStyleModel",
          "state": {
            "_view_name": "StyleView",
            "_model_name": "ProgressStyleModel",
            "description_width": "",
            "_view_module": "@jupyter-widgets/base",
            "_model_module_version": "1.5.0",
            "_view_count": null,
            "_view_module_version": "1.2.0",
            "bar_color": null,
            "_model_module": "@jupyter-widgets/controls"
          }
        },
        "58e44c66419e4bb88019a75c9382b484": {
          "model_module": "@jupyter-widgets/base",
          "model_name": "LayoutModel",
          "state": {
            "_view_name": "LayoutView",
            "grid_template_rows": null,
            "right": null,
            "justify_content": null,
            "_view_module": "@jupyter-widgets/base",
            "overflow": null,
            "_model_module_version": "1.2.0",
            "_view_count": null,
            "flex_flow": null,
            "width": null,
            "min_width": null,
            "border": null,
            "align_items": null,
            "bottom": null,
            "_model_module": "@jupyter-widgets/base",
            "top": null,
            "grid_column": null,
            "overflow_y": null,
            "overflow_x": null,
            "grid_auto_flow": null,
            "grid_area": null,
            "grid_template_columns": null,
            "flex": null,
            "_model_name": "LayoutModel",
            "justify_items": null,
            "grid_row": null,
            "max_height": null,
            "align_content": null,
            "visibility": null,
            "align_self": null,
            "height": null,
            "min_height": null,
            "padding": null,
            "grid_auto_rows": null,
            "grid_gap": null,
            "max_width": null,
            "order": null,
            "_view_module_version": "1.2.0",
            "grid_template_areas": null,
            "object_position": null,
            "object_fit": null,
            "grid_auto_columns": null,
            "margin": null,
            "display": null,
            "left": null
          }
        },
        "e83f552f41964c63aeb0a65b226d5c68": {
          "model_module": "@jupyter-widgets/controls",
          "model_name": "DescriptionStyleModel",
          "state": {
            "_view_name": "StyleView",
            "_model_name": "DescriptionStyleModel",
            "description_width": "",
            "_view_module": "@jupyter-widgets/base",
            "_model_module_version": "1.5.0",
            "_view_count": null,
            "_view_module_version": "1.2.0",
            "_model_module": "@jupyter-widgets/controls"
          }
        },
        "17361979ffae494dba625398b6d30058": {
          "model_module": "@jupyter-widgets/base",
          "model_name": "LayoutModel",
          "state": {
            "_view_name": "LayoutView",
            "grid_template_rows": null,
            "right": null,
            "justify_content": null,
            "_view_module": "@jupyter-widgets/base",
            "overflow": null,
            "_model_module_version": "1.2.0",
            "_view_count": null,
            "flex_flow": null,
            "width": null,
            "min_width": null,
            "border": null,
            "align_items": null,
            "bottom": null,
            "_model_module": "@jupyter-widgets/base",
            "top": null,
            "grid_column": null,
            "overflow_y": null,
            "overflow_x": null,
            "grid_auto_flow": null,
            "grid_area": null,
            "grid_template_columns": null,
            "flex": null,
            "_model_name": "LayoutModel",
            "justify_items": null,
            "grid_row": null,
            "max_height": null,
            "align_content": null,
            "visibility": null,
            "align_self": null,
            "height": null,
            "min_height": null,
            "padding": null,
            "grid_auto_rows": null,
            "grid_gap": null,
            "max_width": null,
            "order": null,
            "_view_module_version": "1.2.0",
            "grid_template_areas": null,
            "object_position": null,
            "object_fit": null,
            "grid_auto_columns": null,
            "margin": null,
            "display": null,
            "left": null
          }
        }
      }
    }
  },
  "cells": [
    {
      "cell_type": "markdown",
      "metadata": {
        "id": "2ndtT7U-jUdT"
      },
      "source": [
        "This notebook compares various models using the following methology:\n",
        "1. Firstly a sample of 1/3 of all the NDAs are randomly selected\n",
        "2. This sample size is then reduced to just the NDA with both additions and related patents, since NDAs without either cannot produce meaningful results.\n",
        "3. With approximately 300 NDA number, for each NDA:\n",
        "*   A setid for that NDA with the longest additions history is then selected.\n",
        "*   All additions for the set-id are grouped together in a list\n",
        "*   All patents claim related to that set-id are grouped together in a list\n",
        "*   A random patent with claims for another NDA unrelated to the NDA is selected and all patent claims are grouped in a list\n",
        "*   The highest similarity scores for each addition to related patent claim is then average together (Related Value).\n",
        "*   The highest similarity scores for each addition to unrelated patent claim is then averaged together (Noise Value).\n",
        "*   These average values are collected into a Related list and Unrelated/Noise list so that their distributions can be plotted.\n",
        "\n",
        "Step 3 is performed repeatedly for multiple models with multiple parameters to test if there is a best model that has a Related distribution furthest away from the noise distribution.\n"
      ]
    },
    {
      "cell_type": "markdown",
      "metadata": {
        "id": "sOfVst9UAUMM"
      },
      "source": [
        "This notebook has been rerunned from scratch with \n",
        "model.eval() to ensure deterministic results.  See\n",
        "https://github.com/huggingface/transformers/issues/695 or https://medium.com/jun-devpblog/pytorch-6-model-train-vs-model-eval-no-grad-hyperparameter-tuning-3812c216a3bd.  As best understood models should be in eval() mode when used for inferences.  Sentence_transformer appears to set the model to eval() in many parts of the code, but not in the `__init__`  for SentenceTransformer."
      ]
    },
    {
      "cell_type": "code",
      "metadata": {
        "colab": {
          "base_uri": "https://localhost:8080/"
        },
        "id": "6JDsiezRUEQY",
        "outputId": "913b1536-24c7-45c2-d8e8-99be8026121a"
      },
      "source": [
        "from google.colab import drive\n",
        "drive.mount('/content/drive', force_remount=True)\n",
        "zip_path='/content/drive/MyDrive/Colab Notebooks/zip/db2file.zip'\n",
        "!cp \"{zip_path}\" .\n",
        "!cp \"/content/drive/MyDrive/Colab Notebooks/requirements.txt\" .\n",
        "!unzip -q db2file.zip\n",
        "!rm db2file.zip\n",
        "!rm -r en_core_sci_lg-0.4.0.zip\n",
        "!cp \"/content/drive/MyDrive/Colab Notebooks/zip/en_core_sci_lg-0.4.0.zip\" .\n",
        "!unzip -q en_core_sci_lg-0.4.0.zip\n",
        "!rm en_core_sci_lg-0.4.0.zip"
      ],
      "execution_count": 29,
      "outputs": [
        {
          "output_type": "stream",
          "text": [
            "Mounted at /content/drive\n",
            "replace db2file/10402/87E2DA8D-432C-4ED5-67A1-DC26294B2295/additions_with_context/2007-08-27? [y]es, [n]o, [A]ll, [N]one, [r]ename: A\n",
            "rm: cannot remove 'en_core_sci_lg-0.4.0.zip': No such file or directory\n",
            "replace en_core_sci_lg-0.4.0/MANIFEST.in? [y]es, [n]o, [A]ll, [N]one, [r]ename: A\n"
          ],
          "name": "stdout"
        }
      ]
    },
    {
      "cell_type": "code",
      "metadata": {
        "colab": {
          "base_uri": "https://localhost:8080/"
        },
        "id": "wmH958tXWkKh",
        "outputId": "221857c2-d9db-4d17-b855-26abf925a5f9"
      },
      "source": [
        "!pip install -r '/content/requirements.txt'"
      ],
      "execution_count": 36,
      "outputs": [
        {
          "output_type": "stream",
          "text": [
            "Requirement already satisfied: beautifulsoup4==4.9.3 in /usr/local/lib/python3.7/dist-packages (from -r /content/requirements.txt (line 1)) (4.9.3)\n",
            "Requirement already satisfied: blis==0.7.4 in /usr/local/lib/python3.7/dist-packages (from -r /content/requirements.txt (line 2)) (0.7.4)\n",
            "Requirement already satisfied: catalogue==2.0.4 in /usr/local/lib/python3.7/dist-packages (from -r /content/requirements.txt (line 3)) (2.0.4)\n",
            "Requirement already satisfied: certifi==2020.12.5 in /usr/local/lib/python3.7/dist-packages (from -r /content/requirements.txt (line 4)) (2020.12.5)\n",
            "Requirement already satisfied: chardet==4.0.0 in /usr/local/lib/python3.7/dist-packages (from -r /content/requirements.txt (line 5)) (4.0.0)\n",
            "Requirement already satisfied: click==7.1.2 in /usr/local/lib/python3.7/dist-packages (from -r /content/requirements.txt (line 6)) (7.1.2)\n",
            "Requirement already satisfied: conllu==4.4 in /usr/local/lib/python3.7/dist-packages (from -r /content/requirements.txt (line 7)) (4.4)\n",
            "Requirement already satisfied: cymem==2.0.5 in /usr/local/lib/python3.7/dist-packages (from -r /content/requirements.txt (line 8)) (2.0.5)\n",
            "Requirement already satisfied: diff-match-patch==20200713 in /usr/local/lib/python3.7/dist-packages (from -r /content/requirements.txt (line 9)) (20200713)\n",
            "Requirement already satisfied: filelock==3.0.12 in /usr/local/lib/python3.7/dist-packages (from -r /content/requirements.txt (line 10)) (3.0.12)\n",
            "Requirement already satisfied: ftfy==5.9 in /usr/local/lib/python3.7/dist-packages (from -r /content/requirements.txt (line 11)) (5.9)\n",
            "Requirement already satisfied: idna==2.10 in /usr/local/lib/python3.7/dist-packages (from -r /content/requirements.txt (line 12)) (2.10)\n",
            "Requirement already satisfied: Jinja2==2.11.3 in /usr/local/lib/python3.7/dist-packages (from -r /content/requirements.txt (line 13)) (2.11.3)\n",
            "Requirement already satisfied: joblib==1.0.1 in /usr/local/lib/python3.7/dist-packages (from -r /content/requirements.txt (line 14)) (1.0.1)\n",
            "Requirement already satisfied: lxml==4.6.3 in /usr/local/lib/python3.7/dist-packages (from -r /content/requirements.txt (line 15)) (4.6.3)\n",
            "Requirement already satisfied: MarkupSafe==1.1.1 in /usr/local/lib/python3.7/dist-packages (from -r /content/requirements.txt (line 16)) (1.1.1)\n",
            "Requirement already satisfied: murmurhash==1.0.5 in /usr/local/lib/python3.7/dist-packages (from -r /content/requirements.txt (line 17)) (1.0.5)\n",
            "Requirement already satisfied: nltk==3.6.2 in /usr/local/lib/python3.7/dist-packages (from -r /content/requirements.txt (line 18)) (3.6.2)\n",
            "Requirement already satisfied: nmslib==2.1.1 in /usr/local/lib/python3.7/dist-packages (from -r /content/requirements.txt (line 19)) (2.1.1)\n",
            "Requirement already satisfied: numpy==1.20.2 in /usr/local/lib/python3.7/dist-packages (from -r /content/requirements.txt (line 20)) (1.20.2)\n",
            "Requirement already satisfied: packaging==20.9 in /usr/local/lib/python3.7/dist-packages (from -r /content/requirements.txt (line 21)) (20.9)\n",
            "Requirement already satisfied: pandas==1.2.4 in /usr/local/lib/python3.7/dist-packages (from -r /content/requirements.txt (line 22)) (1.2.4)\n",
            "Requirement already satisfied: pathy==0.5.2 in /usr/local/lib/python3.7/dist-packages (from -r /content/requirements.txt (line 23)) (0.5.2)\n",
            "Requirement already satisfied: preshed==3.0.5 in /usr/local/lib/python3.7/dist-packages (from -r /content/requirements.txt (line 24)) (3.0.5)\n",
            "Requirement already satisfied: psutil==5.8.0 in /usr/local/lib/python3.7/dist-packages (from -r /content/requirements.txt (line 25)) (5.8.0)\n",
            "Requirement already satisfied: pybind11==2.6.1 in /usr/local/lib/python3.7/dist-packages (from -r /content/requirements.txt (line 26)) (2.6.1)\n",
            "Requirement already satisfied: pydantic==1.7.3 in /usr/local/lib/python3.7/dist-packages (from -r /content/requirements.txt (line 27)) (1.7.3)\n",
            "Requirement already satisfied: pymongo==3.11.3 in /usr/local/lib/python3.7/dist-packages (from -r /content/requirements.txt (line 28)) (3.11.3)\n",
            "Requirement already satisfied: pyparsing==2.4.7 in /usr/local/lib/python3.7/dist-packages (from -r /content/requirements.txt (line 29)) (2.4.7)\n",
            "Requirement already satisfied: pysbd==0.3.4 in /usr/local/lib/python3.7/dist-packages (from -r /content/requirements.txt (line 30)) (0.3.4)\n",
            "Requirement already satisfied: python-dateutil==2.8.1 in /usr/local/lib/python3.7/dist-packages (from -r /content/requirements.txt (line 31)) (2.8.1)\n",
            "Requirement already satisfied: python-dotenv==0.16.0 in /usr/local/lib/python3.7/dist-packages (from -r /content/requirements.txt (line 32)) (0.16.0)\n",
            "Requirement already satisfied: pytz==2021.1 in /usr/local/lib/python3.7/dist-packages (from -r /content/requirements.txt (line 33)) (2021.1)\n",
            "Requirement already satisfied: regex==2021.4.4 in /usr/local/lib/python3.7/dist-packages (from -r /content/requirements.txt (line 34)) (2021.4.4)\n",
            "Requirement already satisfied: requests==2.25.1 in /usr/local/lib/python3.7/dist-packages (from -r /content/requirements.txt (line 35)) (2.25.1)\n",
            "Requirement already satisfied: sacremoses==0.0.45 in /usr/local/lib/python3.7/dist-packages (from -r /content/requirements.txt (line 36)) (0.0.45)\n",
            "Requirement already satisfied: scikit-learn==0.24.2 in /usr/local/lib/python3.7/dist-packages (from -r /content/requirements.txt (line 37)) (0.24.2)\n",
            "Requirement already satisfied: scipy==1.6.3 in /usr/local/lib/python3.7/dist-packages (from -r /content/requirements.txt (line 38)) (1.6.3)\n",
            "Requirement already satisfied: scispacy==0.4.0 in /usr/local/lib/python3.7/dist-packages (from -r /content/requirements.txt (line 39)) (0.4.0)\n",
            "Requirement already satisfied: sentence-transformers==1.1.0 in /usr/local/lib/python3.7/dist-packages (from -r /content/requirements.txt (line 40)) (1.1.0)\n",
            "Requirement already satisfied: sentencepiece==0.1.95 in /usr/local/lib/python3.7/dist-packages (from -r /content/requirements.txt (line 41)) (0.1.95)\n",
            "Requirement already satisfied: six==1.15.0 in /usr/local/lib/python3.7/dist-packages (from -r /content/requirements.txt (line 42)) (1.15.0)\n",
            "Requirement already satisfied: sklearn==0.0 in /usr/local/lib/python3.7/dist-packages (from -r /content/requirements.txt (line 43)) (0.0)\n",
            "Requirement already satisfied: smart-open==3.0.0 in /usr/local/lib/python3.7/dist-packages (from -r /content/requirements.txt (line 44)) (3.0.0)\n",
            "Requirement already satisfied: soupsieve==2.2.1 in /usr/local/lib/python3.7/dist-packages (from -r /content/requirements.txt (line 45)) (2.2.1)\n",
            "Requirement already satisfied: spacy==3.0.6 in /usr/local/lib/python3.7/dist-packages (from -r /content/requirements.txt (line 46)) (3.0.6)\n",
            "Requirement already satisfied: spacy-alignments==0.8.3 in /usr/local/lib/python3.7/dist-packages (from -r /content/requirements.txt (line 47)) (0.8.3)\n",
            "Requirement already satisfied: spacy-legacy==3.0.5 in /usr/local/lib/python3.7/dist-packages (from -r /content/requirements.txt (line 48)) (3.0.5)\n",
            "Requirement already satisfied: spacy-transformers==1.0.2 in /usr/local/lib/python3.7/dist-packages (from -r /content/requirements.txt (line 49)) (1.0.2)\n",
            "Requirement already satisfied: srsly==2.4.1 in /usr/local/lib/python3.7/dist-packages (from -r /content/requirements.txt (line 50)) (2.4.1)\n",
            "Requirement already satisfied: thinc==8.0.3 in /usr/local/lib/python3.7/dist-packages (from -r /content/requirements.txt (line 51)) (8.0.3)\n",
            "Requirement already satisfied: threadpoolctl==2.1.0 in /usr/local/lib/python3.7/dist-packages (from -r /content/requirements.txt (line 52)) (2.1.0)\n",
            "Requirement already satisfied: tokenizers==0.10.2 in /usr/local/lib/python3.7/dist-packages (from -r /content/requirements.txt (line 53)) (0.10.2)\n",
            "Requirement already satisfied: torch==1.8.1 in /usr/local/lib/python3.7/dist-packages (from -r /content/requirements.txt (line 54)) (1.8.1+cu101)\n",
            "Requirement already satisfied: torchcontrib==0.0.2 in /usr/local/lib/python3.7/dist-packages (from -r /content/requirements.txt (line 55)) (0.0.2)\n",
            "Requirement already satisfied: tqdm==4.60.0 in /usr/local/lib/python3.7/dist-packages (from -r /content/requirements.txt (line 56)) (4.60.0)\n",
            "Requirement already satisfied: transformers==4.5.1 in /usr/local/lib/python3.7/dist-packages (from -r /content/requirements.txt (line 57)) (4.5.1)\n",
            "Requirement already satisfied: typer==0.3.2 in /usr/local/lib/python3.7/dist-packages (from -r /content/requirements.txt (line 58)) (0.3.2)\n",
            "Requirement already satisfied: typing-extensions==3.7.4.3 in /usr/local/lib/python3.7/dist-packages (from -r /content/requirements.txt (line 59)) (3.7.4.3)\n",
            "Requirement already satisfied: urllib3==1.26.4 in /usr/local/lib/python3.7/dist-packages (from -r /content/requirements.txt (line 60)) (1.26.4)\n",
            "Requirement already satisfied: wasabi==0.8.2 in /usr/local/lib/python3.7/dist-packages (from -r /content/requirements.txt (line 61)) (0.8.2)\n",
            "Requirement already satisfied: wcwidth==0.2.5 in /usr/local/lib/python3.7/dist-packages (from -r /content/requirements.txt (line 62)) (0.2.5)\n",
            "Requirement already satisfied: xmltodict==0.12.0 in /usr/local/lib/python3.7/dist-packages (from -r /content/requirements.txt (line 63)) (0.12.0)\n",
            "Requirement already satisfied: zipp>=0.5; python_version < \"3.8\" in /usr/local/lib/python3.7/dist-packages (from catalogue==2.0.4->-r /content/requirements.txt (line 3)) (3.4.1)\n",
            "Requirement already satisfied: setuptools in /usr/local/lib/python3.7/dist-packages (from spacy==3.0.6->-r /content/requirements.txt (line 46)) (56.1.0)\n",
            "Requirement already satisfied: importlib-metadata; python_version < \"3.8\" in /usr/local/lib/python3.7/dist-packages (from transformers==4.5.1->-r /content/requirements.txt (line 57)) (3.10.1)\n"
          ],
          "name": "stdout"
        }
      ]
    },
    {
      "cell_type": "code",
      "metadata": {
        "id": "mcAlDL4NXGWL"
      },
      "source": [
        "import random\n",
        "import os\n",
        "random.seed(20)\n",
        "db2files = \"/content/db2file/\"\n",
        "NDA_list=[f for f in os.listdir(db2files)]\n",
        "random_NDA_list=random.sample(NDA_list, int(len(NDA_list)*.33))"
      ],
      "execution_count": 37,
      "outputs": []
    },
    {
      "cell_type": "code",
      "metadata": {
        "id": "mBDg-2lZg50N"
      },
      "source": [
        "def get_lines_in_file(file_name):\n",
        "  if os.path.exists(file_name):\n",
        "    f = open(file_name, \"rb\")\n",
        "    return_list = [str(line.decode('unicode_escape')) for line in f if line.decode('unicode_escape').strip()]\n",
        "    f.close()\n",
        "    return return_list\n",
        "  else:\n",
        "    return []"
      ],
      "execution_count": 38,
      "outputs": []
    },
    {
      "cell_type": "code",
      "metadata": {
        "id": "XqZgsrZj9SUO"
      },
      "source": [
        "def flat_list(lst):\n",
        "  return [item for sublist in lst for item in sublist]\n",
        "\n",
        "def get_additions(NDA, additions_folder_name):\n",
        "  \"\"\" \n",
        "  Return all additions as a list for the set-id with most additions for a NDA \n",
        "  excluding the first addition.\n",
        "  Parameters:\n",
        "      NDA (string): NDA dir\n",
        "      additions_folder_name (string): either 'just_additions' or 'additions_with_context'\n",
        "  \"\"\"\n",
        "  if additions_folder_name not in ['just_additions', 'additions_with_context']:\n",
        "    print(f\"Parameter {additions_folder_name} not in ['just_additions', 'additions_with_context']\")\n",
        "    return []\n",
        "  NDA_dir=db2files+str(NDA)+'/'\n",
        "  set_id_dirs=[f for f in os.listdir(NDA_dir)]\n",
        "  try:\n",
        "    set_id_dirs.remove('patents')\n",
        "  except ValueError:\n",
        "    pass\n",
        "  additions_list=[]\n",
        "  for set_id_dir in set_id_dirs:\n",
        "    additions_dir=NDA_dir+set_id_dir+'/'+additions_folder_name+'/'\n",
        "    if os.path.exists(additions_dir):\n",
        "      additions_files=sorted([additions_dir+f for f in os.listdir(additions_dir)])[1:]\n",
        "      additions_list_tmp=flat_list([get_lines_in_file(file) for file in additions_files])\n",
        "      if len(additions_list_tmp)> len(additions_list):\n",
        "        additions_list=additions_list_tmp\n",
        "  return additions_list\n",
        "\n",
        "def get_patent_claims(NDA, patents_folder_name):\n",
        "  \"\"\"Return a list of patents claims for a NDA\n",
        "  Parameters:\n",
        "      NDA (string): NDA dir\n",
        "      patents_folder_name (string): either 'patents' or 'patents_longhand'\n",
        "  \"\"\"\n",
        "  patent_dir=db2files+str(NDA)+'/'+patents_folder_name+'/'\n",
        "  if os.path.exists(patent_dir):\n",
        "    patent_files=[patent_dir+f for f in os.listdir(patent_dir)]\n",
        "    return flat_list([get_lines_in_file(file) for file in patent_files])\n",
        "  return []\n",
        "    "
      ],
      "execution_count": 39,
      "outputs": []
    },
    {
      "cell_type": "code",
      "metadata": {
        "colab": {
          "base_uri": "https://localhost:8080/"
        },
        "id": "rH_rqHMEpbnm",
        "outputId": "c764082c-7f3f-4ca9-9948-1c1cd4112553"
      },
      "source": [
        "# print(get_lines_in_file(db2files+'15923/patents/3438991'))\n",
        "# print(get_additions(15923, 'just_additions'))\n",
        "# print(len(get_additions(15923, 'just_additions')))\n",
        "# print(get_patent_claims(10402, \"patents\"))\n",
        "print(len(NDA_list), len(random_NDA_list), random_NDA_list[1])"
      ],
      "execution_count": 40,
      "outputs": [
        {
          "output_type": "stream",
          "text": [
            "1606 529 210884\n"
          ],
          "name": "stdout"
        }
      ]
    },
    {
      "cell_type": "code",
      "metadata": {
        "id": "yIG3xW2C5Suc"
      },
      "source": [
        "\n",
        "# narrow 1/3 of random data to NDA with patents and NDAs with additions.  If either is missing, we cannot check quality of additions to related patents.\n",
        "random_NDA_list=[x for x in random_NDA_list if get_patent_claims(x, 'patents') and get_additions(x, 'additions_with_context')]\n"
      ],
      "execution_count": 43,
      "outputs": []
    },
    {
      "cell_type": "code",
      "metadata": {
        "colab": {
          "base_uri": "https://localhost:8080/"
        },
        "id": "hFuJ6ViNIAVU",
        "outputId": "23790939-9911-4366-954c-ecb07943b776"
      },
      "source": [
        "print(len(random_NDA_list))\n"
      ],
      "execution_count": 44,
      "outputs": [
        {
          "output_type": "stream",
          "text": [
            "295\n"
          ],
          "name": "stdout"
        }
      ]
    },
    {
      "cell_type": "code",
      "metadata": {
        "id": "XNvnVArssTah"
      },
      "source": [
        "def calculate_score(random_NDA_list, additions_folder_name, patent_folder_name, scoring_method, optional_scoring_method_field=None, silent=False):\n",
        "  \"\"\"\n",
        "  This method take a scoring_method and returns (bad_average_of_best_scores_list, good_average_of_best_scores_list)\n",
        "  Parameters:\n",
        "    random_NDA_list (list): list of NDA numbers\n",
        "    additions_folder_name (string): either 'patents' or 'patents_longhand'\n",
        "    patent_folder_name (string): either 'just_additions' or 'additions_with_context'\n",
        "    scoring_method (function): function that is use to score similarity\n",
        "  \"\"\"\n",
        "  bad_average_of_best_scores_list=[]\n",
        "  good_average_of_best_scores_list=[]\n",
        "\n",
        "  for i in range(len(random_NDA_list)):\n",
        "    if not silent:\n",
        "      print(f\"processing {str(i)} of {str(len(random_NDA_list))}\")\n",
        "    NDA=random_NDA_list[i]\n",
        "\n",
        "    # choose a bad_NDA (not the current NDA) with patent claims\n",
        "    bad_NDA = None\n",
        "    while not bad_NDA:\n",
        "      new_random_NDA=random.sample(NDA_list, 1)[0]\n",
        "      if new_random_NDA==NDA:\n",
        "        continue\n",
        "      elif get_patent_claims(new_random_NDA, patent_folder_name):\n",
        "        bad_NDA=new_random_NDA\n",
        "  \n",
        "    claims_bad = get_patent_claims(bad_NDA, patent_folder_name)\n",
        "    claims_good = get_patent_claims(NDA, patent_folder_name)\n",
        "    additions = get_additions(NDA, additions_folder_name)\n",
        "\n",
        "    # get average of best similarity scores for patent claims to additions bad_NDA\n",
        "    bad_average_of_best_scores_list.append(mean(scoring_method(additions, claims_bad, optional_scoring_method_field)))\n",
        "    # get average of best similarity scores for patent claim for method\n",
        "    good_average_of_best_scores_list.append(mean(scoring_method(additions, claims_good, optional_scoring_method_field)))\n",
        "\n",
        "  return bad_average_of_best_scores_list, good_average_of_best_scores_list\n",
        "\n",
        "def mean(lst):\n",
        "  return sum(lst)/len(lst)\n",
        "\n",
        "def std_dev(lst):\n",
        "  variance = sum([((x - mean(lst)) ** 2) for x in lst]) / len(lst)\n",
        "  return variance ** 0.5\n",
        "\n"
      ],
      "execution_count": 45,
      "outputs": []
    },
    {
      "cell_type": "code",
      "metadata": {
        "id": "T621ChlOv3JN"
      },
      "source": [
        "from sentence_transformers import SentenceTransformer, util\n",
        "\n",
        "def scoring_method_bert(additions, claims, model):\n",
        "  \"\"\" Returns a list of highest scores for \n",
        "  \"\"\"\n",
        "  # Compute embedding for both lists\n",
        "  additions_embeddings = model.encode(\n",
        "      additions,\n",
        "      convert_to_tensor=True,\n",
        "  )\n",
        "  claims_embeddings = model.encode(\n",
        "      claims,\n",
        "      convert_to_tensor=True,\n",
        "  )\n",
        "  # Compute cosine-similarity for every additions to every claim\n",
        "  cosine_scores = util.pytorch_cos_sim(\n",
        "      additions_embeddings, claims_embeddings\n",
        "  ).tolist()\n",
        "  # return the highest similarity score for each section to patent claim\n",
        "  return [max(x) for x in cosine_scores]"
      ],
      "execution_count": 46,
      "outputs": []
    },
    {
      "cell_type": "code",
      "metadata": {
        "id": "Im6l5bvxRjFR"
      },
      "source": [
        "import matplotlib.pyplot as plt\n",
        "\n",
        "def plot(score_list_set, model, method=\"Cosine Similarity\"):\n",
        "  plt.subplot(1,2,1)\n",
        "  plt.hist(score_list_set[0], color=\"blue\", edgecolor=\"black\", bins=int(180/5))\n",
        "  plt.title(f\"Histogram of {method} of Additions to Unrelated Claims (Blue) Versus Related Claims (Green)\\n For {model}\")\n",
        "  plt.xlabel('score')\n",
        "  plt.subplot(1,2,2)\n",
        "  plt.hist(score_list_set[1], color=\"green\", edgecolor=\"black\", bins=int(180/5))\n",
        "  plt.xlabel('score')\n",
        "  plt.show()\n",
        "\n",
        "def print_mean_std_dev(score_list_set):\n",
        "  print(f\"mean noise: {mean(score_list_set[0])}\")\n",
        "  print(f\"std_dev noise: {std_dev(score_list_set[0])}\")\n",
        "  print(f\"mean related: {mean(score_list_set[1])}\")\n",
        "  print(f\"std_dev related: {std_dev(score_list_set[1])}\")\n",
        "\n",
        "def print_mean_std_dev(score_list_set, plot=plot):\n",
        "  print(f\"mean noise: {mean(score_list_set[0])}\")\n",
        "  print(f\"std_dev noise: {std_dev(score_list_set[0])}\")\n",
        "  print(f\"mean related: {mean(score_list_set[1])}\")\n",
        "  print(f\"std_dev related: {std_dev(score_list_set[1])}\")\n",
        "\n",
        "import scipy.stats\n",
        "\n",
        "def print_z_score(score_list_set):\n",
        "  \"\"\" \n",
        "  Print Z score which is number of standard deviations (wherein distribution is \n",
        "  centered at 0) of the means of the additions to related patent is to the mean \n",
        "  of additions to unrelated patent.\n",
        "  z=(x-u)/s; where x is the mean of additions to related patents, and u is means \n",
        "  of additions to unrelated patents, and x is standard deviation of additions to \n",
        "  unrelated patents.\n",
        "  p(-z) is the probability that is it better than noise\n",
        "  \"\"\"\n",
        "  z_score=(mean(score_list_set[1])-mean(score_list_set[0]))/std_dev(score_list_set[0])\n",
        "  print(f\"z_score: {z_score}\")\n",
        "  print(f\"p(-z): {scipy.stats.norm.sf(z_score*-1)}\")\n",
        "\n",
        "def plot_print(score_list_set, model, method=\"Cosine Similarity\", plot_=plot):\n",
        "  plot_(score_list_set, model, method=\"Cosine Similarity\")\n",
        "  print_mean_std_dev(score_list_set)\n",
        "  print_z_score(score_list_set)\n",
        "\n",
        "_device=None"
      ],
      "execution_count": 47,
      "outputs": []
    },
    {
      "cell_type": "code",
      "metadata": {
        "colab": {
          "base_uri": "https://localhost:8080/",
          "height": 48,
          "referenced_widgets": [
            "e585333eae314f02b55f32b1705f99e7",
            "6fcc4eb9550145f4bd9248f28c525620",
            "d339e43ef20f40c6a0735cbb61a97e48",
            "b51993b71159402d83af153818ec9b06",
            "bbc6f1cf75874fa68420cd9790aa1385",
            "8df8db67ae834f5c89d82089d3818096",
            "645b08bc8ec44a1292837abdc78e1d3d",
            "af2390b32dad4d8490c68febb82eb375",
            "f9d7dafab310489bae2f9e2b3974269a",
            "d826d60b1dce493eb046762402626622",
            "729618925ed04b5ea38fca6540b43fc2"
          ]
        },
        "id": "dvtkZguYkEUx",
        "outputId": "f66805c2-f571-4d4e-8224-57d9faca1a3e"
      },
      "source": [
        "# distilroberta_with_context is a set of (bad average of best similarity scores list, good average of best similarity scores list)\n",
        "_device = None\n",
        "model_distilroberta = SentenceTransformer(\"stsb-distilroberta-base-v2\", device=_device)\n",
        "model_distilroberta.eval()\n",
        "model_distilroberta.zero_grad()\n",
        "model_distilroberta.max_seq_length=512\n",
        "distilroberta_additions_with_context_patents=calculate_score(random_NDA_list, \"additions_with_context\", \"patents\", scoring_method_bert, model_distilroberta, silent=True)"
      ],
      "execution_count": null,
      "outputs": [
        {
          "output_type": "display_data",
          "data": {
            "application/vnd.jupyter.widget-view+json": {
              "model_id": "e585333eae314f02b55f32b1705f99e7",
              "version_minor": 0,
              "version_major": 2
            },
            "text/plain": [
              "  0%|          | 0.00/305M [00:00<?, ?B/s]"
            ]
          },
          "metadata": {
            "tags": []
          }
        }
      ]
    },
    {
      "cell_type": "code",
      "metadata": {
        "id": "8DXfKHDdVW1W"
      },
      "source": [
        "model_distilroberta.zero_grad()\n",
        "distilroberta_just_additions_patents=calculate_score(random_NDA_list, \"just_additions\", \"patents\", scoring_method_bert, model_distilroberta, silent=True)"
      ],
      "execution_count": null,
      "outputs": []
    },
    {
      "cell_type": "code",
      "metadata": {
        "id": "oMuqiGmhVYjx"
      },
      "source": [
        "model_distilroberta.zero_grad()\n",
        "distilroberta_additions_with_context_patents_longhand=calculate_score(random_NDA_list, \"additions_with_context\", \"patents_longhand\", scoring_method_bert, model_distilroberta, silent=True)"
      ],
      "execution_count": null,
      "outputs": []
    },
    {
      "cell_type": "code",
      "metadata": {
        "colab": {
          "base_uri": "https://localhost:8080/",
          "height": 1000
        },
        "id": "-R1f4t8ESyyY",
        "outputId": "8a60b8cb-255a-4608-8ade-89f99fbadeb6"
      },
      "source": [
        "plot_print(distilroberta_additions_with_context_patents, \"distilroberta additions_with_context patents\")\n",
        "plot_print(distilroberta_just_additions_patents, \"distilroberta just_additions patents\")\n",
        "plot_print(distilroberta_additions_with_context_patents_longhand, \"distilroberta additions_with_context patents_longhand\")"
      ],
      "execution_count": null,
      "outputs": [
        {
          "output_type": "display_data",
          "data": {
            "image/png": "[encoded data removed]",
            "text/plain": [
              "<Figure size 432x288 with 2 Axes>"
            ]
          },
          "metadata": {
            "tags": [],
            "needs_background": "light"
          }
        },
        {
          "output_type": "stream",
          "text": [
            "mean noise: 0.49429224932004184\n",
            "std_dev noise: 0.08914535609158014\n",
            "mean related: 0.5527198500920639\n",
            "std_dev related: 0.09542776364072823\n",
            "z_score: 0.6554194557481904\n",
            "p(-z): 0.743901135772199\n"
          ],
          "name": "stdout"
        },
        {
          "output_type": "display_data",
          "data": {
            "image/png": "[encoded data removed]",
            "text/plain": [
              "<Figure size 432x288 with 2 Axes>"
            ]
          },
          "metadata": {
            "tags": [],
            "needs_background": "light"
          }
        },
        {
          "output_type": "stream",
          "text": [
            "mean noise: 0.36533162833997584\n",
            "std_dev noise: 0.1016254501947882\n",
            "mean related: 0.39701289436555565\n",
            "std_dev related: 0.12510706923827297\n",
            "z_score: 0.311745394139514\n",
            "p(-z): 0.6223829868289659\n"
          ],
          "name": "stdout"
        },
        {
          "output_type": "display_data",
          "data": {
            "image/png": "[encoded data removed]",
            "text/plain": [
              "<Figure size 432x288 with 2 Axes>"
            ]
          },
          "metadata": {
            "tags": [],
            "needs_background": "light"
          }
        },
        {
          "output_type": "stream",
          "text": [
            "mean noise: 0.5011662935146586\n",
            "std_dev noise: 0.09381052112162212\n",
            "mean related: 0.5511816819268379\n",
            "std_dev related: 0.1032884523070586\n",
            "z_score: 0.5331532946857432\n",
            "p(-z): 0.7030362653302791\n"
          ],
          "name": "stdout"
        }
      ]
    },
    {
      "cell_type": "code",
      "metadata": {
        "colab": {
          "base_uri": "https://localhost:8080/",
          "height": 166,
          "referenced_widgets": [
            "ff9fa700d00f4ba5bec64556c73c69b6",
            "9572c07431d147a29dbb4311db691b6a",
            "edfaa5339b244d71bde7bda0c4001606",
            "3750aad890664decba22f3310a1ef2c8",
            "f7b77de6831549dfac057c00ecb3847c",
            "2ef3f5a3fd7c4627a5ae441aedfa542c",
            "75ca9eb71ee340d2af4e060945848378",
            "4e2d6d2240e44abd80236b302b758204",
            "4f034f14beeb491e8dfc985f70207730",
            "6343225bf22646558413bb6aecaa073c",
            "b09aca3973524e8ead47cb1d4037f0c4",
            "9d03b8d00b564026bf526ae2333530af",
            "0b5fc5d4dde14c2a9eef247e14e53ba2",
            "ddd0a2781466454fa9f69a7613e0e125",
            "63fe8039ae7f4204a501f09898b9a95d",
            "7a89601b8c454b418500d3c93e19e7ad",
            "ca09899d4baa4a00a368ca81bd97b5df",
            "653905edd7704d999f7b6d64c0afce7f",
            "ef7a12ef16174426982e853ef0060390",
            "ef9fc26481a94eeb88d341300f429079",
            "c38e598cfce4462581ca653b866cd7bb",
            "7a44373e852245d2b6c2bbcf88993003",
            "eaf31f78002948949d493b7af32b4303",
            "fa3c86e6a1974a4aa5cf084373eea3f0",
            "93768ca9d99e46ae919113fdf5c20062",
            "41afaa0af5be4cafaa97d7d470120890",
            "db262c7ba7d548a195f62846fc9dd1c5",
            "f482535d4e7f46dd848245f17d2aeef2",
            "4d19d04311284e2683edde6cab0d82f9",
            "fba4cea02d3f4fafb4a871f358ee1d1d",
            "7be88985ed4e4958896ea6d9c7b4d1fe",
            "a126c4b5124948d590943a858f79a7f4",
            "4df729bb8582414ca37a27ac26536399"
          ]
        },
        "id": "YsS8uqrWUjIJ",
        "outputId": "08852833-a35f-42e2-9864-54a251f4ea6d"
      },
      "source": [
        "model_scibert_uncased = SentenceTransformer(\"allenai/scibert_scivocab_uncased\", device=_device)\n",
        "model_scibert_uncased.max_seq_length=512\n",
        "model_scibert_uncased.zero_grad()\n",
        "model_scibert_uncased.eval()\n",
        "scibert_uncased=calculate_score(random_NDA_list, \"additions_with_context\", \"patents\", scoring_method_bert, model_scibert_uncased, silent=True)"
      ],
      "execution_count": null,
      "outputs": [
        {
          "output_type": "stream",
          "text": [
            "Exception when trying to download http://sbert.net/models/allenai/scibert_scivocab_uncased.zip. Response 404\n",
            "SentenceTransformer-Model http://sbert.net/models/allenai/scibert_scivocab_uncased.zip not found. Try to create it from scratch\n",
            "Try to create Transformer Model allenai/scibert_scivocab_uncased with mean pooling\n"
          ],
          "name": "stderr"
        },
        {
          "output_type": "display_data",
          "data": {
            "application/vnd.jupyter.widget-view+json": {
              "model_id": "ff9fa700d00f4ba5bec64556c73c69b6",
              "version_minor": 0,
              "version_major": 2
            },
            "text/plain": [
              "Downloading:   0%|          | 0.00/385 [00:00<?, ?B/s]"
            ]
          },
          "metadata": {
            "tags": []
          }
        },
        {
          "output_type": "display_data",
          "data": {
            "application/vnd.jupyter.widget-view+json": {
              "model_id": "9d03b8d00b564026bf526ae2333530af",
              "version_minor": 0,
              "version_major": 2
            },
            "text/plain": [
              "Downloading:   0%|          | 0.00/442M [00:00<?, ?B/s]"
            ]
          },
          "metadata": {
            "tags": []
          }
        },
        {
          "output_type": "display_data",
          "data": {
            "application/vnd.jupyter.widget-view+json": {
              "model_id": "eaf31f78002948949d493b7af32b4303",
              "version_minor": 0,
              "version_major": 2
            },
            "text/plain": [
              "Downloading:   0%|          | 0.00/228k [00:00<?, ?B/s]"
            ]
          },
          "metadata": {
            "tags": []
          }
        }
      ]
    },
    {
      "cell_type": "code",
      "metadata": {
        "colab": {
          "base_uri": "https://localhost:8080/",
          "height": 416
        },
        "id": "FiWQEh86UogT",
        "outputId": "b2b98e57-f711-42a1-9c44-0f9230578494"
      },
      "source": [
        "plot_print(scibert_uncased, \"scibert_uncased additions_with_context patents\")"
      ],
      "execution_count": null,
      "outputs": [
        {
          "output_type": "display_data",
          "data": {
            "image/png": "[encoded data removed]",
            "text/plain": [
              "<Figure size 432x288 with 2 Axes>"
            ]
          },
          "metadata": {
            "tags": [],
            "needs_background": "light"
          }
        },
        {
          "output_type": "stream",
          "text": [
            "mean noise: 0.8199905620397728\n",
            "std_dev noise: 0.04251488509572398\n",
            "mean related: 0.8364760396810583\n",
            "std_dev related: 0.053060990019790526\n",
            "z_score: 0.3877577842246963\n",
            "p(-z): 0.6509023554100891\n"
          ],
          "name": "stdout"
        }
      ]
    },
    {
      "cell_type": "code",
      "metadata": {
        "colab": {
          "base_uri": "https://localhost:8080/",
          "height": 630,
          "referenced_widgets": [
            "a6e2e430d86d406f997c2c4143cb7703",
            "bdca0eae22084cb9aaa0ff52487caaa5",
            "adf055ab06d743eaabc2af5307c70924",
            "291b8fd3117f49e5b697147c04c370ad",
            "60f1e00996f342c3afdebd0e5b2874cc",
            "6d3cfb7cdbc04b3792994b2a8c02803e",
            "4b74ae18e8044ef9b5dfb07efdd467d5",
            "5ece7c7d04e9439d9767f6605fe0132d",
            "0fee808a263f4bfcba636a6674722a85",
            "55c567be53a3473d9858889e1cb9056b",
            "e1d54a2195fc46e7abb314548bbcf0aa",
            "37cc647a5bcd4f1989d0f389419f9f1b",
            "7ba433f9e34449049d18281ce21bf89a",
            "9d161b4d358f4685a4eb7ddd659edbb2",
            "52fca78768fd43f59fff05ad2d613cf9",
            "a31323bb94bf46cf93e1fe9c38c0dfad",
            "a0089a50879c4d50b099e01f90597d71",
            "2c5b4323d85049b5ad74cbce0d345208",
            "92f6b41095424040a2e82dd966643375",
            "e884bc7549a5402b891508d5cf1639da",
            "f76ffe228f7041189cff58e8cd5bc53b",
            "afd3c2c912be4c71b2f6af4410d36d89",
            "47f8850598294670abeba416211eaad9",
            "778af18475a840469f3e525070bdd75c",
            "43d8138ff7994c0a8db4b1deeb78a8aa",
            "ea382e1151034ac5a83da985a63b97bd",
            "d5153ba4fb364db58e8c2ad227598c52",
            "773e30870aeb4a9eb9138c345737e899",
            "fc7178d92c47467281f6bb4f174da24f",
            "e79bc6b9f90d4125a0d57e8e5a2b6e7c",
            "2c41379a923a4cd6b696981a4cafa573",
            "45aa7400190f470c972e36139ffe2886",
            "870da0f4430e4ed69dfcd414048f97c0",
            "2935beadedf84891a2f045f379c5035d",
            "335063a69b714a13a2eee6f9100ff2e5",
            "b5fa67238185482992ea95c1a421132d",
            "e18174c8ff4b41e5821ae9a48a62aebf",
            "550972a3aaab494aaa41c56b4fdbc51d",
            "7a179cb58d064367a1e0fe272e463ad9",
            "f93ef2db7f1a4c558361279d23f3ada8",
            "693a055a5cc24e3ba54cedc53d998754",
            "256f5582f4f04bc9a141209857d8473a",
            "1fe23e3eb3eb43cabd49b4a60e0e489e",
            "772c77d1167f48f294a7cacfc82b9bed",
            "1d73aff875e3420483e31d810d8c08af",
            "5a0dcc36348c4155ad330d01a789a1e4",
            "42c1fc6e30384c798d4edb3699af84cc",
            "28244ace3357442a8a2bced7f048aef4",
            "d14ff7fe7ca24ae1870f2fa21925edbe",
            "4277a9bdfdfc4cfe8fef8f1db5afa357",
            "8774dcbeb3074c9992bc2c56e8bebc9a",
            "693f1a8fbdc341af8b56ffc6dff1571d",
            "1187e36323b14e64963a4cdcbc1ebb06",
            "dde539c5f23b471d87ffb7b1d5f3f2bb",
            "1988b9d606274947a8f2418d59e7400e"
          ]
        },
        "id": "UJftk51kYXvk",
        "outputId": "280e633a-c893-4e21-ae9d-3825b195ddd9"
      },
      "source": [
        "model_longformer = SentenceTransformer(\"allenai/longformer-base-4096\", device=_device)\n",
        "# Will limit size since CUDA runs out of memory\n",
        "model_longformer.max_seq_length=1024\n",
        "model_longformer.eval()\n",
        "model_longformer.zero_grad()\n",
        "longformer=calculate_score(random_NDA_list, \"additions_with_context\", \"patents\", scoring_method_bert, model_longformer, silent=True)\n",
        "model_longformer.zero_grad()\n",
        "plot_print(longformer, \"scibert_uncased additions_with_context patents\")"
      ],
      "execution_count": null,
      "outputs": [
        {
          "output_type": "stream",
          "text": [
            "Exception when trying to download http://sbert.net/models/allenai/longformer-base-4096.zip. Response 404\n",
            "SentenceTransformer-Model http://sbert.net/models/allenai/longformer-base-4096.zip not found. Try to create it from scratch\n",
            "Try to create Transformer Model allenai/longformer-base-4096 with mean pooling\n"
          ],
          "name": "stderr"
        },
        {
          "output_type": "display_data",
          "data": {
            "application/vnd.jupyter.widget-view+json": {
              "model_id": "a6e2e430d86d406f997c2c4143cb7703",
              "version_minor": 0,
              "version_major": 2
            },
            "text/plain": [
              "Downloading:   0%|          | 0.00/694 [00:00<?, ?B/s]"
            ]
          },
          "metadata": {
            "tags": []
          }
        },
        {
          "output_type": "display_data",
          "data": {
            "application/vnd.jupyter.widget-view+json": {
              "model_id": "37cc647a5bcd4f1989d0f389419f9f1b",
              "version_minor": 0,
              "version_major": 2
            },
            "text/plain": [
              "Downloading:   0%|          | 0.00/597M [00:00<?, ?B/s]"
            ]
          },
          "metadata": {
            "tags": []
          }
        },
        {
          "output_type": "display_data",
          "data": {
            "application/vnd.jupyter.widget-view+json": {
              "model_id": "47f8850598294670abeba416211eaad9",
              "version_minor": 0,
              "version_major": 2
            },
            "text/plain": [
              "Downloading:   0%|          | 0.00/899k [00:00<?, ?B/s]"
            ]
          },
          "metadata": {
            "tags": []
          }
        },
        {
          "output_type": "display_data",
          "data": {
            "application/vnd.jupyter.widget-view+json": {
              "model_id": "2935beadedf84891a2f045f379c5035d",
              "version_minor": 0,
              "version_major": 2
            },
            "text/plain": [
              "Downloading:   0%|          | 0.00/456k [00:00<?, ?B/s]"
            ]
          },
          "metadata": {
            "tags": []
          }
        },
        {
          "output_type": "display_data",
          "data": {
            "application/vnd.jupyter.widget-view+json": {
              "model_id": "1d73aff875e3420483e31d810d8c08af",
              "version_minor": 0,
              "version_major": 2
            },
            "text/plain": [
              "Downloading:   0%|          | 0.00/1.36M [00:00<?, ?B/s]"
            ]
          },
          "metadata": {
            "tags": []
          }
        },
        {
          "output_type": "display_data",
          "data": {
            "image/png": "[encoded data removed]",
            "text/plain": [
              "<Figure size 432x288 with 2 Axes>"
            ]
          },
          "metadata": {
            "tags": [],
            "needs_background": "light"
          }
        },
        {
          "output_type": "stream",
          "text": [
            "mean noise: 0.9741629018030186\n",
            "std_dev noise: 0.012779381267690786\n",
            "mean related: 0.9749349267657725\n",
            "std_dev related: 0.015104129271941429\n",
            "z_score: 0.060411763807832114\n",
            "p(-z): 0.5240861551963808\n"
          ],
          "name": "stdout"
        }
      ]
    },
    {
      "cell_type": "code",
      "metadata": {
        "id": "VEIg0UMxY_gA"
      },
      "source": [
        ""
      ],
      "execution_count": null,
      "outputs": []
    },
    {
      "cell_type": "code",
      "metadata": {
        "colab": {
          "base_uri": "https://localhost:8080/",
          "height": 630,
          "referenced_widgets": [
            "0ca5e0d1e93d4657b970b916559cc2cd",
            "1920106b07c24938a632f538410311fa",
            "52126e9db2474229afa1097643f547db",
            "645dd5f9166540f2b0740c6025618382",
            "4ae6f417c10948d9aec9b9687808246b",
            "e5af310dc9594185b09b4f563a5b674c",
            "95a665ba4238422ca4dd8ff4d8fe5498",
            "22de8b1d9b054e659d94745e3be7e9cd",
            "9a40c73fa3964fe8a31ca0be15209f10",
            "83dc54106c6c4c999f623d6059cb8b04",
            "847f0c19f50f4ccc87acd39761c9a378",
            "b2698f5622cb4a3ba32145e15f0a74b5",
            "86bb4f2911904ce2b705f9901e8273dd",
            "d1b77ddba38c434f92ac7c8f5d6fa0c6",
            "b1be91a5cf4f4c95a1e706459d762ff1",
            "0bab4d790f3c4922b36f8e714da50005",
            "e543b493598d498db8e5debf168478fd",
            "66879827fb964e539631ce5d4ba86f4a",
            "946b6c04bfee4bc0b197b4fe44cac4b1",
            "ebc6588a3bab4258b51f3777449eca50",
            "2c68d5ee50b147d0a0164f29fc2baf2a",
            "4e2878a386f74e538deff63674ac4c3c",
            "b35669ebd8e241cc95e134edf4487cfd",
            "51eef5e40f794c56afc41f0088580587",
            "a68bab01449b43c39159584e3d0dcfcd",
            "3b352c07bc5e4557b83515f56a13d9b6",
            "9a3af530877b40a1ad20e62903285c29",
            "75d2a819ac2049ac94e46a37a34b1f2a",
            "42dbffe871cd446894eee111a9e76245",
            "2ffd7997860449b5a0f95f7920e429e7",
            "4135e54f50d54a47975a55d2762ddb84",
            "2f9b1d4f5eae4015a9ccd45fbc8b5c58",
            "85a1ff04f6574dffa6ac9c0fa0500e1d",
            "e8b568810f1f44d887fab816965927ca",
            "551ebf35892b4db99b81cb780451d789",
            "1ed39f443f6b469cb64da7f03cdead0e",
            "b82fbba4ecd241408d391bf85e34ce24",
            "238eb4e25316451ba322a68955ddb6fe",
            "cb473e61b233411ea157ff47e684b3b9",
            "615f6cd469d149ee92f20d54e51fe9a3",
            "ebb61fb491d94ff6a3bde106f96ff0b7",
            "6eb1e81f04274fc3a8c47e48cc11c33a",
            "55670c7fcf2b48adaff9776b4b04176c",
            "ff5af35b905349218695f07c4c9c284e",
            "19ddee206bd846af9bae96b25d2a53e8",
            "4cf00e32580548609476efcf4697362c",
            "9e31d5828e914e57adc9fa73ecdbfc08",
            "8c5960b63fee4474995a24e14c1943b3",
            "8c3976cb87474869b2e8b4bd8afee1c6",
            "df985c2963544f65b7db60948fa00169",
            "028eb0f8c1c145ddae26e3088dc45189",
            "5f690f99578f4f61bd29fab1549f4452",
            "25d5cc9598284d46b1059e47b2ba1f53",
            "4a552c71336542e1b866d21f8d317be8",
            "f87f2ddc88b142979d1055364acba8cc"
          ]
        },
        "id": "-NjSAMKuqyv_",
        "outputId": "5b5f2e59-6bd8-49a1-a405-9eaca73fddef"
      },
      "source": [
        "model_biobert = SentenceTransformer(\"dmis-lab/biobert-v1.1\", device=_device)\n",
        "model_biobert.zero_grad()\n",
        "model_biobert.eval()\n",
        "# Will limit size since CUDA runs out of memory\n",
        "model_longformer.max_seq_length=512\n",
        "biobert=calculate_score(random_NDA_list, \"additions_with_context\", \"patents\", scoring_method_bert, model_biobert, silent=True)\n",
        "model_biobert.zero_grad()\n",
        "plot_print(biobert, \"biobert additions_with_context patents\")"
      ],
      "execution_count": null,
      "outputs": [
        {
          "output_type": "stream",
          "text": [
            "Exception when trying to download http://sbert.net/models/dmis-lab/biobert-v1.1.zip. Response 404\n",
            "SentenceTransformer-Model http://sbert.net/models/dmis-lab/biobert-v1.1.zip not found. Try to create it from scratch\n",
            "Try to create Transformer Model dmis-lab/biobert-v1.1 with mean pooling\n"
          ],
          "name": "stderr"
        },
        {
          "output_type": "display_data",
          "data": {
            "application/vnd.jupyter.widget-view+json": {
              "model_id": "0ca5e0d1e93d4657b970b916559cc2cd",
              "version_minor": 0,
              "version_major": 2
            },
            "text/plain": [
              "Downloading:   0%|          | 0.00/462 [00:00<?, ?B/s]"
            ]
          },
          "metadata": {
            "tags": []
          }
        },
        {
          "output_type": "display_data",
          "data": {
            "application/vnd.jupyter.widget-view+json": {
              "model_id": "b2698f5622cb4a3ba32145e15f0a74b5",
              "version_minor": 0,
              "version_major": 2
            },
            "text/plain": [
              "Downloading:   0%|          | 0.00/433M [00:00<?, ?B/s]"
            ]
          },
          "metadata": {
            "tags": []
          }
        },
        {
          "output_type": "display_data",
          "data": {
            "application/vnd.jupyter.widget-view+json": {
              "model_id": "b35669ebd8e241cc95e134edf4487cfd",
              "version_minor": 0,
              "version_major": 2
            },
            "text/plain": [
              "Downloading:   0%|          | 0.00/213k [00:00<?, ?B/s]"
            ]
          },
          "metadata": {
            "tags": []
          }
        },
        {
          "output_type": "display_data",
          "data": {
            "application/vnd.jupyter.widget-view+json": {
              "model_id": "e8b568810f1f44d887fab816965927ca",
              "version_minor": 0,
              "version_major": 2
            },
            "text/plain": [
              "Downloading:   0%|          | 0.00/112 [00:00<?, ?B/s]"
            ]
          },
          "metadata": {
            "tags": []
          }
        },
        {
          "output_type": "display_data",
          "data": {
            "application/vnd.jupyter.widget-view+json": {
              "model_id": "19ddee206bd846af9bae96b25d2a53e8",
              "version_minor": 0,
              "version_major": 2
            },
            "text/plain": [
              "Downloading:   0%|          | 0.00/49.0 [00:00<?, ?B/s]"
            ]
          },
          "metadata": {
            "tags": []
          }
        },
        {
          "output_type": "display_data",
          "data": {
            "image/png": "[encoded data removed]",
            "text/plain": [
              "<Figure size 432x288 with 2 Axes>"
            ]
          },
          "metadata": {
            "tags": [],
            "needs_background": "light"
          }
        },
        {
          "output_type": "stream",
          "text": [
            "mean noise: 0.8937992962006303\n",
            "std_dev noise: 0.024884316916459617\n",
            "mean related: 0.9041456578325194\n",
            "std_dev related: 0.030564762687182712\n",
            "z_score: 0.41577840640044356\n",
            "p(-z): 0.661213919340748\n"
          ],
          "name": "stdout"
        }
      ]
    },
    {
      "cell_type": "code",
      "metadata": {
        "colab": {
          "base_uri": "https://localhost:8080/",
          "height": 412
        },
        "id": "7g15HtUVrHUn",
        "outputId": "e3cd1438-7791-43f6-dcab-a69bf9f51853"
      },
      "source": [
        "model_mpnet_base_v2 = SentenceTransformer(\"stsb-mpnet-base-v2\", device=_device)\n",
        "model_mpnet_base_v2.zero_grad()\n",
        "model_mpnet_base_v2.eval()\n",
        "# Will limit size since CUDA runs out of memory\n",
        "model_mpnet_base_v2.max_seq_length=512\n",
        "mpnet_base_v2=calculate_score(random_NDA_list, \"additions_with_context\", \"patents\", scoring_method_bert, model_mpnet_base_v2, silent=True)\n",
        "model_mpnet_base_v2.zero_grad()\n",
        "plot_print(mpnet_base_v2, \"mpnet_base_v2 additions_with_context patents\")"
      ],
      "execution_count": 48,
      "outputs": [
        {
          "output_type": "display_data",
          "data": {
            "image/png": "[encoded data removed]",
            "text/plain": [
              "<Figure size 432x288 with 2 Axes>"
            ]
          },
          "metadata": {
            "tags": [],
            "needs_background": "light"
          }
        },
        {
          "output_type": "stream",
          "text": [
            "mean noise: 0.4317064828057228\n",
            "std_dev noise: 0.08950142046149752\n",
            "mean related: 0.5028630787511897\n",
            "std_dev related: 0.1089154575737604\n",
            "z_score: 0.7950331467205893\n",
            "p(-z): 0.7867028894878447\n"
          ],
          "name": "stdout"
        }
      ]
    },
    {
      "cell_type": "code",
      "metadata": {
        "colab": {
          "base_uri": "https://localhost:8080/",
          "height": 448,
          "referenced_widgets": [
            "6448fa4334944333ba1e7366632029c4",
            "089112b7ccf542dc85267c009bdded08",
            "88d43c3c06694f259cbf422fbe86eb3b",
            "a8b0fe70d53c4f8396dc3e29c91f0eda",
            "68dd326c706d4f4b94799c75deb660ce",
            "ded9708098704acb82f5cfd7ba3c7b40",
            "466f1c5de0034412983f5792d2971e69",
            "6f62e6491ffd4dac90c4930c3c0d5bb1",
            "58e44c66419e4bb88019a75c9382b484",
            "e83f552f41964c63aeb0a65b226d5c68",
            "17361979ffae494dba625398b6d30058"
          ]
        },
        "id": "EMg8PPj8uQbf",
        "outputId": "b397dd0b-e850-4f4d-bf9d-e37cc3ec417f"
      },
      "source": [
        "model_roberta_base_v2 = SentenceTransformer(\"stsb-roberta-base-v2\", device=_device)\n",
        "model_roberta_base_v2.zero_grad()\n",
        "model_roberta_base_v2.eval()\n",
        "# Will limit size since CUDA runs out of memory\n",
        "model_roberta_base_v2.max_seq_length=512\n",
        "roberta_base_v2=calculate_score(random_NDA_list, \"additions_with_context\", \"patents\", scoring_method_bert, model_roberta_base_v2, silent=True)\n",
        "model_roberta_base_v2.zero_grad()\n",
        "plot_print(roberta_base_v2, \"roberta_base_v2 additions_with_context patents\")"
      ],
      "execution_count": null,
      "outputs": [
        {
          "output_type": "display_data",
          "data": {
            "application/vnd.jupyter.widget-view+json": {
              "model_id": "6448fa4334944333ba1e7366632029c4",
              "version_minor": 0,
              "version_major": 2
            },
            "text/plain": [
              "  0%|          | 0.00/460M [00:00<?, ?B/s]"
            ]
          },
          "metadata": {
            "tags": []
          }
        },
        {
          "output_type": "display_data",
          "data": {
            "image/png": "[encoded data removed]",
            "text/plain": [
              "<Figure size 432x288 with 2 Axes>"
            ]
          },
          "metadata": {
            "tags": [],
            "needs_background": "light"
          }
        },
        {
          "output_type": "stream",
          "text": [
            "mean noise: 0.49227264334059345\n",
            "std_dev noise: 0.08965576755560903\n",
            "mean related: 0.5540247372735316\n",
            "std_dev related: 0.09759305733269955\n",
            "z_score: 0.6887687832758379\n",
            "p(-z): 0.7545156084196327\n"
          ],
          "name": "stdout"
        }
      ]
    },
    {
      "cell_type": "code",
      "metadata": {
        "id": "P9bed2CPceSN",
        "colab": {
          "base_uri": "https://localhost:8080/"
        },
        "outputId": "61aa6e7b-f504-4950-cb95-3c96a1de2a33"
      },
      "source": [
        "import spacy\n",
        "gpu = spacy.prefer_gpu()\n",
        "print('GPU:', gpu)\n",
        "!pip install -U spacy[cuda101]\n",
        "_N_PROCESS = 1\n",
        "_en_core_sci_lg_nlp = spacy.load(\"/content/en_core_sci_lg-0.4.0/en_core_sci_lg/en_core_sci_lg-0.4.0\")\n",
        "# set number of processes for nlp.pipe for spaCy\n",
        "# _N_PROCESS = 3"
      ],
      "execution_count": null,
      "outputs": [
        {
          "output_type": "stream",
          "text": [
            "GPU: True\n",
            "Requirement already up-to-date: spacy[cuda101] in /usr/local/lib/python3.7/dist-packages (3.0.6)\n",
            "Requirement already satisfied, skipping upgrade: requests<3.0.0,>=2.13.0 in /usr/local/lib/python3.7/dist-packages (from spacy[cuda101]) (2.25.1)\n",
            "Requirement already satisfied, skipping upgrade: blis<0.8.0,>=0.4.0 in /usr/local/lib/python3.7/dist-packages (from spacy[cuda101]) (0.7.4)\n",
            "Requirement already satisfied, skipping upgrade: spacy-legacy<3.1.0,>=3.0.4 in /usr/local/lib/python3.7/dist-packages (from spacy[cuda101]) (3.0.5)\n",
            "Requirement already satisfied, skipping upgrade: tqdm<5.0.0,>=4.38.0 in /usr/local/lib/python3.7/dist-packages (from spacy[cuda101]) (4.60.0)\n",
            "Requirement already satisfied, skipping upgrade: thinc<8.1.0,>=8.0.3 in /usr/local/lib/python3.7/dist-packages (from spacy[cuda101]) (8.0.3)\n",
            "Requirement already satisfied, skipping upgrade: packaging>=20.0 in /usr/local/lib/python3.7/dist-packages (from spacy[cuda101]) (20.9)\n",
            "Requirement already satisfied, skipping upgrade: murmurhash<1.1.0,>=0.28.0 in /usr/local/lib/python3.7/dist-packages (from spacy[cuda101]) (1.0.5)\n",
            "Requirement already satisfied, skipping upgrade: preshed<3.1.0,>=3.0.2 in /usr/local/lib/python3.7/dist-packages (from spacy[cuda101]) (3.0.5)\n",
            "Requirement already satisfied, skipping upgrade: pathy>=0.3.5 in /usr/local/lib/python3.7/dist-packages (from spacy[cuda101]) (0.5.2)\n",
            "Requirement already satisfied, skipping upgrade: catalogue<2.1.0,>=2.0.3 in /usr/local/lib/python3.7/dist-packages (from spacy[cuda101]) (2.0.4)\n",
            "Requirement already satisfied, skipping upgrade: numpy>=1.15.0 in /usr/local/lib/python3.7/dist-packages (from spacy[cuda101]) (1.20.2)\n",
            "Requirement already satisfied, skipping upgrade: pydantic<1.8.0,>=1.7.1 in /usr/local/lib/python3.7/dist-packages (from spacy[cuda101]) (1.7.3)\n",
            "Requirement already satisfied, skipping upgrade: srsly<3.0.0,>=2.4.1 in /usr/local/lib/python3.7/dist-packages (from spacy[cuda101]) (2.4.1)\n",
            "Requirement already satisfied, skipping upgrade: typer<0.4.0,>=0.3.0 in /usr/local/lib/python3.7/dist-packages (from spacy[cuda101]) (0.3.2)\n",
            "Requirement already satisfied, skipping upgrade: cymem<2.1.0,>=2.0.2 in /usr/local/lib/python3.7/dist-packages (from spacy[cuda101]) (2.0.5)\n",
            "Requirement already satisfied, skipping upgrade: jinja2 in /usr/local/lib/python3.7/dist-packages (from spacy[cuda101]) (2.11.3)\n",
            "Requirement already satisfied, skipping upgrade: setuptools in /usr/local/lib/python3.7/dist-packages (from spacy[cuda101]) (56.1.0)\n",
            "Requirement already satisfied, skipping upgrade: wasabi<1.1.0,>=0.8.1 in /usr/local/lib/python3.7/dist-packages (from spacy[cuda101]) (0.8.2)\n",
            "Requirement already satisfied, skipping upgrade: typing-extensions<4.0.0.0,>=3.7.4; python_version < \"3.8\" in /usr/local/lib/python3.7/dist-packages (from spacy[cuda101]) (3.7.4.3)\n",
            "Requirement already satisfied, skipping upgrade: cupy-cuda101<9.0.0,>=5.0.0b4; extra == \"cuda101\" in /usr/local/lib/python3.7/dist-packages (from spacy[cuda101]) (7.4.0)\n",
            "Requirement already satisfied, skipping upgrade: urllib3<1.27,>=1.21.1 in /usr/local/lib/python3.7/dist-packages (from requests<3.0.0,>=2.13.0->spacy[cuda101]) (1.26.4)\n",
            "Requirement already satisfied, skipping upgrade: idna<3,>=2.5 in /usr/local/lib/python3.7/dist-packages (from requests<3.0.0,>=2.13.0->spacy[cuda101]) (2.10)\n",
            "Requirement already satisfied, skipping upgrade: certifi>=2017.4.17 in /usr/local/lib/python3.7/dist-packages (from requests<3.0.0,>=2.13.0->spacy[cuda101]) (2020.12.5)\n",
            "Requirement already satisfied, skipping upgrade: chardet<5,>=3.0.2 in /usr/local/lib/python3.7/dist-packages (from requests<3.0.0,>=2.13.0->spacy[cuda101]) (4.0.0)\n",
            "Requirement already satisfied, skipping upgrade: pyparsing>=2.0.2 in /usr/local/lib/python3.7/dist-packages (from packaging>=20.0->spacy[cuda101]) (2.4.7)\n",
            "Requirement already satisfied, skipping upgrade: smart-open<4.0.0,>=2.2.0 in /usr/local/lib/python3.7/dist-packages (from pathy>=0.3.5->spacy[cuda101]) (3.0.0)\n",
            "Requirement already satisfied, skipping upgrade: zipp>=0.5; python_version < \"3.8\" in /usr/local/lib/python3.7/dist-packages (from catalogue<2.1.0,>=2.0.3->spacy[cuda101]) (3.4.1)\n",
            "Requirement already satisfied, skipping upgrade: click<7.2.0,>=7.1.1 in /usr/local/lib/python3.7/dist-packages (from typer<0.4.0,>=0.3.0->spacy[cuda101]) (7.1.2)\n",
            "Requirement already satisfied, skipping upgrade: MarkupSafe>=0.23 in /usr/local/lib/python3.7/dist-packages (from jinja2->spacy[cuda101]) (1.1.1)\n",
            "Requirement already satisfied, skipping upgrade: six>=1.9.0 in /usr/local/lib/python3.7/dist-packages (from cupy-cuda101<9.0.0,>=5.0.0b4; extra == \"cuda101\"->spacy[cuda101]) (1.15.0)\n",
            "Requirement already satisfied, skipping upgrade: fastrlock>=0.3 in /usr/local/lib/python3.7/dist-packages (from cupy-cuda101<9.0.0,>=5.0.0b4; extra == \"cuda101\"->spacy[cuda101]) (0.6)\n"
          ],
          "name": "stdout"
        }
      ]
    },
    {
      "cell_type": "code",
      "metadata": {
        "id": "0NKz0pPLxCWZ"
      },
      "source": [
        "def preprocess_with_spacy_nlp(text_list, steps, nlp=_en_core_sci_lg_nlp):\n",
        "    \"\"\"\n",
        "    This method can remove punctuation,\n",
        "    Parameters:\n",
        "        text_list (list): list of strings\n",
        "        steps (list): one of [\"punct\", \"lemma\", \"stopwords\"]\n",
        "    \"\"\"\n",
        "    # make a copy of text_lis\n",
        "    return_list = text_list\n",
        "    if any(item in [\"punct\", \"lemma\", \"stopwords\"] for item in steps):\n",
        "        # 'lemmatizer' required 'tagger' and 'attribute_ruler'\n",
        "        nlp_list = list(\n",
        "            nlp.pipe(\n",
        "                return_list,\n",
        "                disable=[\"tok2vec\", \"ner\"],\n",
        "                n_process=_N_PROCESS,\n",
        "            )\n",
        "        )\n",
        "        return_list = [\n",
        "            \" \".join(\n",
        "                [\n",
        "                    token.lemma_ if \"lemma\" in steps else token.text\n",
        "                    for token in doc\n",
        "                    if (\n",
        "                        (\n",
        "                            (\"punct\" in steps and not token.is_punct)\n",
        "                            or \"punct\" not in steps\n",
        "                        )\n",
        "                        and (\n",
        "                            (\"stopwords\" in steps and not token.is_stop)\n",
        "                            or \"stopwords\" not in steps\n",
        "                        )\n",
        "                    )\n",
        "                ]\n",
        "            )\n",
        "            for doc in nlp_list\n",
        "        ]\n",
        "    return return_list\n",
        "\n",
        "\n",
        "def similarity_matrix(embed_A_list, embed_B_list):\n",
        "    \"\"\"\n",
        "    This method returns a matrix such as:\n",
        "        [[X, X, X],\n",
        "        [X, X, X]]\n",
        "    wherein each row represents the similarity measurement between an embedding\n",
        "    from embed_A_list to each of the embeddings in embed_B_list.\n",
        "\n",
        "    Parameters:\n",
        "        embed_A_list (list): list of NLP object generated by spaCy\n",
        "        embed_B_list (list): list of NLP object generated by spaCy to be\n",
        "                             compared to embed_A\n",
        "    \"\"\"\n",
        "    matrix = [[0] * len(embed_B_list) for y in range(len(embed_A_list))]\n",
        "    for i in range(len(embed_A_list)):\n",
        "        for j in range(len(embed_B_list)):\n",
        "            matrix[i][j] = embed_A_list[i].similarity(embed_B_list[j])\n",
        "    return matrix\n",
        "\n",
        "\n",
        "def scoring_method_spacy(additions, claims, nlp=_en_core_sci_lg_nlp):\n",
        "  \"\"\" Scores with spaCy\n",
        "  \"\"\"\n",
        "  additions=preprocess_with_spacy_nlp(additions, [\"punct\", \"lemma\", \"stopwords\"], nlp)\n",
        "  claims=preprocess_with_spacy_nlp(claims, [\"punct\", \"lemma\", \"stopwords\"], nlp)\n",
        "  # Compute embedding for both lists\n",
        "  # tokenization only requires tok2vec\n",
        "  disabled_list = [\"tagger\", \"attribute_ruler\", \"lemmatizer\", \"parser\", \"ner\"]\n",
        "  additions_embeddings = list(\n",
        "      nlp.pipe(\n",
        "          additions, disable=disabled_list, n_process=_N_PROCESS\n",
        "      )\n",
        "  )\n",
        "  claims_embeddings = list(\n",
        "      nlp.pipe(\n",
        "          claims, disable=disabled_list, n_process=_N_PROCESS\n",
        "      )\n",
        "  )\n",
        "  # Compute cosine-similarity for every additions to every claim\n",
        "  cosine_scores = similarity_matrix(additions_embeddings, claims_embeddings)\n",
        "  # return the highest similarity score for each section to patent claim\n",
        "  return [max(x) for x in cosine_scores]"
      ],
      "execution_count": null,
      "outputs": []
    },
    {
      "cell_type": "code",
      "metadata": {
        "colab": {
          "base_uri": "https://localhost:8080/",
          "height": 434
        },
        "id": "WEi34b5Qejme",
        "outputId": "723758a9-b802-42f0-ec0e-f37357085ebf"
      },
      "source": [
        "spacy_sci=calculate_score(random_NDA_list, \"additions_with_context\", \"patents\", scoring_method_spacy, _en_core_sci_lg_nlp, silent=True)\n",
        "plot_print(spacy_sci, \"spacy additions_with_context patents\")"
      ],
      "execution_count": null,
      "outputs": [
        {
          "output_type": "stream",
          "text": [
            "/usr/local/lib/python3.7/dist-packages/ipykernel_launcher.py:57: UserWarning: [W008] Evaluating Doc.similarity based on empty vectors.\n"
          ],
          "name": "stderr"
        },
        {
          "output_type": "display_data",
          "data": {
            "image/png": "[encoded data removed]",
            "text/plain": [
              "<Figure size 432x288 with 2 Axes>"
            ]
          },
          "metadata": {
            "tags": [],
            "needs_background": "light"
          }
        },
        {
          "output_type": "stream",
          "text": [
            "mean noise: 0.5410768461186833\n",
            "std_dev noise: 0.1218373491691527\n",
            "mean related: 0.6339932107695609\n",
            "std_dev related: 0.13988376253719897\n",
            "z_score: 0.7626262823715683\n",
            "p(-z): 0.777156847169474\n"
          ],
          "name": "stdout"
        }
      ]
    },
    {
      "cell_type": "markdown",
      "metadata": {
        "id": "7BYVqwDzypWH"
      },
      "source": [
        "Note:  There was a crash due to here due to spacy' en_core_web_trf having issues with GPU.  Resetting seed to continue run of file."
      ]
    },
    {
      "cell_type": "code",
      "metadata": {
        "colab": {
          "base_uri": "https://localhost:8080/"
        },
        "id": "mAnQdKklx8dH",
        "outputId": "0d22eac7-26bb-461a-da7d-87397f134ad0"
      },
      "source": [
        "random.seed(20)\n",
        "random_NDA_list=random.sample(NDA_list, int(len(NDA_list)*.33))\n",
        "# narrow 1/3 of random data to NDA with patents and NDAs with additions.  If either is missing, we cannot check quality of additions to related patents.\n",
        "random_NDA_list=[x for x in random_NDA_list if get_patent_claims(x, 'patents') and get_additions(x, 'additions_with_context')]\n",
        "print(len(random_NDA_list))"
      ],
      "execution_count": null,
      "outputs": [
        {
          "output_type": "stream",
          "text": [
            "295\n"
          ],
          "name": "stdout"
        }
      ]
    },
    {
      "cell_type": "code",
      "metadata": {
        "id": "vKm37Yl7g4ur"
      },
      "source": [
        "from sklearn.feature_extraction.text import TfidfVectorizer\n",
        "from sklearn.metrics.pairwise import cosine_similarity\n",
        "vectorizer = TfidfVectorizer()\n",
        "\n",
        "def similarity_matrix_tfidf(embed_A, embed_B):\n",
        "    \"\"\"\n",
        "    This method returns a matrix such as:\n",
        "        [[X, X, X],\n",
        "        [X, X, X]]\n",
        "    wherein each row represents the similarity measurement between an embedding\n",
        "    from embed_A to each of the embeddings in embed_B.\n",
        "\n",
        "    Parameters:\n",
        "        embed_A (ndarray): ndarray object generated by scikit-learn of shape\n",
        "                           (n_samples, n_features)\n",
        "        embed_B (ndarray): ndarray object generated by scikit-learn of shape\n",
        "                           (n_samples, n_features) to be compared to embed_A\n",
        "    \"\"\"\n",
        "    matrix = [[0] * embed_B.shape[0] for y in range(embed_A.shape[0])]\n",
        "    for i in range(embed_A.shape[0]):\n",
        "        for j in range(embed_B.shape[0]):\n",
        "            matrix[i][j] = cosine_similarity(embed_A[i], embed_B[j]).item()\n",
        "    return matrix\n",
        "\n",
        "def scoring_method_tfidf(additions, claims, empty):\n",
        "  \"\"\" Scores with tfidf\n",
        "  \"\"\"\n",
        "  additions=preprocess_with_spacy_nlp(additions, [\"punct\", \"lemma\", \"stopwords\"])\n",
        "  claims=preprocess_with_spacy_nlp(claims, [\"punct\", \"lemma\", \"stopwords\"])\n",
        "\n",
        "  all_embeddings = vectorizer.fit_transform(additions + claims)\n",
        "  additions_embeddings = all_embeddings[: len(additions)]\n",
        "  claims_embeddings = all_embeddings[len(additions) :]\n",
        "\n",
        "  # Compute cosine-similarity for every additions to every claim\n",
        "  cosine_scores = similarity_matrix_tfidf(additions_embeddings, claims_embeddings)\n",
        "\n",
        "  # return the highest similarity score for each section to patent claim\n",
        "  return [max(x) for x in cosine_scores]\n"
      ],
      "execution_count": null,
      "outputs": []
    },
    {
      "cell_type": "code",
      "metadata": {
        "id": "CzfJcGwBilVe",
        "colab": {
          "base_uri": "https://localhost:8080/",
          "height": 416
        },
        "outputId": "b56a049b-b39c-4693-b5d1-08209faacf5e"
      },
      "source": [
        "tfidf=calculate_score(random_NDA_list, \"additions_with_context\", \"patents\", scoring_method_tfidf, silent=True)\n",
        "plot_print(tfidf, \"tfidf additions_with_context patents\")"
      ],
      "execution_count": null,
      "outputs": [
        {
          "output_type": "display_data",
          "data": {
            "image/png": "[encoded data removed]",
            "text/plain": [
              "<Figure size 432x288 with 2 Axes>"
            ]
          },
          "metadata": {
            "tags": [],
            "needs_background": "light"
          }
        },
        {
          "output_type": "stream",
          "text": [
            "mean noise: 0.07183518659353128\n",
            "std_dev noise: 0.06059509921121825\n",
            "mean related: 0.1444162698265769\n",
            "std_dev related: 0.11068076907316785\n",
            "z_score: 1.197804511880531\n",
            "p(-z): 0.8845034348456072\n"
          ],
          "name": "stdout"
        }
      ]
    },
    {
      "cell_type": "code",
      "metadata": {
        "id": "PEml86kwvzTk",
        "colab": {
          "base_uri": "https://localhost:8080/",
          "height": 412
        },
        "outputId": "d6214bc7-bd99-4861-bf8a-834470c8c47e"
      },
      "source": [
        "def scoring_method_bert_with_preprocessing(additions, claims, model):\n",
        "  \"\"\" Returns drops list of max cosines scores for each addition to claim, but drops stops word, lemmatize\n",
        "  \"\"\"\n",
        "  additions=preprocess_with_spacy_nlp(additions, [\"punc\", \"lemma\", \"stopwords\"])\n",
        "  claims=preprocess_with_spacy_nlp(claims, [\"punc\", \"lemma\", \"stopwords\"])\n",
        "  # Compute embedding for both lists\n",
        "  additions_embeddings = model.encode(\n",
        "      additions,\n",
        "      convert_to_tensor=True,\n",
        "  )\n",
        "  claims_embeddings = model.encode(\n",
        "      claims,\n",
        "      convert_to_tensor=True,\n",
        "  )\n",
        "  # Compute cosine-similarity for every additions to every claim\n",
        "  cosine_scores = util.pytorch_cos_sim(\n",
        "      additions_embeddings, claims_embeddings\n",
        "  ).tolist()\n",
        "  # return the highest similarity score for each section to patent claim\n",
        "  return [max(x) for x in cosine_scores]\n",
        "model_mpnet_base_v2 = SentenceTransformer(\"stsb-mpnet-base-v2\", device=_device)\n",
        "model_mpnet_base_v2.eval()\n",
        "model_mpnet_base_v2.zero_grad()\n",
        "# Will limit size since CUDA runs out of memory\n",
        "model_mpnet_base_v2.max_seq_length=512\n",
        "mpnet_base_v2_punc_lemma_stop=calculate_score(random_NDA_list, \"additions_with_context\", \"patents\", scoring_method_bert_with_preprocessing, model_mpnet_base_v2, silent=True)\n",
        "model_mpnet_base_v2.zero_grad()\n",
        "plot_print(mpnet_base_v2_punc_lemma_stop, \"mpnet_base_v2 additions_with_context patents punc lemma stopwords\")"
      ],
      "execution_count": 49,
      "outputs": [
        {
          "output_type": "display_data",
          "data": {
            "image/png": "[encoded data removed]",
            "text/plain": [
              "<Figure size 432x288 with 2 Axes>"
            ]
          },
          "metadata": {
            "tags": [],
            "needs_background": "light"
          }
        },
        {
          "output_type": "stream",
          "text": [
            "mean noise: 0.45043502925683837\n",
            "std_dev noise: 0.0891276186382883\n",
            "mean related: 0.5164627761397357\n",
            "std_dev related: 0.1072523362555503\n",
            "z_score: 0.7408225182236886\n",
            "p(-z): 0.7705994700933305\n"
          ],
          "name": "stdout"
        }
      ]
    },
    {
      "cell_type": "code",
      "metadata": {
        "id": "uXm0vuswRDDs"
      },
      "source": [
        "def plot2(score_list_set, model, method=\"Cosine Similarity\"):\n",
        "  fig,ax=plt.subplots(nrows=2, ncols=1, sharex=True, sharey=True)\n",
        "  fig.suptitle(f\"Histogram of {method} of Additions to Unrelated Claims (Blue) Versus Related Claims (Green)\\n For {model}\")\n",
        "  ax[0].hist(score_list_set[0], color=\"blue\", edgecolor=\"black\", bins=int(180/5))\n",
        "  ax[1].hist(score_list_set[1], color=\"green\", edgecolor=\"black\", bins=int(180/5))\n",
        "  ax[1].set_xlabel('score')\n",
        "  display(fig)\n",
        "  plt.close()\n",
        "\n"
      ],
      "execution_count": 50,
      "outputs": []
    },
    {
      "cell_type": "markdown",
      "metadata": {
        "id": "d6WrS6sBoo2s"
      },
      "source": [
        "The following presents the historgram plots shown above in a more viewer friendly manner."
      ]
    },
    {
      "cell_type": "code",
      "metadata": {
        "colab": {
          "base_uri": "https://localhost:8080/",
          "height": 1000
        },
        "id": "z0vXuKundsCy",
        "outputId": "fb0d8a5b-97c6-4a80-fa2e-b8ba6971a2f9"
      },
      "source": [
        "plot_print(distilroberta_additions_with_context_patents, \"distilroberta additions_with_context patents\", plot_=plot2)\n",
        "plot_print(distilroberta_just_additions_patents, \"distilroberta just_additions patents\", plot_=plot2)\n",
        "plot_print(distilroberta_additions_with_context_patents_longhand, \"distilroberta additions_with_context patents_longhand\", plot_=plot2)\n",
        "plot_print(roberta_base_v2, \"roberta_base_v2 additions_with_context patents\", plot_=plot2)"
      ],
      "execution_count": null,
      "outputs": [
        {
          "output_type": "display_data",
          "data": {
            "image/png": "[encoded data removed]",
            "text/plain": [
              "<Figure size 432x288 with 2 Axes>"
            ]
          },
          "metadata": {
            "tags": []
          }
        },
        {
          "output_type": "stream",
          "text": [
            "mean noise: 0.49429224932004184\n",
            "std_dev noise: 0.08914535609158014\n",
            "mean related: 0.5527198500920639\n",
            "std_dev related: 0.09542776364072823\n",
            "z_score: 0.6554194557481904\n",
            "p(-z): 0.743901135772199\n"
          ],
          "name": "stdout"
        },
        {
          "output_type": "display_data",
          "data": {
            "image/png": "[encoded data removed]",
            "text/plain": [
              "<Figure size 432x288 with 2 Axes>"
            ]
          },
          "metadata": {
            "tags": []
          }
        },
        {
          "output_type": "stream",
          "text": [
            "mean noise: 0.36533162833997584\n",
            "std_dev noise: 0.1016254501947882\n",
            "mean related: 0.39701289436555565\n",
            "std_dev related: 0.12510706923827297\n",
            "z_score: 0.311745394139514\n",
            "p(-z): 0.6223829868289659\n"
          ],
          "name": "stdout"
        },
        {
          "output_type": "display_data",
          "data": {
            "image/png": "[encoded data removed]",
            "text/plain": [
              "<Figure size 432x288 with 2 Axes>"
            ]
          },
          "metadata": {
            "tags": []
          }
        },
        {
          "output_type": "stream",
          "text": [
            "mean noise: 0.5011662935146586\n",
            "std_dev noise: 0.09381052112162212\n",
            "mean related: 0.5511816819268379\n",
            "std_dev related: 0.1032884523070586\n",
            "z_score: 0.5331532946857432\n",
            "p(-z): 0.7030362653302791\n"
          ],
          "name": "stdout"
        },
        {
          "output_type": "display_data",
          "data": {
            "image/png": "[encoded data removed]",
            "text/plain": [
              "<Figure size 432x288 with 2 Axes>"
            ]
          },
          "metadata": {
            "tags": []
          }
        },
        {
          "output_type": "stream",
          "text": [
            "mean noise: 0.49227264334059345\n",
            "std_dev noise: 0.08965576755560903\n",
            "mean related: 0.5540247372735316\n",
            "std_dev related: 0.09759305733269955\n",
            "z_score: 0.6887687832758379\n",
            "p(-z): 0.7545156084196327\n"
          ],
          "name": "stdout"
        }
      ]
    },
    {
      "cell_type": "code",
      "metadata": {
        "colab": {
          "base_uri": "https://localhost:8080/",
          "height": 812
        },
        "id": "adQz55l1hIxB",
        "outputId": "c822d616-3a98-4f39-9318-9c687f6cd86c"
      },
      "source": [
        "plot_print(scibert_uncased, \"scibert_uncased additions_with_context patents\", plot_=plot2)\n",
        "plot_print(biobert, \"biobert additions_with_context patents\", plot_=plot2)"
      ],
      "execution_count": null,
      "outputs": [
        {
          "output_type": "display_data",
          "data": {
            "image/png": "[encoded data removed]",
            "text/plain": [
              "<Figure size 432x288 with 2 Axes>"
            ]
          },
          "metadata": {
            "tags": []
          }
        },
        {
          "output_type": "stream",
          "text": [
            "mean noise: 0.8199905620397728\n",
            "std_dev noise: 0.04251488509572398\n",
            "mean related: 0.8364760396810583\n",
            "std_dev related: 0.053060990019790526\n",
            "z_score: 0.3877577842246963\n",
            "p(-z): 0.6509023554100891\n"
          ],
          "name": "stdout"
        },
        {
          "output_type": "display_data",
          "data": {
            "image/png": "[encoded data removed]",
            "text/plain": [
              "<Figure size 432x288 with 2 Axes>"
            ]
          },
          "metadata": {
            "tags": []
          }
        },
        {
          "output_type": "stream",
          "text": [
            "mean noise: 0.8937992962006303\n",
            "std_dev noise: 0.024884316916459617\n",
            "mean related: 0.9041456578325194\n",
            "std_dev related: 0.030564762687182712\n",
            "z_score: 0.41577840640044356\n",
            "p(-z): 0.661213919340748\n"
          ],
          "name": "stdout"
        }
      ]
    },
    {
      "cell_type": "code",
      "metadata": {
        "colab": {
          "base_uri": "https://localhost:8080/",
          "height": 414
        },
        "id": "ETlmZPZnn0E7",
        "outputId": "cb36bef4-f364-42c8-cf96-210bd06a1f2c"
      },
      "source": [
        "plot_print(longformer, \"longformer additions_with_context patents\", plot_=plot2)"
      ],
      "execution_count": null,
      "outputs": [
        {
          "output_type": "display_data",
          "data": {
            "image/png": "[encoded data removed]",
            "text/plain": [
              "<Figure size 432x288 with 2 Axes>"
            ]
          },
          "metadata": {
            "tags": []
          }
        },
        {
          "output_type": "stream",
          "text": [
            "mean noise: 0.9741629018030186\n",
            "std_dev noise: 0.012779381267690786\n",
            "mean related: 0.9749349267657725\n",
            "std_dev related: 0.015104129271941429\n",
            "z_score: 0.060411763807832114\n",
            "p(-z): 0.5240861551963808\n"
          ],
          "name": "stdout"
        }
      ]
    },
    {
      "cell_type": "code",
      "metadata": {
        "colab": {
          "base_uri": "https://localhost:8080/",
          "height": 803
        },
        "id": "W1TfQH85dN46",
        "outputId": "4d606a8d-00eb-46c1-947a-382658c41d60"
      },
      "source": [
        "plot_print(mpnet_base_v2, \"mpnet_base_v2 additions_with_context patents\", plot_=plot2)\n",
        "plot_print(mpnet_base_v2_punc_lemma_stop, \"mpnet_base_v2 additions_with_context patents punc lemma stopwords\", plot_=plot2)"
      ],
      "execution_count": 51,
      "outputs": [
        {
          "output_type": "display_data",
          "data": {
            "image/png": "[encoded data removed]",
            "text/plain": [
              "<Figure size 432x288 with 2 Axes>"
            ]
          },
          "metadata": {
            "tags": []
          }
        },
        {
          "output_type": "stream",
          "text": [
            "mean noise: 0.4317064828057228\n",
            "std_dev noise: 0.08950142046149752\n",
            "mean related: 0.5028630787511897\n",
            "std_dev related: 0.1089154575737604\n",
            "z_score: 0.7950331467205893\n",
            "p(-z): 0.7867028894878447\n"
          ],
          "name": "stdout"
        },
        {
          "output_type": "display_data",
          "data": {
            "image/png": "[encoded data removed]",
            "text/plain": [
              "<Figure size 432x288 with 2 Axes>"
            ]
          },
          "metadata": {
            "tags": []
          }
        },
        {
          "output_type": "stream",
          "text": [
            "mean noise: 0.45043502925683837\n",
            "std_dev noise: 0.0891276186382883\n",
            "mean related: 0.5164627761397357\n",
            "std_dev related: 0.1072523362555503\n",
            "z_score: 0.7408225182236886\n",
            "p(-z): 0.7705994700933305\n"
          ],
          "name": "stdout"
        }
      ]
    },
    {
      "cell_type": "code",
      "metadata": {
        "colab": {
          "base_uri": "https://localhost:8080/",
          "height": 414
        },
        "id": "g8uw9Mq2oYLY",
        "outputId": "e56f78be-09b4-4993-bc70-20342e4b1bf3"
      },
      "source": [
        "plot_print(spacy_sci, \"spacy_sci additions_with_context patents\", plot_=plot2)"
      ],
      "execution_count": null,
      "outputs": [
        {
          "output_type": "display_data",
          "data": {
            "image/png": "[encoded data removed]",
            "text/plain": [
              "<Figure size 432x288 with 2 Axes>"
            ]
          },
          "metadata": {
            "tags": []
          }
        },
        {
          "output_type": "stream",
          "text": [
            "mean noise: 0.5410768461186833\n",
            "std_dev noise: 0.1218373491691527\n",
            "mean related: 0.6339932107695609\n",
            "std_dev related: 0.13988376253719897\n",
            "z_score: 0.7626262823715683\n",
            "p(-z): 0.777156847169474\n"
          ],
          "name": "stdout"
        }
      ]
    },
    {
      "cell_type": "code",
      "metadata": {
        "colab": {
          "base_uri": "https://localhost:8080/",
          "height": 414
        },
        "id": "H0PyXss2s24U",
        "outputId": "5284d7b4-c6eb-4426-af73-04d190f1830f"
      },
      "source": [
        "plot_print(tfidf, \"tfidf additions_with_context patents\", plot_=plot2)"
      ],
      "execution_count": null,
      "outputs": [
        {
          "output_type": "display_data",
          "data": {
            "image/png": "[encoded data removed]",
            "text/plain": [
              "<Figure size 432x288 with 2 Axes>"
            ]
          },
          "metadata": {
            "tags": []
          }
        },
        {
          "output_type": "stream",
          "text": [
            "mean noise: 0.07183518659353128\n",
            "std_dev noise: 0.06059509921121825\n",
            "mean related: 0.1444162698265769\n",
            "std_dev related: 0.11068076907316785\n",
            "z_score: 1.197804511880531\n",
            "p(-z): 0.8845034348456072\n"
          ],
          "name": "stdout"
        }
      ]
    },
    {
      "cell_type": "markdown",
      "metadata": {
        "id": "dDtNjeTLo58D"
      },
      "source": [
        "The following reruns multi_mpnet_base_v2, which has among the highest z-score from the noise distribution, 4 more times with a different sample of random NDAs to confirm general performance of mpnet_base_v2.\n",
        "\n",
        "mpnet_base_v2 is a prime candidate for the NLP engine, since its has a relatively high z-score from the noise model, but also since it works well without lots of preprocessing steps.  Furthermore the variance of mpnet_base_v2 distribution is smaller.  A smaller variance indicates that the mpnet_base_v2 is more consistent.  ScispaCy also has a high z-score, but it's distribution variance is higher too, which is less desirable."
      ]
    },
    {
      "cell_type": "code",
      "metadata": {
        "id": "naWX6XJ1tuqR",
        "colab": {
          "base_uri": "https://localhost:8080/",
          "height": 1000
        },
        "outputId": "d77b088e-0bc8-4f3a-85a4-f72d44db1004"
      },
      "source": [
        "model_mpnet_base_v2 = SentenceTransformer(\"stsb-mpnet-base-v2\", device=_device)\n",
        "model_mpnet_base_v2.eval()\n",
        "\n",
        "# set new seed\n",
        "random.seed(50)\n",
        "\n",
        "for i in range(4):\n",
        "  # grab a few extra NDA to ensure that there will always be 295 NDAs\n",
        "  random_NDA_list=random.sample(NDA_list, int(len(NDA_list)*.40))\n",
        "  # narrow 1/3 of random data to NDA with patents and NDAs with additions.  If either is missing, we cannot check quality of additions to related patents.\n",
        "  random_NDA_list=[x for x in random_NDA_list if get_patent_claims(x, 'patents') and get_additions(x, 'additions_with_context')]\n",
        "  # truncate down to 295 NDA to match sample size from above\n",
        "  random_NDA_list=random_NDA_list[:295]\n",
        "  print(\"***NDA_Size: \", len(random_NDA_list))\n",
        "  model_mpnet_base_v2.zero_grad()\n",
        "  # Will limit size since CUDA runs out of memory\n",
        "  model_mpnet_base_v2.max_seq_length=512\n",
        "  multi_mpnet_base_v2=calculate_score(random_NDA_list, \"additions_with_context\", \"patents\", scoring_method_bert, model_mpnet_base_v2, silent=True)\n",
        "  plot_print(multi_mpnet_base_v2, \"mpnet_base_v2 additions_with_context patents\", plot_=plot2)\n"
      ],
      "execution_count": null,
      "outputs": [
        {
          "output_type": "stream",
          "text": [
            "***NDA_Size:  295\n"
          ],
          "name": "stdout"
        },
        {
          "output_type": "display_data",
          "data": {
            "image/png": "[encoded data removed]",
            "text/plain": [
              "<Figure size 432x288 with 2 Axes>"
            ]
          },
          "metadata": {
            "tags": []
          }
        },
        {
          "output_type": "stream",
          "text": [
            "mean noise: 0.4431873974794944\n",
            "std_dev noise: 0.08552639934456163\n",
            "mean related: 0.513381457580622\n",
            "std_dev related: 0.10005723888801957\n",
            "z_score: 0.8207297470613211\n",
            "p(-z): 0.7940998886189631\n",
            "***NDA_Size:  295\n"
          ],
          "name": "stdout"
        },
        {
          "output_type": "display_data",
          "data": {
            "image/png": "[encoded data removed]",
            "text/plain": [
              "<Figure size 432x288 with 2 Axes>"
            ]
          },
          "metadata": {
            "tags": []
          }
        },
        {
          "output_type": "stream",
          "text": [
            "mean noise: 0.4354695410997088\n",
            "std_dev noise: 0.09067967695881683\n",
            "mean related: 0.5019356837314046\n",
            "std_dev related: 0.10727972966568003\n",
            "z_score: 0.7329772762852049\n",
            "p(-z): 0.768213855478854\n",
            "***NDA_Size:  295\n"
          ],
          "name": "stdout"
        },
        {
          "output_type": "display_data",
          "data": {
            "image/png": "[encoded data removed]",
            "text/plain": [
              "<Figure size 432x288 with 2 Axes>"
            ]
          },
          "metadata": {
            "tags": []
          }
        },
        {
          "output_type": "stream",
          "text": [
            "mean noise: 0.43612821309920635\n",
            "std_dev noise: 0.0888772012551482\n",
            "mean related: 0.5139553849792882\n",
            "std_dev related: 0.10412893950036337\n",
            "z_score: 0.8756708219991759\n",
            "p(-z): 0.8093954940610997\n",
            "***NDA_Size:  295\n"
          ],
          "name": "stdout"
        },
        {
          "output_type": "display_data",
          "data": {
            "image/png": "[encoded data removed]",
            "text/plain": [
              "<Figure size 432x288 with 2 Axes>"
            ]
          },
          "metadata": {
            "tags": []
          }
        },
        {
          "output_type": "stream",
          "text": [
            "mean noise: 0.4315910989872214\n",
            "std_dev noise: 0.09332508415909309\n",
            "mean related: 0.5036275690466826\n",
            "std_dev related: 0.10497826393864124\n",
            "z_score: 0.7718875445818961\n",
            "p(-z): 0.7799094825098116\n"
          ],
          "name": "stdout"
        }
      ]
    },
    {
      "cell_type": "code",
      "metadata": {
        "id": "Rr60Ji1QojAb",
        "colab": {
          "base_uri": "https://localhost:8080/",
          "height": 1000
        },
        "outputId": "d8e7b715-3bf0-4569-c2cc-cede31b155dc"
      },
      "source": [
        "model_mpnet_base_v2 = SentenceTransformer(\"stsb-mpnet-base-v2\", device=_device)\n",
        "model_mpnet_base_v2.eval()\n",
        "\n",
        "# set new seed\n",
        "random.seed(50)\n",
        "\n",
        "for i in range(5):\n",
        "  # grab a few extra NDA to ensure that there will always be 295 NDAs\n",
        "  random_NDA_list=random.sample(NDA_list, int(len(NDA_list)*.40))\n",
        "  # narrow 1/3 of random data to NDA with patents and NDAs with additions.  If either is missing, we cannot check quality of additions to related patents.\n",
        "  random_NDA_list=[x for x in random_NDA_list if get_patent_claims(x, 'patents') and get_additions(x, 'additions_with_context')]\n",
        "  # truncate down to 295 NDA to match sample size from above\n",
        "  random_NDA_list=random_NDA_list[:295]\n",
        "  print(\"***NDA_Size: \", len(random_NDA_list))\n",
        "  model_mpnet_base_v2.zero_grad()\n",
        "  # Will limit size since CUDA runs out of memory\n",
        "  model_mpnet_base_v2.max_seq_length=512\n",
        "  mpnet_base_v2_longhand=calculate_score(random_NDA_list, \"additions_with_context\", \"patents_longhand\", scoring_method_bert, model_mpnet_base_v2, silent=True)\n",
        "  plot_print(mpnet_base_v2_longhand, \"mpnet_base_v2 additions_with_context patents_longhand\", plot_=plot2)\n"
      ],
      "execution_count": null,
      "outputs": [
        {
          "output_type": "stream",
          "text": [
            "***NDA_Size:  295\n"
          ],
          "name": "stdout"
        },
        {
          "output_type": "display_data",
          "data": {
            "image/png": "[encoded data removed]",
            "text/plain": [
              "<Figure size 432x288 with 2 Axes>"
            ]
          },
          "metadata": {
            "tags": []
          }
        },
        {
          "output_type": "stream",
          "text": [
            "mean noise: 0.44567424643958037\n",
            "std_dev noise: 0.10641290216353969\n",
            "mean related: 0.5100563953428736\n",
            "std_dev related: 0.10478584638395258\n",
            "z_score: 0.6050220188934246\n",
            "p(-z): 0.7274178167687492\n",
            "***NDA_Size:  295\n"
          ],
          "name": "stdout"
        },
        {
          "output_type": "display_data",
          "data": {
            "image/png": "[encoded data removed]",
            "text/plain": [
              "<Figure size 432x288 with 2 Axes>"
            ]
          },
          "metadata": {
            "tags": []
          }
        },
        {
          "output_type": "stream",
          "text": [
            "mean noise: 0.4511565629043599\n",
            "std_dev noise: 0.09982353189232031\n",
            "mean related: 0.5234226379813449\n",
            "std_dev related: 0.10868440096157114\n",
            "z_score: 0.7239382709373423\n",
            "p(-z): 0.7654481834731777\n",
            "***NDA_Size:  295\n"
          ],
          "name": "stdout"
        },
        {
          "output_type": "display_data",
          "data": {
            "image/png": "[encoded data removed]",
            "text/plain": [
              "<Figure size 432x288 with 2 Axes>"
            ]
          },
          "metadata": {
            "tags": []
          }
        },
        {
          "output_type": "stream",
          "text": [
            "mean noise: 0.4450822658020286\n",
            "std_dev noise: 0.10519263192884722\n",
            "mean related: 0.5119043869814288\n",
            "std_dev related: 0.10932975678500563\n",
            "z_score: 0.6352357570499712\n",
            "p(-z): 0.7373626671322828\n",
            "***NDA_Size:  295\n"
          ],
          "name": "stdout"
        },
        {
          "output_type": "display_data",
          "data": {
            "image/png": "[encoded data removed]",
            "text/plain": [
              "<Figure size 432x288 with 2 Axes>"
            ]
          },
          "metadata": {
            "tags": []
          }
        },
        {
          "output_type": "stream",
          "text": [
            "mean noise: 0.4516133071828722\n",
            "std_dev noise: 0.09437110052192273\n",
            "mean related: 0.5210319996411077\n",
            "std_dev related: 0.1066781572623461\n",
            "z_score: 0.7355926981280599\n",
            "p(-z): 0.7690106961868369\n",
            "***NDA_Size:  295\n"
          ],
          "name": "stdout"
        },
        {
          "output_type": "display_data",
          "data": {
            "image/png": "[encoded data removed]",
            "text/plain": [
              "<Figure size 432x288 with 2 Axes>"
            ]
          },
          "metadata": {
            "tags": []
          }
        },
        {
          "output_type": "stream",
          "text": [
            "mean noise: 0.44294505709180276\n",
            "std_dev noise: 0.09565108850443346\n",
            "mean related: 0.516066334609519\n",
            "std_dev related: 0.10582971295585801\n",
            "z_score: 0.7644583941595923\n",
            "p(-z): 0.7777029392025827\n"
          ],
          "name": "stdout"
        }
      ]
    },
    {
      "cell_type": "code",
      "metadata": {
        "id": "Bu697YpNqFgu"
      },
      "source": [
        "\n",
        "def preprocess_trunc(lst, trunc_clm=True):\n",
        "    \"\"\"\n",
        "    Takes as list of lists (in other words a matrix), and returns a list of\n",
        "    preprocessed sentences for all elements at the index specified for the\n",
        "    inner list.\n",
        "\n",
        "    For BERT models, dropping punctuation affects accuracy. See\n",
        "    https://www.aclweb.org/anthology/2020.pam-1.15.pdf.  The BERT models\n",
        "    should also handle case or uncased situations automatically.\n",
        "\n",
        "    Bert models generally are not able to embed text with more than 512 tokens\n",
        "    and will automatically truncate longer text inputs.  (The exception to rule\n",
        "    is for models such as Longformer or Bert-AL, or Reformer. However Bert-AL\n",
        "    and Reformer are unavailable as HuggingFace models, and Longformer performs\n",
        "    poorly.) To process longer claim text, this method truncates the end of the\n",
        "    claim if trunc_clm is True. The end of the claims, when written in long\n",
        "    hand form is more important, since it is generally where new claim subject\n",
        "    matter is recited for dependent claims.\n",
        "\n",
        "    Parameters:\n",
        "        lst (list): a list text\n",
        "        trunc_clm (bool): optional parameter to keep preamble and end of claim text\n",
        "    \"\"\"\n",
        "\n",
        "    def remove_endline_plus_truncate(text, trunc_clm):\n",
        "        text_split = text.split()\n",
        "        # we truncate at around 512/1.05, since [sep] and punctuation are tokens\n",
        "        trunc_size=int(512/1.05)\n",
        "        if (\n",
        "            trunc_clm\n",
        "            and len(text_split) > int(512/1.05)\n",
        "        ):\n",
        "            return \" \".join(text_split[int(-512/1.05) :])\n",
        "        else:\n",
        "            return \" \".join(text_split)\n",
        "\n",
        "    return_list = [\n",
        "        remove_endline_plus_truncate(text, trunc_clm) for text in lst\n",
        "    ]\n",
        "    return return_list\n",
        "\n",
        "def scoring_method_bert_with_preprocessing_truncate_start(additions, claims, model):\n",
        "  \"\"\" Returns drops list of max cosines scores for each addition to claim, but drops stops word, lemmatize\n",
        "  \"\"\"\n",
        "  additions=preprocess_trunc(additions, True)\n",
        "  claims=preprocess_trunc(claims, True)\n",
        "  # Compute embedding for both lists\n",
        "  additions_embeddings = model.encode(\n",
        "      additions,\n",
        "      convert_to_tensor=True,\n",
        "  )\n",
        "  claims_embeddings = model.encode(\n",
        "      claims,\n",
        "      convert_to_tensor=True,\n",
        "  )\n",
        "  # Compute cosine-similarity for every additions to every claim\n",
        "  cosine_scores = util.pytorch_cos_sim(\n",
        "      additions_embeddings, claims_embeddings\n",
        "  ).tolist()\n",
        "  # return the highest similarity score for each section to patent claim\n",
        "  return [max(x) for x in cosine_scores]"
      ],
      "execution_count": null,
      "outputs": []
    },
    {
      "cell_type": "code",
      "metadata": {
        "colab": {
          "base_uri": "https://localhost:8080/",
          "height": 1000
        },
        "id": "GMdPWmrcBDSv",
        "outputId": "d7692321-e589-42c2-c228-3527b52be70d"
      },
      "source": [
        "# set new seed\n",
        "random.seed(50)\n",
        "\n",
        "for i in range(5):\n",
        "  # grab a few extra NDA to ensure that there will always be 295 NDAs\n",
        "  random_NDA_list=random.sample(NDA_list, int(len(NDA_list)*.40))\n",
        "  # narrow 1/3 of random data to NDA with patents and NDAs with additions.  If either is missing, we cannot check quality of additions to related patents.\n",
        "  random_NDA_list=[x for x in random_NDA_list if get_patent_claims(x, 'patents') and get_additions(x, 'additions_with_context')]\n",
        "  # truncate down to 295 NDA to match sample size from above\n",
        "  random_NDA_list=random_NDA_list[:295]\n",
        "  print(\"***NDA_Size: \", len(random_NDA_list))\n",
        "  model_mpnet_base_v2.zero_grad()\n",
        "  # Will limit size since CUDA runs out of memory\n",
        "  model_mpnet_base_v2.max_seq_length=512\n",
        "  mpnet_base_v2_longhand_with_trunc=calculate_score(random_NDA_list, \"additions_with_context\", \"patents_longhand\", scoring_method_bert_with_preprocessing_truncate_start, model_mpnet_base_v2, silent=True)\n",
        "  plot_print(mpnet_base_v2_longhand_with_trunc, \"mpnet_base_v2 additions_with_context patents_longhand with trunc\", plot_=plot2)\n"
      ],
      "execution_count": null,
      "outputs": [
        {
          "output_type": "stream",
          "text": [
            "***NDA_Size:  295\n"
          ],
          "name": "stdout"
        },
        {
          "output_type": "display_data",
          "data": {
            "image/png": "[encoded data removed]",
            "text/plain": [
              "<Figure size 432x288 with 2 Axes>"
            ]
          },
          "metadata": {
            "tags": []
          }
        },
        {
          "output_type": "stream",
          "text": [
            "mean noise: 0.44651803611607094\n",
            "std_dev noise: 0.10492926247040053\n",
            "mean related: 0.510392283097045\n",
            "std_dev related: 0.10436969526684395\n",
            "z_score: 0.6087362617171956\n",
            "p(-z): 0.7286503662826392\n",
            "***NDA_Size:  295\n"
          ],
          "name": "stdout"
        },
        {
          "output_type": "display_data",
          "data": {
            "image/png": "[encoded data removed]",
            "text/plain": [
              "<Figure size 432x288 with 2 Axes>"
            ]
          },
          "metadata": {
            "tags": []
          }
        },
        {
          "output_type": "stream",
          "text": [
            "mean noise: 0.45080007922238535\n",
            "std_dev noise: 0.09985100613530948\n",
            "mean related: 0.5234039872722452\n",
            "std_dev related: 0.10962301195159459\n",
            "z_score: 0.7271224483354062\n",
            "p(-z): 0.7664245259040907\n",
            "***NDA_Size:  295\n"
          ],
          "name": "stdout"
        },
        {
          "output_type": "display_data",
          "data": {
            "image/png": "[encoded data removed]",
            "text/plain": [
              "<Figure size 432x288 with 2 Axes>"
            ]
          },
          "metadata": {
            "tags": []
          }
        },
        {
          "output_type": "stream",
          "text": [
            "mean noise: 0.44495377622463617\n",
            "std_dev noise: 0.10589285338505665\n",
            "mean related: 0.511647105048939\n",
            "std_dev related: 0.11050994905367052\n",
            "z_score: 0.6298189792070934\n",
            "p(-z): 0.7355934866369374\n",
            "***NDA_Size:  295\n"
          ],
          "name": "stdout"
        },
        {
          "output_type": "display_data",
          "data": {
            "image/png": "[encoded data removed]",
            "text/plain": [
              "<Figure size 432x288 with 2 Axes>"
            ]
          },
          "metadata": {
            "tags": []
          }
        },
        {
          "output_type": "stream",
          "text": [
            "mean noise: 0.45153898779742085\n",
            "std_dev noise: 0.0943606334409912\n",
            "mean related: 0.5212669131227204\n",
            "std_dev related: 0.10690101620118893\n",
            "z_score: 0.7389514332680294\n",
            "p(-z): 0.7700317555293921\n",
            "***NDA_Size:  295\n"
          ],
          "name": "stdout"
        },
        {
          "output_type": "display_data",
          "data": {
            "image/png": "[encoded data removed]",
            "text/plain": [
              "<Figure size 432x288 with 2 Axes>"
            ]
          },
          "metadata": {
            "tags": []
          }
        },
        {
          "output_type": "stream",
          "text": [
            "mean noise: 0.44312632924061995\n",
            "std_dev noise: 0.09547658779147868\n",
            "mean related: 0.5162223041201214\n",
            "std_dev related: 0.10610763727756856\n",
            "z_score: 0.7655905659211805\n",
            "p(-z): 0.7780400201822446\n"
          ],
          "name": "stdout"
        }
      ]
    },
    {
      "cell_type": "code",
      "metadata": {
        "id": "cQ7VeCG1BXQK"
      },
      "source": [
        ""
      ],
      "execution_count": null,
      "outputs": []
    }
  ]
}