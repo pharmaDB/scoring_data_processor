{
  "nbformat": 4,
  "nbformat_minor": 0,
  "metadata": {
    "accelerator": "GPU",
    "colab": {
      "name": "Noise_to_Related_Claims_Histogram_DrugLabelsandPatent.ipynb",
      "provenance": [],
      "collapsed_sections": [],
      "machine_shape": "hm"
    },
    "kernelspec": {
      "display_name": "Python 3",
      "name": "python3"
    },
    "language_info": {
      "name": "python"
    },
    "widgets": {
      "application/vnd.jupyter.widget-state+json": {
        "65094ef1c5554689bc284b798d06d10c": {
          "model_module": "@jupyter-widgets/controls",
          "model_name": "HBoxModel",
          "state": {
            "_dom_classes": [],
            "_model_module": "@jupyter-widgets/controls",
            "_model_module_version": "1.5.0",
            "_model_name": "HBoxModel",
            "_view_count": null,
            "_view_module": "@jupyter-widgets/controls",
            "_view_module_version": "1.5.0",
            "_view_name": "HBoxView",
            "box_style": "",
            "children": [
              "IPY_MODEL_ab13b583baec4692a6ca84558f4f8b19",
              "IPY_MODEL_27fbffeae3554e8b94b95ea451d1c656",
              "IPY_MODEL_1892a02b672148ab9ee85f9471b6699a"
            ],
            "layout": "IPY_MODEL_de968b3618f64c6fa13de0eb3000b4c4"
          }
        },
        "ab13b583baec4692a6ca84558f4f8b19": {
          "model_module": "@jupyter-widgets/controls",
          "model_name": "HTMLModel",
          "state": {
            "_dom_classes": [],
            "_model_module": "@jupyter-widgets/controls",
            "_model_module_version": "1.5.0",
            "_model_name": "HTMLModel",
            "_view_count": null,
            "_view_module": "@jupyter-widgets/controls",
            "_view_module_version": "1.5.0",
            "_view_name": "HTMLView",
            "description": "",
            "description_tooltip": null,
            "layout": "IPY_MODEL_3e358d9245ef42fa9a4a5aeae0441fef",
            "placeholder": "​",
            "style": "IPY_MODEL_6f052ae12e8447ce9055da8dd30d0627",
            "value": "100%"
          }
        },
        "27fbffeae3554e8b94b95ea451d1c656": {
          "model_module": "@jupyter-widgets/controls",
          "model_name": "FloatProgressModel",
          "state": {
            "_dom_classes": [],
            "_model_module": "@jupyter-widgets/controls",
            "_model_module_version": "1.5.0",
            "_model_name": "FloatProgressModel",
            "_view_count": null,
            "_view_module": "@jupyter-widgets/controls",
            "_view_module_version": "1.5.0",
            "_view_name": "ProgressView",
            "bar_style": "success",
            "description": "",
            "description_tooltip": null,
            "layout": "IPY_MODEL_0073c17b612747cb8005d6a6b1481344",
            "max": 305208253,
            "min": 0,
            "orientation": "horizontal",
            "style": "IPY_MODEL_7f9de64a47f94a4988cecc44437fd324",
            "value": 305208253
          }
        },
        "1892a02b672148ab9ee85f9471b6699a": {
          "model_module": "@jupyter-widgets/controls",
          "model_name": "HTMLModel",
          "state": {
            "_dom_classes": [],
            "_model_module": "@jupyter-widgets/controls",
            "_model_module_version": "1.5.0",
            "_model_name": "HTMLModel",
            "_view_count": null,
            "_view_module": "@jupyter-widgets/controls",
            "_view_module_version": "1.5.0",
            "_view_name": "HTMLView",
            "description": "",
            "description_tooltip": null,
            "layout": "IPY_MODEL_a4c2d10507f045d0ab6b0e89a3c704c1",
            "placeholder": "​",
            "style": "IPY_MODEL_769ef81a8dac47b287960a93a9e41ef0",
            "value": " 305M/305M [00:18&lt;00:00, 22.3MB/s]"
          }
        },
        "de968b3618f64c6fa13de0eb3000b4c4": {
          "model_module": "@jupyter-widgets/base",
          "model_name": "LayoutModel",
          "state": {
            "_model_module": "@jupyter-widgets/base",
            "_model_module_version": "1.2.0",
            "_model_name": "LayoutModel",
            "_view_count": null,
            "_view_module": "@jupyter-widgets/base",
            "_view_module_version": "1.2.0",
            "_view_name": "LayoutView",
            "align_content": null,
            "align_items": null,
            "align_self": null,
            "border": null,
            "bottom": null,
            "display": null,
            "flex": null,
            "flex_flow": null,
            "grid_area": null,
            "grid_auto_columns": null,
            "grid_auto_flow": null,
            "grid_auto_rows": null,
            "grid_column": null,
            "grid_gap": null,
            "grid_row": null,
            "grid_template_areas": null,
            "grid_template_columns": null,
            "grid_template_rows": null,
            "height": null,
            "justify_content": null,
            "justify_items": null,
            "left": null,
            "margin": null,
            "max_height": null,
            "max_width": null,
            "min_height": null,
            "min_width": null,
            "object_fit": null,
            "object_position": null,
            "order": null,
            "overflow": null,
            "overflow_x": null,
            "overflow_y": null,
            "padding": null,
            "right": null,
            "top": null,
            "visibility": null,
            "width": null
          }
        },
        "3e358d9245ef42fa9a4a5aeae0441fef": {
          "model_module": "@jupyter-widgets/base",
          "model_name": "LayoutModel",
          "state": {
            "_model_module": "@jupyter-widgets/base",
            "_model_module_version": "1.2.0",
            "_model_name": "LayoutModel",
            "_view_count": null,
            "_view_module": "@jupyter-widgets/base",
            "_view_module_version": "1.2.0",
            "_view_name": "LayoutView",
            "align_content": null,
            "align_items": null,
            "align_self": null,
            "border": null,
            "bottom": null,
            "display": null,
            "flex": null,
            "flex_flow": null,
            "grid_area": null,
            "grid_auto_columns": null,
            "grid_auto_flow": null,
            "grid_auto_rows": null,
            "grid_column": null,
            "grid_gap": null,
            "grid_row": null,
            "grid_template_areas": null,
            "grid_template_columns": null,
            "grid_template_rows": null,
            "height": null,
            "justify_content": null,
            "justify_items": null,
            "left": null,
            "margin": null,
            "max_height": null,
            "max_width": null,
            "min_height": null,
            "min_width": null,
            "object_fit": null,
            "object_position": null,
            "order": null,
            "overflow": null,
            "overflow_x": null,
            "overflow_y": null,
            "padding": null,
            "right": null,
            "top": null,
            "visibility": null,
            "width": null
          }
        },
        "6f052ae12e8447ce9055da8dd30d0627": {
          "model_module": "@jupyter-widgets/controls",
          "model_name": "DescriptionStyleModel",
          "state": {
            "_model_module": "@jupyter-widgets/controls",
            "_model_module_version": "1.5.0",
            "_model_name": "DescriptionStyleModel",
            "_view_count": null,
            "_view_module": "@jupyter-widgets/base",
            "_view_module_version": "1.2.0",
            "_view_name": "StyleView",
            "description_width": ""
          }
        },
        "0073c17b612747cb8005d6a6b1481344": {
          "model_module": "@jupyter-widgets/base",
          "model_name": "LayoutModel",
          "state": {
            "_model_module": "@jupyter-widgets/base",
            "_model_module_version": "1.2.0",
            "_model_name": "LayoutModel",
            "_view_count": null,
            "_view_module": "@jupyter-widgets/base",
            "_view_module_version": "1.2.0",
            "_view_name": "LayoutView",
            "align_content": null,
            "align_items": null,
            "align_self": null,
            "border": null,
            "bottom": null,
            "display": null,
            "flex": null,
            "flex_flow": null,
            "grid_area": null,
            "grid_auto_columns": null,
            "grid_auto_flow": null,
            "grid_auto_rows": null,
            "grid_column": null,
            "grid_gap": null,
            "grid_row": null,
            "grid_template_areas": null,
            "grid_template_columns": null,
            "grid_template_rows": null,
            "height": null,
            "justify_content": null,
            "justify_items": null,
            "left": null,
            "margin": null,
            "max_height": null,
            "max_width": null,
            "min_height": null,
            "min_width": null,
            "object_fit": null,
            "object_position": null,
            "order": null,
            "overflow": null,
            "overflow_x": null,
            "overflow_y": null,
            "padding": null,
            "right": null,
            "top": null,
            "visibility": null,
            "width": null
          }
        },
        "7f9de64a47f94a4988cecc44437fd324": {
          "model_module": "@jupyter-widgets/controls",
          "model_name": "ProgressStyleModel",
          "state": {
            "_model_module": "@jupyter-widgets/controls",
            "_model_module_version": "1.5.0",
            "_model_name": "ProgressStyleModel",
            "_view_count": null,
            "_view_module": "@jupyter-widgets/base",
            "_view_module_version": "1.2.0",
            "_view_name": "StyleView",
            "bar_color": null,
            "description_width": ""
          }
        },
        "a4c2d10507f045d0ab6b0e89a3c704c1": {
          "model_module": "@jupyter-widgets/base",
          "model_name": "LayoutModel",
          "state": {
            "_model_module": "@jupyter-widgets/base",
            "_model_module_version": "1.2.0",
            "_model_name": "LayoutModel",
            "_view_count": null,
            "_view_module": "@jupyter-widgets/base",
            "_view_module_version": "1.2.0",
            "_view_name": "LayoutView",
            "align_content": null,
            "align_items": null,
            "align_self": null,
            "border": null,
            "bottom": null,
            "display": null,
            "flex": null,
            "flex_flow": null,
            "grid_area": null,
            "grid_auto_columns": null,
            "grid_auto_flow": null,
            "grid_auto_rows": null,
            "grid_column": null,
            "grid_gap": null,
            "grid_row": null,
            "grid_template_areas": null,
            "grid_template_columns": null,
            "grid_template_rows": null,
            "height": null,
            "justify_content": null,
            "justify_items": null,
            "left": null,
            "margin": null,
            "max_height": null,
            "max_width": null,
            "min_height": null,
            "min_width": null,
            "object_fit": null,
            "object_position": null,
            "order": null,
            "overflow": null,
            "overflow_x": null,
            "overflow_y": null,
            "padding": null,
            "right": null,
            "top": null,
            "visibility": null,
            "width": null
          }
        },
        "769ef81a8dac47b287960a93a9e41ef0": {
          "model_module": "@jupyter-widgets/controls",
          "model_name": "DescriptionStyleModel",
          "state": {
            "_model_module": "@jupyter-widgets/controls",
            "_model_module_version": "1.5.0",
            "_model_name": "DescriptionStyleModel",
            "_view_count": null,
            "_view_module": "@jupyter-widgets/base",
            "_view_module_version": "1.2.0",
            "_view_name": "StyleView",
            "description_width": ""
          }
        },
        "b34baaaaef994fadb0bfe45605362078": {
          "model_module": "@jupyter-widgets/controls",
          "model_name": "HBoxModel",
          "state": {
            "_dom_classes": [],
            "_model_module": "@jupyter-widgets/controls",
            "_model_module_version": "1.5.0",
            "_model_name": "HBoxModel",
            "_view_count": null,
            "_view_module": "@jupyter-widgets/controls",
            "_view_module_version": "1.5.0",
            "_view_name": "HBoxView",
            "box_style": "",
            "children": [
              "IPY_MODEL_a742fc4a02dd45eda38b8b8cc57afc63",
              "IPY_MODEL_6d71e3436a954702967a56950003ea65",
              "IPY_MODEL_1f9e8e9904a949b38a2461a8eb450942"
            ],
            "layout": "IPY_MODEL_39a0d538fa4244f8bd8413ca99ddbbad"
          }
        },
        "a742fc4a02dd45eda38b8b8cc57afc63": {
          "model_module": "@jupyter-widgets/controls",
          "model_name": "HTMLModel",
          "state": {
            "_dom_classes": [],
            "_model_module": "@jupyter-widgets/controls",
            "_model_module_version": "1.5.0",
            "_model_name": "HTMLModel",
            "_view_count": null,
            "_view_module": "@jupyter-widgets/controls",
            "_view_module_version": "1.5.0",
            "_view_name": "HTMLView",
            "description": "",
            "description_tooltip": null,
            "layout": "IPY_MODEL_3ad7e85b5f7248f3936ed83599428cca",
            "placeholder": "​",
            "style": "IPY_MODEL_5bc4638c661e46f3ad8e976d1a3b7e7f",
            "value": "Downloading: 100%"
          }
        },
        "6d71e3436a954702967a56950003ea65": {
          "model_module": "@jupyter-widgets/controls",
          "model_name": "FloatProgressModel",
          "state": {
            "_dom_classes": [],
            "_model_module": "@jupyter-widgets/controls",
            "_model_module_version": "1.5.0",
            "_model_name": "FloatProgressModel",
            "_view_count": null,
            "_view_module": "@jupyter-widgets/controls",
            "_view_module_version": "1.5.0",
            "_view_name": "ProgressView",
            "bar_style": "success",
            "description": "",
            "description_tooltip": null,
            "layout": "IPY_MODEL_c553308a92be4c86b3f9919d4fad631a",
            "max": 462,
            "min": 0,
            "orientation": "horizontal",
            "style": "IPY_MODEL_812b6b5a14c2438b8cfae45c23e018d0",
            "value": 462
          }
        },
        "1f9e8e9904a949b38a2461a8eb450942": {
          "model_module": "@jupyter-widgets/controls",
          "model_name": "HTMLModel",
          "state": {
            "_dom_classes": [],
            "_model_module": "@jupyter-widgets/controls",
            "_model_module_version": "1.5.0",
            "_model_name": "HTMLModel",
            "_view_count": null,
            "_view_module": "@jupyter-widgets/controls",
            "_view_module_version": "1.5.0",
            "_view_name": "HTMLView",
            "description": "",
            "description_tooltip": null,
            "layout": "IPY_MODEL_8c1e9ecadc454ef08c7f52fc477ea193",
            "placeholder": "​",
            "style": "IPY_MODEL_aed596cae4284ee79addcf3d467dbf29",
            "value": " 462/462 [00:00&lt;00:00, 18.3kB/s]"
          }
        },
        "39a0d538fa4244f8bd8413ca99ddbbad": {
          "model_module": "@jupyter-widgets/base",
          "model_name": "LayoutModel",
          "state": {
            "_model_module": "@jupyter-widgets/base",
            "_model_module_version": "1.2.0",
            "_model_name": "LayoutModel",
            "_view_count": null,
            "_view_module": "@jupyter-widgets/base",
            "_view_module_version": "1.2.0",
            "_view_name": "LayoutView",
            "align_content": null,
            "align_items": null,
            "align_self": null,
            "border": null,
            "bottom": null,
            "display": null,
            "flex": null,
            "flex_flow": null,
            "grid_area": null,
            "grid_auto_columns": null,
            "grid_auto_flow": null,
            "grid_auto_rows": null,
            "grid_column": null,
            "grid_gap": null,
            "grid_row": null,
            "grid_template_areas": null,
            "grid_template_columns": null,
            "grid_template_rows": null,
            "height": null,
            "justify_content": null,
            "justify_items": null,
            "left": null,
            "margin": null,
            "max_height": null,
            "max_width": null,
            "min_height": null,
            "min_width": null,
            "object_fit": null,
            "object_position": null,
            "order": null,
            "overflow": null,
            "overflow_x": null,
            "overflow_y": null,
            "padding": null,
            "right": null,
            "top": null,
            "visibility": null,
            "width": null
          }
        },
        "3ad7e85b5f7248f3936ed83599428cca": {
          "model_module": "@jupyter-widgets/base",
          "model_name": "LayoutModel",
          "state": {
            "_model_module": "@jupyter-widgets/base",
            "_model_module_version": "1.2.0",
            "_model_name": "LayoutModel",
            "_view_count": null,
            "_view_module": "@jupyter-widgets/base",
            "_view_module_version": "1.2.0",
            "_view_name": "LayoutView",
            "align_content": null,
            "align_items": null,
            "align_self": null,
            "border": null,
            "bottom": null,
            "display": null,
            "flex": null,
            "flex_flow": null,
            "grid_area": null,
            "grid_auto_columns": null,
            "grid_auto_flow": null,
            "grid_auto_rows": null,
            "grid_column": null,
            "grid_gap": null,
            "grid_row": null,
            "grid_template_areas": null,
            "grid_template_columns": null,
            "grid_template_rows": null,
            "height": null,
            "justify_content": null,
            "justify_items": null,
            "left": null,
            "margin": null,
            "max_height": null,
            "max_width": null,
            "min_height": null,
            "min_width": null,
            "object_fit": null,
            "object_position": null,
            "order": null,
            "overflow": null,
            "overflow_x": null,
            "overflow_y": null,
            "padding": null,
            "right": null,
            "top": null,
            "visibility": null,
            "width": null
          }
        },
        "5bc4638c661e46f3ad8e976d1a3b7e7f": {
          "model_module": "@jupyter-widgets/controls",
          "model_name": "DescriptionStyleModel",
          "state": {
            "_model_module": "@jupyter-widgets/controls",
            "_model_module_version": "1.5.0",
            "_model_name": "DescriptionStyleModel",
            "_view_count": null,
            "_view_module": "@jupyter-widgets/base",
            "_view_module_version": "1.2.0",
            "_view_name": "StyleView",
            "description_width": ""
          }
        },
        "c553308a92be4c86b3f9919d4fad631a": {
          "model_module": "@jupyter-widgets/base",
          "model_name": "LayoutModel",
          "state": {
            "_model_module": "@jupyter-widgets/base",
            "_model_module_version": "1.2.0",
            "_model_name": "LayoutModel",
            "_view_count": null,
            "_view_module": "@jupyter-widgets/base",
            "_view_module_version": "1.2.0",
            "_view_name": "LayoutView",
            "align_content": null,
            "align_items": null,
            "align_self": null,
            "border": null,
            "bottom": null,
            "display": null,
            "flex": null,
            "flex_flow": null,
            "grid_area": null,
            "grid_auto_columns": null,
            "grid_auto_flow": null,
            "grid_auto_rows": null,
            "grid_column": null,
            "grid_gap": null,
            "grid_row": null,
            "grid_template_areas": null,
            "grid_template_columns": null,
            "grid_template_rows": null,
            "height": null,
            "justify_content": null,
            "justify_items": null,
            "left": null,
            "margin": null,
            "max_height": null,
            "max_width": null,
            "min_height": null,
            "min_width": null,
            "object_fit": null,
            "object_position": null,
            "order": null,
            "overflow": null,
            "overflow_x": null,
            "overflow_y": null,
            "padding": null,
            "right": null,
            "top": null,
            "visibility": null,
            "width": null
          }
        },
        "812b6b5a14c2438b8cfae45c23e018d0": {
          "model_module": "@jupyter-widgets/controls",
          "model_name": "ProgressStyleModel",
          "state": {
            "_model_module": "@jupyter-widgets/controls",
            "_model_module_version": "1.5.0",
            "_model_name": "ProgressStyleModel",
            "_view_count": null,
            "_view_module": "@jupyter-widgets/base",
            "_view_module_version": "1.2.0",
            "_view_name": "StyleView",
            "bar_color": null,
            "description_width": ""
          }
        },
        "8c1e9ecadc454ef08c7f52fc477ea193": {
          "model_module": "@jupyter-widgets/base",
          "model_name": "LayoutModel",
          "state": {
            "_model_module": "@jupyter-widgets/base",
            "_model_module_version": "1.2.0",
            "_model_name": "LayoutModel",
            "_view_count": null,
            "_view_module": "@jupyter-widgets/base",
            "_view_module_version": "1.2.0",
            "_view_name": "LayoutView",
            "align_content": null,
            "align_items": null,
            "align_self": null,
            "border": null,
            "bottom": null,
            "display": null,
            "flex": null,
            "flex_flow": null,
            "grid_area": null,
            "grid_auto_columns": null,
            "grid_auto_flow": null,
            "grid_auto_rows": null,
            "grid_column": null,
            "grid_gap": null,
            "grid_row": null,
            "grid_template_areas": null,
            "grid_template_columns": null,
            "grid_template_rows": null,
            "height": null,
            "justify_content": null,
            "justify_items": null,
            "left": null,
            "margin": null,
            "max_height": null,
            "max_width": null,
            "min_height": null,
            "min_width": null,
            "object_fit": null,
            "object_position": null,
            "order": null,
            "overflow": null,
            "overflow_x": null,
            "overflow_y": null,
            "padding": null,
            "right": null,
            "top": null,
            "visibility": null,
            "width": null
          }
        },
        "aed596cae4284ee79addcf3d467dbf29": {
          "model_module": "@jupyter-widgets/controls",
          "model_name": "DescriptionStyleModel",
          "state": {
            "_model_module": "@jupyter-widgets/controls",
            "_model_module_version": "1.5.0",
            "_model_name": "DescriptionStyleModel",
            "_view_count": null,
            "_view_module": "@jupyter-widgets/base",
            "_view_module_version": "1.2.0",
            "_view_name": "StyleView",
            "description_width": ""
          }
        },
        "1b435adba4c34ee0bd4dd48282fcbfa1": {
          "model_module": "@jupyter-widgets/controls",
          "model_name": "HBoxModel",
          "state": {
            "_dom_classes": [],
            "_model_module": "@jupyter-widgets/controls",
            "_model_module_version": "1.5.0",
            "_model_name": "HBoxModel",
            "_view_count": null,
            "_view_module": "@jupyter-widgets/controls",
            "_view_module_version": "1.5.0",
            "_view_name": "HBoxView",
            "box_style": "",
            "children": [
              "IPY_MODEL_6d90ef487fc54cb98f874620ece1200b",
              "IPY_MODEL_7996a7ae66634af7a76a46182dfbe8d7",
              "IPY_MODEL_67f697b9a6fe4644adc79cb579f9c464"
            ],
            "layout": "IPY_MODEL_ba9242b67fec42968df7886e9f0b59d8"
          }
        },
        "6d90ef487fc54cb98f874620ece1200b": {
          "model_module": "@jupyter-widgets/controls",
          "model_name": "HTMLModel",
          "state": {
            "_dom_classes": [],
            "_model_module": "@jupyter-widgets/controls",
            "_model_module_version": "1.5.0",
            "_model_name": "HTMLModel",
            "_view_count": null,
            "_view_module": "@jupyter-widgets/controls",
            "_view_module_version": "1.5.0",
            "_view_name": "HTMLView",
            "description": "",
            "description_tooltip": null,
            "layout": "IPY_MODEL_eb07ab98c00642d3b50fed64e5f249b1",
            "placeholder": "​",
            "style": "IPY_MODEL_45e1e6e0bd964a68a1c6fca76c1273bd",
            "value": "Downloading: 100%"
          }
        },
        "7996a7ae66634af7a76a46182dfbe8d7": {
          "model_module": "@jupyter-widgets/controls",
          "model_name": "FloatProgressModel",
          "state": {
            "_dom_classes": [],
            "_model_module": "@jupyter-widgets/controls",
            "_model_module_version": "1.5.0",
            "_model_name": "FloatProgressModel",
            "_view_count": null,
            "_view_module": "@jupyter-widgets/controls",
            "_view_module_version": "1.5.0",
            "_view_name": "ProgressView",
            "bar_style": "success",
            "description": "",
            "description_tooltip": null,
            "layout": "IPY_MODEL_c875d12debd342dab56293c8064285db",
            "max": 433286112,
            "min": 0,
            "orientation": "horizontal",
            "style": "IPY_MODEL_85b5b6810f4843f2b4e836c03dfb07b8",
            "value": 433286112
          }
        },
        "67f697b9a6fe4644adc79cb579f9c464": {
          "model_module": "@jupyter-widgets/controls",
          "model_name": "HTMLModel",
          "state": {
            "_dom_classes": [],
            "_model_module": "@jupyter-widgets/controls",
            "_model_module_version": "1.5.0",
            "_model_name": "HTMLModel",
            "_view_count": null,
            "_view_module": "@jupyter-widgets/controls",
            "_view_module_version": "1.5.0",
            "_view_name": "HTMLView",
            "description": "",
            "description_tooltip": null,
            "layout": "IPY_MODEL_a758168d9d4b499dbfac29517ededb7b",
            "placeholder": "​",
            "style": "IPY_MODEL_941d106deda440d48ad3fe5b3dbaf554",
            "value": " 433M/433M [00:07&lt;00:00, 64.1MB/s]"
          }
        },
        "ba9242b67fec42968df7886e9f0b59d8": {
          "model_module": "@jupyter-widgets/base",
          "model_name": "LayoutModel",
          "state": {
            "_model_module": "@jupyter-widgets/base",
            "_model_module_version": "1.2.0",
            "_model_name": "LayoutModel",
            "_view_count": null,
            "_view_module": "@jupyter-widgets/base",
            "_view_module_version": "1.2.0",
            "_view_name": "LayoutView",
            "align_content": null,
            "align_items": null,
            "align_self": null,
            "border": null,
            "bottom": null,
            "display": null,
            "flex": null,
            "flex_flow": null,
            "grid_area": null,
            "grid_auto_columns": null,
            "grid_auto_flow": null,
            "grid_auto_rows": null,
            "grid_column": null,
            "grid_gap": null,
            "grid_row": null,
            "grid_template_areas": null,
            "grid_template_columns": null,
            "grid_template_rows": null,
            "height": null,
            "justify_content": null,
            "justify_items": null,
            "left": null,
            "margin": null,
            "max_height": null,
            "max_width": null,
            "min_height": null,
            "min_width": null,
            "object_fit": null,
            "object_position": null,
            "order": null,
            "overflow": null,
            "overflow_x": null,
            "overflow_y": null,
            "padding": null,
            "right": null,
            "top": null,
            "visibility": null,
            "width": null
          }
        },
        "eb07ab98c00642d3b50fed64e5f249b1": {
          "model_module": "@jupyter-widgets/base",
          "model_name": "LayoutModel",
          "state": {
            "_model_module": "@jupyter-widgets/base",
            "_model_module_version": "1.2.0",
            "_model_name": "LayoutModel",
            "_view_count": null,
            "_view_module": "@jupyter-widgets/base",
            "_view_module_version": "1.2.0",
            "_view_name": "LayoutView",
            "align_content": null,
            "align_items": null,
            "align_self": null,
            "border": null,
            "bottom": null,
            "display": null,
            "flex": null,
            "flex_flow": null,
            "grid_area": null,
            "grid_auto_columns": null,
            "grid_auto_flow": null,
            "grid_auto_rows": null,
            "grid_column": null,
            "grid_gap": null,
            "grid_row": null,
            "grid_template_areas": null,
            "grid_template_columns": null,
            "grid_template_rows": null,
            "height": null,
            "justify_content": null,
            "justify_items": null,
            "left": null,
            "margin": null,
            "max_height": null,
            "max_width": null,
            "min_height": null,
            "min_width": null,
            "object_fit": null,
            "object_position": null,
            "order": null,
            "overflow": null,
            "overflow_x": null,
            "overflow_y": null,
            "padding": null,
            "right": null,
            "top": null,
            "visibility": null,
            "width": null
          }
        },
        "45e1e6e0bd964a68a1c6fca76c1273bd": {
          "model_module": "@jupyter-widgets/controls",
          "model_name": "DescriptionStyleModel",
          "state": {
            "_model_module": "@jupyter-widgets/controls",
            "_model_module_version": "1.5.0",
            "_model_name": "DescriptionStyleModel",
            "_view_count": null,
            "_view_module": "@jupyter-widgets/base",
            "_view_module_version": "1.2.0",
            "_view_name": "StyleView",
            "description_width": ""
          }
        },
        "c875d12debd342dab56293c8064285db": {
          "model_module": "@jupyter-widgets/base",
          "model_name": "LayoutModel",
          "state": {
            "_model_module": "@jupyter-widgets/base",
            "_model_module_version": "1.2.0",
            "_model_name": "LayoutModel",
            "_view_count": null,
            "_view_module": "@jupyter-widgets/base",
            "_view_module_version": "1.2.0",
            "_view_name": "LayoutView",
            "align_content": null,
            "align_items": null,
            "align_self": null,
            "border": null,
            "bottom": null,
            "display": null,
            "flex": null,
            "flex_flow": null,
            "grid_area": null,
            "grid_auto_columns": null,
            "grid_auto_flow": null,
            "grid_auto_rows": null,
            "grid_column": null,
            "grid_gap": null,
            "grid_row": null,
            "grid_template_areas": null,
            "grid_template_columns": null,
            "grid_template_rows": null,
            "height": null,
            "justify_content": null,
            "justify_items": null,
            "left": null,
            "margin": null,
            "max_height": null,
            "max_width": null,
            "min_height": null,
            "min_width": null,
            "object_fit": null,
            "object_position": null,
            "order": null,
            "overflow": null,
            "overflow_x": null,
            "overflow_y": null,
            "padding": null,
            "right": null,
            "top": null,
            "visibility": null,
            "width": null
          }
        },
        "85b5b6810f4843f2b4e836c03dfb07b8": {
          "model_module": "@jupyter-widgets/controls",
          "model_name": "ProgressStyleModel",
          "state": {
            "_model_module": "@jupyter-widgets/controls",
            "_model_module_version": "1.5.0",
            "_model_name": "ProgressStyleModel",
            "_view_count": null,
            "_view_module": "@jupyter-widgets/base",
            "_view_module_version": "1.2.0",
            "_view_name": "StyleView",
            "bar_color": null,
            "description_width": ""
          }
        },
        "a758168d9d4b499dbfac29517ededb7b": {
          "model_module": "@jupyter-widgets/base",
          "model_name": "LayoutModel",
          "state": {
            "_model_module": "@jupyter-widgets/base",
            "_model_module_version": "1.2.0",
            "_model_name": "LayoutModel",
            "_view_count": null,
            "_view_module": "@jupyter-widgets/base",
            "_view_module_version": "1.2.0",
            "_view_name": "LayoutView",
            "align_content": null,
            "align_items": null,
            "align_self": null,
            "border": null,
            "bottom": null,
            "display": null,
            "flex": null,
            "flex_flow": null,
            "grid_area": null,
            "grid_auto_columns": null,
            "grid_auto_flow": null,
            "grid_auto_rows": null,
            "grid_column": null,
            "grid_gap": null,
            "grid_row": null,
            "grid_template_areas": null,
            "grid_template_columns": null,
            "grid_template_rows": null,
            "height": null,
            "justify_content": null,
            "justify_items": null,
            "left": null,
            "margin": null,
            "max_height": null,
            "max_width": null,
            "min_height": null,
            "min_width": null,
            "object_fit": null,
            "object_position": null,
            "order": null,
            "overflow": null,
            "overflow_x": null,
            "overflow_y": null,
            "padding": null,
            "right": null,
            "top": null,
            "visibility": null,
            "width": null
          }
        },
        "941d106deda440d48ad3fe5b3dbaf554": {
          "model_module": "@jupyter-widgets/controls",
          "model_name": "DescriptionStyleModel",
          "state": {
            "_model_module": "@jupyter-widgets/controls",
            "_model_module_version": "1.5.0",
            "_model_name": "DescriptionStyleModel",
            "_view_count": null,
            "_view_module": "@jupyter-widgets/base",
            "_view_module_version": "1.2.0",
            "_view_name": "StyleView",
            "description_width": ""
          }
        },
        "c0e4b8dcc97f487f90c40574e5422b36": {
          "model_module": "@jupyter-widgets/controls",
          "model_name": "HBoxModel",
          "state": {
            "_dom_classes": [],
            "_model_module": "@jupyter-widgets/controls",
            "_model_module_version": "1.5.0",
            "_model_name": "HBoxModel",
            "_view_count": null,
            "_view_module": "@jupyter-widgets/controls",
            "_view_module_version": "1.5.0",
            "_view_name": "HBoxView",
            "box_style": "",
            "children": [
              "IPY_MODEL_8c573f72bc6c42d4af4dd472765e60b5",
              "IPY_MODEL_42606414558f412b96436cec800e5722",
              "IPY_MODEL_b0c0717e113043db9b020f779c2e3a20"
            ],
            "layout": "IPY_MODEL_402697871c134e5cb4dcb5f4674aeedf"
          }
        },
        "8c573f72bc6c42d4af4dd472765e60b5": {
          "model_module": "@jupyter-widgets/controls",
          "model_name": "HTMLModel",
          "state": {
            "_dom_classes": [],
            "_model_module": "@jupyter-widgets/controls",
            "_model_module_version": "1.5.0",
            "_model_name": "HTMLModel",
            "_view_count": null,
            "_view_module": "@jupyter-widgets/controls",
            "_view_module_version": "1.5.0",
            "_view_name": "HTMLView",
            "description": "",
            "description_tooltip": null,
            "layout": "IPY_MODEL_42eb729c6e1d4678aee39f7e40be0c5d",
            "placeholder": "​",
            "style": "IPY_MODEL_f072a93203104d5a97ed52ace065cb8d",
            "value": "Downloading: 100%"
          }
        },
        "42606414558f412b96436cec800e5722": {
          "model_module": "@jupyter-widgets/controls",
          "model_name": "FloatProgressModel",
          "state": {
            "_dom_classes": [],
            "_model_module": "@jupyter-widgets/controls",
            "_model_module_version": "1.5.0",
            "_model_name": "FloatProgressModel",
            "_view_count": null,
            "_view_module": "@jupyter-widgets/controls",
            "_view_module_version": "1.5.0",
            "_view_name": "ProgressView",
            "bar_style": "success",
            "description": "",
            "description_tooltip": null,
            "layout": "IPY_MODEL_e5930ab6b4e8412c8c108a2c19e39050",
            "max": 213450,
            "min": 0,
            "orientation": "horizontal",
            "style": "IPY_MODEL_049537f06cc547f89a3394329ee43f3b",
            "value": 213450
          }
        },
        "b0c0717e113043db9b020f779c2e3a20": {
          "model_module": "@jupyter-widgets/controls",
          "model_name": "HTMLModel",
          "state": {
            "_dom_classes": [],
            "_model_module": "@jupyter-widgets/controls",
            "_model_module_version": "1.5.0",
            "_model_name": "HTMLModel",
            "_view_count": null,
            "_view_module": "@jupyter-widgets/controls",
            "_view_module_version": "1.5.0",
            "_view_name": "HTMLView",
            "description": "",
            "description_tooltip": null,
            "layout": "IPY_MODEL_af81623563824636848752da1c42c28d",
            "placeholder": "​",
            "style": "IPY_MODEL_57a52ae2428241ac82b97912ba9281ac",
            "value": " 213k/213k [00:00&lt;00:00, 848kB/s]"
          }
        },
        "402697871c134e5cb4dcb5f4674aeedf": {
          "model_module": "@jupyter-widgets/base",
          "model_name": "LayoutModel",
          "state": {
            "_model_module": "@jupyter-widgets/base",
            "_model_module_version": "1.2.0",
            "_model_name": "LayoutModel",
            "_view_count": null,
            "_view_module": "@jupyter-widgets/base",
            "_view_module_version": "1.2.0",
            "_view_name": "LayoutView",
            "align_content": null,
            "align_items": null,
            "align_self": null,
            "border": null,
            "bottom": null,
            "display": null,
            "flex": null,
            "flex_flow": null,
            "grid_area": null,
            "grid_auto_columns": null,
            "grid_auto_flow": null,
            "grid_auto_rows": null,
            "grid_column": null,
            "grid_gap": null,
            "grid_row": null,
            "grid_template_areas": null,
            "grid_template_columns": null,
            "grid_template_rows": null,
            "height": null,
            "justify_content": null,
            "justify_items": null,
            "left": null,
            "margin": null,
            "max_height": null,
            "max_width": null,
            "min_height": null,
            "min_width": null,
            "object_fit": null,
            "object_position": null,
            "order": null,
            "overflow": null,
            "overflow_x": null,
            "overflow_y": null,
            "padding": null,
            "right": null,
            "top": null,
            "visibility": null,
            "width": null
          }
        },
        "42eb729c6e1d4678aee39f7e40be0c5d": {
          "model_module": "@jupyter-widgets/base",
          "model_name": "LayoutModel",
          "state": {
            "_model_module": "@jupyter-widgets/base",
            "_model_module_version": "1.2.0",
            "_model_name": "LayoutModel",
            "_view_count": null,
            "_view_module": "@jupyter-widgets/base",
            "_view_module_version": "1.2.0",
            "_view_name": "LayoutView",
            "align_content": null,
            "align_items": null,
            "align_self": null,
            "border": null,
            "bottom": null,
            "display": null,
            "flex": null,
            "flex_flow": null,
            "grid_area": null,
            "grid_auto_columns": null,
            "grid_auto_flow": null,
            "grid_auto_rows": null,
            "grid_column": null,
            "grid_gap": null,
            "grid_row": null,
            "grid_template_areas": null,
            "grid_template_columns": null,
            "grid_template_rows": null,
            "height": null,
            "justify_content": null,
            "justify_items": null,
            "left": null,
            "margin": null,
            "max_height": null,
            "max_width": null,
            "min_height": null,
            "min_width": null,
            "object_fit": null,
            "object_position": null,
            "order": null,
            "overflow": null,
            "overflow_x": null,
            "overflow_y": null,
            "padding": null,
            "right": null,
            "top": null,
            "visibility": null,
            "width": null
          }
        },
        "f072a93203104d5a97ed52ace065cb8d": {
          "model_module": "@jupyter-widgets/controls",
          "model_name": "DescriptionStyleModel",
          "state": {
            "_model_module": "@jupyter-widgets/controls",
            "_model_module_version": "1.5.0",
            "_model_name": "DescriptionStyleModel",
            "_view_count": null,
            "_view_module": "@jupyter-widgets/base",
            "_view_module_version": "1.2.0",
            "_view_name": "StyleView",
            "description_width": ""
          }
        },
        "e5930ab6b4e8412c8c108a2c19e39050": {
          "model_module": "@jupyter-widgets/base",
          "model_name": "LayoutModel",
          "state": {
            "_model_module": "@jupyter-widgets/base",
            "_model_module_version": "1.2.0",
            "_model_name": "LayoutModel",
            "_view_count": null,
            "_view_module": "@jupyter-widgets/base",
            "_view_module_version": "1.2.0",
            "_view_name": "LayoutView",
            "align_content": null,
            "align_items": null,
            "align_self": null,
            "border": null,
            "bottom": null,
            "display": null,
            "flex": null,
            "flex_flow": null,
            "grid_area": null,
            "grid_auto_columns": null,
            "grid_auto_flow": null,
            "grid_auto_rows": null,
            "grid_column": null,
            "grid_gap": null,
            "grid_row": null,
            "grid_template_areas": null,
            "grid_template_columns": null,
            "grid_template_rows": null,
            "height": null,
            "justify_content": null,
            "justify_items": null,
            "left": null,
            "margin": null,
            "max_height": null,
            "max_width": null,
            "min_height": null,
            "min_width": null,
            "object_fit": null,
            "object_position": null,
            "order": null,
            "overflow": null,
            "overflow_x": null,
            "overflow_y": null,
            "padding": null,
            "right": null,
            "top": null,
            "visibility": null,
            "width": null
          }
        },
        "049537f06cc547f89a3394329ee43f3b": {
          "model_module": "@jupyter-widgets/controls",
          "model_name": "ProgressStyleModel",
          "state": {
            "_model_module": "@jupyter-widgets/controls",
            "_model_module_version": "1.5.0",
            "_model_name": "ProgressStyleModel",
            "_view_count": null,
            "_view_module": "@jupyter-widgets/base",
            "_view_module_version": "1.2.0",
            "_view_name": "StyleView",
            "bar_color": null,
            "description_width": ""
          }
        },
        "af81623563824636848752da1c42c28d": {
          "model_module": "@jupyter-widgets/base",
          "model_name": "LayoutModel",
          "state": {
            "_model_module": "@jupyter-widgets/base",
            "_model_module_version": "1.2.0",
            "_model_name": "LayoutModel",
            "_view_count": null,
            "_view_module": "@jupyter-widgets/base",
            "_view_module_version": "1.2.0",
            "_view_name": "LayoutView",
            "align_content": null,
            "align_items": null,
            "align_self": null,
            "border": null,
            "bottom": null,
            "display": null,
            "flex": null,
            "flex_flow": null,
            "grid_area": null,
            "grid_auto_columns": null,
            "grid_auto_flow": null,
            "grid_auto_rows": null,
            "grid_column": null,
            "grid_gap": null,
            "grid_row": null,
            "grid_template_areas": null,
            "grid_template_columns": null,
            "grid_template_rows": null,
            "height": null,
            "justify_content": null,
            "justify_items": null,
            "left": null,
            "margin": null,
            "max_height": null,
            "max_width": null,
            "min_height": null,
            "min_width": null,
            "object_fit": null,
            "object_position": null,
            "order": null,
            "overflow": null,
            "overflow_x": null,
            "overflow_y": null,
            "padding": null,
            "right": null,
            "top": null,
            "visibility": null,
            "width": null
          }
        },
        "57a52ae2428241ac82b97912ba9281ac": {
          "model_module": "@jupyter-widgets/controls",
          "model_name": "DescriptionStyleModel",
          "state": {
            "_model_module": "@jupyter-widgets/controls",
            "_model_module_version": "1.5.0",
            "_model_name": "DescriptionStyleModel",
            "_view_count": null,
            "_view_module": "@jupyter-widgets/base",
            "_view_module_version": "1.2.0",
            "_view_name": "StyleView",
            "description_width": ""
          }
        },
        "6bcd1e58d59242d9b9aa292ccc101905": {
          "model_module": "@jupyter-widgets/controls",
          "model_name": "HBoxModel",
          "state": {
            "_dom_classes": [],
            "_model_module": "@jupyter-widgets/controls",
            "_model_module_version": "1.5.0",
            "_model_name": "HBoxModel",
            "_view_count": null,
            "_view_module": "@jupyter-widgets/controls",
            "_view_module_version": "1.5.0",
            "_view_name": "HBoxView",
            "box_style": "",
            "children": [
              "IPY_MODEL_97b7048dcf214abc97fe38c078c4abc7",
              "IPY_MODEL_8ffe9cba06864eeba436256d73b7d700",
              "IPY_MODEL_625055ea5d1c40d9977813ba87d00f15"
            ],
            "layout": "IPY_MODEL_f154df59113b4cfcb879ec12a6ffd031"
          }
        },
        "97b7048dcf214abc97fe38c078c4abc7": {
          "model_module": "@jupyter-widgets/controls",
          "model_name": "HTMLModel",
          "state": {
            "_dom_classes": [],
            "_model_module": "@jupyter-widgets/controls",
            "_model_module_version": "1.5.0",
            "_model_name": "HTMLModel",
            "_view_count": null,
            "_view_module": "@jupyter-widgets/controls",
            "_view_module_version": "1.5.0",
            "_view_name": "HTMLView",
            "description": "",
            "description_tooltip": null,
            "layout": "IPY_MODEL_6cefb69ef82c4b559978b4bc10658b87",
            "placeholder": "​",
            "style": "IPY_MODEL_bf5a15eaab034a29becf07df5fa07ef7",
            "value": "Downloading: 100%"
          }
        },
        "8ffe9cba06864eeba436256d73b7d700": {
          "model_module": "@jupyter-widgets/controls",
          "model_name": "FloatProgressModel",
          "state": {
            "_dom_classes": [],
            "_model_module": "@jupyter-widgets/controls",
            "_model_module_version": "1.5.0",
            "_model_name": "FloatProgressModel",
            "_view_count": null,
            "_view_module": "@jupyter-widgets/controls",
            "_view_module_version": "1.5.0",
            "_view_name": "ProgressView",
            "bar_style": "success",
            "description": "",
            "description_tooltip": null,
            "layout": "IPY_MODEL_88cea2b879014f0f95f95fc493d6023c",
            "max": 112,
            "min": 0,
            "orientation": "horizontal",
            "style": "IPY_MODEL_880614cb5df242fbb9c6d2425987f9c0",
            "value": 112
          }
        },
        "625055ea5d1c40d9977813ba87d00f15": {
          "model_module": "@jupyter-widgets/controls",
          "model_name": "HTMLModel",
          "state": {
            "_dom_classes": [],
            "_model_module": "@jupyter-widgets/controls",
            "_model_module_version": "1.5.0",
            "_model_name": "HTMLModel",
            "_view_count": null,
            "_view_module": "@jupyter-widgets/controls",
            "_view_module_version": "1.5.0",
            "_view_name": "HTMLView",
            "description": "",
            "description_tooltip": null,
            "layout": "IPY_MODEL_4e32e4b3a3f644cbb89946aa6d540708",
            "placeholder": "​",
            "style": "IPY_MODEL_63abb54eed564b39b9986e2827e0dfb1",
            "value": " 112/112 [00:00&lt;00:00, 4.23kB/s]"
          }
        },
        "f154df59113b4cfcb879ec12a6ffd031": {
          "model_module": "@jupyter-widgets/base",
          "model_name": "LayoutModel",
          "state": {
            "_model_module": "@jupyter-widgets/base",
            "_model_module_version": "1.2.0",
            "_model_name": "LayoutModel",
            "_view_count": null,
            "_view_module": "@jupyter-widgets/base",
            "_view_module_version": "1.2.0",
            "_view_name": "LayoutView",
            "align_content": null,
            "align_items": null,
            "align_self": null,
            "border": null,
            "bottom": null,
            "display": null,
            "flex": null,
            "flex_flow": null,
            "grid_area": null,
            "grid_auto_columns": null,
            "grid_auto_flow": null,
            "grid_auto_rows": null,
            "grid_column": null,
            "grid_gap": null,
            "grid_row": null,
            "grid_template_areas": null,
            "grid_template_columns": null,
            "grid_template_rows": null,
            "height": null,
            "justify_content": null,
            "justify_items": null,
            "left": null,
            "margin": null,
            "max_height": null,
            "max_width": null,
            "min_height": null,
            "min_width": null,
            "object_fit": null,
            "object_position": null,
            "order": null,
            "overflow": null,
            "overflow_x": null,
            "overflow_y": null,
            "padding": null,
            "right": null,
            "top": null,
            "visibility": null,
            "width": null
          }
        },
        "6cefb69ef82c4b559978b4bc10658b87": {
          "model_module": "@jupyter-widgets/base",
          "model_name": "LayoutModel",
          "state": {
            "_model_module": "@jupyter-widgets/base",
            "_model_module_version": "1.2.0",
            "_model_name": "LayoutModel",
            "_view_count": null,
            "_view_module": "@jupyter-widgets/base",
            "_view_module_version": "1.2.0",
            "_view_name": "LayoutView",
            "align_content": null,
            "align_items": null,
            "align_self": null,
            "border": null,
            "bottom": null,
            "display": null,
            "flex": null,
            "flex_flow": null,
            "grid_area": null,
            "grid_auto_columns": null,
            "grid_auto_flow": null,
            "grid_auto_rows": null,
            "grid_column": null,
            "grid_gap": null,
            "grid_row": null,
            "grid_template_areas": null,
            "grid_template_columns": null,
            "grid_template_rows": null,
            "height": null,
            "justify_content": null,
            "justify_items": null,
            "left": null,
            "margin": null,
            "max_height": null,
            "max_width": null,
            "min_height": null,
            "min_width": null,
            "object_fit": null,
            "object_position": null,
            "order": null,
            "overflow": null,
            "overflow_x": null,
            "overflow_y": null,
            "padding": null,
            "right": null,
            "top": null,
            "visibility": null,
            "width": null
          }
        },
        "bf5a15eaab034a29becf07df5fa07ef7": {
          "model_module": "@jupyter-widgets/controls",
          "model_name": "DescriptionStyleModel",
          "state": {
            "_model_module": "@jupyter-widgets/controls",
            "_model_module_version": "1.5.0",
            "_model_name": "DescriptionStyleModel",
            "_view_count": null,
            "_view_module": "@jupyter-widgets/base",
            "_view_module_version": "1.2.0",
            "_view_name": "StyleView",
            "description_width": ""
          }
        },
        "88cea2b879014f0f95f95fc493d6023c": {
          "model_module": "@jupyter-widgets/base",
          "model_name": "LayoutModel",
          "state": {
            "_model_module": "@jupyter-widgets/base",
            "_model_module_version": "1.2.0",
            "_model_name": "LayoutModel",
            "_view_count": null,
            "_view_module": "@jupyter-widgets/base",
            "_view_module_version": "1.2.0",
            "_view_name": "LayoutView",
            "align_content": null,
            "align_items": null,
            "align_self": null,
            "border": null,
            "bottom": null,
            "display": null,
            "flex": null,
            "flex_flow": null,
            "grid_area": null,
            "grid_auto_columns": null,
            "grid_auto_flow": null,
            "grid_auto_rows": null,
            "grid_column": null,
            "grid_gap": null,
            "grid_row": null,
            "grid_template_areas": null,
            "grid_template_columns": null,
            "grid_template_rows": null,
            "height": null,
            "justify_content": null,
            "justify_items": null,
            "left": null,
            "margin": null,
            "max_height": null,
            "max_width": null,
            "min_height": null,
            "min_width": null,
            "object_fit": null,
            "object_position": null,
            "order": null,
            "overflow": null,
            "overflow_x": null,
            "overflow_y": null,
            "padding": null,
            "right": null,
            "top": null,
            "visibility": null,
            "width": null
          }
        },
        "880614cb5df242fbb9c6d2425987f9c0": {
          "model_module": "@jupyter-widgets/controls",
          "model_name": "ProgressStyleModel",
          "state": {
            "_model_module": "@jupyter-widgets/controls",
            "_model_module_version": "1.5.0",
            "_model_name": "ProgressStyleModel",
            "_view_count": null,
            "_view_module": "@jupyter-widgets/base",
            "_view_module_version": "1.2.0",
            "_view_name": "StyleView",
            "bar_color": null,
            "description_width": ""
          }
        },
        "4e32e4b3a3f644cbb89946aa6d540708": {
          "model_module": "@jupyter-widgets/base",
          "model_name": "LayoutModel",
          "state": {
            "_model_module": "@jupyter-widgets/base",
            "_model_module_version": "1.2.0",
            "_model_name": "LayoutModel",
            "_view_count": null,
            "_view_module": "@jupyter-widgets/base",
            "_view_module_version": "1.2.0",
            "_view_name": "LayoutView",
            "align_content": null,
            "align_items": null,
            "align_self": null,
            "border": null,
            "bottom": null,
            "display": null,
            "flex": null,
            "flex_flow": null,
            "grid_area": null,
            "grid_auto_columns": null,
            "grid_auto_flow": null,
            "grid_auto_rows": null,
            "grid_column": null,
            "grid_gap": null,
            "grid_row": null,
            "grid_template_areas": null,
            "grid_template_columns": null,
            "grid_template_rows": null,
            "height": null,
            "justify_content": null,
            "justify_items": null,
            "left": null,
            "margin": null,
            "max_height": null,
            "max_width": null,
            "min_height": null,
            "min_width": null,
            "object_fit": null,
            "object_position": null,
            "order": null,
            "overflow": null,
            "overflow_x": null,
            "overflow_y": null,
            "padding": null,
            "right": null,
            "top": null,
            "visibility": null,
            "width": null
          }
        },
        "63abb54eed564b39b9986e2827e0dfb1": {
          "model_module": "@jupyter-widgets/controls",
          "model_name": "DescriptionStyleModel",
          "state": {
            "_model_module": "@jupyter-widgets/controls",
            "_model_module_version": "1.5.0",
            "_model_name": "DescriptionStyleModel",
            "_view_count": null,
            "_view_module": "@jupyter-widgets/base",
            "_view_module_version": "1.2.0",
            "_view_name": "StyleView",
            "description_width": ""
          }
        },
        "6f08b9e188164e078e2b8aaa779a5974": {
          "model_module": "@jupyter-widgets/controls",
          "model_name": "HBoxModel",
          "state": {
            "_dom_classes": [],
            "_model_module": "@jupyter-widgets/controls",
            "_model_module_version": "1.5.0",
            "_model_name": "HBoxModel",
            "_view_count": null,
            "_view_module": "@jupyter-widgets/controls",
            "_view_module_version": "1.5.0",
            "_view_name": "HBoxView",
            "box_style": "",
            "children": [
              "IPY_MODEL_fc29f5579e1d46b3974d3930fbe8c508",
              "IPY_MODEL_039ff92bafc1424a9840a4d714eda5fe",
              "IPY_MODEL_82db0f13e87a447b9d9ab060eea2231c"
            ],
            "layout": "IPY_MODEL_21896e71da4e46baa7cb9b82a3226fea"
          }
        },
        "fc29f5579e1d46b3974d3930fbe8c508": {
          "model_module": "@jupyter-widgets/controls",
          "model_name": "HTMLModel",
          "state": {
            "_dom_classes": [],
            "_model_module": "@jupyter-widgets/controls",
            "_model_module_version": "1.5.0",
            "_model_name": "HTMLModel",
            "_view_count": null,
            "_view_module": "@jupyter-widgets/controls",
            "_view_module_version": "1.5.0",
            "_view_name": "HTMLView",
            "description": "",
            "description_tooltip": null,
            "layout": "IPY_MODEL_130858e826ec4c5ca8d412323d7bde18",
            "placeholder": "​",
            "style": "IPY_MODEL_5f2c09c6826445c3a5dbb51ba263d07c",
            "value": "Downloading: 100%"
          }
        },
        "039ff92bafc1424a9840a4d714eda5fe": {
          "model_module": "@jupyter-widgets/controls",
          "model_name": "FloatProgressModel",
          "state": {
            "_dom_classes": [],
            "_model_module": "@jupyter-widgets/controls",
            "_model_module_version": "1.5.0",
            "_model_name": "FloatProgressModel",
            "_view_count": null,
            "_view_module": "@jupyter-widgets/controls",
            "_view_module_version": "1.5.0",
            "_view_name": "ProgressView",
            "bar_style": "success",
            "description": "",
            "description_tooltip": null,
            "layout": "IPY_MODEL_8baaffd70ab545c89fc8befc010d3dfc",
            "max": 49,
            "min": 0,
            "orientation": "horizontal",
            "style": "IPY_MODEL_48e83ddccf4e4d2c95db3fee9e6bacdc",
            "value": 49
          }
        },
        "82db0f13e87a447b9d9ab060eea2231c": {
          "model_module": "@jupyter-widgets/controls",
          "model_name": "HTMLModel",
          "state": {
            "_dom_classes": [],
            "_model_module": "@jupyter-widgets/controls",
            "_model_module_version": "1.5.0",
            "_model_name": "HTMLModel",
            "_view_count": null,
            "_view_module": "@jupyter-widgets/controls",
            "_view_module_version": "1.5.0",
            "_view_name": "HTMLView",
            "description": "",
            "description_tooltip": null,
            "layout": "IPY_MODEL_47395e6f4f484fef8cfc961fddfca545",
            "placeholder": "​",
            "style": "IPY_MODEL_a5fbd4af0ec540289caf8993585eecb7",
            "value": " 49.0/49.0 [00:00&lt;00:00, 2.04kB/s]"
          }
        },
        "21896e71da4e46baa7cb9b82a3226fea": {
          "model_module": "@jupyter-widgets/base",
          "model_name": "LayoutModel",
          "state": {
            "_model_module": "@jupyter-widgets/base",
            "_model_module_version": "1.2.0",
            "_model_name": "LayoutModel",
            "_view_count": null,
            "_view_module": "@jupyter-widgets/base",
            "_view_module_version": "1.2.0",
            "_view_name": "LayoutView",
            "align_content": null,
            "align_items": null,
            "align_self": null,
            "border": null,
            "bottom": null,
            "display": null,
            "flex": null,
            "flex_flow": null,
            "grid_area": null,
            "grid_auto_columns": null,
            "grid_auto_flow": null,
            "grid_auto_rows": null,
            "grid_column": null,
            "grid_gap": null,
            "grid_row": null,
            "grid_template_areas": null,
            "grid_template_columns": null,
            "grid_template_rows": null,
            "height": null,
            "justify_content": null,
            "justify_items": null,
            "left": null,
            "margin": null,
            "max_height": null,
            "max_width": null,
            "min_height": null,
            "min_width": null,
            "object_fit": null,
            "object_position": null,
            "order": null,
            "overflow": null,
            "overflow_x": null,
            "overflow_y": null,
            "padding": null,
            "right": null,
            "top": null,
            "visibility": null,
            "width": null
          }
        },
        "130858e826ec4c5ca8d412323d7bde18": {
          "model_module": "@jupyter-widgets/base",
          "model_name": "LayoutModel",
          "state": {
            "_model_module": "@jupyter-widgets/base",
            "_model_module_version": "1.2.0",
            "_model_name": "LayoutModel",
            "_view_count": null,
            "_view_module": "@jupyter-widgets/base",
            "_view_module_version": "1.2.0",
            "_view_name": "LayoutView",
            "align_content": null,
            "align_items": null,
            "align_self": null,
            "border": null,
            "bottom": null,
            "display": null,
            "flex": null,
            "flex_flow": null,
            "grid_area": null,
            "grid_auto_columns": null,
            "grid_auto_flow": null,
            "grid_auto_rows": null,
            "grid_column": null,
            "grid_gap": null,
            "grid_row": null,
            "grid_template_areas": null,
            "grid_template_columns": null,
            "grid_template_rows": null,
            "height": null,
            "justify_content": null,
            "justify_items": null,
            "left": null,
            "margin": null,
            "max_height": null,
            "max_width": null,
            "min_height": null,
            "min_width": null,
            "object_fit": null,
            "object_position": null,
            "order": null,
            "overflow": null,
            "overflow_x": null,
            "overflow_y": null,
            "padding": null,
            "right": null,
            "top": null,
            "visibility": null,
            "width": null
          }
        },
        "5f2c09c6826445c3a5dbb51ba263d07c": {
          "model_module": "@jupyter-widgets/controls",
          "model_name": "DescriptionStyleModel",
          "state": {
            "_model_module": "@jupyter-widgets/controls",
            "_model_module_version": "1.5.0",
            "_model_name": "DescriptionStyleModel",
            "_view_count": null,
            "_view_module": "@jupyter-widgets/base",
            "_view_module_version": "1.2.0",
            "_view_name": "StyleView",
            "description_width": ""
          }
        },
        "8baaffd70ab545c89fc8befc010d3dfc": {
          "model_module": "@jupyter-widgets/base",
          "model_name": "LayoutModel",
          "state": {
            "_model_module": "@jupyter-widgets/base",
            "_model_module_version": "1.2.0",
            "_model_name": "LayoutModel",
            "_view_count": null,
            "_view_module": "@jupyter-widgets/base",
            "_view_module_version": "1.2.0",
            "_view_name": "LayoutView",
            "align_content": null,
            "align_items": null,
            "align_self": null,
            "border": null,
            "bottom": null,
            "display": null,
            "flex": null,
            "flex_flow": null,
            "grid_area": null,
            "grid_auto_columns": null,
            "grid_auto_flow": null,
            "grid_auto_rows": null,
            "grid_column": null,
            "grid_gap": null,
            "grid_row": null,
            "grid_template_areas": null,
            "grid_template_columns": null,
            "grid_template_rows": null,
            "height": null,
            "justify_content": null,
            "justify_items": null,
            "left": null,
            "margin": null,
            "max_height": null,
            "max_width": null,
            "min_height": null,
            "min_width": null,
            "object_fit": null,
            "object_position": null,
            "order": null,
            "overflow": null,
            "overflow_x": null,
            "overflow_y": null,
            "padding": null,
            "right": null,
            "top": null,
            "visibility": null,
            "width": null
          }
        },
        "48e83ddccf4e4d2c95db3fee9e6bacdc": {
          "model_module": "@jupyter-widgets/controls",
          "model_name": "ProgressStyleModel",
          "state": {
            "_model_module": "@jupyter-widgets/controls",
            "_model_module_version": "1.5.0",
            "_model_name": "ProgressStyleModel",
            "_view_count": null,
            "_view_module": "@jupyter-widgets/base",
            "_view_module_version": "1.2.0",
            "_view_name": "StyleView",
            "bar_color": null,
            "description_width": ""
          }
        },
        "47395e6f4f484fef8cfc961fddfca545": {
          "model_module": "@jupyter-widgets/base",
          "model_name": "LayoutModel",
          "state": {
            "_model_module": "@jupyter-widgets/base",
            "_model_module_version": "1.2.0",
            "_model_name": "LayoutModel",
            "_view_count": null,
            "_view_module": "@jupyter-widgets/base",
            "_view_module_version": "1.2.0",
            "_view_name": "LayoutView",
            "align_content": null,
            "align_items": null,
            "align_self": null,
            "border": null,
            "bottom": null,
            "display": null,
            "flex": null,
            "flex_flow": null,
            "grid_area": null,
            "grid_auto_columns": null,
            "grid_auto_flow": null,
            "grid_auto_rows": null,
            "grid_column": null,
            "grid_gap": null,
            "grid_row": null,
            "grid_template_areas": null,
            "grid_template_columns": null,
            "grid_template_rows": null,
            "height": null,
            "justify_content": null,
            "justify_items": null,
            "left": null,
            "margin": null,
            "max_height": null,
            "max_width": null,
            "min_height": null,
            "min_width": null,
            "object_fit": null,
            "object_position": null,
            "order": null,
            "overflow": null,
            "overflow_x": null,
            "overflow_y": null,
            "padding": null,
            "right": null,
            "top": null,
            "visibility": null,
            "width": null
          }
        },
        "a5fbd4af0ec540289caf8993585eecb7": {
          "model_module": "@jupyter-widgets/controls",
          "model_name": "DescriptionStyleModel",
          "state": {
            "_model_module": "@jupyter-widgets/controls",
            "_model_module_version": "1.5.0",
            "_model_name": "DescriptionStyleModel",
            "_view_count": null,
            "_view_module": "@jupyter-widgets/base",
            "_view_module_version": "1.2.0",
            "_view_name": "StyleView",
            "description_width": ""
          }
        }
      }
    }
  },
  "cells": [
    {
      "cell_type": "markdown",
      "metadata": {
        "id": "2ndtT7U-jUdT"
      },
      "source": [
        "This notebook compares various models using the following methology:\n",
        "1. Firstly a sample of 1/3 of all the NDAs are randomly selected\n",
        "2. This sample size is then reduced to just the NDA with both additions and related patents, since NDAs without either cannot produce meaningful results.\n",
        "3. With approximately 300 NDA number, for each NDA:\n",
        "*   A setid for that NDA with the longest additions history is then selected.\n",
        "*   All additions for the set-id are grouped together in a list\n",
        "*   All patents claim related to that set-id are grouped together in a list\n",
        "*   A random patent with claims for another NDA unrelated to the NDA is selected and all patent claims are grouped in a list\n",
        "*   The highest similarity scores for each addition to related patent claim is then average together (Related Value).\n",
        "*   The highest similarity scores for each addition to unrelated patent claim is then averaged together (Noise Value).\n",
        "*   These average values are collected into a Related list and Unrelated/Noise list so that their distributions can be plotted.\n",
        "\n",
        "Step 3 is performed repeatedly for multiple models with multiple parameters to test if there is a best model that has a Related distribution furthest away from the noise distribution.\n"
      ]
    },
    {
      "cell_type": "code",
      "metadata": {
        "colab": {
          "base_uri": "https://localhost:8080/"
        },
        "id": "6JDsiezRUEQY",
        "outputId": "8908db8c-31ca-417b-c725-d0a6c179226f"
      },
      "source": [
        "from google.colab import drive\n",
        "drive.mount('/content/drive', force_remount=True)\n",
        "zip_path='/content/drive/MyDrive/Colab Notebooks/zip/db2file.zip'\n",
        "!cp \"{zip_path}\" .\n",
        "!cp \"/content/drive/MyDrive/Colab Notebooks/requirements.txt\" .\n",
        "!unzip -q db2file.zip\n",
        "!rm db2file.zip\n",
        "!rm -r en_core_sci_lg-0.4.0.zip\n",
        "!cp \"/content/drive/MyDrive/Colab Notebooks/zip/en_core_sci_lg-0.4.0.zip\" .\n",
        "!unzip -q en_core_sci_lg-0.4.0.zip\n",
        "!rm en_core_sci_lg-0.4.0.zip"
      ],
      "execution_count": 1,
      "outputs": [
        {
          "output_type": "stream",
          "text": [
            "Mounted at /content/drive\n",
            "rm: cannot remove 'en_core_sci_lg-0.4.0.zip': No such file or directory\n"
          ],
          "name": "stdout"
        }
      ]
    },
    {
      "cell_type": "code",
      "metadata": {
        "colab": {
          "base_uri": "https://localhost:8080/",
          "height": 1000
        },
        "id": "wmH958tXWkKh",
        "outputId": "be27a14d-1699-4a24-d457-de93d2d7a5e1"
      },
      "source": [
        "!pip install -r '/content/requirements.txt'"
      ],
      "execution_count": 2,
      "outputs": [
        {
          "output_type": "stream",
          "text": [
            "Collecting beautifulsoup4==4.9.3\n",
            "\u001b[?25l  Downloading https://files.pythonhosted.org/packages/d1/41/e6495bd7d3781cee623ce23ea6ac73282a373088fcd0ddc809a047b18eae/beautifulsoup4-4.9.3-py3-none-any.whl (115kB)\n",
            "\u001b[K     |████████████████████████████████| 122kB 2.8MB/s \n",
            "\u001b[?25hCollecting blis==0.7.4\n",
            "\u001b[?25l  Downloading https://files.pythonhosted.org/packages/0e/c1/f364687078298233696eff17305f9a54c4a27d9da03c07c0062909d550f1/blis-0.7.4-cp37-cp37m-manylinux2014_x86_64.whl (9.8MB)\n",
            "\u001b[K     |████████████████████████████████| 9.8MB 11.4MB/s \n",
            "\u001b[?25hCollecting catalogue==2.0.4\n",
            "  Downloading https://files.pythonhosted.org/packages/9c/10/dbc1203a4b1367c7b02fddf08cb2981d9aa3e688d398f587cea0ab9e3bec/catalogue-2.0.4-py3-none-any.whl\n",
            "Requirement already satisfied: certifi==2020.12.5 in /usr/local/lib/python3.7/dist-packages (from -r /content/requirements.txt (line 4)) (2020.12.5)\n",
            "Collecting chardet==4.0.0\n",
            "\u001b[?25l  Downloading https://files.pythonhosted.org/packages/19/c7/fa589626997dd07bd87d9269342ccb74b1720384a4d739a1872bd84fbe68/chardet-4.0.0-py2.py3-none-any.whl (178kB)\n",
            "\u001b[K     |████████████████████████████████| 184kB 43.0MB/s \n",
            "\u001b[?25hRequirement already satisfied: click==7.1.2 in /usr/local/lib/python3.7/dist-packages (from -r /content/requirements.txt (line 6)) (7.1.2)\n",
            "Collecting conllu==4.4\n",
            "  Downloading https://files.pythonhosted.org/packages/ae/be/be6959c3ff2dbfdd87de4be0ccdff577835b5d08b1d25bf7fd4aaf0d7add/conllu-4.4-py2.py3-none-any.whl\n",
            "Requirement already satisfied: cymem==2.0.5 in /usr/local/lib/python3.7/dist-packages (from -r /content/requirements.txt (line 8)) (2.0.5)\n",
            "Collecting diff-match-patch==20200713\n",
            "\u001b[?25l  Downloading https://files.pythonhosted.org/packages/c2/5a/9aa3b95a1d108b82fadb1eed4c3773d19069f765bd4c360a930e107138ee/diff_match_patch-20200713-py3-none-any.whl (61kB)\n",
            "\u001b[K     |████████████████████████████████| 71kB 7.8MB/s \n",
            "\u001b[?25hRequirement already satisfied: filelock==3.0.12 in /usr/local/lib/python3.7/dist-packages (from -r /content/requirements.txt (line 10)) (3.0.12)\n",
            "Collecting ftfy==5.9\n",
            "\u001b[?25l  Downloading https://files.pythonhosted.org/packages/04/06/e5c80e2e0f979628d47345efba51f7ba386fe95963b11c594209085f5a9b/ftfy-5.9.tar.gz (66kB)\n",
            "\u001b[K     |████████████████████████████████| 71kB 7.8MB/s \n",
            "\u001b[?25hRequirement already satisfied: idna==2.10 in /usr/local/lib/python3.7/dist-packages (from -r /content/requirements.txt (line 12)) (2.10)\n",
            "Requirement already satisfied: Jinja2==2.11.3 in /usr/local/lib/python3.7/dist-packages (from -r /content/requirements.txt (line 13)) (2.11.3)\n",
            "Requirement already satisfied: joblib==1.0.1 in /usr/local/lib/python3.7/dist-packages (from -r /content/requirements.txt (line 14)) (1.0.1)\n",
            "Collecting lxml==4.6.3\n",
            "\u001b[?25l  Downloading https://files.pythonhosted.org/packages/30/c0/d0526314971fc661b083ab135747dc68446a3022686da8c16d25fcf6ef07/lxml-4.6.3-cp37-cp37m-manylinux2014_x86_64.whl (6.3MB)\n",
            "\u001b[K     |████████████████████████████████| 6.3MB 40.0MB/s \n",
            "\u001b[?25hRequirement already satisfied: MarkupSafe==1.1.1 in /usr/local/lib/python3.7/dist-packages (from -r /content/requirements.txt (line 16)) (1.1.1)\n",
            "Requirement already satisfied: murmurhash==1.0.5 in /usr/local/lib/python3.7/dist-packages (from -r /content/requirements.txt (line 17)) (1.0.5)\n",
            "Collecting nltk==3.6.2\n",
            "\u001b[?25l  Downloading https://files.pythonhosted.org/packages/5e/37/9532ddd4b1bbb619333d5708aaad9bf1742f051a664c3c6fa6632a105fd8/nltk-3.6.2-py3-none-any.whl (1.5MB)\n",
            "\u001b[K     |████████████████████████████████| 1.5MB 24.3MB/s \n",
            "\u001b[?25hCollecting nmslib==2.1.1\n",
            "\u001b[?25l  Downloading https://files.pythonhosted.org/packages/be/77/aebbd03a32488024d2ae2230b47a28f6fa83c887318e673fa5d3234f7772/nmslib-2.1.1-cp37-cp37m-manylinux2010_x86_64.whl (13.5MB)\n",
            "\u001b[K     |████████████████████████████████| 13.5MB 46.3MB/s \n",
            "\u001b[?25hCollecting numpy==1.20.2\n",
            "\u001b[?25l  Downloading https://files.pythonhosted.org/packages/73/ef/8967d406f3f85018ceb5efab50431e901683188f1741ceb053efcab26c87/numpy-1.20.2-cp37-cp37m-manylinux2010_x86_64.whl (15.3MB)\n",
            "\u001b[K     |████████████████████████████████| 15.3MB 137kB/s \n",
            "\u001b[?25hRequirement already satisfied: packaging==20.9 in /usr/local/lib/python3.7/dist-packages (from -r /content/requirements.txt (line 21)) (20.9)\n",
            "Collecting pandas==1.2.4\n",
            "\u001b[?25l  Downloading https://files.pythonhosted.org/packages/51/51/48f3fc47c4e2144da2806dfb6629c4dd1fa3d5a143f9652b141e979a8ca9/pandas-1.2.4-cp37-cp37m-manylinux1_x86_64.whl (9.9MB)\n",
            "\u001b[K     |████████████████████████████████| 9.9MB 52.8MB/s \n",
            "\u001b[?25hCollecting pathy==0.5.2\n",
            "\u001b[?25l  Downloading https://files.pythonhosted.org/packages/13/87/5991d87be8ed60beb172b4062dbafef18b32fa559635a8e2b633c2974f85/pathy-0.5.2-py3-none-any.whl (42kB)\n",
            "\u001b[K     |████████████████████████████████| 51kB 5.8MB/s \n",
            "\u001b[?25hRequirement already satisfied: preshed==3.0.5 in /usr/local/lib/python3.7/dist-packages (from -r /content/requirements.txt (line 24)) (3.0.5)\n",
            "Collecting psutil==5.8.0\n",
            "\u001b[?25l  Downloading https://files.pythonhosted.org/packages/84/da/f7efdcf012b51506938553dbe302aecc22f3f43abd5cffa8320e8e0588d5/psutil-5.8.0-cp37-cp37m-manylinux2010_x86_64.whl (296kB)\n",
            "\u001b[K     |████████████████████████████████| 296kB 39.0MB/s \n",
            "\u001b[?25hCollecting pybind11==2.6.1\n",
            "\u001b[?25l  Downloading https://files.pythonhosted.org/packages/00/84/fc9dc13ee536ba5e6b8fd10ce368fea5b738fe394c3b296cde7c9b144a92/pybind11-2.6.1-py2.py3-none-any.whl (188kB)\n",
            "\u001b[K     |████████████████████████████████| 194kB 43.4MB/s \n",
            "\u001b[?25hCollecting pydantic==1.7.3\n",
            "\u001b[?25l  Downloading https://files.pythonhosted.org/packages/b3/0a/52ae1c659fc08f13dd7c0ae07b88e4f807ad83fb9954a59b0b0a3d1a8ab6/pydantic-1.7.3-cp37-cp37m-manylinux2014_x86_64.whl (9.1MB)\n",
            "\u001b[K     |████████████████████████████████| 9.1MB 44.1MB/s \n",
            "\u001b[?25hRequirement already satisfied: pymongo==3.11.3 in /usr/local/lib/python3.7/dist-packages (from -r /content/requirements.txt (line 28)) (3.11.3)\n",
            "Requirement already satisfied: pyparsing==2.4.7 in /usr/local/lib/python3.7/dist-packages (from -r /content/requirements.txt (line 29)) (2.4.7)\n",
            "Collecting pysbd==0.3.4\n",
            "\u001b[?25l  Downloading https://files.pythonhosted.org/packages/48/0a/c99fb7d7e176f8b176ef19704a32e6a9c6aafdf19ef75a187f701fc15801/pysbd-0.3.4-py3-none-any.whl (71kB)\n",
            "\u001b[K     |████████████████████████████████| 71kB 9.0MB/s \n",
            "\u001b[?25hRequirement already satisfied: python-dateutil==2.8.1 in /usr/local/lib/python3.7/dist-packages (from -r /content/requirements.txt (line 31)) (2.8.1)\n",
            "Collecting python-dotenv==0.16.0\n",
            "  Downloading https://files.pythonhosted.org/packages/3d/7b/4a0bcac71bf24e5a63d043e53e3f56e1838a91c760638e1a0fc5338a36aa/python_dotenv-0.16.0-py2.py3-none-any.whl\n",
            "Collecting pytz==2021.1\n",
            "\u001b[?25l  Downloading https://files.pythonhosted.org/packages/70/94/784178ca5dd892a98f113cdd923372024dc04b8d40abe77ca76b5fb90ca6/pytz-2021.1-py2.py3-none-any.whl (510kB)\n",
            "\u001b[K     |████████████████████████████████| 512kB 47.1MB/s \n",
            "\u001b[?25hCollecting regex==2021.4.4\n",
            "\u001b[?25l  Downloading https://files.pythonhosted.org/packages/c4/28/5f08d8841013ccf72cd95dfff2500fe7fb39467af12c5e7b802d8381d811/regex-2021.4.4-cp37-cp37m-manylinux2014_x86_64.whl (720kB)\n",
            "\u001b[K     |████████████████████████████████| 727kB 45.6MB/s \n",
            "\u001b[?25hCollecting requests==2.25.1\n",
            "\u001b[?25l  Downloading https://files.pythonhosted.org/packages/29/c1/24814557f1d22c56d50280771a17307e6bf87b70727d975fd6b2ce6b014a/requests-2.25.1-py2.py3-none-any.whl (61kB)\n",
            "\u001b[K     |████████████████████████████████| 61kB 7.0MB/s \n",
            "\u001b[?25hCollecting sacremoses==0.0.45\n",
            "\u001b[?25l  Downloading https://files.pythonhosted.org/packages/75/ee/67241dc87f266093c533a2d4d3d69438e57d7a90abb216fa076e7d475d4a/sacremoses-0.0.45-py3-none-any.whl (895kB)\n",
            "\u001b[K     |████████████████████████████████| 901kB 45.6MB/s \n",
            "\u001b[?25hCollecting scikit-learn==0.24.2\n",
            "\u001b[?25l  Downloading https://files.pythonhosted.org/packages/a8/eb/a48f25c967526b66d5f1fa7a984594f0bf0a5afafa94a8c4dbc317744620/scikit_learn-0.24.2-cp37-cp37m-manylinux2010_x86_64.whl (22.3MB)\n",
            "\u001b[K     |████████████████████████████████| 22.3MB 1.4MB/s \n",
            "\u001b[?25hCollecting scipy==1.6.3\n",
            "\u001b[?25l  Downloading https://files.pythonhosted.org/packages/7d/e8/43ffca541d2f208d516296950b25fe1084b35c2881f4d444c1346ca75815/scipy-1.6.3-cp37-cp37m-manylinux1_x86_64.whl (27.4MB)\n",
            "\u001b[K     |████████████████████████████████| 27.4MB 46.5MB/s \n",
            "\u001b[?25hCollecting scispacy==0.4.0\n",
            "\u001b[?25l  Downloading https://files.pythonhosted.org/packages/46/d2/456e1f66f7ba65209746aac666b22e0c11e9aee6d9f549a2fdba5d49247b/scispacy-0.4.0-py3-none-any.whl (44kB)\n",
            "\u001b[K     |████████████████████████████████| 51kB 6.2MB/s \n",
            "\u001b[?25hCollecting sentence-transformers==1.1.0\n",
            "\u001b[?25l  Downloading https://files.pythonhosted.org/packages/c4/87/49dc49e13ac107ce912c2f3f3fd92252c6d4221e88d1e6c16747044a11d8/sentence-transformers-1.1.0.tar.gz (78kB)\n",
            "\u001b[K     |████████████████████████████████| 81kB 9.6MB/s \n",
            "\u001b[?25hCollecting sentencepiece==0.1.95\n",
            "\u001b[?25l  Downloading https://files.pythonhosted.org/packages/f5/99/e0808cb947ba10f575839c43e8fafc9cc44e4a7a2c8f79c60db48220a577/sentencepiece-0.1.95-cp37-cp37m-manylinux2014_x86_64.whl (1.2MB)\n",
            "\u001b[K     |████████████████████████████████| 1.2MB 34.6MB/s \n",
            "\u001b[?25hRequirement already satisfied: six==1.15.0 in /usr/local/lib/python3.7/dist-packages (from -r /content/requirements.txt (line 42)) (1.15.0)\n",
            "Requirement already satisfied: sklearn==0.0 in /usr/local/lib/python3.7/dist-packages (from -r /content/requirements.txt (line 43)) (0.0)\n",
            "Collecting smart-open==3.0.0\n",
            "\u001b[?25l  Downloading https://files.pythonhosted.org/packages/11/9a/ba2d5f67f25e8d5bbf2fcec7a99b1e38428e83cb715f64dd179ca43a11bb/smart_open-3.0.0.tar.gz (113kB)\n",
            "\u001b[K     |████████████████████████████████| 122kB 51.8MB/s \n",
            "\u001b[?25hCollecting soupsieve==2.2.1\n",
            "  Downloading https://files.pythonhosted.org/packages/36/69/d82d04022f02733bf9a72bc3b96332d360c0c5307096d76f6bb7489f7e57/soupsieve-2.2.1-py3-none-any.whl\n",
            "Collecting spacy==3.0.6\n",
            "\u001b[?25l  Downloading https://files.pythonhosted.org/packages/1b/d8/0361bbaf7a1ff56b44dca04dace54c82d63dad7475b7d25ea1baefafafb2/spacy-3.0.6-cp37-cp37m-manylinux2014_x86_64.whl (12.8MB)\n",
            "\u001b[K     |████████████████████████████████| 12.8MB 32.6MB/s \n",
            "\u001b[?25hCollecting spacy-alignments==0.8.3\n",
            "\u001b[?25l  Downloading https://files.pythonhosted.org/packages/ea/86/a6786d24d1d8f3a6cff2c60b55a7e845725a94919cd94d270ea49d82e59b/spacy_alignments-0.8.3-cp37-cp37m-manylinux2014_x86_64.whl (998kB)\n",
            "\u001b[K     |████████████████████████████████| 1.0MB 31.5MB/s \n",
            "\u001b[?25hCollecting spacy-legacy==3.0.5\n",
            "  Downloading https://files.pythonhosted.org/packages/8d/67/d4002a18e26bf29b17ab563ddb55232b445ab6a02f97bf17d1345ff34d3f/spacy_legacy-3.0.5-py2.py3-none-any.whl\n",
            "Collecting spacy-transformers==1.0.2\n",
            "  Downloading https://files.pythonhosted.org/packages/e8/c5/a156f9c979cc14f5f41cf2e6ecfc55d1128ac0363930ec7cc6fe4d98b4a2/spacy_transformers-1.0.2-py2.py3-none-any.whl\n",
            "Collecting srsly==2.4.1\n",
            "\u001b[?25l  Downloading https://files.pythonhosted.org/packages/c3/84/dfdfc9f6f04f6b88207d96d9520b911e5fec0c67ff47a0dea31ab5429a1e/srsly-2.4.1-cp37-cp37m-manylinux2014_x86_64.whl (456kB)\n",
            "\u001b[K     |████████████████████████████████| 460kB 41.4MB/s \n",
            "\u001b[?25hCollecting thinc==8.0.3\n",
            "\u001b[?25l  Downloading https://files.pythonhosted.org/packages/61/87/decceba68a0c6ca356ddcb6aea8b2500e71d9bc187f148aae19b747b7d3c/thinc-8.0.3-cp37-cp37m-manylinux2014_x86_64.whl (1.1MB)\n",
            "\u001b[K     |████████████████████████████████| 1.1MB 41.9MB/s \n",
            "\u001b[?25hCollecting threadpoolctl==2.1.0\n",
            "  Downloading https://files.pythonhosted.org/packages/f7/12/ec3f2e203afa394a149911729357aa48affc59c20e2c1c8297a60f33f133/threadpoolctl-2.1.0-py3-none-any.whl\n",
            "Collecting tokenizers==0.10.2\n",
            "\u001b[?25l  Downloading https://files.pythonhosted.org/packages/ae/04/5b870f26a858552025a62f1649c20d29d2672c02ff3c3fb4c688ca46467a/tokenizers-0.10.2-cp37-cp37m-manylinux2010_x86_64.whl (3.3MB)\n",
            "\u001b[K     |████████████████████████████████| 3.3MB 37.9MB/s \n",
            "\u001b[?25hRequirement already satisfied: torch==1.8.1 in /usr/local/lib/python3.7/dist-packages (from -r /content/requirements.txt (line 54)) (1.8.1+cu101)\n",
            "Collecting torchcontrib==0.0.2\n",
            "  Downloading https://files.pythonhosted.org/packages/72/36/45d475035ab35353911e72a03c1c1210eba63b71e5a6917a9e78a046aa10/torchcontrib-0.0.2.tar.gz\n",
            "Collecting tqdm==4.60.0\n",
            "\u001b[?25l  Downloading https://files.pythonhosted.org/packages/72/8a/34efae5cf9924328a8f34eeb2fdaae14c011462d9f0e3fcded48e1266d1c/tqdm-4.60.0-py2.py3-none-any.whl (75kB)\n",
            "\u001b[K     |████████████████████████████████| 81kB 8.9MB/s \n",
            "\u001b[?25hCollecting transformers==4.5.1\n",
            "\u001b[?25l  Downloading https://files.pythonhosted.org/packages/d8/b2/57495b5309f09fa501866e225c84532d1fd89536ea62406b2181933fb418/transformers-4.5.1-py3-none-any.whl (2.1MB)\n",
            "\u001b[K     |████████████████████████████████| 2.1MB 34.9MB/s \n",
            "\u001b[?25hCollecting typer==0.3.2\n",
            "  Downloading https://files.pythonhosted.org/packages/90/34/d138832f6945432c638f32137e6c79a3b682f06a63c488dcfaca6b166c64/typer-0.3.2-py3-none-any.whl\n",
            "Requirement already satisfied: typing-extensions==3.7.4.3 in /usr/local/lib/python3.7/dist-packages (from -r /content/requirements.txt (line 59)) (3.7.4.3)\n",
            "Collecting urllib3==1.26.4\n",
            "\u001b[?25l  Downloading https://files.pythonhosted.org/packages/09/c6/d3e3abe5b4f4f16cf0dfc9240ab7ce10c2baa0e268989a4e3ec19e90c84e/urllib3-1.26.4-py2.py3-none-any.whl (153kB)\n",
            "\u001b[K     |████████████████████████████████| 153kB 41.7MB/s \n",
            "\u001b[?25hRequirement already satisfied: wasabi==0.8.2 in /usr/local/lib/python3.7/dist-packages (from -r /content/requirements.txt (line 61)) (0.8.2)\n",
            "Requirement already satisfied: wcwidth==0.2.5 in /usr/local/lib/python3.7/dist-packages (from -r /content/requirements.txt (line 62)) (0.2.5)\n",
            "Collecting xmltodict==0.12.0\n",
            "  Downloading https://files.pythonhosted.org/packages/28/fd/30d5c1d3ac29ce229f6bdc40bbc20b28f716e8b363140c26eff19122d8a5/xmltodict-0.12.0-py2.py3-none-any.whl\n",
            "Requirement already satisfied: zipp>=0.5; python_version < \"3.8\" in /usr/local/lib/python3.7/dist-packages (from catalogue==2.0.4->-r /content/requirements.txt (line 3)) (3.4.1)\n",
            "Requirement already satisfied: setuptools in /usr/local/lib/python3.7/dist-packages (from spacy==3.0.6->-r /content/requirements.txt (line 46)) (56.0.0)\n",
            "Requirement already satisfied: importlib-metadata; python_version < \"3.8\" in /usr/local/lib/python3.7/dist-packages (from transformers==4.5.1->-r /content/requirements.txt (line 57)) (3.10.1)\n",
            "Building wheels for collected packages: ftfy, sentence-transformers, smart-open, torchcontrib\n",
            "  Building wheel for ftfy (setup.py) ... \u001b[?25l\u001b[?25hdone\n",
            "  Created wheel for ftfy: filename=ftfy-5.9-cp37-none-any.whl size=46451 sha256=976724614f1d1e3055a65ec80a3e4c3cf9a6d861ee7c946c9fa08d96e2471f31\n",
            "  Stored in directory: /root/.cache/pip/wheels/5e/2e/f0/b07196e8c929114998f0316894a61c752b63bfa3fdd50d2fc3\n",
            "  Building wheel for sentence-transformers (setup.py) ... \u001b[?25l\u001b[?25hdone\n",
            "  Created wheel for sentence-transformers: filename=sentence_transformers-1.1.0-cp37-none-any.whl size=119615 sha256=44cd9bbcc6e7c37cd912e139b3ff8eea0f32f583a3da8c92033b2b191a8597db\n",
            "  Stored in directory: /root/.cache/pip/wheels/84/cb/21/1066bff3027215c760ca14a198f698bca8fccb92e33e2327eb\n",
            "  Building wheel for smart-open (setup.py) ... \u001b[?25l\u001b[?25hdone\n",
            "  Created wheel for smart-open: filename=smart_open-3.0.0-cp37-none-any.whl size=107098 sha256=04f7d0f424a3515ce701c4a918acbcf67f9cbb66d5b04f516308fb7493d06a6c\n",
            "  Stored in directory: /root/.cache/pip/wheels/18/88/7c/f06dabd5e9cabe02d2269167bcacbbf9b47d0c0ff7d6ebcb78\n",
            "  Building wheel for torchcontrib (setup.py) ... \u001b[?25l\u001b[?25hdone\n",
            "  Created wheel for torchcontrib: filename=torchcontrib-0.0.2-cp37-none-any.whl size=7532 sha256=2c5d267e886181316ee8d010ced8183220e612aa47b1644cfca816238c0eca07\n",
            "  Stored in directory: /root/.cache/pip/wheels/06/06/7b/a5f5920bbf4f12a2c927e438fac17d4cd9560f8336b00e9a99\n",
            "Successfully built ftfy sentence-transformers smart-open torchcontrib\n",
            "\u001b[31mERROR: tensorflow 2.4.1 has requirement numpy~=1.19.2, but you'll have numpy 1.20.2 which is incompatible.\u001b[0m\n",
            "\u001b[31mERROR: google-colab 1.0.0 has requirement pandas~=1.1.0; python_version >= \"3.0\", but you'll have pandas 1.2.4 which is incompatible.\u001b[0m\n",
            "\u001b[31mERROR: google-colab 1.0.0 has requirement requests~=2.23.0, but you'll have requests 2.25.1 which is incompatible.\u001b[0m\n",
            "\u001b[31mERROR: datascience 0.10.6 has requirement folium==0.2.1, but you'll have folium 0.8.3 which is incompatible.\u001b[0m\n",
            "\u001b[31mERROR: albumentations 0.1.12 has requirement imgaug<0.2.7,>=0.2.5, but you'll have imgaug 0.2.9 which is incompatible.\u001b[0m\n",
            "Installing collected packages: soupsieve, beautifulsoup4, numpy, blis, catalogue, chardet, conllu, diff-match-patch, ftfy, lxml, regex, tqdm, nltk, pybind11, psutil, nmslib, pytz, pandas, typer, urllib3, requests, smart-open, pathy, pydantic, pysbd, python-dotenv, sacremoses, threadpoolctl, scipy, scikit-learn, spacy-legacy, srsly, thinc, spacy, scispacy, tokenizers, transformers, sentencepiece, sentence-transformers, spacy-alignments, spacy-transformers, torchcontrib, xmltodict\n",
            "  Found existing installation: beautifulsoup4 4.6.3\n",
            "    Uninstalling beautifulsoup4-4.6.3:\n",
            "      Successfully uninstalled beautifulsoup4-4.6.3\n",
            "  Found existing installation: numpy 1.19.5\n",
            "    Uninstalling numpy-1.19.5:\n",
            "      Successfully uninstalled numpy-1.19.5\n",
            "  Found existing installation: blis 0.4.1\n",
            "    Uninstalling blis-0.4.1:\n",
            "      Successfully uninstalled blis-0.4.1\n",
            "  Found existing installation: catalogue 1.0.0\n",
            "    Uninstalling catalogue-1.0.0:\n",
            "      Successfully uninstalled catalogue-1.0.0\n",
            "  Found existing installation: chardet 3.0.4\n",
            "    Uninstalling chardet-3.0.4:\n",
            "      Successfully uninstalled chardet-3.0.4\n",
            "  Found existing installation: lxml 4.2.6\n",
            "    Uninstalling lxml-4.2.6:\n",
            "      Successfully uninstalled lxml-4.2.6\n",
            "  Found existing installation: regex 2019.12.20\n",
            "    Uninstalling regex-2019.12.20:\n",
            "      Successfully uninstalled regex-2019.12.20\n",
            "  Found existing installation: tqdm 4.41.1\n",
            "    Uninstalling tqdm-4.41.1:\n",
            "      Successfully uninstalled tqdm-4.41.1\n",
            "  Found existing installation: nltk 3.2.5\n",
            "    Uninstalling nltk-3.2.5:\n",
            "      Successfully uninstalled nltk-3.2.5\n",
            "  Found existing installation: psutil 5.4.8\n",
            "    Uninstalling psutil-5.4.8:\n",
            "      Successfully uninstalled psutil-5.4.8\n",
            "  Found existing installation: pytz 2018.9\n",
            "    Uninstalling pytz-2018.9:\n",
            "      Successfully uninstalled pytz-2018.9\n",
            "  Found existing installation: pandas 1.1.5\n",
            "    Uninstalling pandas-1.1.5:\n",
            "      Successfully uninstalled pandas-1.1.5\n",
            "  Found existing installation: urllib3 1.24.3\n",
            "    Uninstalling urllib3-1.24.3:\n",
            "      Successfully uninstalled urllib3-1.24.3\n",
            "  Found existing installation: requests 2.23.0\n",
            "    Uninstalling requests-2.23.0:\n",
            "      Successfully uninstalled requests-2.23.0\n",
            "  Found existing installation: smart-open 5.0.0\n",
            "    Uninstalling smart-open-5.0.0:\n",
            "      Successfully uninstalled smart-open-5.0.0\n",
            "  Found existing installation: scipy 1.4.1\n",
            "    Uninstalling scipy-1.4.1:\n",
            "      Successfully uninstalled scipy-1.4.1\n",
            "  Found existing installation: scikit-learn 0.22.2.post1\n",
            "    Uninstalling scikit-learn-0.22.2.post1:\n",
            "      Successfully uninstalled scikit-learn-0.22.2.post1\n",
            "  Found existing installation: srsly 1.0.5\n",
            "    Uninstalling srsly-1.0.5:\n",
            "      Successfully uninstalled srsly-1.0.5\n",
            "  Found existing installation: thinc 7.4.0\n",
            "    Uninstalling thinc-7.4.0:\n",
            "      Successfully uninstalled thinc-7.4.0\n",
            "  Found existing installation: spacy 2.2.4\n",
            "    Uninstalling spacy-2.2.4:\n",
            "      Successfully uninstalled spacy-2.2.4\n",
            "Successfully installed beautifulsoup4-4.9.3 blis-0.7.4 catalogue-2.0.4 chardet-4.0.0 conllu-4.4 diff-match-patch-20200713 ftfy-5.9 lxml-4.6.3 nltk-3.6.2 nmslib-2.1.1 numpy-1.20.2 pandas-1.2.4 pathy-0.5.2 psutil-5.8.0 pybind11-2.6.1 pydantic-1.7.3 pysbd-0.3.4 python-dotenv-0.16.0 pytz-2021.1 regex-2021.4.4 requests-2.25.1 sacremoses-0.0.45 scikit-learn-0.24.2 scipy-1.6.3 scispacy-0.4.0 sentence-transformers-1.1.0 sentencepiece-0.1.95 smart-open-3.0.0 soupsieve-2.2.1 spacy-3.0.6 spacy-alignments-0.8.3 spacy-legacy-3.0.5 spacy-transformers-1.0.2 srsly-2.4.1 thinc-8.0.3 threadpoolctl-2.1.0 tokenizers-0.10.2 torchcontrib-0.0.2 tqdm-4.60.0 transformers-4.5.1 typer-0.3.2 urllib3-1.26.4 xmltodict-0.12.0\n"
          ],
          "name": "stdout"
        },
        {
          "output_type": "display_data",
          "data": {
            "application/vnd.colab-display-data+json": {
              "pip_warning": {
                "packages": [
                  "numpy",
                  "pandas",
                  "psutil",
                  "pytz"
                ]
              }
            }
          },
          "metadata": {
            "tags": []
          }
        }
      ]
    },
    {
      "cell_type": "code",
      "metadata": {
        "id": "mcAlDL4NXGWL"
      },
      "source": [
        "import random\n",
        "import os\n",
        "random.seed(20)\n",
        "db2files = \"/content/db2file/\"\n",
        "NDA_list=[f for f in os.listdir(db2files)]\n",
        "random_NDA_list=random.sample(NDA_list, int(len(NDA_list)*.33))"
      ],
      "execution_count": 3,
      "outputs": []
    },
    {
      "cell_type": "code",
      "metadata": {
        "id": "mBDg-2lZg50N"
      },
      "source": [
        "def get_lines_in_file(file_name):\n",
        "  if os.path.exists(file_name):\n",
        "    f = open(file_name, \"rb\")\n",
        "    return_list = [str(line.decode('unicode_escape')) for line in f if line.decode('unicode_escape').strip()]\n",
        "    f.close()\n",
        "    return return_list\n",
        "  else:\n",
        "    return []"
      ],
      "execution_count": 4,
      "outputs": []
    },
    {
      "cell_type": "code",
      "metadata": {
        "id": "XqZgsrZj9SUO"
      },
      "source": [
        "def flat_list(lst):\n",
        "  return [item for sublist in lst for item in sublist]\n",
        "\n",
        "def get_additions(NDA, additions_folder_name):\n",
        "  \"\"\" \n",
        "  Return all additions as a list for the set-id with most additions for a NDA \n",
        "  excluding the first addition.\n",
        "  Parameters:\n",
        "      NDA (string): NDA dir\n",
        "      additions_folder_name (string): either 'just_additions' or 'additions_with_context'\n",
        "  \"\"\"\n",
        "  if additions_folder_name not in ['just_additions', 'additions_with_context']:\n",
        "    print(f\"Parameter {additions_folder_name} not in ['just_additions', 'additions_with_context']\")\n",
        "    return []\n",
        "  NDA_dir=db2files+str(NDA)+'/'\n",
        "  set_id_dirs=[f for f in os.listdir(NDA_dir)]\n",
        "  try:\n",
        "    set_id_dirs.remove('patents')\n",
        "  except ValueError:\n",
        "    pass\n",
        "  additions_list=[]\n",
        "  for set_id_dir in set_id_dirs:\n",
        "    additions_dir=NDA_dir+set_id_dir+'/'+additions_folder_name+'/'\n",
        "    if os.path.exists(additions_dir):\n",
        "      additions_files=sorted([additions_dir+f for f in os.listdir(additions_dir)])[1:]\n",
        "      additions_list_tmp=flat_list([get_lines_in_file(file) for file in additions_files])\n",
        "      if len(additions_list_tmp)> len(additions_list):\n",
        "        additions_list=additions_list_tmp\n",
        "  return additions_list\n",
        "\n",
        "def get_patent_claims(NDA, patents_folder_name):\n",
        "  \"\"\"Return a list of patents claims for a NDA\n",
        "  Parameters:\n",
        "      NDA (string): NDA dir\n",
        "      patents_folder_name (string): either 'patents' or 'patents_longhand'\n",
        "  \"\"\"\n",
        "  patent_dir=db2files+str(NDA)+'/'+patents_folder_name+'/'\n",
        "  if os.path.exists(patent_dir):\n",
        "    patent_files=[patent_dir+f for f in os.listdir(patent_dir)]\n",
        "    return flat_list([get_lines_in_file(file) for file in patent_files])\n",
        "  return []\n",
        "    "
      ],
      "execution_count": 5,
      "outputs": []
    },
    {
      "cell_type": "code",
      "metadata": {
        "colab": {
          "base_uri": "https://localhost:8080/"
        },
        "id": "rH_rqHMEpbnm",
        "outputId": "38a80f65-026f-4cc9-d693-fdbd7c7b437d"
      },
      "source": [
        "# print(get_lines_in_file(db2files+'15923/patents/3438991'))\n",
        "# print(get_additions(15923, 'just_additions'))\n",
        "# print(len(get_additions(15923, 'just_additions')))\n",
        "# print(get_patent_claims(10402, \"patents\"))\n",
        "print(len(NDA_list), len(random_NDA_list), random_NDA_list[1])"
      ],
      "execution_count": 6,
      "outputs": [
        {
          "output_type": "stream",
          "text": [
            "1606 529 206679\n"
          ],
          "name": "stdout"
        }
      ]
    },
    {
      "cell_type": "code",
      "metadata": {
        "id": "yIG3xW2C5Suc"
      },
      "source": [
        "\n",
        "# narrow 1/3 of random data to NDA with patents and NDAs with additions.  If either is missing, we cannot check quality of additions to related patents.\n",
        "random_NDA_list=[x for x in random_NDA_list if get_patent_claims(x, 'patents') and get_additions(x, 'additions_with_context')]\n"
      ],
      "execution_count": 7,
      "outputs": []
    },
    {
      "cell_type": "code",
      "metadata": {
        "colab": {
          "base_uri": "https://localhost:8080/"
        },
        "id": "hFuJ6ViNIAVU",
        "outputId": "36b04343-be08-4d65-800c-3be27d35afbc"
      },
      "source": [
        "print(len(random_NDA_list))\n"
      ],
      "execution_count": 8,
      "outputs": [
        {
          "output_type": "stream",
          "text": [
            "311\n"
          ],
          "name": "stdout"
        }
      ]
    },
    {
      "cell_type": "code",
      "metadata": {
        "id": "XNvnVArssTah"
      },
      "source": [
        "def calculate_score(random_NDA_list, additions_folder_name, patent_folder_name, scoring_method, optional_scoring_method_field=None, silent=False):\n",
        "  \"\"\"\n",
        "  This method take a scoring_method and returns (bad_average_of_best_scores_list, good_average_of_best_scores_list)\n",
        "  Parameters:\n",
        "    random_NDA_list (list): list of NDA numbers\n",
        "    additions_folder_name (string): either 'patents' or 'patents_longhand'\n",
        "    patent_folder_name (string): either 'just_additions' or 'additions_with_context'\n",
        "    scoring_method (function): function that is use to score similarity\n",
        "  \"\"\"\n",
        "  bad_average_of_best_scores_list=[]\n",
        "  good_average_of_best_scores_list=[]\n",
        "\n",
        "  for i in range(len(random_NDA_list)):\n",
        "    if not silent:\n",
        "      print(f\"processing {str(i)} of {str(len(random_NDA_list))}\")\n",
        "    NDA=random_NDA_list[i]\n",
        "\n",
        "    # choose a bad_NDA (not the current NDA) with patent claims\n",
        "    bad_NDA = None\n",
        "    while not bad_NDA:\n",
        "      new_random_NDA=random.sample(NDA_list, 1)[0]\n",
        "      if new_random_NDA==NDA:\n",
        "        continue\n",
        "      elif get_patent_claims(new_random_NDA, patent_folder_name):\n",
        "        bad_NDA=new_random_NDA\n",
        "  \n",
        "    claims_bad = get_patent_claims(bad_NDA, patent_folder_name)\n",
        "    claims_good = get_patent_claims(NDA, patent_folder_name)\n",
        "    additions = get_additions(NDA, additions_folder_name)\n",
        "\n",
        "    # get average of best similarity scores for patent claims to additions bad_NDA\n",
        "    bad_average_of_best_scores_list.append(mean(scoring_method(additions, claims_bad, optional_scoring_method_field)))\n",
        "    # get average of best similarity scores for patent claim for method\n",
        "    good_average_of_best_scores_list.append(mean(scoring_method(additions, claims_good, optional_scoring_method_field)))\n",
        "\n",
        "  return bad_average_of_best_scores_list, good_average_of_best_scores_list\n",
        "\n",
        "def mean(lst):\n",
        "  return sum(lst)/len(lst)\n",
        "\n",
        "def std_dev(lst):\n",
        "  variance = sum([((x - mean(lst)) ** 2) for x in lst]) / len(lst)\n",
        "  return variance ** 0.5\n",
        "\n"
      ],
      "execution_count": 9,
      "outputs": []
    },
    {
      "cell_type": "code",
      "metadata": {
        "id": "T621ChlOv3JN"
      },
      "source": [
        "from sentence_transformers import SentenceTransformer, util\n",
        "\n",
        "def scoring_method_bert(additions, claims, model):\n",
        "  \"\"\" Returns a list of highest scores for \n",
        "  \"\"\"\n",
        "  # Compute embedding for both lists\n",
        "  additions_embeddings = model.encode(\n",
        "      additions,\n",
        "      convert_to_tensor=True,\n",
        "  )\n",
        "  claims_embeddings = model.encode(\n",
        "      claims,\n",
        "      convert_to_tensor=True,\n",
        "  )\n",
        "  # Compute cosine-similarity for every additions to every claim\n",
        "  cosine_scores = util.pytorch_cos_sim(\n",
        "      additions_embeddings, claims_embeddings\n",
        "  ).tolist()\n",
        "  # return the highest similarity score for each section to patent claim\n",
        "  return [max(x) for x in cosine_scores]"
      ],
      "execution_count": 10,
      "outputs": []
    },
    {
      "cell_type": "code",
      "metadata": {
        "id": "Im6l5bvxRjFR"
      },
      "source": [
        "import matplotlib.pyplot as plt\n",
        "\n",
        "def plot(score_list_set, model, method=\"Cosine Similarity\"):\n",
        "  plt.subplot(1,2,1)\n",
        "  plt.hist(score_list_set[0], color=\"blue\", edgecolor=\"black\", bins=int(180/5))\n",
        "  plt.title(f\"Histogram of {method} of Additions to Unrelated Claims (Blue) Versus Related Claims (Green)\\n For {model}\")\n",
        "  plt.xlabel('score')\n",
        "  plt.subplot(1,2,2)\n",
        "  plt.hist(score_list_set[1], color=\"green\", edgecolor=\"black\", bins=int(180/5))\n",
        "  plt.xlabel('score')\n",
        "  plt.show()\n",
        "\n",
        "def print_mean_std_dev(score_list_set):\n",
        "  print(f\"mean noise: {mean(score_list_set[0])}\")\n",
        "  print(f\"std_dev noise: {std_dev(score_list_set[0])}\")\n",
        "  print(f\"mean related: {mean(score_list_set[1])}\")\n",
        "  print(f\"std_dev related: {std_dev(score_list_set[1])}\")\n",
        "\n",
        "def print_mean_std_dev(score_list_set, plot=plot):\n",
        "  print(f\"mean noise: {mean(score_list_set[0])}\")\n",
        "  print(f\"std_dev noise: {std_dev(score_list_set[0])}\")\n",
        "  print(f\"mean related: {mean(score_list_set[1])}\")\n",
        "  print(f\"std_dev related: {std_dev(score_list_set[1])}\")\n",
        "\n",
        "import scipy.stats\n",
        "\n",
        "def print_z_score(score_list_set):\n",
        "  \"\"\" \n",
        "  Print Z score which is number of standard deviations (wherein distribution is \n",
        "  centered at 0) of the means of the additions to related patent is to the mean \n",
        "  of additions to unrelated patent.\n",
        "  z=(x-u)/s; where x is the mean of additions to related patents, and u is means \n",
        "  of additions to unrelated patents, and x is standard deviation of additions to \n",
        "  unrelated patents.\n",
        "  p(-z) is the probability that is it better than noise\n",
        "  \"\"\"\n",
        "  z_score=(mean(score_list_set[1])-mean(score_list_set[0]))/std_dev(score_list_set[0])\n",
        "  print(f\"z_score: {z_score}\")\n",
        "  print(f\"p(-z): {scipy.stats.norm.sf(z_score*-1)}\")\n",
        "\n",
        "def plot_print(score_list_set, model, method=\"Cosine Similarity\", plot_=plot):\n",
        "  plot_(score_list_set, model, method=\"Cosine Similarity\")\n",
        "  print_mean_std_dev(score_list_set)\n",
        "  print_z_score(score_list_set)\n",
        "\n",
        "_device=None"
      ],
      "execution_count": 11,
      "outputs": []
    },
    {
      "cell_type": "code",
      "metadata": {
        "colab": {
          "base_uri": "https://localhost:8080/",
          "height": 48,
          "referenced_widgets": [
            "65094ef1c5554689bc284b798d06d10c",
            "ab13b583baec4692a6ca84558f4f8b19",
            "27fbffeae3554e8b94b95ea451d1c656",
            "1892a02b672148ab9ee85f9471b6699a",
            "de968b3618f64c6fa13de0eb3000b4c4",
            "3e358d9245ef42fa9a4a5aeae0441fef",
            "6f052ae12e8447ce9055da8dd30d0627",
            "0073c17b612747cb8005d6a6b1481344",
            "7f9de64a47f94a4988cecc44437fd324",
            "a4c2d10507f045d0ab6b0e89a3c704c1",
            "769ef81a8dac47b287960a93a9e41ef0"
          ]
        },
        "id": "dvtkZguYkEUx",
        "outputId": "9d718db1-3eab-4f69-9cd3-9cdbd9198aa8"
      },
      "source": [
        "# distilroberta_with_context is a set of (bad average of best similarity scores list, good average of best similarity scores list)\n",
        "_device = None\n",
        "model_distilroberta = SentenceTransformer(\"stsb-distilroberta-base-v2\", device=_device)\n",
        "model_distilroberta.max_seq_length=512\n",
        "distilroberta_additions_with_context_patents=calculate_score(random_NDA_list, \"additions_with_context\", \"patents\", scoring_method_bert, model_distilroberta, silent=True)"
      ],
      "execution_count": null,
      "outputs": [
        {
          "output_type": "display_data",
          "data": {
            "application/vnd.jupyter.widget-view+json": {
              "model_id": "65094ef1c5554689bc284b798d06d10c",
              "version_major": 2,
              "version_minor": 0
            },
            "text/plain": [
              "  0%|          | 0.00/305M [00:00<?, ?B/s]"
            ]
          },
          "metadata": {
            "tags": []
          }
        }
      ]
    },
    {
      "cell_type": "code",
      "metadata": {
        "colab": {
          "background_save": true
        },
        "id": "8DXfKHDdVW1W"
      },
      "source": [
        "distilroberta_just_additions_patents=calculate_score(random_NDA_list, \"just_additions\", \"patents\", scoring_method_bert, model_distilroberta, silent=True)"
      ],
      "execution_count": null,
      "outputs": []
    },
    {
      "cell_type": "code",
      "metadata": {
        "colab": {
          "background_save": true
        },
        "id": "oMuqiGmhVYjx"
      },
      "source": [
        "distilroberta_additions_with_context_patents_longhand=calculate_score(random_NDA_list, \"additions_with_context\", \"patents_longhand\", scoring_method_bert, model_distilroberta, silent=True)\n",
        "model_distilroberta.zero_grad()"
      ],
      "execution_count": null,
      "outputs": []
    },
    {
      "cell_type": "code",
      "metadata": {
        "colab": {
          "base_uri": "https://localhost:8080/",
          "height": 1000
        },
        "id": "-R1f4t8ESyyY",
        "outputId": "964e0ab4-f349-4cae-84d6-3e91f1b75e31"
      },
      "source": [
        "plot_print(distilroberta_additions_with_context_patents, \"distilroberta additions_with_context patents\")\n",
        "plot_print(distilroberta_just_additions_patents, \"distilroberta just_additions patents\")\n",
        "plot_print(distilroberta_additions_with_context_patents_longhand, \"distilroberta additions_with_context patents_longhand\")"
      ],
      "execution_count": null,
      "outputs": [
        {
          "output_type": "display_data",
          "data": {
            "image/png": "[encoded data removed]",
            "text/plain": [
              "<Figure size 432x288 with 2 Axes>"
            ]
          },
          "metadata": {
            "tags": [],
            "needs_background": "light"
          }
        },
        {
          "output_type": "stream",
          "text": [
            "mean noise: 0.5004733486838759\n",
            "std_dev noise: 0.08934526989761629\n",
            "mean related: 0.5607847069655073\n",
            "std_dev related: 0.09567025792291695\n",
            "z_score: 0.675036947683343\n",
            "p(-z): 0.7501738544484114\n"
          ],
          "name": "stdout"
        },
        {
          "output_type": "display_data",
          "data": {
            "image/png": "[encoded data removed]",
            "text/plain": [
              "<Figure size 432x288 with 2 Axes>"
            ]
          },
          "metadata": {
            "tags": [],
            "needs_background": "light"
          }
        },
        {
          "output_type": "stream",
          "text": [
            "mean noise: 0.3716139454943803\n",
            "std_dev noise: 0.10965992463432835\n",
            "mean related: 0.4068881264547623\n",
            "std_dev related: 0.12442657411102401\n",
            "z_score: 0.3216688419037963\n",
            "p(-z): 0.6261482075867304\n"
          ],
          "name": "stdout"
        },
        {
          "output_type": "display_data",
          "data": {
            "image/png": "[encoded data removed]",
            "text/plain": [
              "<Figure size 432x288 with 2 Axes>"
            ]
          },
          "metadata": {
            "tags": [],
            "needs_background": "light"
          }
        },
        {
          "output_type": "stream",
          "text": [
            "mean noise: 0.49805954747556075\n",
            "std_dev noise: 0.09670328486955583\n",
            "mean related: 0.5581885474989585\n",
            "std_dev related: 0.10342180240966864\n",
            "z_score: 0.6217885990585167\n",
            "p(-z): 0.732959558003027\n"
          ],
          "name": "stdout"
        }
      ]
    },
    {
      "cell_type": "code",
      "metadata": {
        "colab": {
          "background_save": true
        },
        "id": "YsS8uqrWUjIJ"
      },
      "source": [
        "model_scibert_uncased = SentenceTransformer(\"allenai/scibert_scivocab_uncased\", device=_device)\n",
        "model_scibert_uncased.max_seq_length=512\n",
        "scibert_uncased=calculate_score(random_NDA_list, \"additions_with_context\", \"patents\", scoring_method_bert, model_scibert_uncased, silent=True)\n",
        "model_scibert_uncased.zero_grad()"
      ],
      "execution_count": null,
      "outputs": []
    },
    {
      "cell_type": "code",
      "metadata": {
        "colab": {
          "base_uri": "https://localhost:8080/",
          "height": 416
        },
        "id": "FiWQEh86UogT",
        "outputId": "7e7cee85-22bc-4692-b042-8f8748edbceb"
      },
      "source": [
        "plot_print(scibert_uncased, \"scibert_uncased additions_with_context patents\")"
      ],
      "execution_count": null,
      "outputs": [
        {
          "output_type": "display_data",
          "data": {
            "image/png": "[encoded data removed]",
            "text/plain": [
              "<Figure size 432x288 with 2 Axes>"
            ]
          },
          "metadata": {
            "tags": [],
            "needs_background": "light"
          }
        },
        {
          "output_type": "stream",
          "text": [
            "mean noise: 0.8231999282974127\n",
            "std_dev noise: 0.042995305679390125\n",
            "mean related: 0.8419258896454255\n",
            "std_dev related: 0.043767350022005144\n",
            "z_score: 0.4355350206752703\n",
            "p(-z): 0.6684129376186183\n"
          ],
          "name": "stdout"
        }
      ]
    },
    {
      "cell_type": "code",
      "metadata": {
        "colab": {
          "base_uri": "https://localhost:8080/",
          "height": 558,
          "referenced_widgets": [
            "d2120d07078a434bbb84e151e2e127c7",
            "5867bcff631e41179057601ac0425010",
            "8b855a77af334752ba998e331756ad2a",
            "8c99855b1d294c46a5eb23a90a8b4a12",
            "ce742d59802a4f69b480dbb8ba88ffde"
          ]
        },
        "id": "UJftk51kYXvk",
        "outputId": "41764ae5-4565-4a33-8a4e-2d264f53d8e4"
      },
      "source": [
        "model_longformer = SentenceTransformer(\"allenai/longformer-base-4096\", device=_device)\n",
        "model_longformer.zero_grad()\n",
        "# Will limit size since CUDA runs out of memory\n",
        "model_longformer.max_seq_length=1024\n",
        "longformer=calculate_score(random_NDA_list, \"additions_with_context\", \"patents\", scoring_method_bert, model_longformer, silent=True)\n",
        "model_longformer.zero_grad()\n",
        "plot_print(longformer, \"scibert_uncased additions_with_context patents\")"
      ],
      "execution_count": null,
      "outputs": [
        {
          "output_type": "stream",
          "text": [
            "Exception when trying to download http://sbert.net/models/allenai/longformer-base-4096.zip. Response 404\n",
            "SentenceTransformer-Model http://sbert.net/models/allenai/longformer-base-4096.zip not found. Try to create it from scratch\n",
            "Try to create Transformer Model allenai/longformer-base-4096 with mean pooling\n"
          ],
          "name": "stderr"
        },
        {
          "output_type": "display_data",
          "data": {
            "application/vnd.jupyter.widget-view+json": {
              "model_id": "d2120d07078a434bbb84e151e2e127c7",
              "version_major": 2,
              "version_minor": 0
            },
            "text/plain": [
              "Downloading:   0%|          | 0.00/694 [00:00<?, ?B/s]"
            ]
          },
          "metadata": {
            "tags": []
          }
        },
        {
          "output_type": "display_data",
          "data": {
            "application/vnd.jupyter.widget-view+json": {
              "model_id": "5867bcff631e41179057601ac0425010",
              "version_major": 2,
              "version_minor": 0
            },
            "text/plain": [
              "Downloading:   0%|          | 0.00/597M [00:00<?, ?B/s]"
            ]
          },
          "metadata": {
            "tags": []
          }
        },
        {
          "output_type": "display_data",
          "data": {
            "application/vnd.jupyter.widget-view+json": {
              "model_id": "8b855a77af334752ba998e331756ad2a",
              "version_major": 2,
              "version_minor": 0
            },
            "text/plain": [
              "Downloading:   0%|          | 0.00/899k [00:00<?, ?B/s]"
            ]
          },
          "metadata": {
            "tags": []
          }
        },
        {
          "output_type": "display_data",
          "data": {
            "application/vnd.jupyter.widget-view+json": {
              "model_id": "8c99855b1d294c46a5eb23a90a8b4a12",
              "version_major": 2,
              "version_minor": 0
            },
            "text/plain": [
              "Downloading:   0%|          | 0.00/456k [00:00<?, ?B/s]"
            ]
          },
          "metadata": {
            "tags": []
          }
        },
        {
          "output_type": "display_data",
          "data": {
            "application/vnd.jupyter.widget-view+json": {
              "model_id": "ce742d59802a4f69b480dbb8ba88ffde",
              "version_major": 2,
              "version_minor": 0
            },
            "text/plain": [
              "Downloading:   0%|          | 0.00/1.36M [00:00<?, ?B/s]"
            ]
          },
          "metadata": {
            "tags": []
          }
        },
        {
          "output_type": "display_data",
          "data": {
            "image/png": "[encoded data removed]",
            "text/plain": [
              "<Figure size 432x288 with 2 Axes>"
            ]
          },
          "metadata": {
            "tags": []
          }
        },
        {
          "output_type": "stream",
          "text": [
            "mean noise: 0.9750181277683894\n",
            "std_dev noise: 0.012870070837641715\n",
            "mean related: 0.976726786080129\n",
            "std_dev related: 0.01313463779470629\n",
            "z_score: 0.13276215285017803\n",
            "p(-z): 0.5528092565092222\n"
          ],
          "name": "stdout"
        }
      ]
    },
    {
      "cell_type": "code",
      "metadata": {
        "id": "VEIg0UMxY_gA"
      },
      "source": [
        ""
      ],
      "execution_count": null,
      "outputs": []
    },
    {
      "cell_type": "code",
      "metadata": {
        "colab": {
          "background_save": true,
          "base_uri": "https://localhost:8080/",
          "height": 630,
          "referenced_widgets": [
            "b34baaaaef994fadb0bfe45605362078",
            "a742fc4a02dd45eda38b8b8cc57afc63",
            "6d71e3436a954702967a56950003ea65",
            "1f9e8e9904a949b38a2461a8eb450942",
            "39a0d538fa4244f8bd8413ca99ddbbad",
            "3ad7e85b5f7248f3936ed83599428cca",
            "5bc4638c661e46f3ad8e976d1a3b7e7f",
            "c553308a92be4c86b3f9919d4fad631a",
            "812b6b5a14c2438b8cfae45c23e018d0",
            "8c1e9ecadc454ef08c7f52fc477ea193",
            "aed596cae4284ee79addcf3d467dbf29",
            "1b435adba4c34ee0bd4dd48282fcbfa1",
            "6d90ef487fc54cb98f874620ece1200b",
            "7996a7ae66634af7a76a46182dfbe8d7",
            "67f697b9a6fe4644adc79cb579f9c464",
            "ba9242b67fec42968df7886e9f0b59d8",
            "eb07ab98c00642d3b50fed64e5f249b1",
            "45e1e6e0bd964a68a1c6fca76c1273bd",
            "c875d12debd342dab56293c8064285db",
            "85b5b6810f4843f2b4e836c03dfb07b8",
            "a758168d9d4b499dbfac29517ededb7b",
            "941d106deda440d48ad3fe5b3dbaf554",
            "c0e4b8dcc97f487f90c40574e5422b36",
            "8c573f72bc6c42d4af4dd472765e60b5",
            "42606414558f412b96436cec800e5722",
            "b0c0717e113043db9b020f779c2e3a20",
            "402697871c134e5cb4dcb5f4674aeedf",
            "42eb729c6e1d4678aee39f7e40be0c5d",
            "f072a93203104d5a97ed52ace065cb8d",
            "e5930ab6b4e8412c8c108a2c19e39050",
            "049537f06cc547f89a3394329ee43f3b",
            "af81623563824636848752da1c42c28d",
            "57a52ae2428241ac82b97912ba9281ac",
            "6bcd1e58d59242d9b9aa292ccc101905",
            "97b7048dcf214abc97fe38c078c4abc7",
            "8ffe9cba06864eeba436256d73b7d700",
            "625055ea5d1c40d9977813ba87d00f15",
            "f154df59113b4cfcb879ec12a6ffd031",
            "6cefb69ef82c4b559978b4bc10658b87",
            "bf5a15eaab034a29becf07df5fa07ef7",
            "88cea2b879014f0f95f95fc493d6023c",
            "880614cb5df242fbb9c6d2425987f9c0",
            "4e32e4b3a3f644cbb89946aa6d540708",
            "63abb54eed564b39b9986e2827e0dfb1",
            "6f08b9e188164e078e2b8aaa779a5974",
            "fc29f5579e1d46b3974d3930fbe8c508",
            "039ff92bafc1424a9840a4d714eda5fe",
            "82db0f13e87a447b9d9ab060eea2231c",
            "21896e71da4e46baa7cb9b82a3226fea",
            "130858e826ec4c5ca8d412323d7bde18",
            "5f2c09c6826445c3a5dbb51ba263d07c",
            "8baaffd70ab545c89fc8befc010d3dfc",
            "48e83ddccf4e4d2c95db3fee9e6bacdc",
            "47395e6f4f484fef8cfc961fddfca545",
            "a5fbd4af0ec540289caf8993585eecb7"
          ]
        },
        "id": "-NjSAMKuqyv_",
        "outputId": "670d6681-c2e6-4391-86a8-050e45c0a401"
      },
      "source": [
        "model_biobert = SentenceTransformer(\"dmis-lab/biobert-v1.1\", device=_device)\n",
        "model_biobert.zero_grad()\n",
        "# Will limit size since CUDA runs out of memory\n",
        "model_longformer.max_seq_length=512\n",
        "biobert=calculate_score(random_NDA_list, \"additions_with_context\", \"patents\", scoring_method_bert, model_biobert, silent=True)\n",
        "model_biobert.zero_grad()\n",
        "plot_print(biobert, \"biobert additions_with_context patents\")"
      ],
      "execution_count": null,
      "outputs": [
        {
          "output_type": "stream",
          "text": [
            "Exception when trying to download http://sbert.net/models/dmis-lab/biobert-v1.1.zip. Response 404\n",
            "SentenceTransformer-Model http://sbert.net/models/dmis-lab/biobert-v1.1.zip not found. Try to create it from scratch\n",
            "Try to create Transformer Model dmis-lab/biobert-v1.1 with mean pooling\n"
          ],
          "name": "stderr"
        },
        {
          "output_type": "display_data",
          "data": {
            "application/vnd.jupyter.widget-view+json": {
              "model_id": "b34baaaaef994fadb0bfe45605362078",
              "version_major": 2,
              "version_minor": 0
            },
            "text/plain": [
              "Downloading:   0%|          | 0.00/462 [00:00<?, ?B/s]"
            ]
          },
          "metadata": {
            "tags": []
          }
        },
        {
          "output_type": "display_data",
          "data": {
            "application/vnd.jupyter.widget-view+json": {
              "model_id": "1b435adba4c34ee0bd4dd48282fcbfa1",
              "version_major": 2,
              "version_minor": 0
            },
            "text/plain": [
              "Downloading:   0%|          | 0.00/433M [00:00<?, ?B/s]"
            ]
          },
          "metadata": {
            "tags": []
          }
        },
        {
          "output_type": "display_data",
          "data": {
            "application/vnd.jupyter.widget-view+json": {
              "model_id": "c0e4b8dcc97f487f90c40574e5422b36",
              "version_major": 2,
              "version_minor": 0
            },
            "text/plain": [
              "Downloading:   0%|          | 0.00/213k [00:00<?, ?B/s]"
            ]
          },
          "metadata": {
            "tags": []
          }
        },
        {
          "output_type": "display_data",
          "data": {
            "application/vnd.jupyter.widget-view+json": {
              "model_id": "6bcd1e58d59242d9b9aa292ccc101905",
              "version_major": 2,
              "version_minor": 0
            },
            "text/plain": [
              "Downloading:   0%|          | 0.00/112 [00:00<?, ?B/s]"
            ]
          },
          "metadata": {
            "tags": []
          }
        },
        {
          "output_type": "display_data",
          "data": {
            "application/vnd.jupyter.widget-view+json": {
              "model_id": "6f08b9e188164e078e2b8aaa779a5974",
              "version_major": 2,
              "version_minor": 0
            },
            "text/plain": [
              "Downloading:   0%|          | 0.00/49.0 [00:00<?, ?B/s]"
            ]
          },
          "metadata": {
            "tags": []
          }
        },
        {
          "output_type": "display_data",
          "data": {
            "image/png": "[encoded data removed]",
            "text/plain": [
              "<Figure size 432x288 with 2 Axes>"
            ]
          },
          "metadata": {
            "tags": []
          }
        },
        {
          "output_type": "stream",
          "text": [
            "mean noise: 0.895509648809786\n",
            "std_dev noise: 0.023633738224793546\n",
            "mean related: 0.9074018180359154\n",
            "std_dev related: 0.025882182529893112\n",
            "z_score: 0.5031861279420272\n",
            "p(-z): 0.6925832915377483\n"
          ],
          "name": "stdout"
        }
      ]
    },
    {
      "cell_type": "code",
      "metadata": {
        "colab": {
          "base_uri": "https://localhost:8080/",
          "height": 416
        },
        "id": "7g15HtUVrHUn",
        "outputId": "29445600-49b3-4de2-e605-cd02f3430b2b"
      },
      "source": [
        "model_mpnet_base_v2 = SentenceTransformer(\"stsb-mpnet-base-v2\", device=_device)\n",
        "model_mpnet_base_v2.zero_grad()\n",
        "# Will limit size since CUDA runs out of memory\n",
        "model_mpnet_base_v2.max_seq_length=512\n",
        "mpnet_base_v2=calculate_score(random_NDA_list, \"additions_with_context\", \"patents\", scoring_method_bert, model_mpnet_base_v2, silent=True)\n",
        "model_mpnet_base_v2.zero_grad()\n",
        "plot_print(mpnet_base_v2, \"mpnet_base_v2 additions_with_context patents\")"
      ],
      "execution_count": null,
      "outputs": [
        {
          "output_type": "display_data",
          "data": {
            "image/png": "[encoded data removed]",
            "text/plain": [
              "<Figure size 432x288 with 2 Axes>"
            ]
          },
          "metadata": {
            "tags": [],
            "needs_background": "light"
          }
        },
        {
          "output_type": "stream",
          "text": [
            "mean noise: 0.4379976573072343\n",
            "std_dev noise: 0.09040082803374878\n",
            "mean related: 0.5194639898788157\n",
            "std_dev related: 0.09819081536804886\n",
            "z_score: 0.9011679908636246\n",
            "p(-z): 0.8162504964332901\n"
          ],
          "name": "stdout"
        }
      ]
    },
    {
      "cell_type": "code",
      "metadata": {
        "colab": {
          "background_save": true,
          "referenced_widgets": [
            "638fbba6436a4731a74c33803b6e324b"
          ]
        },
        "id": "EMg8PPj8uQbf",
        "outputId": "1f4d1763-0b5a-4ed8-ff2d-022cc632129e"
      },
      "source": [
        "model_roberta_base_v2 = SentenceTransformer(\"stsb-roberta-base-v2\", device=_device)\n",
        "model_roberta_base_v2.zero_grad()\n",
        "# Will limit size since CUDA runs out of memory\n",
        "model_roberta_base_v2.max_seq_length=512\n",
        "roberta_base_v2=calculate_score(random_NDA_list, \"additions_with_context\", \"patents\", scoring_method_bert, model_roberta_base_v2, silent=True)\n",
        "model_roberta_base_v2.zero_grad()\n",
        "plot_print(roberta_base_v2, \"roberta_base_v2 additions_with_context patents\")"
      ],
      "execution_count": null,
      "outputs": [
        {
          "output_type": "display_data",
          "data": {
            "application/vnd.jupyter.widget-view+json": {
              "model_id": "638fbba6436a4731a74c33803b6e324b",
              "version_major": 2,
              "version_minor": 0
            },
            "text/plain": [
              "  0%|          | 0.00/460M [00:00<?, ?B/s]"
            ]
          },
          "metadata": {
            "tags": []
          }
        },
        {
          "output_type": "display_data",
          "data": {
            "image/png": "[encoded data removed]",
            "text/plain": [
              "<Figure size 432x288 with 2 Axes>"
            ]
          },
          "metadata": {
            "tags": []
          }
        },
        {
          "output_type": "stream",
          "text": [
            "mean noise: 0.4885933166749539\n",
            "std_dev noise: 0.09712029532671895\n",
            "mean related: 0.5643114832822393\n",
            "std_dev related: 0.10063484810581934\n",
            "z_score: 0.7796327879004549\n",
            "p(-z): 0.7821964745699855\n"
          ],
          "name": "stdout"
        }
      ]
    },
    {
      "cell_type": "code",
      "metadata": {
        "id": "P9bed2CPceSN"
      },
      "source": [
        "import spacy\n",
        "\n",
        "_en_core_sci_lg_nlp = spacy.load(\"/content/en_core_sci_lg-0.4.0/en_core_sci_lg/en_core_sci_lg-0.4.0\")\n",
        "# set number of processes for nlp.pipe for spaCy\n",
        "_N_PROCESS = 3"
      ],
      "execution_count": null,
      "outputs": []
    },
    {
      "cell_type": "code",
      "metadata": {
        "id": "0NKz0pPLxCWZ"
      },
      "source": [
        "def preprocess_with_spacy_nlp(text_list, steps, nlp=_en_core_sci_lg_nlp):\n",
        "    \"\"\"\n",
        "    This method can remove punctuation,\n",
        "    Parameters:\n",
        "        text_list (list): list of strings\n",
        "        steps (list): one of [\"punct\", \"lemma\", \"stopwords\"]\n",
        "    \"\"\"\n",
        "    # make a copy of text_lis\n",
        "    return_list = text_list\n",
        "    if any(item in [\"punct\", \"lemma\", \"stopwords\"] for item in steps):\n",
        "        # 'lemmatizer' required 'tagger' and 'attribute_ruler'\n",
        "        nlp_list = list(\n",
        "            nlp.pipe(\n",
        "                return_list,\n",
        "                disable=[\"tok2vec\", \"ner\"],\n",
        "                n_process=_N_PROCESS,\n",
        "            )\n",
        "        )\n",
        "        return_list = [\n",
        "            \" \".join(\n",
        "                [\n",
        "                    token.lemma_ if \"lemma\" in steps else token.text\n",
        "                    for token in doc\n",
        "                    if (\n",
        "                        (\n",
        "                            (\"punct\" in steps and not token.is_punct)\n",
        "                            or \"punct\" not in steps\n",
        "                        )\n",
        "                        and (\n",
        "                            (\"stopwords\" in steps and not token.is_stop)\n",
        "                            or \"stopwords\" not in steps\n",
        "                        )\n",
        "                    )\n",
        "                ]\n",
        "            )\n",
        "            for doc in nlp_list\n",
        "        ]\n",
        "    return return_list\n",
        "\n",
        "\n",
        "def similarity_matrix(embed_A_list, embed_B_list):\n",
        "    \"\"\"\n",
        "    This method returns a matrix such as:\n",
        "        [[X, X, X],\n",
        "        [X, X, X]]\n",
        "    wherein each row represents the similarity measurement between an embedding\n",
        "    from embed_A_list to each of the embeddings in embed_B_list.\n",
        "\n",
        "    Parameters:\n",
        "        embed_A_list (list): list of NLP object generated by spaCy\n",
        "        embed_B_list (list): list of NLP object generated by spaCy to be\n",
        "                             compared to embed_A\n",
        "    \"\"\"\n",
        "    matrix = [[0] * len(embed_B_list) for y in range(len(embed_A_list))]\n",
        "    for i in range(len(embed_A_list)):\n",
        "        for j in range(len(embed_B_list)):\n",
        "            matrix[i][j] = embed_A_list[i].similarity(embed_B_list[j])\n",
        "    return matrix\n",
        "\n",
        "\n",
        "def scoring_method_spacy(additions, claims, nlp=_en_core_sci_lg_nlp):\n",
        "  \"\"\" Scores with spaCy\n",
        "  \"\"\"\n",
        "  additions=preprocess_with_spacy_nlp(additions, [\"punct\", \"lemma\", \"stopwords\"], nlp)\n",
        "  claims=preprocess_with_spacy_nlp(claims, [\"punct\", \"lemma\", \"stopwords\"], nlp)\n",
        "  # Compute embedding for both lists\n",
        "  # tokenization only requires tok2vec\n",
        "  disabled_list = [\"tagger\", \"attribute_ruler\", \"lemmatizer\", \"parser\", \"ner\"]\n",
        "  additions_embeddings = list(\n",
        "      nlp.pipe(\n",
        "          additions, disable=disabled_list, n_process=_N_PROCESS\n",
        "      )\n",
        "  )\n",
        "  claims_embeddings = list(\n",
        "      nlp.pipe(\n",
        "          claims, disable=disabled_list, n_process=_N_PROCESS\n",
        "      )\n",
        "  )\n",
        "  # Compute cosine-similarity for every additions to every claim\n",
        "  cosine_scores = similarity_matrix(additions_embeddings, claims_embeddings)\n",
        "  # return the highest similarity score for each section to patent claim\n",
        "  return [max(x) for x in cosine_scores]"
      ],
      "execution_count": null,
      "outputs": []
    },
    {
      "cell_type": "code",
      "metadata": {
        "colab": {
          "base_uri": "https://localhost:8080/",
          "height": 434
        },
        "id": "WEi34b5Qejme",
        "outputId": "d48ac1c0-2c30-4c92-e8b4-efc3d7c7ecac"
      },
      "source": [
        "spacy_sci=calculate_score(random_NDA_list, \"additions_with_context\", \"patents\", scoring_method_spacy, _en_core_sci_lg_nlp, silent=True)\n",
        "plot_print(spacy_sci, \"spacy additions_with_context patents\")"
      ],
      "execution_count": null,
      "outputs": [
        {
          "output_type": "stream",
          "text": [
            "/usr/local/lib/python3.7/dist-packages/ipykernel_launcher.py:57: UserWarning: [W008] Evaluating Doc.similarity based on empty vectors.\n"
          ],
          "name": "stderr"
        },
        {
          "output_type": "display_data",
          "data": {
            "image/png": "[encoded data removed]",
            "text/plain": [
              "<Figure size 432x288 with 2 Axes>"
            ]
          },
          "metadata": {
            "tags": [],
            "needs_background": "light"
          }
        },
        {
          "output_type": "stream",
          "text": [
            "mean noise: 0.5462093602761117\n",
            "std_dev noise: 0.12192011209500322\n",
            "mean related: 0.6461000895553783\n",
            "std_dev related: 0.125938847744988\n",
            "z_score: 0.8193129711152931\n",
            "p(-z): 0.7936960630465137\n"
          ],
          "name": "stdout"
        }
      ]
    },
    {
      "cell_type": "code",
      "metadata": {
        "colab": {
          "base_uri": "https://localhost:8080/"
        },
        "id": "xtLhVZwRLo3A",
        "outputId": "4f9f6ab3-8c57-4d32-f4fe-58127728c915"
      },
      "source": [
        "!python -m spacy download en_core_web_trf\n",
        "nlp_en = spacy.load('en_core_web_trf')\n",
        "spacy_en_just_additions=calculate_score(random_NDA_list, \"just_additions\", \"patents\", scoring_method_spacy, nlp_en, silent=True)\n",
        "plot_print(spacy_en_just_additions, \"spacy_en just_additions patents\")"
      ],
      "execution_count": null,
      "outputs": [
        {
          "output_type": "stream",
          "text": [
            "2021-05-05 17:28:37.472719: I tensorflow/stream_executor/platform/default/dso_loader.cc:49] Successfully opened dynamic library libcudart.so.11.0\n",
            "Collecting en-core-web-trf==3.0.0\n",
            "\u001b[?25l  Downloading https://github.com/explosion/spacy-models/releases/download/en_core_web_trf-3.0.0/en_core_web_trf-3.0.0-py3-none-any.whl (459.7MB)\n",
            "\u001b[K     |████████████████████████████████| 459.7MB 31kB/s \n",
            "\u001b[?25hRequirement already satisfied: spacy-transformers<1.1.0,>=1.0.0rc4 in /usr/local/lib/python3.7/dist-packages (from en-core-web-trf==3.0.0) (1.0.2)\n",
            "Requirement already satisfied: spacy<3.1.0,>=3.0.0 in /usr/local/lib/python3.7/dist-packages (from en-core-web-trf==3.0.0) (3.0.6)\n",
            "Requirement already satisfied: spacy-alignments<1.0.0,>=0.7.2 in /usr/local/lib/python3.7/dist-packages (from spacy-transformers<1.1.0,>=1.0.0rc4->en-core-web-trf==3.0.0) (0.8.3)\n",
            "Requirement already satisfied: srsly<3.0.0,>=2.4.0 in /usr/local/lib/python3.7/dist-packages (from spacy-transformers<1.1.0,>=1.0.0rc4->en-core-web-trf==3.0.0) (2.4.1)\n",
            "Requirement already satisfied: transformers<4.6.0,>=3.4.0 in /usr/local/lib/python3.7/dist-packages (from spacy-transformers<1.1.0,>=1.0.0rc4->en-core-web-trf==3.0.0) (4.5.1)\n",
            "Requirement already satisfied: torch>=1.5.0 in /usr/local/lib/python3.7/dist-packages (from spacy-transformers<1.1.0,>=1.0.0rc4->en-core-web-trf==3.0.0) (1.8.1+cu101)\n",
            "Requirement already satisfied: preshed<3.1.0,>=3.0.2 in /usr/local/lib/python3.7/dist-packages (from spacy<3.1.0,>=3.0.0->en-core-web-trf==3.0.0) (3.0.5)\n",
            "Requirement already satisfied: jinja2 in /usr/local/lib/python3.7/dist-packages (from spacy<3.1.0,>=3.0.0->en-core-web-trf==3.0.0) (2.11.3)\n",
            "Requirement already satisfied: pydantic<1.8.0,>=1.7.1 in /usr/local/lib/python3.7/dist-packages (from spacy<3.1.0,>=3.0.0->en-core-web-trf==3.0.0) (1.7.3)\n",
            "Requirement already satisfied: catalogue<2.1.0,>=2.0.3 in /usr/local/lib/python3.7/dist-packages (from spacy<3.1.0,>=3.0.0->en-core-web-trf==3.0.0) (2.0.4)\n",
            "Requirement already satisfied: typer<0.4.0,>=0.3.0 in /usr/local/lib/python3.7/dist-packages (from spacy<3.1.0,>=3.0.0->en-core-web-trf==3.0.0) (0.3.2)\n",
            "Requirement already satisfied: typing-extensions<4.0.0.0,>=3.7.4; python_version < \"3.8\" in /usr/local/lib/python3.7/dist-packages (from spacy<3.1.0,>=3.0.0->en-core-web-trf==3.0.0) (3.7.4.3)\n",
            "Requirement already satisfied: thinc<8.1.0,>=8.0.3 in /usr/local/lib/python3.7/dist-packages (from spacy<3.1.0,>=3.0.0->en-core-web-trf==3.0.0) (8.0.3)\n",
            "Requirement already satisfied: tqdm<5.0.0,>=4.38.0 in /usr/local/lib/python3.7/dist-packages (from spacy<3.1.0,>=3.0.0->en-core-web-trf==3.0.0) (4.60.0)\n",
            "Requirement already satisfied: wasabi<1.1.0,>=0.8.1 in /usr/local/lib/python3.7/dist-packages (from spacy<3.1.0,>=3.0.0->en-core-web-trf==3.0.0) (0.8.2)\n",
            "Requirement already satisfied: requests<3.0.0,>=2.13.0 in /usr/local/lib/python3.7/dist-packages (from spacy<3.1.0,>=3.0.0->en-core-web-trf==3.0.0) (2.25.1)\n",
            "Requirement already satisfied: setuptools in /usr/local/lib/python3.7/dist-packages (from spacy<3.1.0,>=3.0.0->en-core-web-trf==3.0.0) (56.0.0)\n",
            "Requirement already satisfied: murmurhash<1.1.0,>=0.28.0 in /usr/local/lib/python3.7/dist-packages (from spacy<3.1.0,>=3.0.0->en-core-web-trf==3.0.0) (1.0.5)\n",
            "Requirement already satisfied: spacy-legacy<3.1.0,>=3.0.4 in /usr/local/lib/python3.7/dist-packages (from spacy<3.1.0,>=3.0.0->en-core-web-trf==3.0.0) (3.0.5)\n",
            "Requirement already satisfied: blis<0.8.0,>=0.4.0 in /usr/local/lib/python3.7/dist-packages (from spacy<3.1.0,>=3.0.0->en-core-web-trf==3.0.0) (0.7.4)\n",
            "Requirement already satisfied: packaging>=20.0 in /usr/local/lib/python3.7/dist-packages (from spacy<3.1.0,>=3.0.0->en-core-web-trf==3.0.0) (20.9)\n",
            "Requirement already satisfied: pathy>=0.3.5 in /usr/local/lib/python3.7/dist-packages (from spacy<3.1.0,>=3.0.0->en-core-web-trf==3.0.0) (0.5.2)\n",
            "Requirement already satisfied: cymem<2.1.0,>=2.0.2 in /usr/local/lib/python3.7/dist-packages (from spacy<3.1.0,>=3.0.0->en-core-web-trf==3.0.0) (2.0.5)\n",
            "Requirement already satisfied: numpy>=1.15.0 in /usr/local/lib/python3.7/dist-packages (from spacy<3.1.0,>=3.0.0->en-core-web-trf==3.0.0) (1.20.2)\n",
            "Requirement already satisfied: importlib-metadata; python_version < \"3.8\" in /usr/local/lib/python3.7/dist-packages (from transformers<4.6.0,>=3.4.0->spacy-transformers<1.1.0,>=1.0.0rc4->en-core-web-trf==3.0.0) (3.10.1)\n",
            "Requirement already satisfied: tokenizers<0.11,>=0.10.1 in /usr/local/lib/python3.7/dist-packages (from transformers<4.6.0,>=3.4.0->spacy-transformers<1.1.0,>=1.0.0rc4->en-core-web-trf==3.0.0) (0.10.2)\n",
            "Requirement already satisfied: sacremoses in /usr/local/lib/python3.7/dist-packages (from transformers<4.6.0,>=3.4.0->spacy-transformers<1.1.0,>=1.0.0rc4->en-core-web-trf==3.0.0) (0.0.45)\n",
            "Requirement already satisfied: filelock in /usr/local/lib/python3.7/dist-packages (from transformers<4.6.0,>=3.4.0->spacy-transformers<1.1.0,>=1.0.0rc4->en-core-web-trf==3.0.0) (3.0.12)\n",
            "Requirement already satisfied: regex!=2019.12.17 in /usr/local/lib/python3.7/dist-packages (from transformers<4.6.0,>=3.4.0->spacy-transformers<1.1.0,>=1.0.0rc4->en-core-web-trf==3.0.0) (2021.4.4)\n",
            "Requirement already satisfied: MarkupSafe>=0.23 in /usr/local/lib/python3.7/dist-packages (from jinja2->spacy<3.1.0,>=3.0.0->en-core-web-trf==3.0.0) (1.1.1)\n",
            "Requirement already satisfied: zipp>=0.5; python_version < \"3.8\" in /usr/local/lib/python3.7/dist-packages (from catalogue<2.1.0,>=2.0.3->spacy<3.1.0,>=3.0.0->en-core-web-trf==3.0.0) (3.4.1)\n",
            "Requirement already satisfied: click<7.2.0,>=7.1.1 in /usr/local/lib/python3.7/dist-packages (from typer<0.4.0,>=0.3.0->spacy<3.1.0,>=3.0.0->en-core-web-trf==3.0.0) (7.1.2)\n",
            "Requirement already satisfied: chardet<5,>=3.0.2 in /usr/local/lib/python3.7/dist-packages (from requests<3.0.0,>=2.13.0->spacy<3.1.0,>=3.0.0->en-core-web-trf==3.0.0) (4.0.0)\n",
            "Requirement already satisfied: urllib3<1.27,>=1.21.1 in /usr/local/lib/python3.7/dist-packages (from requests<3.0.0,>=2.13.0->spacy<3.1.0,>=3.0.0->en-core-web-trf==3.0.0) (1.26.4)\n",
            "Requirement already satisfied: idna<3,>=2.5 in /usr/local/lib/python3.7/dist-packages (from requests<3.0.0,>=2.13.0->spacy<3.1.0,>=3.0.0->en-core-web-trf==3.0.0) (2.10)\n",
            "Requirement already satisfied: certifi>=2017.4.17 in /usr/local/lib/python3.7/dist-packages (from requests<3.0.0,>=2.13.0->spacy<3.1.0,>=3.0.0->en-core-web-trf==3.0.0) (2020.12.5)\n",
            "Requirement already satisfied: pyparsing>=2.0.2 in /usr/local/lib/python3.7/dist-packages (from packaging>=20.0->spacy<3.1.0,>=3.0.0->en-core-web-trf==3.0.0) (2.4.7)\n",
            "Requirement already satisfied: smart-open<4.0.0,>=2.2.0 in /usr/local/lib/python3.7/dist-packages (from pathy>=0.3.5->spacy<3.1.0,>=3.0.0->en-core-web-trf==3.0.0) (3.0.0)\n",
            "Requirement already satisfied: joblib in /usr/local/lib/python3.7/dist-packages (from sacremoses->transformers<4.6.0,>=3.4.0->spacy-transformers<1.1.0,>=1.0.0rc4->en-core-web-trf==3.0.0) (1.0.1)\n",
            "Requirement already satisfied: six in /usr/local/lib/python3.7/dist-packages (from sacremoses->transformers<4.6.0,>=3.4.0->spacy-transformers<1.1.0,>=1.0.0rc4->en-core-web-trf==3.0.0) (1.15.0)\n",
            "Installing collected packages: en-core-web-trf\n",
            "Successfully installed en-core-web-trf-3.0.0\n",
            "\u001b[38;5;2m✔ Download and installation successful\u001b[0m\n",
            "You can now load the package via spacy.load('en_core_web_trf')\n"
          ],
          "name": "stdout"
        }
      ]
    },
    {
      "cell_type": "code",
      "metadata": {
        "colab": {
          "base_uri": "https://localhost:8080/",
          "height": 1000
        },
        "id": "1zj867-jwVJz",
        "outputId": "c8390777-9f10-4787-9b3b-42e4259270b1"
      },
      "source": [
        "spacy_en=calculate_score(random_NDA_list, \"additions_with_context\", \"patents\", scoring_method_spacy, nlp_en, silent=True)\n",
        "plot_print(spacy_en, \"spacy_en additions_with_context patents\")"
      ],
      "execution_count": null,
      "outputs": [
        {
          "output_type": "stream",
          "text": [
            "2021-05-05 04:44:16.594459: I tensorflow/stream_executor/platform/default/dso_loader.cc:49] Successfully opened dynamic library libcudart.so.11.0\n",
            "Requirement already satisfied: en-core-web-trf==3.0.0 from https://github.com/explosion/spacy-models/releases/download/en_core_web_trf-3.0.0/en_core_web_trf-3.0.0-py3-none-any.whl#egg=en_core_web_trf==3.0.0 in /usr/local/lib/python3.7/dist-packages (3.0.0)\n",
            "Requirement already satisfied: spacy-transformers<1.1.0,>=1.0.0rc4 in /usr/local/lib/python3.7/dist-packages (from en-core-web-trf==3.0.0) (1.0.2)\n",
            "Requirement already satisfied: spacy<3.1.0,>=3.0.0 in /usr/local/lib/python3.7/dist-packages (from en-core-web-trf==3.0.0) (3.0.6)\n",
            "Requirement already satisfied: spacy-alignments<1.0.0,>=0.7.2 in /usr/local/lib/python3.7/dist-packages (from spacy-transformers<1.1.0,>=1.0.0rc4->en-core-web-trf==3.0.0) (0.8.3)\n",
            "Requirement already satisfied: srsly<3.0.0,>=2.4.0 in /usr/local/lib/python3.7/dist-packages (from spacy-transformers<1.1.0,>=1.0.0rc4->en-core-web-trf==3.0.0) (2.4.1)\n",
            "Requirement already satisfied: transformers<4.6.0,>=3.4.0 in /usr/local/lib/python3.7/dist-packages (from spacy-transformers<1.1.0,>=1.0.0rc4->en-core-web-trf==3.0.0) (4.5.1)\n",
            "Requirement already satisfied: torch>=1.5.0 in /usr/local/lib/python3.7/dist-packages (from spacy-transformers<1.1.0,>=1.0.0rc4->en-core-web-trf==3.0.0) (1.8.1+cu101)\n",
            "Requirement already satisfied: jinja2 in /usr/local/lib/python3.7/dist-packages (from spacy<3.1.0,>=3.0.0->en-core-web-trf==3.0.0) (2.11.3)\n",
            "Requirement already satisfied: cymem<2.1.0,>=2.0.2 in /usr/local/lib/python3.7/dist-packages (from spacy<3.1.0,>=3.0.0->en-core-web-trf==3.0.0) (2.0.5)\n",
            "Requirement already satisfied: pydantic<1.8.0,>=1.7.1 in /usr/local/lib/python3.7/dist-packages (from spacy<3.1.0,>=3.0.0->en-core-web-trf==3.0.0) (1.7.3)\n",
            "Requirement already satisfied: typer<0.4.0,>=0.3.0 in /usr/local/lib/python3.7/dist-packages (from spacy<3.1.0,>=3.0.0->en-core-web-trf==3.0.0) (0.3.2)\n",
            "Requirement already satisfied: pathy>=0.3.5 in /usr/local/lib/python3.7/dist-packages (from spacy<3.1.0,>=3.0.0->en-core-web-trf==3.0.0) (0.5.2)\n",
            "Requirement already satisfied: preshed<3.1.0,>=3.0.2 in /usr/local/lib/python3.7/dist-packages (from spacy<3.1.0,>=3.0.0->en-core-web-trf==3.0.0) (3.0.5)\n",
            "Requirement already satisfied: setuptools in /usr/local/lib/python3.7/dist-packages (from spacy<3.1.0,>=3.0.0->en-core-web-trf==3.0.0) (56.0.0)\n",
            "Requirement already satisfied: murmurhash<1.1.0,>=0.28.0 in /usr/local/lib/python3.7/dist-packages (from spacy<3.1.0,>=3.0.0->en-core-web-trf==3.0.0) (1.0.5)\n",
            "Requirement already satisfied: tqdm<5.0.0,>=4.38.0 in /usr/local/lib/python3.7/dist-packages (from spacy<3.1.0,>=3.0.0->en-core-web-trf==3.0.0) (4.60.0)\n",
            "Requirement already satisfied: spacy-legacy<3.1.0,>=3.0.4 in /usr/local/lib/python3.7/dist-packages (from spacy<3.1.0,>=3.0.0->en-core-web-trf==3.0.0) (3.0.5)\n",
            "Requirement already satisfied: numpy>=1.15.0 in /usr/local/lib/python3.7/dist-packages (from spacy<3.1.0,>=3.0.0->en-core-web-trf==3.0.0) (1.20.2)\n",
            "Requirement already satisfied: thinc<8.1.0,>=8.0.3 in /usr/local/lib/python3.7/dist-packages (from spacy<3.1.0,>=3.0.0->en-core-web-trf==3.0.0) (8.0.3)\n",
            "Requirement already satisfied: catalogue<2.1.0,>=2.0.3 in /usr/local/lib/python3.7/dist-packages (from spacy<3.1.0,>=3.0.0->en-core-web-trf==3.0.0) (2.0.4)\n",
            "Requirement already satisfied: typing-extensions<4.0.0.0,>=3.7.4; python_version < \"3.8\" in /usr/local/lib/python3.7/dist-packages (from spacy<3.1.0,>=3.0.0->en-core-web-trf==3.0.0) (3.7.4.3)\n",
            "Requirement already satisfied: blis<0.8.0,>=0.4.0 in /usr/local/lib/python3.7/dist-packages (from spacy<3.1.0,>=3.0.0->en-core-web-trf==3.0.0) (0.7.4)\n",
            "Requirement already satisfied: wasabi<1.1.0,>=0.8.1 in /usr/local/lib/python3.7/dist-packages (from spacy<3.1.0,>=3.0.0->en-core-web-trf==3.0.0) (0.8.2)\n",
            "Requirement already satisfied: requests<3.0.0,>=2.13.0 in /usr/local/lib/python3.7/dist-packages (from spacy<3.1.0,>=3.0.0->en-core-web-trf==3.0.0) (2.25.1)\n",
            "Requirement already satisfied: packaging>=20.0 in /usr/local/lib/python3.7/dist-packages (from spacy<3.1.0,>=3.0.0->en-core-web-trf==3.0.0) (20.9)\n",
            "Requirement already satisfied: importlib-metadata; python_version < \"3.8\" in /usr/local/lib/python3.7/dist-packages (from transformers<4.6.0,>=3.4.0->spacy-transformers<1.1.0,>=1.0.0rc4->en-core-web-trf==3.0.0) (3.10.1)\n",
            "Requirement already satisfied: filelock in /usr/local/lib/python3.7/dist-packages (from transformers<4.6.0,>=3.4.0->spacy-transformers<1.1.0,>=1.0.0rc4->en-core-web-trf==3.0.0) (3.0.12)\n",
            "Requirement already satisfied: sacremoses in /usr/local/lib/python3.7/dist-packages (from transformers<4.6.0,>=3.4.0->spacy-transformers<1.1.0,>=1.0.0rc4->en-core-web-trf==3.0.0) (0.0.45)\n",
            "Requirement already satisfied: regex!=2019.12.17 in /usr/local/lib/python3.7/dist-packages (from transformers<4.6.0,>=3.4.0->spacy-transformers<1.1.0,>=1.0.0rc4->en-core-web-trf==3.0.0) (2021.4.4)\n",
            "Requirement already satisfied: tokenizers<0.11,>=0.10.1 in /usr/local/lib/python3.7/dist-packages (from transformers<4.6.0,>=3.4.0->spacy-transformers<1.1.0,>=1.0.0rc4->en-core-web-trf==3.0.0) (0.10.2)\n",
            "Requirement already satisfied: MarkupSafe>=0.23 in /usr/local/lib/python3.7/dist-packages (from jinja2->spacy<3.1.0,>=3.0.0->en-core-web-trf==3.0.0) (1.1.1)\n",
            "Requirement already satisfied: click<7.2.0,>=7.1.1 in /usr/local/lib/python3.7/dist-packages (from typer<0.4.0,>=0.3.0->spacy<3.1.0,>=3.0.0->en-core-web-trf==3.0.0) (7.1.2)\n",
            "Requirement already satisfied: smart-open<4.0.0,>=2.2.0 in /usr/local/lib/python3.7/dist-packages (from pathy>=0.3.5->spacy<3.1.0,>=3.0.0->en-core-web-trf==3.0.0) (3.0.0)\n",
            "Requirement already satisfied: zipp>=0.5; python_version < \"3.8\" in /usr/local/lib/python3.7/dist-packages (from catalogue<2.1.0,>=2.0.3->spacy<3.1.0,>=3.0.0->en-core-web-trf==3.0.0) (3.4.1)\n",
            "Requirement already satisfied: certifi>=2017.4.17 in /usr/local/lib/python3.7/dist-packages (from requests<3.0.0,>=2.13.0->spacy<3.1.0,>=3.0.0->en-core-web-trf==3.0.0) (2020.12.5)\n",
            "Requirement already satisfied: chardet<5,>=3.0.2 in /usr/local/lib/python3.7/dist-packages (from requests<3.0.0,>=2.13.0->spacy<3.1.0,>=3.0.0->en-core-web-trf==3.0.0) (4.0.0)\n",
            "Requirement already satisfied: urllib3<1.27,>=1.21.1 in /usr/local/lib/python3.7/dist-packages (from requests<3.0.0,>=2.13.0->spacy<3.1.0,>=3.0.0->en-core-web-trf==3.0.0) (1.26.4)\n",
            "Requirement already satisfied: idna<3,>=2.5 in /usr/local/lib/python3.7/dist-packages (from requests<3.0.0,>=2.13.0->spacy<3.1.0,>=3.0.0->en-core-web-trf==3.0.0) (2.10)\n",
            "Requirement already satisfied: pyparsing>=2.0.2 in /usr/local/lib/python3.7/dist-packages (from packaging>=20.0->spacy<3.1.0,>=3.0.0->en-core-web-trf==3.0.0) (2.4.7)\n",
            "Requirement already satisfied: six in /usr/local/lib/python3.7/dist-packages (from sacremoses->transformers<4.6.0,>=3.4.0->spacy-transformers<1.1.0,>=1.0.0rc4->en-core-web-trf==3.0.0) (1.15.0)\n",
            "Requirement already satisfied: joblib in /usr/local/lib/python3.7/dist-packages (from sacremoses->transformers<4.6.0,>=3.4.0->spacy-transformers<1.1.0,>=1.0.0rc4->en-core-web-trf==3.0.0) (1.0.1)\n",
            "\u001b[38;5;2m✔ Download and installation successful\u001b[0m\n",
            "You can now load the package via spacy.load('en_core_web_trf')\n"
          ],
          "name": "stdout"
        },
        {
          "output_type": "stream",
          "text": [
            "/usr/local/lib/python3.7/dist-packages/ipykernel_launcher.py:57: UserWarning: [W008] Evaluating Doc.similarity based on empty vectors.\n"
          ],
          "name": "stderr"
        },
        {
          "output_type": "display_data",
          "data": {
            "image/png": "[encoded data removed]",
            "text/plain": [
              "<Figure size 432x288 with 2 Axes>"
            ]
          },
          "metadata": {
            "tags": [],
            "needs_background": "light"
          }
        },
        {
          "output_type": "stream",
          "text": [
            "mean noise: 0.5406748139009613\n",
            "std_dev noise: 0.12172848580239802\n",
            "mean related: 0.6461000895553783\n",
            "std_dev related: 0.125938847744988\n",
            "z_score: 0.8660690631242552\n",
            "p(-z): 0.8067738552879775\n"
          ],
          "name": "stdout"
        }
      ]
    },
    {
      "cell_type": "code",
      "metadata": {
        "colab": {
          "background_save": true
        },
        "id": "vKm37Yl7g4ur"
      },
      "source": [
        "from sklearn.feature_extraction.text import TfidfVectorizer\n",
        "from sklearn.metrics.pairwise import cosine_similarity\n",
        "vectorizer = TfidfVectorizer()\n",
        "\n",
        "def similarity_matrix_tfidf(embed_A, embed_B):\n",
        "    \"\"\"\n",
        "    This method returns a matrix such as:\n",
        "        [[X, X, X],\n",
        "        [X, X, X]]\n",
        "    wherein each row represents the similarity measurement between an embedding\n",
        "    from embed_A to each of the embeddings in embed_B.\n",
        "\n",
        "    Parameters:\n",
        "        embed_A (ndarray): ndarray object generated by scikit-learn of shape\n",
        "                           (n_samples, n_features)\n",
        "        embed_B (ndarray): ndarray object generated by scikit-learn of shape\n",
        "                           (n_samples, n_features) to be compared to embed_A\n",
        "    \"\"\"\n",
        "    matrix = [[0] * embed_B.shape[0] for y in range(embed_A.shape[0])]\n",
        "    for i in range(embed_A.shape[0]):\n",
        "        for j in range(embed_B.shape[0]):\n",
        "            matrix[i][j] = cosine_similarity(embed_A[i], embed_B[j]).item()\n",
        "    return matrix\n",
        "\n",
        "def scoring_method_tfidf(additions, claims, empty):\n",
        "  \"\"\" Scores with tfidf\n",
        "  \"\"\"\n",
        "  additions=preprocess_with_spacy_nlp(additions, [\"punct\", \"lemma\", \"stopwords\"])\n",
        "  claims=preprocess_with_spacy_nlp(claims, [\"punct\", \"lemma\", \"stopwords\"])\n",
        "\n",
        "  all_embeddings = vectorizer.fit_transform(additions + claims)\n",
        "  additions_embeddings = all_embeddings[: len(additions)]\n",
        "  claims_embeddings = all_embeddings[len(additions) :]\n",
        "\n",
        "  # Compute cosine-similarity for every additions to every claim\n",
        "  cosine_scores = similarity_matrix_tfidf(additions_embeddings, claims_embeddings)\n",
        "\n",
        "  # return the highest similarity score for each section to patent claim\n",
        "  return [max(x) for x in cosine_scores]\n"
      ],
      "execution_count": null,
      "outputs": []
    },
    {
      "cell_type": "code",
      "metadata": {
        "id": "CzfJcGwBilVe",
        "colab": {
          "base_uri": "https://localhost:8080/",
          "height": 416
        },
        "outputId": "551aaaea-207c-4e9c-b5fb-e7e55a777ad4"
      },
      "source": [
        "tfidf=calculate_score(random_NDA_list, \"additions_with_context\", \"patents\", scoring_method_tfidf, silent=True)\n",
        "plot_print(tfidf, \"tfidf additions_with_context patents\")"
      ],
      "execution_count": null,
      "outputs": [
        {
          "output_type": "display_data",
          "data": {
            "image/png": "[encoded data removed]",
            "text/plain": [
              "<Figure size 432x288 with 2 Axes>"
            ]
          },
          "metadata": {
            "tags": [],
            "needs_background": "light"
          }
        },
        {
          "output_type": "stream",
          "text": [
            "mean noise: 0.06916472691861368\n",
            "std_dev noise: 0.05316396484580964\n",
            "mean related: 0.15244918564885993\n",
            "std_dev related: 0.09820197005072008\n",
            "z_score: 1.5665584568757138\n",
            "p(-z): 0.9413910326749335\n"
          ],
          "name": "stdout"
        }
      ]
    },
    {
      "cell_type": "code",
      "metadata": {
        "id": "kNJlZ7WFrqUe",
        "colab": {
          "base_uri": "https://localhost:8080/",
          "height": 416
        },
        "outputId": "67cdf9f3-ab34-4f86-ff26-2f33fd3d5ca3"
      },
      "source": [
        "def scoring_method_bert_with_preprocessing(additions, claims, model):\n",
        "  \"\"\" Returns drops list of max cosines scores for each addition to claim, but drops stops word, lemmatize\n",
        "  \"\"\"\n",
        "  additions=preprocess_with_spacy_nlp(additions, [\"lemma\", \"stopwords\"])\n",
        "  claims=preprocess_with_spacy_nlp(claims, [\"lemma\", \"stopwords\"])\n",
        "  # Compute embedding for both lists\n",
        "  additions_embeddings = model.encode(\n",
        "      additions,\n",
        "      convert_to_tensor=True,\n",
        "  )\n",
        "  claims_embeddings = model.encode(\n",
        "      claims,\n",
        "      convert_to_tensor=True,\n",
        "  )\n",
        "  # Compute cosine-similarity for every additions to every claim\n",
        "  cosine_scores = util.pytorch_cos_sim(\n",
        "      additions_embeddings, claims_embeddings\n",
        "  ).tolist()\n",
        "  # return the highest similarity score for each section to patent claim\n",
        "  return [max(x) for x in cosine_scores]\n",
        "model_mpnet_base_v2 = SentenceTransformer(\"stsb-mpnet-base-v2\", device=_device)\n",
        "model_mpnet_base_v2.zero_grad()\n",
        "# Will limit size since CUDA runs out of memory\n",
        "model_mpnet_base_v2.max_seq_length=512\n",
        "mpnet_base_v2_lemma_stop=calculate_score(random_NDA_list, \"additions_with_context\", \"patents\", scoring_method_bert_with_preprocessing, model_mpnet_base_v2, silent=True)\n",
        "model_mpnet_base_v2.zero_grad()\n",
        "plot_print(mpnet_base_v2_lemma_stop, \"mpnet_base_v2 additions_with_context patents lemma stopwords\")"
      ],
      "execution_count": null,
      "outputs": [
        {
          "output_type": "display_data",
          "data": {
            "image/png": "[encoded data removed]",
            "text/plain": [
              "<Figure size 432x288 with 2 Axes>"
            ]
          },
          "metadata": {
            "tags": [],
            "needs_background": "light"
          }
        },
        {
          "output_type": "stream",
          "text": [
            "mean noise: 0.4594119418956195\n",
            "std_dev noise: 0.08517038962857619\n",
            "mean related: 0.5374017669302316\n",
            "std_dev related: 0.09921972630182309\n",
            "z_score: 0.9156917723955682\n",
            "p(-z): 0.8200857092151411\n"
          ],
          "name": "stdout"
        }
      ]
    },
    {
      "cell_type": "code",
      "metadata": {
        "id": "PEml86kwvzTk",
        "colab": {
          "base_uri": "https://localhost:8080/",
          "height": 416
        },
        "outputId": "fdde766f-534c-4087-969d-0643044bd34f"
      },
      "source": [
        "def scoring_method_bert_with_preprocessing(additions, claims, model):\n",
        "  \"\"\" Returns drops list of max cosines scores for each addition to claim, but drops stops word, lemmatize\n",
        "  \"\"\"\n",
        "  additions=preprocess_with_spacy_nlp(additions, [\"punc\", \"lemma\", \"stopwords\"])\n",
        "  claims=preprocess_with_spacy_nlp(claims, [\"punc\", \"lemma\", \"stopwords\"])\n",
        "  # Compute embedding for both lists\n",
        "  additions_embeddings = model.encode(\n",
        "      additions,\n",
        "      convert_to_tensor=True,\n",
        "  )\n",
        "  claims_embeddings = model.encode(\n",
        "      claims,\n",
        "      convert_to_tensor=True,\n",
        "  )\n",
        "  # Compute cosine-similarity for every additions to every claim\n",
        "  cosine_scores = util.pytorch_cos_sim(\n",
        "      additions_embeddings, claims_embeddings\n",
        "  ).tolist()\n",
        "  # return the highest similarity score for each section to patent claim\n",
        "  return [max(x) for x in cosine_scores]\n",
        "model_mpnet_base_v2 = SentenceTransformer(\"stsb-mpnet-base-v2\", device=_device)\n",
        "model_mpnet_base_v2.zero_grad()\n",
        "# Will limit size since CUDA runs out of memory\n",
        "model_mpnet_base_v2.max_seq_length=512\n",
        "mpnet_base_v2_punc_lemma_stop=calculate_score(random_NDA_list, \"additions_with_context\", \"patents\", scoring_method_bert_with_preprocessing, model_mpnet_base_v2, silent=True)\n",
        "model_mpnet_base_v2.zero_grad()\n",
        "plot_print(mpnet_base_v2_punc_lemma_stop, \"mpnet_base_v2 additions_with_context patents punc lemma stopwords\")"
      ],
      "execution_count": null,
      "outputs": [
        {
          "output_type": "display_data",
          "data": {
            "image/png": "[encoded data removed]",
            "text/plain": [
              "<Figure size 432x288 with 2 Axes>"
            ]
          },
          "metadata": {
            "tags": [],
            "needs_background": "light"
          }
        },
        {
          "output_type": "stream",
          "text": [
            "mean noise: 0.45579511036092757\n",
            "std_dev noise: 0.0910754339193455\n",
            "mean related: 0.5374017669302316\n",
            "std_dev related: 0.09921972630182309\n",
            "z_score: 0.8960336839193447\n",
            "p(-z): 0.8148826132953133\n"
          ],
          "name": "stdout"
        }
      ]
    },
    {
      "cell_type": "code",
      "metadata": {
        "id": "uXm0vuswRDDs"
      },
      "source": [
        "def plot2(score_list_set, model, method=\"Cosine Similarity\"):\n",
        "  fig,ax=plt.subplots(nrows=2, ncols=1, sharex=True, sharey=True)\n",
        "  fig.suptitle(f\"Histogram of {method} of Additions to Unrelated Claims (Blue) Versus Related Claims (Green)\\n For {model}\")\n",
        "  ax[0].hist(score_list_set[0], color=\"blue\", edgecolor=\"black\", bins=int(180/5))\n",
        "  ax[1].hist(score_list_set[1], color=\"green\", edgecolor=\"black\", bins=int(180/5))\n",
        "  ax[1].set_xlabel('score')\n",
        "  display(fig)\n",
        "  plt.close()\n",
        "\n"
      ],
      "execution_count": 14,
      "outputs": []
    },
    {
      "cell_type": "markdown",
      "metadata": {
        "id": "d6WrS6sBoo2s"
      },
      "source": [
        "The following presents the historgram plots shown above in a more viewer friendly manner."
      ]
    },
    {
      "cell_type": "code",
      "metadata": {
        "colab": {
          "base_uri": "https://localhost:8080/",
          "height": 1000
        },
        "id": "z0vXuKundsCy",
        "outputId": "cda54d19-3267-4cd4-bfaf-5678cfb8413d"
      },
      "source": [
        "plot_print(distilroberta_additions_with_context_patents, \"distilroberta additions_with_context patents\", plot_=plot2)\n",
        "plot_print(distilroberta_just_additions_patents, \"distilroberta just_additions patents\", plot_=plot2)\n",
        "plot_print(distilroberta_additions_with_context_patents_longhand, \"distilroberta additions_with_context patents_longhand\", plot_=plot2)\n",
        "plot_print(roberta_base_v2, \"roberta_base_v2 additions_with_context patents\", plot_=plot2)"
      ],
      "execution_count": null,
      "outputs": [
        {
          "output_type": "display_data",
          "data": {
            "image/png": "[encoded data removed]",
            "text/plain": [
              "<Figure size 432x288 with 2 Axes>"
            ]
          },
          "metadata": {
            "tags": []
          }
        },
        {
          "output_type": "stream",
          "text": [
            "mean noise: 0.5004733486838759\n",
            "std_dev noise: 0.08934526989761629\n",
            "mean related: 0.5607847069655073\n",
            "std_dev related: 0.09567025792291695\n",
            "z_score: 0.675036947683343\n",
            "p(-z): 0.7501738544484114\n"
          ],
          "name": "stdout"
        },
        {
          "output_type": "display_data",
          "data": {
            "image/png": "[encoded data removed]",
            "text/plain": [
              "<Figure size 432x288 with 2 Axes>"
            ]
          },
          "metadata": {
            "tags": []
          }
        },
        {
          "output_type": "stream",
          "text": [
            "mean noise: 0.3716139454943803\n",
            "std_dev noise: 0.10965992463432835\n",
            "mean related: 0.4068881264547623\n",
            "std_dev related: 0.12442657411102401\n",
            "z_score: 0.3216688419037963\n",
            "p(-z): 0.6261482075867304\n"
          ],
          "name": "stdout"
        },
        {
          "output_type": "display_data",
          "data": {
            "image/png": "[encoded data removed]",
            "text/plain": [
              "<Figure size 432x288 with 2 Axes>"
            ]
          },
          "metadata": {
            "tags": []
          }
        },
        {
          "output_type": "stream",
          "text": [
            "mean noise: 0.49805954747556075\n",
            "std_dev noise: 0.09670328486955583\n",
            "mean related: 0.5581885474989585\n",
            "std_dev related: 0.10342180240966864\n",
            "z_score: 0.6217885990585167\n",
            "p(-z): 0.732959558003027\n"
          ],
          "name": "stdout"
        },
        {
          "output_type": "display_data",
          "data": {
            "image/png": "[encoded data removed]",
            "text/plain": [
              "<Figure size 432x288 with 2 Axes>"
            ]
          },
          "metadata": {
            "tags": []
          }
        },
        {
          "output_type": "stream",
          "text": [
            "mean noise: 0.4885933166749539\n",
            "std_dev noise: 0.09712029532671895\n",
            "mean related: 0.5643114832822393\n",
            "std_dev related: 0.10063484810581934\n",
            "z_score: 0.7796327879004549\n",
            "p(-z): 0.7821964745699855\n"
          ],
          "name": "stdout"
        }
      ]
    },
    {
      "cell_type": "code",
      "metadata": {
        "colab": {
          "base_uri": "https://localhost:8080/",
          "height": 812
        },
        "id": "adQz55l1hIxB",
        "outputId": "139de4de-7dec-4f7e-cb9c-00681f217c7e"
      },
      "source": [
        "plot_print(scibert_uncased, \"scibert_uncased additions_with_context patents\", plot_=plot2)\n",
        "plot_print(biobert, \"biobert additions_with_context patents\", plot_=plot2)"
      ],
      "execution_count": null,
      "outputs": [
        {
          "output_type": "display_data",
          "data": {
            "image/png": "[encoded data removed]",
            "text/plain": [
              "<Figure size 432x288 with 2 Axes>"
            ]
          },
          "metadata": {
            "tags": []
          }
        },
        {
          "output_type": "stream",
          "text": [
            "mean noise: 0.8231999282974127\n",
            "std_dev noise: 0.042995305679390125\n",
            "mean related: 0.8419258896454255\n",
            "std_dev related: 0.043767350022005144\n",
            "z_score: 0.4355350206752703\n",
            "p(-z): 0.6684129376186183\n"
          ],
          "name": "stdout"
        },
        {
          "output_type": "display_data",
          "data": {
            "image/png": "[encoded data removed]",
            "text/plain": [
              "<Figure size 432x288 with 2 Axes>"
            ]
          },
          "metadata": {
            "tags": []
          }
        },
        {
          "output_type": "stream",
          "text": [
            "mean noise: 0.895509648809786\n",
            "std_dev noise: 0.023633738224793546\n",
            "mean related: 0.9074018180359154\n",
            "std_dev related: 0.025882182529893112\n",
            "z_score: 0.5031861279420272\n",
            "p(-z): 0.6925832915377483\n"
          ],
          "name": "stdout"
        }
      ]
    },
    {
      "cell_type": "code",
      "metadata": {
        "colab": {
          "base_uri": "https://localhost:8080/",
          "height": 414
        },
        "id": "ETlmZPZnn0E7",
        "outputId": "6a7123ae-aad9-4a99-812b-e6b138a60135"
      },
      "source": [
        "plot_print(longformer, \"longformer additions_with_context patents\", plot_=plot2)"
      ],
      "execution_count": null,
      "outputs": [
        {
          "output_type": "display_data",
          "data": {
            "image/png": "[encoded data removed]",
            "text/plain": [
              "<Figure size 432x288 with 2 Axes>"
            ]
          },
          "metadata": {
            "tags": []
          }
        },
        {
          "output_type": "stream",
          "text": [
            "mean noise: 0.9750181277683894\n",
            "std_dev noise: 0.012870070837641715\n",
            "mean related: 0.976726786080129\n",
            "std_dev related: 0.01313463779470629\n",
            "z_score: 0.13276215285017803\n",
            "p(-z): 0.5528092565092222\n"
          ],
          "name": "stdout"
        }
      ]
    },
    {
      "cell_type": "code",
      "metadata": {
        "colab": {
          "base_uri": "https://localhost:8080/",
          "height": 1000
        },
        "id": "YghZzgD4lwXU",
        "outputId": "1a4410b8-8698-4e48-b346-17fcfe95af79"
      },
      "source": [
        "plot_print(mpnet_base_v2, \"mpnet_base_v2 additions_with_context patents\", plot_=plot2)\n",
        "plot_print(mpnet_base_v2_lemma_stop, \"mpnet_base_v2 additions_with_context patents lemma stopwords\", plot_=plot2)\n",
        "plot_print(mpnet_base_v2_punc_lemma_stop, \"mpnet_base_v2 additions_with_context patents punc lemma stopwords\", plot_=plot2)"
      ],
      "execution_count": null,
      "outputs": [
        {
          "output_type": "display_data",
          "data": {
            "image/png": "[encoded data removed]",
            "text/plain": [
              "<Figure size 432x288 with 2 Axes>"
            ]
          },
          "metadata": {
            "tags": []
          }
        },
        {
          "output_type": "stream",
          "text": [
            "mean noise: 0.4379976573072343\n",
            "std_dev noise: 0.09040082803374878\n",
            "mean related: 0.5194639898788157\n",
            "std_dev related: 0.09819081536804886\n",
            "z_score: 0.9011679908636246\n",
            "p(-z): 0.8162504964332901\n"
          ],
          "name": "stdout"
        },
        {
          "output_type": "display_data",
          "data": {
            "image/png": "[encoded data removed]",
            "text/plain": [
              "<Figure size 432x288 with 2 Axes>"
            ]
          },
          "metadata": {
            "tags": []
          }
        },
        {
          "output_type": "stream",
          "text": [
            "mean noise: 0.4594119418956195\n",
            "std_dev noise: 0.08517038962857619\n",
            "mean related: 0.5374017669302316\n",
            "std_dev related: 0.09921972630182309\n",
            "z_score: 0.9156917723955682\n",
            "p(-z): 0.8200857092151411\n"
          ],
          "name": "stdout"
        },
        {
          "output_type": "display_data",
          "data": {
            "image/png": "[encoded data removed]",
            "text/plain": [
              "<Figure size 432x288 with 2 Axes>"
            ]
          },
          "metadata": {
            "tags": []
          }
        },
        {
          "output_type": "stream",
          "text": [
            "mean noise: 0.45579511036092757\n",
            "std_dev noise: 0.0910754339193455\n",
            "mean related: 0.5374017669302316\n",
            "std_dev related: 0.09921972630182309\n",
            "z_score: 0.8960336839193447\n",
            "p(-z): 0.8148826132953133\n"
          ],
          "name": "stdout"
        }
      ]
    },
    {
      "cell_type": "code",
      "metadata": {
        "colab": {
          "base_uri": "https://localhost:8080/",
          "height": 1000
        },
        "id": "g8uw9Mq2oYLY",
        "outputId": "aac2378a-fa4b-48e6-88cd-079ac344f524"
      },
      "source": [
        "plot_print(spacy_sci, \"spacy_sci additions_with_context patents\", plot_=plot2)\n",
        "plot_print(spacy_en, \"spacy_en additions_with_context patents\", plot_=plot2)\n",
        "plot_print(spacy_en_just_additions, \"spacy_en just_additions patents\", plot_=plot2)"
      ],
      "execution_count": null,
      "outputs": [
        {
          "output_type": "display_data",
          "data": {
            "image/png": "[encoded data removed]",
            "text/plain": [
              "<Figure size 432x288 with 2 Axes>"
            ]
          },
          "metadata": {
            "tags": []
          }
        },
        {
          "output_type": "stream",
          "text": [
            "mean noise: 0.5462093602761117\n",
            "std_dev noise: 0.12192011209500322\n",
            "mean related: 0.6461000895553783\n",
            "std_dev related: 0.125938847744988\n",
            "z_score: 0.8193129711152931\n",
            "p(-z): 0.7936960630465137\n"
          ],
          "name": "stdout"
        },
        {
          "output_type": "display_data",
          "data": {
            "image/png": "[encoded data removed]",
            "text/plain": [
              "<Figure size 432x288 with 2 Axes>"
            ]
          },
          "metadata": {
            "tags": []
          }
        },
        {
          "output_type": "stream",
          "text": [
            "mean noise: 0.5406748139009613\n",
            "std_dev noise: 0.12172848580239802\n",
            "mean related: 0.6461000895553783\n",
            "std_dev related: 0.125938847744988\n",
            "z_score: 0.8660690631242552\n",
            "p(-z): 0.8067738552879775\n"
          ],
          "name": "stdout"
        },
        {
          "output_type": "display_data",
          "data": {
            "image/png": "[encoded data removed]",
            "text/plain": [
              "<Figure size 432x288 with 2 Axes>"
            ]
          },
          "metadata": {
            "tags": []
          }
        },
        {
          "output_type": "stream",
          "text": [
            "mean noise: 0.40163483769551805\n",
            "std_dev noise: 0.151589300125265\n",
            "mean related: 0.45337575025235166\n",
            "std_dev related: 0.1749808859311617\n",
            "z_score: 0.3413229859500491\n",
            "p(-z): 0.6335697772438462\n"
          ],
          "name": "stdout"
        }
      ]
    },
    {
      "cell_type": "code",
      "metadata": {
        "colab": {
          "base_uri": "https://localhost:8080/",
          "height": 414
        },
        "id": "H0PyXss2s24U",
        "outputId": "d42ae36a-3c8d-48d7-b13e-b3a2a06e22e7"
      },
      "source": [
        "plot_print(tfidf, \"tfidf additions_with_context patents\", plot_=plot2)"
      ],
      "execution_count": null,
      "outputs": [
        {
          "output_type": "display_data",
          "data": {
            "image/png": "[encoded data removed]",
            "text/plain": [
              "<Figure size 432x288 with 2 Axes>"
            ]
          },
          "metadata": {
            "tags": []
          }
        },
        {
          "output_type": "stream",
          "text": [
            "mean noise: 0.06916472691861368\n",
            "std_dev noise: 0.05316396484580964\n",
            "mean related: 0.15244918564885993\n",
            "std_dev related: 0.09820197005072008\n",
            "z_score: 1.5665584568757138\n",
            "p(-z): 0.9413910326749335\n"
          ],
          "name": "stdout"
        }
      ]
    },
    {
      "cell_type": "markdown",
      "metadata": {
        "id": "dDtNjeTLo58D"
      },
      "source": [
        "The following reruns multi_mpnet_base_v2, which has among the highest z-score from the noise distribution, 4 more times with a different sample of random NDAs to confirm general performance of mpnet_base_v2.\n",
        "\n",
        "mpnet_base_v2 is a prime candidate for the NLP engine, since its has a relatively high z-score from the noise model, but also since it works well without lots of preprocessing steps.  Furthermore the variance of mpnet_base_v2 distribution is smaller.  A smaller variance indicates that the mpnet_base_v2 is more consistent.  ScispaCy also has a high z-score, but it's distribution variance is higher too, which is less desirable."
      ]
    },
    {
      "cell_type": "code",
      "metadata": {
        "id": "naWX6XJ1tuqR",
        "colab": {
          "base_uri": "https://localhost:8080/",
          "height": 1000
        },
        "outputId": "d6ad4625-df44-47d2-ba81-cc06edb4c7de"
      },
      "source": [
        "run_multi_mpnet_base_v2=[]\n",
        "model_mpnet_base_v2 = SentenceTransformer(\"stsb-mpnet-base-v2\", device=_device)\n",
        "\n",
        "for i in range(4):\n",
        "  random_NDA_list=random.sample(NDA_list, int(len(NDA_list)*.33))\n",
        "  # narrow 1/3 of random data to NDA with patents and NDAs with additions.  If either is missing, we cannot check quality of additions to related patents.\n",
        "  random_NDA_list=[x for x in random_NDA_list if get_patent_claims(x, 'patents') and get_additions(x, 'additions_with_context')]\n",
        "  model_mpnet_base_v2.zero_grad()\n",
        "  # Will limit size since CUDA runs out of memory\n",
        "  model_mpnet_base_v2.max_seq_length=512\n",
        "  run_multi_mpnet_base_v2.append(calculate_score(random_NDA_list, \"additions_with_context\", \"patents\", scoring_method_bert, model_mpnet_base_v2, silent=True))\n",
        "  model_mpnet_base_v2.zero_grad()\n",
        "  plot_print(run_multi_mpnet_base_v2[i], \"mpnet_base_v2 additions_with_context patents\", plot_=plot2)\n"
      ],
      "execution_count": 16,
      "outputs": [
        {
          "output_type": "display_data",
          "data": {
            "image/png": "[encoded data removed]",
            "text/plain": [
              "<Figure size 432x288 with 2 Axes>"
            ]
          },
          "metadata": {
            "tags": []
          }
        },
        {
          "output_type": "stream",
          "text": [
            "mean noise: 0.4357152694025543\n",
            "std_dev noise: 0.09793141495534204\n",
            "mean related: 0.5128176093099469\n",
            "std_dev related: 0.1043688993042962\n",
            "z_score: 0.7873095670327266\n",
            "p(-z): 0.7844496647075425\n"
          ],
          "name": "stdout"
        },
        {
          "output_type": "display_data",
          "data": {
            "image/png": "[encoded data removed]",
            "text/plain": [
              "<Figure size 432x288 with 2 Axes>"
            ]
          },
          "metadata": {
            "tags": []
          }
        },
        {
          "output_type": "stream",
          "text": [
            "mean noise: 0.4385414431258353\n",
            "std_dev noise: 0.08158853843906748\n",
            "mean related: 0.5022791339842002\n",
            "std_dev related: 0.10266879432453961\n",
            "z_score: 0.7812088815142327\n",
            "p(-z): 0.7826601745530932\n"
          ],
          "name": "stdout"
        },
        {
          "output_type": "display_data",
          "data": {
            "image/png": "[encoded data removed]",
            "text/plain": [
              "<Figure size 432x288 with 2 Axes>"
            ]
          },
          "metadata": {
            "tags": []
          }
        },
        {
          "output_type": "stream",
          "text": [
            "mean noise: 0.43903196955406915\n",
            "std_dev noise: 0.08812338614058611\n",
            "mean related: 0.5093673995444097\n",
            "std_dev related: 0.10987711571677317\n",
            "z_score: 0.79814715560444\n",
            "p(-z): 0.7876074503492689\n"
          ],
          "name": "stdout"
        },
        {
          "output_type": "display_data",
          "data": {
            "image/png": "[encoded data removed]",
            "text/plain": [
              "<Figure size 432x288 with 2 Axes>"
            ]
          },
          "metadata": {
            "tags": []
          }
        },
        {
          "output_type": "stream",
          "text": [
            "mean noise: 0.44761367654457446\n",
            "std_dev noise: 0.08842540288405881\n",
            "mean related: 0.5184398328642416\n",
            "std_dev related: 0.09793774693171711\n",
            "z_score: 0.8009706940496792\n",
            "p(-z): 0.7884256940828424\n"
          ],
          "name": "stdout"
        }
      ]
    },
    {
      "cell_type": "code",
      "metadata": {
        "id": "WCJd9iP_oFi6",
        "colab": {
          "base_uri": "https://localhost:8080/",
          "height": 414
        },
        "outputId": "ef21b3d3-fa24-4ece-8e12-563feeb6399c"
      },
      "source": [
        "model_mpnet_base_v2.zero_grad()\n",
        "# Will limit size since CUDA runs out of memory\n",
        "model_mpnet_base_v2.max_seq_length=512\n",
        "mpnet_base_v2_longhand=calculate_score(random_NDA_list, \"additions_with_context\", \"patents_longhand\", scoring_method_bert, model_mpnet_base_v2, silent=True)\n",
        "model_mpnet_base_v2.zero_grad()\n",
        "plot_print(mpnet_base_v2_longhand, \"mpnet_base_v2 additions_with_context patents\", plot_=plot2)"
      ],
      "execution_count": 17,
      "outputs": [
        {
          "output_type": "display_data",
          "data": {
            "image/png": "[encoded data removed]",
            "text/plain": [
              "<Figure size 432x288 with 2 Axes>"
            ]
          },
          "metadata": {
            "tags": []
          }
        },
        {
          "output_type": "stream",
          "text": [
            "mean noise: 0.45028193419245766\n",
            "std_dev noise: 0.10201532178139869\n",
            "mean related: 0.519433811966916\n",
            "std_dev related: 0.10458023671766596\n",
            "z_score: 0.6778577626078454\n",
            "p(-z): 0.751069058674058\n"
          ],
          "name": "stdout"
        }
      ]
    },
    {
      "cell_type": "code",
      "metadata": {
        "id": "Rr60Ji1QojAb"
      },
      "source": [
        ""
      ],
      "execution_count": 17,
      "outputs": []
    }
  ]
}